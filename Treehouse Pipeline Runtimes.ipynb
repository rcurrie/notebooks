{
 "cells": [
  {
   "cell_type": "code",
   "execution_count": 132,
   "metadata": {},
   "outputs": [],
   "source": [
    "import os\n",
    "import fnmatch\n",
    "import json\n",
    "import dateutil.parser\n",
    "import re\n",
    "import pprint\n",
    "import glob\n",
    "import pandas as pd"
   ]
  },
  {
   "cell_type": "code",
   "execution_count": 175,
   "metadata": {},
   "outputs": [
    {
     "name": "stdout",
     "output_type": "stream",
     "text": [
      "Found 4 ids\n"
     ]
    }
   ],
   "source": [
    "with open(\"/treehouse/treeshop/manifests/140.1.txt\") as f:\n",
    "    ids = sorted([word.strip() for line in f.readlines() for word in line.split(',') if word.strip()])\n",
    "print(\"Found {} ids\".format(len(ids)))"
   ]
  },
  {
   "cell_type": "code",
   "execution_count": 186,
   "metadata": {},
   "outputs": [
    {
     "name": "stdout",
     "output_type": "stream",
     "text": [
      "Found 20 secondary outputs\n"
     ]
    }
   ],
   "source": [
    "# All methods\n",
    "methods = [json.loads(open(m).read()) for id in ids \n",
    "           for m in glob.glob(\"/treehouse/archive/downstream/{}/secondary/*/methods.json\".format(id))]\n",
    "print(\"Found {} secondary outputs\".format(len(methods)))"
   ]
  },
  {
   "cell_type": "code",
   "execution_count": 187,
   "metadata": {},
   "outputs": [
    {
     "name": "stdout",
     "output_type": "stream",
     "text": [
      "4 Completed RNASeq and BAM UMEND QC\n",
      "3 Passed\n",
      "1 Failed: ['TH01_0717_S01']\n"
     ]
    }
   ],
   "source": [
    "# UMEND QC\n",
    "reports = [{\"id\": id, **json.loads(open(m).read())} for id in ids \n",
    "           for m in glob.glob(\"/treehouse/archive/downstream/{}/secondary/*bam-umend-qc-1.1.0-cc481e4/bam_umend_qc.json\".format(id))]\n",
    "print(\"{} Completed RNASeq and BAM UMEND QC\".format(len(reports)))\n",
    "print(\"{} Passed\".format(sum(r[\"qc\"] == \"PASS\" for r in reports)))\n",
    "print(\"{} Failed: {}\".format(sum(r[\"qc\"] == \"FAIL\" for r in reports), [r[\"id\"] for r in reports if r[\"qc\"] == \"FAIL\"]))"
   ]
  },
  {
   "cell_type": "code",
   "execution_count": 190,
   "metadata": {},
   "outputs": [
    {
     "data": {
      "text/html": [
       "<div>\n",
       "<table border=\"1\" class=\"dataframe\">\n",
       "  <thead>\n",
       "    <tr style=\"text-align: right;\">\n",
       "      <th></th>\n",
       "      <th>estExonicUniqMappedNonDupeReadCount</th>\n",
       "      <th>input</th>\n",
       "      <th>qc</th>\n",
       "      <th>uniqMappedNonDupeReadCount</th>\n",
       "    </tr>\n",
       "    <tr>\n",
       "      <th>id</th>\n",
       "      <th></th>\n",
       "      <th></th>\n",
       "      <th></th>\n",
       "      <th></th>\n",
       "    </tr>\n",
       "  </thead>\n",
       "  <tbody>\n",
       "    <tr>\n",
       "      <th>TH01_0710_S01</th>\n",
       "      <td>4.469763e+07</td>\n",
       "      <td>readDist.txt</td>\n",
       "      <td>PASS</td>\n",
       "      <td>64867826.0</td>\n",
       "    </tr>\n",
       "    <tr>\n",
       "      <th>TH01_0713_S01</th>\n",
       "      <td>3.397506e+07</td>\n",
       "      <td>readDist.txt</td>\n",
       "      <td>PASS</td>\n",
       "      <td>71991565.0</td>\n",
       "    </tr>\n",
       "    <tr>\n",
       "      <th>TH01_0715_S01</th>\n",
       "      <td>4.137297e+07</td>\n",
       "      <td>readDist.txt</td>\n",
       "      <td>PASS</td>\n",
       "      <td>55923263.5</td>\n",
       "    </tr>\n",
       "    <tr>\n",
       "      <th>TH01_0717_S01</th>\n",
       "      <td>9.226395e+06</td>\n",
       "      <td>readDist.txt</td>\n",
       "      <td>FAIL</td>\n",
       "      <td>19771111.0</td>\n",
       "    </tr>\n",
       "  </tbody>\n",
       "</table>\n",
       "</div>"
      ],
      "text/plain": [
       "               estExonicUniqMappedNonDupeReadCount         input    qc  \\\n",
       "id                                                                       \n",
       "TH01_0710_S01                         4.469763e+07  readDist.txt  PASS   \n",
       "TH01_0713_S01                         3.397506e+07  readDist.txt  PASS   \n",
       "TH01_0715_S01                         4.137297e+07  readDist.txt  PASS   \n",
       "TH01_0717_S01                         9.226395e+06  readDist.txt  FAIL   \n",
       "\n",
       "               uniqMappedNonDupeReadCount  \n",
       "id                                         \n",
       "TH01_0710_S01                  64867826.0  \n",
       "TH01_0713_S01                  71991565.0  \n",
       "TH01_0715_S01                  55923263.5  \n",
       "TH01_0717_S01                  19771111.0  "
      ]
     },
     "execution_count": 190,
     "metadata": {},
     "output_type": "execute_result"
    }
   ],
   "source": [
    "pd.DataFrame(reports).set_index('id')"
   ]
  },
  {
   "cell_type": "code",
   "execution_count": 191,
   "metadata": {},
   "outputs": [
    {
     "data": {
      "text/plain": [
       "[('TH01_0710_S01', 'PASS', 44697633),\n",
       " ('TH01_0713_S01', 'PASS', 33975062.7),\n",
       " ('TH01_0715_S01', 'PASS', 41372967.375),\n",
       " ('TH01_0717_S01', 'FAIL', 9226394.94)]"
      ]
     },
     "execution_count": 191,
     "metadata": {},
     "output_type": "execute_result"
    }
   ],
   "source": [
    "[(r[\"id\"], r[\"qc\"], r[\"estExonicUniqMappedNonDupeReadCount\"]) for r in reports]"
   ]
  },
  {
   "cell_type": "code",
   "execution_count": 183,
   "metadata": {},
   "outputs": [
    {
     "data": {
      "text/plain": [
       "[('TH01_0710_S01', 2),\n",
       " ('TH01_0713_S01', 5),\n",
       " ('TH01_0715_S01', 5),\n",
       " ('TH01_0717_S01', 5)]"
      ]
     },
     "execution_count": 183,
     "metadata": {},
     "output_type": "execute_result"
    }
   ],
   "source": [
    "reports = [{\"id\": id, \n",
    "            \"methods\": [m for m in glob.glob(\"/treehouse/archive/downstream/{}/secondary/*/methods.json\".format(id))]}\n",
    "            for id in ids]\n",
    "[(r[\"id\"], len(r[\"methods\"])) for r in reports]"
   ]
  },
  {
   "cell_type": "code",
   "execution_count": 173,
   "metadata": {},
   "outputs": [
    {
     "data": {
      "text/html": [
       "<div>\n",
       "<table border=\"1\" class=\"dataframe\">\n",
       "  <thead>\n",
       "    <tr style=\"text-align: right;\">\n",
       "      <th></th>\n",
       "      <th>duration</th>\n",
       "      <th>id</th>\n",
       "      <th>pipeline</th>\n",
       "    </tr>\n",
       "  </thead>\n",
       "  <tbody>\n",
       "    <tr>\n",
       "      <th>0</th>\n",
       "      <td>0.020491</td>\n",
       "      <td>TH01_0710_S01</td>\n",
       "      <td>https://hub.docker.com/alpine</td>\n",
       "    </tr>\n",
       "    <tr>\n",
       "      <th>1</th>\n",
       "      <td>0.011007</td>\n",
       "      <td>TH01_0713_S01</td>\n",
       "      <td>https://hub.docker.com/alpine</td>\n",
       "    </tr>\n",
       "    <tr>\n",
       "      <th>2</th>\n",
       "      <td>7.761169</td>\n",
       "      <td>TH01_0713_S01</td>\n",
       "      <td>https://quay.io/ucsc_cgl/rnaseq-cgl-pipeline</td>\n",
       "    </tr>\n",
       "    <tr>\n",
       "      <th>3</th>\n",
       "      <td>0.011527</td>\n",
       "      <td>TH01_0715_S01</td>\n",
       "      <td>https://hub.docker.com/alpine</td>\n",
       "    </tr>\n",
       "    <tr>\n",
       "      <th>4</th>\n",
       "      <td>7.843065</td>\n",
       "      <td>TH01_0715_S01</td>\n",
       "      <td>https://quay.io/ucsc_cgl/rnaseq-cgl-pipeline</td>\n",
       "    </tr>\n",
       "    <tr>\n",
       "      <th>5</th>\n",
       "      <td>0.006318</td>\n",
       "      <td>TH01_0717_S01</td>\n",
       "      <td>https://hub.docker.com/alpine</td>\n",
       "    </tr>\n",
       "    <tr>\n",
       "      <th>6</th>\n",
       "      <td>4.231748</td>\n",
       "      <td>TH01_0717_S01</td>\n",
       "      <td>https://quay.io/ucsc_cgl/rnaseq-cgl-pipeline</td>\n",
       "    </tr>\n",
       "    <tr>\n",
       "      <th>7</th>\n",
       "      <td>4.446321</td>\n",
       "      <td>TH01_0717_S01</td>\n",
       "      <td>https://hub.docker.com/r/ucsctreehouse/bam-ume...</td>\n",
       "    </tr>\n",
       "    <tr>\n",
       "      <th>8</th>\n",
       "      <td>1.843002</td>\n",
       "      <td>TH01_0717_S01</td>\n",
       "      <td>https://hub.docker.com/r/ucsctreehouse/fusion</td>\n",
       "    </tr>\n",
       "    <tr>\n",
       "      <th>9</th>\n",
       "      <td>0.146709</td>\n",
       "      <td>TH01_0717_S01</td>\n",
       "      <td>https://hub.docker.com/r/ucsctreehouse/mini-va...</td>\n",
       "    </tr>\n",
       "  </tbody>\n",
       "</table>\n",
       "</div>"
      ],
      "text/plain": [
       "   duration             id                                           pipeline\n",
       "0  0.020491  TH01_0710_S01                      https://hub.docker.com/alpine\n",
       "1  0.011007  TH01_0713_S01                      https://hub.docker.com/alpine\n",
       "2  7.761169  TH01_0713_S01       https://quay.io/ucsc_cgl/rnaseq-cgl-pipeline\n",
       "3  0.011527  TH01_0715_S01                      https://hub.docker.com/alpine\n",
       "4  7.843065  TH01_0715_S01       https://quay.io/ucsc_cgl/rnaseq-cgl-pipeline\n",
       "5  0.006318  TH01_0717_S01                      https://hub.docker.com/alpine\n",
       "6  4.231748  TH01_0717_S01       https://quay.io/ucsc_cgl/rnaseq-cgl-pipeline\n",
       "7  4.446321  TH01_0717_S01  https://hub.docker.com/r/ucsctreehouse/bam-ume...\n",
       "8  1.843002  TH01_0717_S01      https://hub.docker.com/r/ucsctreehouse/fusion\n",
       "9  0.146709  TH01_0717_S01  https://hub.docker.com/r/ucsctreehouse/mini-va..."
      ]
     },
     "execution_count": 173,
     "metadata": {},
     "output_type": "execute_result"
    }
   ],
   "source": [
    "runtimes = pd.DataFrame([{\"id\": m[\"sample_id\"], \n",
    "               \"pipeline\": m[\"pipeline\"][\"docker\"][\"url\"],\n",
    "               \"duration\": (dateutil.parser.parse(m[\"end\"]) \n",
    "                            - dateutil.parser.parse(m[\"start\"])).total_seconds()/(60*60)}\n",
    " for m in methods])\n",
    "runtimes"
   ]
  },
  {
   "cell_type": "code",
   "execution_count": 159,
   "metadata": {},
   "outputs": [
    {
     "data": {
      "text/html": [
       "<div>\n",
       "<table border=\"1\" class=\"dataframe\">\n",
       "  <thead>\n",
       "    <tr>\n",
       "      <th></th>\n",
       "      <th colspan=\"5\" halign=\"left\">duration</th>\n",
       "    </tr>\n",
       "    <tr>\n",
       "      <th>pipeline</th>\n",
       "      <th>https://hub.docker.com/alpine</th>\n",
       "      <th>https://hub.docker.com/r/ucsctreehouse/bam-umend-qc</th>\n",
       "      <th>https://hub.docker.com/r/ucsctreehouse/fusion</th>\n",
       "      <th>https://hub.docker.com/r/ucsctreehouse/mini-var-call</th>\n",
       "      <th>https://quay.io/ucsc_cgl/rnaseq-cgl-pipeline</th>\n",
       "    </tr>\n",
       "  </thead>\n",
       "  <tbody>\n",
       "    <tr>\n",
       "      <th>count</th>\n",
       "      <td>12.000000</td>\n",
       "      <td>12.000000</td>\n",
       "      <td>12.000000</td>\n",
       "      <td>12.000000</td>\n",
       "      <td>12.000000</td>\n",
       "    </tr>\n",
       "    <tr>\n",
       "      <th>mean</th>\n",
       "      <td>0.023692</td>\n",
       "      <td>6.956021</td>\n",
       "      <td>2.934652</td>\n",
       "      <td>0.214092</td>\n",
       "      <td>20.239206</td>\n",
       "    </tr>\n",
       "    <tr>\n",
       "      <th>std</th>\n",
       "      <td>0.006138</td>\n",
       "      <td>1.688410</td>\n",
       "      <td>0.963998</td>\n",
       "      <td>0.043735</td>\n",
       "      <td>4.083669</td>\n",
       "    </tr>\n",
       "    <tr>\n",
       "      <th>min</th>\n",
       "      <td>0.018981</td>\n",
       "      <td>5.237647</td>\n",
       "      <td>2.112196</td>\n",
       "      <td>0.154571</td>\n",
       "      <td>15.158212</td>\n",
       "    </tr>\n",
       "    <tr>\n",
       "      <th>25%</th>\n",
       "      <td>0.019590</td>\n",
       "      <td>5.626776</td>\n",
       "      <td>2.288067</td>\n",
       "      <td>0.186933</td>\n",
       "      <td>17.298667</td>\n",
       "    </tr>\n",
       "    <tr>\n",
       "      <th>50%</th>\n",
       "      <td>0.021123</td>\n",
       "      <td>6.219239</td>\n",
       "      <td>2.636636</td>\n",
       "      <td>0.216102</td>\n",
       "      <td>19.556427</td>\n",
       "    </tr>\n",
       "    <tr>\n",
       "      <th>75%</th>\n",
       "      <td>0.024795</td>\n",
       "      <td>8.177105</td>\n",
       "      <td>3.077107</td>\n",
       "      <td>0.233472</td>\n",
       "      <td>22.941253</td>\n",
       "    </tr>\n",
       "    <tr>\n",
       "      <th>max</th>\n",
       "      <td>0.038409</td>\n",
       "      <td>10.152545</td>\n",
       "      <td>5.494860</td>\n",
       "      <td>0.302643</td>\n",
       "      <td>27.597463</td>\n",
       "    </tr>\n",
       "  </tbody>\n",
       "</table>\n",
       "</div>"
      ],
      "text/plain": [
       "                              duration  \\\n",
       "pipeline https://hub.docker.com/alpine   \n",
       "count                        12.000000   \n",
       "mean                          0.023692   \n",
       "std                           0.006138   \n",
       "min                           0.018981   \n",
       "25%                           0.019590   \n",
       "50%                           0.021123   \n",
       "75%                           0.024795   \n",
       "max                           0.038409   \n",
       "\n",
       "                                                              \\\n",
       "pipeline https://hub.docker.com/r/ucsctreehouse/bam-umend-qc   \n",
       "count                                             12.000000    \n",
       "mean                                               6.956021    \n",
       "std                                                1.688410    \n",
       "min                                                5.237647    \n",
       "25%                                                5.626776    \n",
       "50%                                                6.219239    \n",
       "75%                                                8.177105    \n",
       "max                                               10.152545    \n",
       "\n",
       "                                                        \\\n",
       "pipeline https://hub.docker.com/r/ucsctreehouse/fusion   \n",
       "count                                        12.000000   \n",
       "mean                                          2.934652   \n",
       "std                                           0.963998   \n",
       "min                                           2.112196   \n",
       "25%                                           2.288067   \n",
       "50%                                           2.636636   \n",
       "75%                                           3.077107   \n",
       "max                                           5.494860   \n",
       "\n",
       "                                                               \\\n",
       "pipeline https://hub.docker.com/r/ucsctreehouse/mini-var-call   \n",
       "count                                             12.000000     \n",
       "mean                                               0.214092     \n",
       "std                                                0.043735     \n",
       "min                                                0.154571     \n",
       "25%                                                0.186933     \n",
       "50%                                                0.216102     \n",
       "75%                                                0.233472     \n",
       "max                                                0.302643     \n",
       "\n",
       "                                                       \n",
       "pipeline https://quay.io/ucsc_cgl/rnaseq-cgl-pipeline  \n",
       "count                                       12.000000  \n",
       "mean                                        20.239206  \n",
       "std                                          4.083669  \n",
       "min                                         15.158212  \n",
       "25%                                         17.298667  \n",
       "50%                                         19.556427  \n",
       "75%                                         22.941253  \n",
       "max                                         27.597463  "
      ]
     },
     "execution_count": 159,
     "metadata": {},
     "output_type": "execute_result"
    }
   ],
   "source": [
    "stats = runtimes.pivot(columns=\"pipeline\").describe()\n",
    "stats"
   ]
  },
  {
   "cell_type": "code",
   "execution_count": 162,
   "metadata": {},
   "outputs": [
    {
     "data": {
      "text/plain": [
       "count    60.000000\n",
       "mean     30.367663\n",
       "std       6.785950\n",
       "min      22.681608\n",
       "25%      25.420033\n",
       "50%      28.649527\n",
       "75%      34.453732\n",
       "max      43.585920\n",
       "dtype: float64"
      ]
     },
     "execution_count": 162,
     "metadata": {},
     "output_type": "execute_result"
    }
   ],
   "source": [
    "stats.sum(axis=1)"
   ]
  },
  {
   "cell_type": "code",
   "execution_count": 160,
   "metadata": {},
   "outputs": [],
   "source": [
    "reports = [{\"id\": id, **json.loads(open(m).read())} for id in ids \n",
    "           for m in glob.glob(\"/treehouse/archive/downstream/{}/secondary/*fusion*/methods.json\".format(id))]"
   ]
  }
 ],
 "metadata": {
  "kernelspec": {
   "display_name": "Python 3",
   "language": "python",
   "name": "python3"
  },
  "language_info": {
   "codemirror_mode": {
    "name": "ipython",
    "version": 3
   },
   "file_extension": ".py",
   "mimetype": "text/x-python",
   "name": "python",
   "nbconvert_exporter": "python",
   "pygments_lexer": "ipython3",
   "version": "3.6.3"
  }
 },
 "nbformat": 4,
 "nbformat_minor": 2
}
