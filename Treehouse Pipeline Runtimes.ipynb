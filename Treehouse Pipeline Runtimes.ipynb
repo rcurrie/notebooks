{
 "cells": [
  {
   "cell_type": "code",
   "execution_count": 2,
   "metadata": {},
   "outputs": [],
   "source": [
    "import os\n",
    "import fnmatch\n",
    "import json\n",
    "import dateutil.parser\n",
    "import re\n",
    "import pprint\n",
    "import glob\n",
    "import pandas as pd"
   ]
  },
  {
   "cell_type": "code",
   "execution_count": 14,
   "metadata": {},
   "outputs": [
    {
     "name": "stdout",
     "output_type": "stream",
     "text": [
      "Found 84 ids\n"
     ]
    }
   ],
   "source": [
    "with open(\"/treehouse/treeshop/manifests/134.txt\") as f:\n",
    "    ids = sorted([word.strip() for line in f.readlines() for word in line.split(',') if word.strip()])\n",
    "print(\"Found {} ids\".format(len(ids)))"
   ]
  },
  {
   "cell_type": "code",
   "execution_count": 15,
   "metadata": {},
   "outputs": [
    {
     "name": "stdout",
     "output_type": "stream",
     "text": [
      "Found 335 secondary outputs\n"
     ]
    }
   ],
   "source": [
    "# Get all methods\n",
    "methods = [json.loads(open(m).read()) for id in ids \n",
    "           for m in glob.glob(\"/treehouse/archive/downstream/{}/secondary/*/methods.json\".format(id))]\n",
    "print(\"Found {} secondary outputs\".format(len(methods)))"
   ]
  },
  {
   "cell_type": "code",
   "execution_count": 11,
   "metadata": {},
   "outputs": [
    {
     "name": "stdout",
     "output_type": "stream",
     "text": [
      "1 Completed RNASeq and BAM UMEND QC\n",
      "1 Passed\n",
      "0 Failed: []\n"
     ]
    }
   ],
   "source": [
    "# UMEND QC\n",
    "reports = [{\"id\": id, **json.loads(open(m).read())} for id in ids \n",
    "           for m in glob.glob(\"/treehouse/archive/downstream/{}/secondary/*bam-umend-qc-*/bam_umend_qc.json\".format(id))]\n",
    "print(\"{} Completed RNASeq and BAM UMEND QC\".format(len(reports)))\n",
    "print(\"{} Passed\".format(sum(r[\"qc\"] == \"PASS\" for r in reports)))\n",
    "print(\"{} Failed: {}\".format(sum(r[\"qc\"] == \"FAIL\" for r in reports), [r[\"id\"] for r in reports if r[\"qc\"] == \"FAIL\"]))"
   ]
  },
  {
   "cell_type": "code",
   "execution_count": 5,
   "metadata": {},
   "outputs": [
    {
     "data": {
      "text/plain": [
       "[('TH34_1149_S01', 'PASS', 42801908.76),\n",
       " ('TH34_1150_S01', 'PASS', 74938147.44)]"
      ]
     },
     "execution_count": 5,
     "metadata": {},
     "output_type": "execute_result"
    }
   ],
   "source": [
    "[(r[\"id\"], r[\"qc\"], r[\"estExonicUniqMappedNonDupeReadCount\"]) for r in reports]"
   ]
  },
  {
   "cell_type": "code",
   "execution_count": 6,
   "metadata": {},
   "outputs": [
    {
     "data": {
      "text/plain": [
       "[('TH34_1149_S01', 5), ('TH34_1150_S01', 5)]"
      ]
     },
     "execution_count": 6,
     "metadata": {},
     "output_type": "execute_result"
    }
   ],
   "source": [
    "reports = [{\"id\": id, \n",
    "            \"methods\": [m for m in glob.glob(\"/treehouse/archive/downstream/{}/secondary/*/methods.json\".format(id))]}\n",
    "            for id in ids]\n",
    "[(r[\"id\"], len(r[\"methods\"])) for r in reports]"
   ]
  },
  {
   "cell_type": "code",
   "execution_count": 12,
   "metadata": {},
   "outputs": [
    {
     "data": {
      "text/html": [
       "<div>\n",
       "<style scoped>\n",
       "    .dataframe tbody tr th:only-of-type {\n",
       "        vertical-align: middle;\n",
       "    }\n",
       "\n",
       "    .dataframe tbody tr th {\n",
       "        vertical-align: top;\n",
       "    }\n",
       "\n",
       "    .dataframe thead th {\n",
       "        text-align: right;\n",
       "    }\n",
       "</style>\n",
       "<table border=\"1\" class=\"dataframe\">\n",
       "  <thead>\n",
       "    <tr style=\"text-align: right;\">\n",
       "      <th></th>\n",
       "      <th>duration</th>\n",
       "      <th>id</th>\n",
       "      <th>pipeline</th>\n",
       "    </tr>\n",
       "  </thead>\n",
       "  <tbody>\n",
       "    <tr>\n",
       "      <th>0</th>\n",
       "      <td>0.019739</td>\n",
       "      <td>TH34_1149_S01</td>\n",
       "      <td>https://hub.docker.com/alpine</td>\n",
       "    </tr>\n",
       "    <tr>\n",
       "      <th>1</th>\n",
       "      <td>21.380914</td>\n",
       "      <td>TH34_1149_S01</td>\n",
       "      <td>https://quay.io/ucsc_cgl/rnaseq-cgl-pipeline</td>\n",
       "    </tr>\n",
       "    <tr>\n",
       "      <th>2</th>\n",
       "      <td>5.655238</td>\n",
       "      <td>TH34_1149_S01</td>\n",
       "      <td>https://hub.docker.com/r/ucsctreehouse/bam-ume...</td>\n",
       "    </tr>\n",
       "    <tr>\n",
       "      <th>3</th>\n",
       "      <td>3.653716</td>\n",
       "      <td>TH34_1149_S01</td>\n",
       "      <td>https://hub.docker.com/r/ucsctreehouse/fusion</td>\n",
       "    </tr>\n",
       "    <tr>\n",
       "      <th>4</th>\n",
       "      <td>0.299909</td>\n",
       "      <td>TH34_1149_S01</td>\n",
       "      <td>https://hub.docker.com/r/ucsctreehouse/mini-va...</td>\n",
       "    </tr>\n",
       "    <tr>\n",
       "      <th>5</th>\n",
       "      <td>0.025909</td>\n",
       "      <td>TH34_1150_S01</td>\n",
       "      <td>https://hub.docker.com/alpine</td>\n",
       "    </tr>\n",
       "    <tr>\n",
       "      <th>6</th>\n",
       "      <td>18.864039</td>\n",
       "      <td>TH34_1150_S01</td>\n",
       "      <td>https://quay.io/ucsc_cgl/rnaseq-cgl-pipeline</td>\n",
       "    </tr>\n",
       "    <tr>\n",
       "      <th>7</th>\n",
       "      <td>6.689221</td>\n",
       "      <td>TH34_1150_S01</td>\n",
       "      <td>https://hub.docker.com/r/ucsctreehouse/bam-ume...</td>\n",
       "    </tr>\n",
       "    <tr>\n",
       "      <th>8</th>\n",
       "      <td>4.068017</td>\n",
       "      <td>TH34_1150_S01</td>\n",
       "      <td>https://hub.docker.com/r/ucsctreehouse/fusion</td>\n",
       "    </tr>\n",
       "    <tr>\n",
       "      <th>9</th>\n",
       "      <td>0.215631</td>\n",
       "      <td>TH34_1150_S01</td>\n",
       "      <td>https://hub.docker.com/r/ucsctreehouse/mini-va...</td>\n",
       "    </tr>\n",
       "  </tbody>\n",
       "</table>\n",
       "</div>"
      ],
      "text/plain": [
       "    duration             id                                           pipeline\n",
       "0   0.019739  TH34_1149_S01                      https://hub.docker.com/alpine\n",
       "1  21.380914  TH34_1149_S01       https://quay.io/ucsc_cgl/rnaseq-cgl-pipeline\n",
       "2   5.655238  TH34_1149_S01  https://hub.docker.com/r/ucsctreehouse/bam-ume...\n",
       "3   3.653716  TH34_1149_S01      https://hub.docker.com/r/ucsctreehouse/fusion\n",
       "4   0.299909  TH34_1149_S01  https://hub.docker.com/r/ucsctreehouse/mini-va...\n",
       "5   0.025909  TH34_1150_S01                      https://hub.docker.com/alpine\n",
       "6  18.864039  TH34_1150_S01       https://quay.io/ucsc_cgl/rnaseq-cgl-pipeline\n",
       "7   6.689221  TH34_1150_S01  https://hub.docker.com/r/ucsctreehouse/bam-ume...\n",
       "8   4.068017  TH34_1150_S01      https://hub.docker.com/r/ucsctreehouse/fusion\n",
       "9   0.215631  TH34_1150_S01  https://hub.docker.com/r/ucsctreehouse/mini-va..."
      ]
     },
     "execution_count": 12,
     "metadata": {},
     "output_type": "execute_result"
    }
   ],
   "source": [
    "runtimes = pd.DataFrame([{\"id\": m[\"sample_id\"], \n",
    "               \"pipeline\": m[\"pipeline\"][\"docker\"][\"url\"],\n",
    "               \"duration\": (dateutil.parser.parse(m[\"end\"]) \n",
    "                            - dateutil.parser.parse(m[\"start\"])).total_seconds()/(60*60)}\n",
    " for m in methods])\n",
    "runtimes.groupby(\"id\").head()"
   ]
  },
  {
   "cell_type": "code",
   "execution_count": 10,
   "metadata": {},
   "outputs": [
    {
     "data": {
      "text/plain": [
       "          pipeline                                            \n",
       "duration  https://hub.docker.com/alpine                            2.000000\n",
       "          https://hub.docker.com/r/ucsctreehouse/bam-umend-qc      6.689221\n",
       "          https://hub.docker.com/r/ucsctreehouse/fusion            4.068017\n",
       "          https://hub.docker.com/r/ucsctreehouse/mini-var-call     2.000000\n",
       "          https://quay.io/ucsc_cgl/rnaseq-cgl-pipeline            21.380914\n",
       "dtype: float64"
      ]
     },
     "execution_count": 10,
     "metadata": {},
     "output_type": "execute_result"
    }
   ],
   "source": [
    "stats = runtimes.pivot(columns=\"pipeline\").describe()\n",
    "stats.max()"
   ]
  },
  {
   "cell_type": "code",
   "execution_count": 9,
   "metadata": {},
   "outputs": [
    {
     "data": {
      "text/plain": [
       "count    10.000000\n",
       "mean     30.436167\n",
       "std       2.867746\n",
       "min      28.408364\n",
       "25%      29.422266\n",
       "50%      30.436167\n",
       "75%      31.450068\n",
       "max      32.463970\n",
       "dtype: float64"
      ]
     },
     "execution_count": 9,
     "metadata": {},
     "output_type": "execute_result"
    }
   ],
   "source": [
    "stats.sum(axis=1)"
   ]
  }
 ],
 "metadata": {
  "kernelspec": {
   "display_name": "Python 3",
   "language": "python",
   "name": "python3"
  },
  "language_info": {
   "codemirror_mode": {
    "name": "ipython",
    "version": 3
   },
   "file_extension": ".py",
   "mimetype": "text/x-python",
   "name": "python",
   "nbconvert_exporter": "python",
   "pygments_lexer": "ipython3",
   "version": "3.6.3"
  }
 },
 "nbformat": 4,
 "nbformat_minor": 2
}
