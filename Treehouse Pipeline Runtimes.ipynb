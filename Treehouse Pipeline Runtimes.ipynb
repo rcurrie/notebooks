{
 "cells": [
  {
   "cell_type": "code",
   "execution_count": 2,
   "metadata": {},
   "outputs": [],
   "source": [
    "import os\n",
    "import fnmatch\n",
    "import json\n",
    "import dateutil.parser\n",
    "import re\n",
    "import pprint\n",
    "import glob\n",
    "import pandas as pd"
   ]
  },
  {
   "cell_type": "code",
   "execution_count": 14,
   "metadata": {},
   "outputs": [
    {
     "name": "stdout",
     "output_type": "stream",
     "text": [
      "Found 84 ids\n"
     ]
    }
   ],
   "source": [
    "with open(\"/treehouse/treeshop/manifests/134.txt\") as f:\n",
    "    ids = sorted([word.strip() for line in f.readlines() for word in line.split(',') if word.strip()])\n",
    "print(\"Found {} ids\".format(len(ids)))"
   ]
  },
  {
   "cell_type": "code",
   "execution_count": 1,
   "metadata": {},
   "outputs": [],
   "source": [
    "ids = [\"SJINF001_E\", \"SJBALL010_D\"]"
   ]
  },
  {
   "cell_type": "code",
   "execution_count": 6,
   "metadata": {},
   "outputs": [
    {
     "name": "stdout",
     "output_type": "stream",
     "text": [
      "Found 10 secondary outputs\n"
     ]
    }
   ],
   "source": [
    "# Get all methods\n",
    "methods = [json.loads(open(m).read()) for id in ids \n",
    "           for m in glob.glob(\"/treehouse/treeshop/stjude/btfv9/{}/secondary/*/methods.json\".format(id))]\n",
    "print(\"Found {} secondary outputs\".format(len(methods)))"
   ]
  },
  {
   "cell_type": "code",
   "execution_count": 11,
   "metadata": {},
   "outputs": [
    {
     "name": "stdout",
     "output_type": "stream",
     "text": [
      "10 Completed RNASeq and BAM UMEND QC\n"
     ]
    },
    {
     "ename": "KeyError",
     "evalue": "'qc'",
     "output_type": "error",
     "traceback": [
      "\u001b[0;31m---------------------------------------------------------------------------\u001b[0m",
      "\u001b[0;31mKeyError\u001b[0m                                  Traceback (most recent call last)",
      "\u001b[0;32m<ipython-input-11-d8b4d7df10be>\u001b[0m in \u001b[0;36m<module>\u001b[0;34m()\u001b[0m\n\u001b[1;32m      3\u001b[0m            for m in glob.glob(\"/treehouse/treeshop/stjude/btfv9/{}/secondary/*/methods.json\".format(id))]\n\u001b[1;32m      4\u001b[0m \u001b[0mprint\u001b[0m\u001b[0;34m(\u001b[0m\u001b[0;34m\"{} Completed RNASeq and BAM UMEND QC\"\u001b[0m\u001b[0;34m.\u001b[0m\u001b[0mformat\u001b[0m\u001b[0;34m(\u001b[0m\u001b[0mlen\u001b[0m\u001b[0;34m(\u001b[0m\u001b[0mreports\u001b[0m\u001b[0;34m)\u001b[0m\u001b[0;34m)\u001b[0m\u001b[0;34m)\u001b[0m\u001b[0;34m\u001b[0m\u001b[0m\n\u001b[0;32m----> 5\u001b[0;31m \u001b[0mprint\u001b[0m\u001b[0;34m(\u001b[0m\u001b[0;34m\"{} Passed\"\u001b[0m\u001b[0;34m.\u001b[0m\u001b[0mformat\u001b[0m\u001b[0;34m(\u001b[0m\u001b[0msum\u001b[0m\u001b[0;34m(\u001b[0m\u001b[0mr\u001b[0m\u001b[0;34m[\u001b[0m\u001b[0;34m\"qc\"\u001b[0m\u001b[0;34m]\u001b[0m \u001b[0;34m==\u001b[0m \u001b[0;34m\"PASS\"\u001b[0m \u001b[0;32mfor\u001b[0m \u001b[0mr\u001b[0m \u001b[0;32min\u001b[0m \u001b[0mreports\u001b[0m\u001b[0;34m)\u001b[0m\u001b[0;34m)\u001b[0m\u001b[0;34m)\u001b[0m\u001b[0;34m\u001b[0m\u001b[0m\n\u001b[0m\u001b[1;32m      6\u001b[0m \u001b[0mprint\u001b[0m\u001b[0;34m(\u001b[0m\u001b[0;34m\"{} Failed: {}\"\u001b[0m\u001b[0;34m.\u001b[0m\u001b[0mformat\u001b[0m\u001b[0;34m(\u001b[0m\u001b[0msum\u001b[0m\u001b[0;34m(\u001b[0m\u001b[0mr\u001b[0m\u001b[0;34m[\u001b[0m\u001b[0;34m\"qc\"\u001b[0m\u001b[0;34m]\u001b[0m \u001b[0;34m==\u001b[0m \u001b[0;34m\"FAIL\"\u001b[0m \u001b[0;32mfor\u001b[0m \u001b[0mr\u001b[0m \u001b[0;32min\u001b[0m \u001b[0mreports\u001b[0m\u001b[0;34m)\u001b[0m\u001b[0;34m,\u001b[0m \u001b[0;34m[\u001b[0m\u001b[0mr\u001b[0m\u001b[0;34m[\u001b[0m\u001b[0;34m\"id\"\u001b[0m\u001b[0;34m]\u001b[0m \u001b[0;32mfor\u001b[0m \u001b[0mr\u001b[0m \u001b[0;32min\u001b[0m \u001b[0mreports\u001b[0m \u001b[0;32mif\u001b[0m \u001b[0mr\u001b[0m\u001b[0;34m[\u001b[0m\u001b[0;34m\"qc\"\u001b[0m\u001b[0;34m]\u001b[0m \u001b[0;34m==\u001b[0m \u001b[0;34m\"FAIL\"\u001b[0m\u001b[0;34m]\u001b[0m\u001b[0;34m)\u001b[0m\u001b[0;34m)\u001b[0m\u001b[0;34m\u001b[0m\u001b[0m\n",
      "\u001b[0;32m<ipython-input-11-d8b4d7df10be>\u001b[0m in \u001b[0;36m<genexpr>\u001b[0;34m(.0)\u001b[0m\n\u001b[1;32m      3\u001b[0m            for m in glob.glob(\"/treehouse/treeshop/stjude/btfv9/{}/secondary/*/methods.json\".format(id))]\n\u001b[1;32m      4\u001b[0m \u001b[0mprint\u001b[0m\u001b[0;34m(\u001b[0m\u001b[0;34m\"{} Completed RNASeq and BAM UMEND QC\"\u001b[0m\u001b[0;34m.\u001b[0m\u001b[0mformat\u001b[0m\u001b[0;34m(\u001b[0m\u001b[0mlen\u001b[0m\u001b[0;34m(\u001b[0m\u001b[0mreports\u001b[0m\u001b[0;34m)\u001b[0m\u001b[0;34m)\u001b[0m\u001b[0;34m)\u001b[0m\u001b[0;34m\u001b[0m\u001b[0m\n\u001b[0;32m----> 5\u001b[0;31m \u001b[0mprint\u001b[0m\u001b[0;34m(\u001b[0m\u001b[0;34m\"{} Passed\"\u001b[0m\u001b[0;34m.\u001b[0m\u001b[0mformat\u001b[0m\u001b[0;34m(\u001b[0m\u001b[0msum\u001b[0m\u001b[0;34m(\u001b[0m\u001b[0mr\u001b[0m\u001b[0;34m[\u001b[0m\u001b[0;34m\"qc\"\u001b[0m\u001b[0;34m]\u001b[0m \u001b[0;34m==\u001b[0m \u001b[0;34m\"PASS\"\u001b[0m \u001b[0;32mfor\u001b[0m \u001b[0mr\u001b[0m \u001b[0;32min\u001b[0m \u001b[0mreports\u001b[0m\u001b[0;34m)\u001b[0m\u001b[0;34m)\u001b[0m\u001b[0;34m)\u001b[0m\u001b[0;34m\u001b[0m\u001b[0m\n\u001b[0m\u001b[1;32m      6\u001b[0m \u001b[0mprint\u001b[0m\u001b[0;34m(\u001b[0m\u001b[0;34m\"{} Failed: {}\"\u001b[0m\u001b[0;34m.\u001b[0m\u001b[0mformat\u001b[0m\u001b[0;34m(\u001b[0m\u001b[0msum\u001b[0m\u001b[0;34m(\u001b[0m\u001b[0mr\u001b[0m\u001b[0;34m[\u001b[0m\u001b[0;34m\"qc\"\u001b[0m\u001b[0;34m]\u001b[0m \u001b[0;34m==\u001b[0m \u001b[0;34m\"FAIL\"\u001b[0m \u001b[0;32mfor\u001b[0m \u001b[0mr\u001b[0m \u001b[0;32min\u001b[0m \u001b[0mreports\u001b[0m\u001b[0;34m)\u001b[0m\u001b[0;34m,\u001b[0m \u001b[0;34m[\u001b[0m\u001b[0mr\u001b[0m\u001b[0;34m[\u001b[0m\u001b[0;34m\"id\"\u001b[0m\u001b[0;34m]\u001b[0m \u001b[0;32mfor\u001b[0m \u001b[0mr\u001b[0m \u001b[0;32min\u001b[0m \u001b[0mreports\u001b[0m \u001b[0;32mif\u001b[0m \u001b[0mr\u001b[0m\u001b[0;34m[\u001b[0m\u001b[0;34m\"qc\"\u001b[0m\u001b[0;34m]\u001b[0m \u001b[0;34m==\u001b[0m \u001b[0;34m\"FAIL\"\u001b[0m\u001b[0;34m]\u001b[0m\u001b[0;34m)\u001b[0m\u001b[0;34m)\u001b[0m\u001b[0;34m\u001b[0m\u001b[0m\n",
      "\u001b[0;31mKeyError\u001b[0m: 'qc'"
     ]
    }
   ],
   "source": [
    "# UMEND QC\n",
    "reports = [{\"id\": id, **json.loads(open(m).read())} for id in ids \n",
    "           for m in glob.glob(\"/treehouse/treeshop/stjude/btfv9/{}/secondary/*/methods.json\".format(id))]\n",
    "print(\"{} Completed RNASeq and BAM UMEND QC\".format(len(reports)))\n",
    "print(\"{} Passed\".format(sum(r[\"qc\"] == \"PASS\" for r in reports)))\n",
    "print(\"{} Failed: {}\".format(sum(r[\"qc\"] == \"FAIL\" for r in reports), [r[\"id\"] for r in reports if r[\"qc\"] == \"FAIL\"]))"
   ]
  },
  {
   "cell_type": "code",
   "execution_count": 5,
   "metadata": {},
   "outputs": [
    {
     "data": {
      "text/plain": [
       "[('TH34_1149_S01', 'PASS', 42801908.76),\n",
       " ('TH34_1150_S01', 'PASS', 74938147.44)]"
      ]
     },
     "execution_count": 5,
     "metadata": {},
     "output_type": "execute_result"
    }
   ],
   "source": [
    "[(r[\"id\"], r[\"qc\"], r[\"estExonicUniqMappedNonDupeReadCount\"]) for r in reports]"
   ]
  },
  {
   "cell_type": "code",
   "execution_count": 9,
   "metadata": {},
   "outputs": [
    {
     "data": {
      "text/plain": [
       "[('SJINF001_E', 5), ('SJBALL010_D', 5)]"
      ]
     },
     "execution_count": 9,
     "metadata": {},
     "output_type": "execute_result"
    }
   ],
   "source": [
    "reports = [{\"id\": id, \n",
    "            \"methods\": [m for m in glob.glob(\"/treehouse/treeshop/stjude/btfv9/{}/secondary/*/methods.json\".format(id))]}\n",
    "            for id in ids]\n",
    "[(r[\"id\"], len(r[\"methods\"])) for r in reports]"
   ]
  },
  {
   "cell_type": "code",
   "execution_count": 10,
   "metadata": {
    "scrolled": true
   },
   "outputs": [
    {
     "data": {
      "text/html": [
       "<div>\n",
       "<style scoped>\n",
       "    .dataframe tbody tr th:only-of-type {\n",
       "        vertical-align: middle;\n",
       "    }\n",
       "\n",
       "    .dataframe tbody tr th {\n",
       "        vertical-align: top;\n",
       "    }\n",
       "\n",
       "    .dataframe thead th {\n",
       "        text-align: right;\n",
       "    }\n",
       "</style>\n",
       "<table border=\"1\" class=\"dataframe\">\n",
       "  <thead>\n",
       "    <tr style=\"text-align: right;\">\n",
       "      <th></th>\n",
       "      <th>duration</th>\n",
       "      <th>id</th>\n",
       "      <th>pipeline</th>\n",
       "    </tr>\n",
       "  </thead>\n",
       "  <tbody>\n",
       "    <tr>\n",
       "      <th>0</th>\n",
       "      <td>0.007623</td>\n",
       "      <td>SJINF001_E</td>\n",
       "      <td>https://hub.docker.com/alpine</td>\n",
       "    </tr>\n",
       "    <tr>\n",
       "      <th>1</th>\n",
       "      <td>3.324949</td>\n",
       "      <td>SJINF001_E</td>\n",
       "      <td>https://quay.io/ucsc_cgl/rnaseq-cgl-pipeline</td>\n",
       "    </tr>\n",
       "    <tr>\n",
       "      <th>2</th>\n",
       "      <td>1.257035</td>\n",
       "      <td>SJINF001_E</td>\n",
       "      <td>https://hub.docker.com/r/ucsctreehouse/bam-ume...</td>\n",
       "    </tr>\n",
       "    <tr>\n",
       "      <th>3</th>\n",
       "      <td>4.332746</td>\n",
       "      <td>SJINF001_E</td>\n",
       "      <td>https://hub.docker.com/r/ucsctreehouse/fusion</td>\n",
       "    </tr>\n",
       "    <tr>\n",
       "      <th>4</th>\n",
       "      <td>0.062882</td>\n",
       "      <td>SJINF001_E</td>\n",
       "      <td>https://hub.docker.com/r/ucsctreehouse/mini-va...</td>\n",
       "    </tr>\n",
       "    <tr>\n",
       "      <th>5</th>\n",
       "      <td>0.005244</td>\n",
       "      <td>SJBALL010_D</td>\n",
       "      <td>https://hub.docker.com/alpine</td>\n",
       "    </tr>\n",
       "    <tr>\n",
       "      <th>6</th>\n",
       "      <td>2.644941</td>\n",
       "      <td>SJBALL010_D</td>\n",
       "      <td>https://quay.io/ucsc_cgl/rnaseq-cgl-pipeline</td>\n",
       "    </tr>\n",
       "    <tr>\n",
       "      <th>7</th>\n",
       "      <td>0.969958</td>\n",
       "      <td>SJBALL010_D</td>\n",
       "      <td>https://hub.docker.com/r/ucsctreehouse/bam-ume...</td>\n",
       "    </tr>\n",
       "    <tr>\n",
       "      <th>8</th>\n",
       "      <td>2.899541</td>\n",
       "      <td>SJBALL010_D</td>\n",
       "      <td>https://hub.docker.com/r/ucsctreehouse/fusion</td>\n",
       "    </tr>\n",
       "    <tr>\n",
       "      <th>9</th>\n",
       "      <td>0.098115</td>\n",
       "      <td>SJBALL010_D</td>\n",
       "      <td>https://hub.docker.com/r/ucsctreehouse/mini-va...</td>\n",
       "    </tr>\n",
       "  </tbody>\n",
       "</table>\n",
       "</div>"
      ],
      "text/plain": [
       "   duration           id                                           pipeline\n",
       "0  0.007623   SJINF001_E                      https://hub.docker.com/alpine\n",
       "1  3.324949   SJINF001_E       https://quay.io/ucsc_cgl/rnaseq-cgl-pipeline\n",
       "2  1.257035   SJINF001_E  https://hub.docker.com/r/ucsctreehouse/bam-ume...\n",
       "3  4.332746   SJINF001_E      https://hub.docker.com/r/ucsctreehouse/fusion\n",
       "4  0.062882   SJINF001_E  https://hub.docker.com/r/ucsctreehouse/mini-va...\n",
       "5  0.005244  SJBALL010_D                      https://hub.docker.com/alpine\n",
       "6  2.644941  SJBALL010_D       https://quay.io/ucsc_cgl/rnaseq-cgl-pipeline\n",
       "7  0.969958  SJBALL010_D  https://hub.docker.com/r/ucsctreehouse/bam-ume...\n",
       "8  2.899541  SJBALL010_D      https://hub.docker.com/r/ucsctreehouse/fusion\n",
       "9  0.098115  SJBALL010_D  https://hub.docker.com/r/ucsctreehouse/mini-va..."
      ]
     },
     "execution_count": 10,
     "metadata": {},
     "output_type": "execute_result"
    }
   ],
   "source": [
    "runtimes = pd.DataFrame([{\"id\": m[\"sample_id\"], \n",
    "               \"pipeline\": m[\"pipeline\"][\"docker\"][\"url\"],\n",
    "               \"duration\": (dateutil.parser.parse(m[\"end\"]) \n",
    "                            - dateutil.parser.parse(m[\"start\"])).total_seconds()/(60*60)}\n",
    " for m in methods])\n",
    "runtimes.groupby(\"id\").head()"
   ]
  },
  {
   "cell_type": "code",
   "execution_count": 13,
   "metadata": {},
   "outputs": [
    {
     "data": {
      "text/plain": [
       "          pipeline                                            \n",
       "duration  https://hub.docker.com/alpine                           2.000000\n",
       "          https://hub.docker.com/r/ucsctreehouse/bam-umend-qc     2.000000\n",
       "          https://hub.docker.com/r/ucsctreehouse/fusion           4.332746\n",
       "          https://hub.docker.com/r/ucsctreehouse/mini-var-call    2.000000\n",
       "          https://quay.io/ucsc_cgl/rnaseq-cgl-pipeline            3.324949\n",
       "dtype: float64"
      ]
     },
     "execution_count": 13,
     "metadata": {},
     "output_type": "execute_result"
    }
   ],
   "source": [
    "stats = runtimes.pivot(columns=\"pipeline\").describe()\n",
    "stats.max()"
   ]
  },
  {
   "cell_type": "code",
   "execution_count": 14,
   "metadata": {},
   "outputs": [
    {
     "data": {
      "text/plain": [
       "count    10.000000\n",
       "mean      7.801517\n",
       "std       1.723856\n",
       "min       6.582567\n",
       "25%       7.192042\n",
       "50%       7.801517\n",
       "75%       8.410992\n",
       "max       9.020468\n",
       "dtype: float64"
      ]
     },
     "execution_count": 14,
     "metadata": {},
     "output_type": "execute_result"
    }
   ],
   "source": [
    "stats.sum(axis=1)"
   ]
  }
 ],
 "metadata": {
  "kernelspec": {
   "display_name": "Python 3",
   "language": "python",
   "name": "python3"
  },
  "language_info": {
   "codemirror_mode": {
    "name": "ipython",
    "version": 3
   },
   "file_extension": ".py",
   "mimetype": "text/x-python",
   "name": "python",
   "nbconvert_exporter": "python",
   "pygments_lexer": "ipython3",
   "version": "3.6.5"
  }
 },
 "nbformat": 4,
 "nbformat_minor": 2
}
