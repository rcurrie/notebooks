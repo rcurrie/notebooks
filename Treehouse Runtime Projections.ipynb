{
 "cells": [
  {
   "cell_type": "code",
   "execution_count": 54,
   "metadata": {},
   "outputs": [],
   "source": [
    "import os\n",
    "import re\n",
    "import sys\n",
    "import json\n",
    "import dateutil\n",
    "import glob\n",
    "import pandas as pd\n",
    "import numpy as np\n",
    "import matplotlib.pyplot as plt\n",
    "import seaborn as sns"
   ]
  },
  {
   "cell_type": "markdown",
   "metadata": {},
   "source": [
    "## Treeshop Runtime Reads Bytes Correlation"
   ]
  },
  {
   "cell_type": "code",
   "execution_count": 55,
   "metadata": {},
   "outputs": [
    {
     "name": "stdout",
     "output_type": "stream",
     "text": [
      "RNASeq: 1432, UMEND: 417, Fusion: 582\n",
      "Intersection: 408\n"
     ]
    }
   ],
   "source": [
    "# Find all samples with umend, rnaseq and fusion\n",
    "\n",
    "rnaseq = [re.findall(r\"downstream\\/(.*?)\\/\", path)[0] for path in\n",
    "         glob.glob(\"/treehouse/archive/downstream/*/secondary/*rnaseq*/methods.json\")]\n",
    "umend = [re.findall(r\"downstream\\/(.*?)\\/\", path)[0] for path in\n",
    "         glob.glob(\"/treehouse/archive/downstream/*/secondary/*bam-umend-qc*/methods.json\")]\n",
    "fusion = [re.findall(r\"downstream\\/(.*?)\\/\", path)[0] for path in\n",
    "         glob.glob(\"/treehouse/archive/downstream/*/secondary/*fusion*/methods.json\")]\n",
    "\n",
    "print(\"RNASeq: {}, UMEND: {}, Fusion: {}\".format(len(rnaseq), len(umend), len(fusion)))\n",
    "\n",
    "ids = set.intersection(set(rnaseq), set(umend), set(fusion))\n",
    "print(\"Intersection: {}\".format(len(ids)))"
   ]
  },
  {
   "cell_type": "code",
   "execution_count": 56,
   "metadata": {},
   "outputs": [
    {
     "name": "stdout",
     "output_type": "stream",
     "text": [
      "UMEND Method IDs Found: 417\n"
     ]
    }
   ],
   "source": [
    "try:\n",
    "    # Some files have trailing commands in lists so fixing in ingest\n",
    "    umend = [json.loads(re.sub(\",[ \\t\\r\\n]+\\]\", \"]\", open(m).read()))\n",
    "             for m in glob.glob(\"/treehouse/archive/downstream/*/secondary/*bam-umend-qc-*/methods.json\")]\n",
    "except:\n",
    "    print(sys.exc_info()[2].tb_next.tb_frame.f_locals)\n",
    "    raise\n",
    "\n",
    "print(\"UMEND Method IDs Found:\", len(umend))"
   ]
  },
  {
   "cell_type": "code",
   "execution_count": 57,
   "metadata": {},
   "outputs": [],
   "source": [
    "try:\n",
    "    methods = [{\n",
    "        \"rnaseq\": json.loads(open(\n",
    "            glob.glob(\"/treehouse/archive/downstream/{}/secondary/*rnaseq*/methods.json\"\n",
    "                      .format(id))[0]).read()),\n",
    "        \"umend\": json.loads(open(\n",
    "            glob.glob(\"/treehouse/archive/downstream/{}/secondary/*umend*/methods.json\"\n",
    "                      .format(id))[0]).read()),\n",
    "        \"fusion\": json.loads(open(\n",
    "            glob.glob(\"/treehouse/archive/downstream/{}/secondary/*fusion*/methods.json\"\n",
    "                      .format(id))[0]).read())\n",
    "    } for id in ids]\n",
    "except:\n",
    "    print(sys.exc_info()[2].tb_next.tb_frame.f_locals)\n",
    "    raise"
   ]
  },
  {
   "cell_type": "code",
   "execution_count": 58,
   "metadata": {},
   "outputs": [],
   "source": [
    "runtimes = pd.DataFrame([{\n",
    "    \"sample_id\": m[\"rnaseq\"][\"sample_id\"],\n",
    "    \"size\":\n",
    "        sum([os.path.getsize(os.path.join(\"/treehouse/archive\", i)) for i in m[\"rnaseq\"][\"inputs\"] \n",
    "             if os.path.exists(os.path.join(\"/treehouse/archive\", i))]) / 10**9,\n",
    "    \"runtime\":\n",
    "        sum([(dateutil.parser.parse(v[\"end\"])\n",
    "              - dateutil.parser.parse(v[\"start\"])).total_seconds()/(60*60) for k,v in m.items()]),\n",
    "        \n",
    "} for m in methods])"
   ]
  },
  {
   "cell_type": "code",
   "execution_count": 59,
   "metadata": {},
   "outputs": [],
   "source": [
    "runtimes_with_size = runtimes[runtimes[\"size\"] > 0]"
   ]
  },
  {
   "cell_type": "code",
   "execution_count": 60,
   "metadata": {},
   "outputs": [
    {
     "data": {
      "text/plain": [
       "(233, 3)"
      ]
     },
     "execution_count": 60,
     "metadata": {},
     "output_type": "execute_result"
    }
   ],
   "source": [
    "runtimes_with_size.shape"
   ]
  },
  {
   "cell_type": "code",
   "execution_count": 61,
   "metadata": {},
   "outputs": [
    {
     "data": {
      "text/plain": [
       "runtime             64.5166\n",
       "sample_id    THR33_0990_S01\n",
       "size                50.9308\n",
       "Name: 327, dtype: object"
      ]
     },
     "execution_count": 61,
     "metadata": {},
     "output_type": "execute_result"
    }
   ],
   "source": [
    "runtimes_with_size.loc[runtimes[\"size\"].idxmax()]"
   ]
  },
  {
   "cell_type": "code",
   "execution_count": 62,
   "metadata": {},
   "outputs": [
    {
     "data": {
      "text/plain": [
       "17.704693442477346"
      ]
     },
     "execution_count": 62,
     "metadata": {},
     "output_type": "execute_result"
    }
   ],
   "source": [
    "runtimes_with_size.mean()[\"runtime\"]"
   ]
  },
  {
   "cell_type": "code",
   "execution_count": 63,
   "metadata": {},
   "outputs": [
    {
     "data": {
      "text/plain": [
       "18.302538786"
      ]
     },
     "execution_count": 63,
     "metadata": {},
     "output_type": "execute_result"
    }
   ],
   "source": [
    "runtimes_with_size.median()[\"size\"]"
   ]
  },
  {
   "cell_type": "code",
   "execution_count": 64,
   "metadata": {},
   "outputs": [
    {
     "data": {
      "text/plain": [
       "<matplotlib.axes._subplots.AxesSubplot at 0x7f71ca0d47f0>"
      ]
     },
     "execution_count": 64,
     "metadata": {},
     "output_type": "execute_result"
    },
    {
     "data": {
      "image/png": "[encoded data removed]",
      "text/plain": [
       "<matplotlib.figure.Figure at 0x7f71cd39d390>"
      ]
     },
     "metadata": {},
     "output_type": "display_data"
    }
   ],
   "source": [
    "sns.regplot(x=\"size\", y=\"runtime\", data=runtimes_with_size)"
   ]
  },
  {
   "cell_type": "code",
   "execution_count": 65,
   "metadata": {},
   "outputs": [
    {
     "name": "stdout",
     "output_type": "stream",
     "text": [
      "hours / gigabyte 1.2558015805805025\n"
     ]
    }
   ],
   "source": [
    "linear = np.polyfit(runtimes_with_size[\"size\"].values, runtimes_with_size[\"runtime\"].values, deg=1)\n",
    "print(\"hours / gigabyte\", linear[0])"
   ]
  },
  {
   "cell_type": "code",
   "execution_count": 47,
   "metadata": {},
   "outputs": [
    {
     "data": {
      "text/html": [
       "<div>\n",
       "<style scoped>\n",
       "    .dataframe tbody tr th:only-of-type {\n",
       "        vertical-align: middle;\n",
       "    }\n",
       "\n",
       "    .dataframe tbody tr th {\n",
       "        vertical-align: top;\n",
       "    }\n",
       "\n",
       "    .dataframe thead th {\n",
       "        text-align: right;\n",
       "    }\n",
       "</style>\n",
       "<table border=\"1\" class=\"dataframe\">\n",
       "  <thead>\n",
       "    <tr style=\"text-align: right;\">\n",
       "      <th></th>\n",
       "      <th>runtime</th>\n",
       "      <th>size</th>\n",
       "    </tr>\n",
       "  </thead>\n",
       "  <tbody>\n",
       "    <tr>\n",
       "      <th>count</th>\n",
       "      <td>233.000000</td>\n",
       "      <td>233.000000</td>\n",
       "    </tr>\n",
       "    <tr>\n",
       "      <th>mean</th>\n",
       "      <td>17.704693</td>\n",
       "      <td>17.098948</td>\n",
       "    </tr>\n",
       "    <tr>\n",
       "      <th>std</th>\n",
       "      <td>12.788485</td>\n",
       "      <td>8.382327</td>\n",
       "    </tr>\n",
       "    <tr>\n",
       "      <th>min</th>\n",
       "      <td>3.622332</td>\n",
       "      <td>2.988922</td>\n",
       "    </tr>\n",
       "    <tr>\n",
       "      <th>25%</th>\n",
       "      <td>8.636684</td>\n",
       "      <td>8.756552</td>\n",
       "    </tr>\n",
       "    <tr>\n",
       "      <th>50%</th>\n",
       "      <td>13.218096</td>\n",
       "      <td>18.302539</td>\n",
       "    </tr>\n",
       "    <tr>\n",
       "      <th>75%</th>\n",
       "      <td>21.296318</td>\n",
       "      <td>24.057976</td>\n",
       "    </tr>\n",
       "    <tr>\n",
       "      <th>max</th>\n",
       "      <td>64.516609</td>\n",
       "      <td>50.930828</td>\n",
       "    </tr>\n",
       "  </tbody>\n",
       "</table>\n",
       "</div>"
      ],
      "text/plain": [
       "          runtime        size\n",
       "count  233.000000  233.000000\n",
       "mean    17.704693   17.098948\n",
       "std     12.788485    8.382327\n",
       "min      3.622332    2.988922\n",
       "25%      8.636684    8.756552\n",
       "50%     13.218096   18.302539\n",
       "75%     21.296318   24.057976\n",
       "max     64.516609   50.930828"
      ]
     },
     "execution_count": 47,
     "metadata": {},
     "output_type": "execute_result"
    }
   ],
   "source": [
    "runtimes_with_size.describe()"
   ]
  },
  {
   "cell_type": "markdown",
   "metadata": {},
   "source": [
    "## CBTTC Cavatica AWS"
   ]
  },
  {
   "cell_type": "code",
   "execution_count": null,
   "metadata": {},
   "outputs": [],
   "source": []
  },
  {
   "cell_type": "code",
   "execution_count": 124,
   "metadata": {},
   "outputs": [],
   "source": [
    "manifest = pd.read_csv(\"/home/jovyan/cbttc_manifest.csv\")"
   ]
  },
  {
   "cell_type": "code",
   "execution_count": 126,
   "metadata": {},
   "outputs": [
    {
     "data": {
      "text/html": [
       "<div>\n",
       "<style scoped>\n",
       "    .dataframe tbody tr th:only-of-type {\n",
       "        vertical-align: middle;\n",
       "    }\n",
       "\n",
       "    .dataframe tbody tr th {\n",
       "        vertical-align: top;\n",
       "    }\n",
       "\n",
       "    .dataframe thead th {\n",
       "        text-align: right;\n",
       "    }\n",
       "</style>\n",
       "<table border=\"1\" class=\"dataframe\">\n",
       "  <thead>\n",
       "    <tr style=\"text-align: right;\">\n",
       "      <th></th>\n",
       "      <th>id</th>\n",
       "      <th>name</th>\n",
       "      <th>project</th>\n",
       "      <th>race</th>\n",
       "      <th>gender</th>\n",
       "      <th>vital_status</th>\n",
       "      <th>ethnicity</th>\n",
       "      <th>platform_unit_id</th>\n",
       "      <th>disease_type</th>\n",
       "      <th>sample_id</th>\n",
       "      <th>...</th>\n",
       "      <th>Sequencing Coverage</th>\n",
       "      <th>sample_uuid</th>\n",
       "      <th>aliquot_id</th>\n",
       "      <th>Insert Size</th>\n",
       "      <th>reference_genome</th>\n",
       "      <th>case_id</th>\n",
       "      <th>Sequencing Center</th>\n",
       "      <th>days_to_death</th>\n",
       "      <th>experimental_strategy</th>\n",
       "      <th>quality_scale</th>\n",
       "    </tr>\n",
       "  </thead>\n",
       "  <tbody>\n",
       "    <tr>\n",
       "      <th>0</th>\n",
       "      <td>5b117f4eec70d7f4d3fbad06</td>\n",
       "      <td>11bd481c-4cd1-4b2a-9e13-1b4aba7cd4d2.bam</td>\n",
       "      <td>cavatica/pgdn-821z</td>\n",
       "      <td>Black or African American</td>\n",
       "      <td>Male</td>\n",
       "      <td>Alive</td>\n",
       "      <td>Not Hispanic or Latino</td>\n",
       "      <td>NaN</td>\n",
       "      <td>Low-grade glioma/astrocytoma (WHO grade I/II)</td>\n",
       "      <td>7316-162-T</td>\n",
       "      <td>...</td>\n",
       "      <td>100M</td>\n",
       "      <td>bbc6af81-7211-4b59-9f1f-887378a671ea</td>\n",
       "      <td>564459</td>\n",
       "      <td>250</td>\n",
       "      <td>HG19</td>\n",
       "      <td>C35670</td>\n",
       "      <td>NANT</td>\n",
       "      <td>NaN</td>\n",
       "      <td>RNA-Seq</td>\n",
       "      <td>illumina18</td>\n",
       "    </tr>\n",
       "    <tr>\n",
       "      <th>1</th>\n",
       "      <td>5b117f4eec70d7f4d3fbacfa</td>\n",
       "      <td>17556e26-ea02-41f5-8b74-b11c2dbd8af8.bam</td>\n",
       "      <td>cavatica/pgdn-821z</td>\n",
       "      <td>White</td>\n",
       "      <td>Female</td>\n",
       "      <td>Alive</td>\n",
       "      <td>Unavailable/Not Reported</td>\n",
       "      <td>NaN</td>\n",
       "      <td>Low-grade glioma/astrocytoma (WHO grade I/II)</td>\n",
       "      <td>7316-235-T</td>\n",
       "      <td>...</td>\n",
       "      <td>100M</td>\n",
       "      <td>837d3acc-535d-4b6a-88eb-020d580be578</td>\n",
       "      <td>564458</td>\n",
       "      <td>250</td>\n",
       "      <td>HG19</td>\n",
       "      <td>C17835</td>\n",
       "      <td>NANT</td>\n",
       "      <td>NaN</td>\n",
       "      <td>RNA-Seq</td>\n",
       "      <td>illumina18</td>\n",
       "    </tr>\n",
       "    <tr>\n",
       "      <th>2</th>\n",
       "      <td>5b117f4eec70d7f4d3fbad17</td>\n",
       "      <td>1ef7f947-f77b-42db-850f-1838b7e2aaa6.bam</td>\n",
       "      <td>cavatica/pgdn-821z</td>\n",
       "      <td>White</td>\n",
       "      <td>Male</td>\n",
       "      <td>Alive</td>\n",
       "      <td>Not Hispanic or Latino</td>\n",
       "      <td>NaN</td>\n",
       "      <td>Medulloblastoma</td>\n",
       "      <td>7316-1801-T</td>\n",
       "      <td>...</td>\n",
       "      <td>100M</td>\n",
       "      <td>fef276af-a186-44e2-b2ea-5d5bde52f1c4</td>\n",
       "      <td>564481</td>\n",
       "      <td>250</td>\n",
       "      <td>HG19</td>\n",
       "      <td>C478962</td>\n",
       "      <td>NANT</td>\n",
       "      <td>NaN</td>\n",
       "      <td>RNA-Seq</td>\n",
       "      <td>illumina18</td>\n",
       "    </tr>\n",
       "    <tr>\n",
       "      <th>3</th>\n",
       "      <td>5b117f4eec70d7f4d3fbacc2</td>\n",
       "      <td>1e1e8a2d-d746-4c92-97d4-22cf3bc48392.bam</td>\n",
       "      <td>cavatica/pgdn-821z</td>\n",
       "      <td>White</td>\n",
       "      <td>Male</td>\n",
       "      <td>Alive</td>\n",
       "      <td>Not Hispanic or Latino</td>\n",
       "      <td>NaN</td>\n",
       "      <td>Ependymoma</td>\n",
       "      <td>7316-443-T</td>\n",
       "      <td>...</td>\n",
       "      <td>100M</td>\n",
       "      <td>cf8d5c32-5c9e-426c-9197-dbdbc756af1a</td>\n",
       "      <td>571398</td>\n",
       "      <td>250</td>\n",
       "      <td>HG19</td>\n",
       "      <td>C91881</td>\n",
       "      <td>NANT</td>\n",
       "      <td>NaN</td>\n",
       "      <td>RNA-Seq</td>\n",
       "      <td>illumina18</td>\n",
       "    </tr>\n",
       "    <tr>\n",
       "      <th>4</th>\n",
       "      <td>5b117f4eec70d7f4d3fbad39</td>\n",
       "      <td>01999899-8431-40b3-9976-27d8ba17e2e6.local.tra...</td>\n",
       "      <td>cavatica/pgdn-821z</td>\n",
       "      <td>White</td>\n",
       "      <td>Female</td>\n",
       "      <td>Deceased-due to disease</td>\n",
       "      <td>Not Hispanic or Latino</td>\n",
       "      <td>NaN</td>\n",
       "      <td>High-grade glioma/astrocytoma (WHO grade III/IV)</td>\n",
       "      <td>7316-1068-T</td>\n",
       "      <td>...</td>\n",
       "      <td>100M</td>\n",
       "      <td>02048579-6ee2-427d-b479-50995526125f</td>\n",
       "      <td>574556</td>\n",
       "      <td>250</td>\n",
       "      <td>RefSeq_Build_73</td>\n",
       "      <td>C191019</td>\n",
       "      <td>NANT</td>\n",
       "      <td>155.0</td>\n",
       "      <td>RNA-Seq</td>\n",
       "      <td>illumina18</td>\n",
       "    </tr>\n",
       "  </tbody>\n",
       "</table>\n",
       "<p>5 rows × 26 columns</p>\n",
       "</div>"
      ],
      "text/plain": [
       "                         id  \\\n",
       "0  5b117f4eec70d7f4d3fbad06   \n",
       "1  5b117f4eec70d7f4d3fbacfa   \n",
       "2  5b117f4eec70d7f4d3fbad17   \n",
       "3  5b117f4eec70d7f4d3fbacc2   \n",
       "4  5b117f4eec70d7f4d3fbad39   \n",
       "\n",
       "                                                name             project  \\\n",
       "0           11bd481c-4cd1-4b2a-9e13-1b4aba7cd4d2.bam  cavatica/pgdn-821z   \n",
       "1           17556e26-ea02-41f5-8b74-b11c2dbd8af8.bam  cavatica/pgdn-821z   \n",
       "2           1ef7f947-f77b-42db-850f-1838b7e2aaa6.bam  cavatica/pgdn-821z   \n",
       "3           1e1e8a2d-d746-4c92-97d4-22cf3bc48392.bam  cavatica/pgdn-821z   \n",
       "4  01999899-8431-40b3-9976-27d8ba17e2e6.local.tra...  cavatica/pgdn-821z   \n",
       "\n",
       "                        race  gender             vital_status  \\\n",
       "0  Black or African American    Male                    Alive   \n",
       "1                      White  Female                    Alive   \n",
       "2                      White    Male                    Alive   \n",
       "3                      White    Male                    Alive   \n",
       "4                      White  Female  Deceased-due to disease   \n",
       "\n",
       "                  ethnicity platform_unit_id  \\\n",
       "0    Not Hispanic or Latino              NaN   \n",
       "1  Unavailable/Not Reported              NaN   \n",
       "2    Not Hispanic or Latino              NaN   \n",
       "3    Not Hispanic or Latino              NaN   \n",
       "4    Not Hispanic or Latino              NaN   \n",
       "\n",
       "                                       disease_type    sample_id  \\\n",
       "0     Low-grade glioma/astrocytoma (WHO grade I/II)   7316-162-T   \n",
       "1     Low-grade glioma/astrocytoma (WHO grade I/II)   7316-235-T   \n",
       "2                                   Medulloblastoma  7316-1801-T   \n",
       "3                                        Ependymoma   7316-443-T   \n",
       "4  High-grade glioma/astrocytoma (WHO grade III/IV)  7316-1068-T   \n",
       "\n",
       "       ...        Sequencing Coverage                           sample_uuid  \\\n",
       "0      ...                       100M  bbc6af81-7211-4b59-9f1f-887378a671ea   \n",
       "1      ...                       100M  837d3acc-535d-4b6a-88eb-020d580be578   \n",
       "2      ...                       100M  fef276af-a186-44e2-b2ea-5d5bde52f1c4   \n",
       "3      ...                       100M  cf8d5c32-5c9e-426c-9197-dbdbc756af1a   \n",
       "4      ...                       100M  02048579-6ee2-427d-b479-50995526125f   \n",
       "\n",
       "   aliquot_id Insert Size reference_genome  case_id Sequencing Center  \\\n",
       "0      564459         250             HG19   C35670              NANT   \n",
       "1      564458         250             HG19   C17835              NANT   \n",
       "2      564481         250             HG19  C478962              NANT   \n",
       "3      571398         250             HG19   C91881              NANT   \n",
       "4      574556         250  RefSeq_Build_73  C191019              NANT   \n",
       "\n",
       "  days_to_death experimental_strategy  quality_scale  \n",
       "0           NaN               RNA-Seq     illumina18  \n",
       "1           NaN               RNA-Seq     illumina18  \n",
       "2           NaN               RNA-Seq     illumina18  \n",
       "3           NaN               RNA-Seq     illumina18  \n",
       "4         155.0               RNA-Seq     illumina18  \n",
       "\n",
       "[5 rows x 26 columns]"
      ]
     },
     "execution_count": 126,
     "metadata": {},
     "output_type": "execute_result"
    }
   ],
   "source": [
    "manifest.head()"
   ]
  },
  {
   "cell_type": "code",
   "execution_count": 127,
   "metadata": {},
   "outputs": [
    {
     "data": {
      "text/html": [
       "<div>\n",
       "<style scoped>\n",
       "    .dataframe tbody tr th:only-of-type {\n",
       "        vertical-align: middle;\n",
       "    }\n",
       "\n",
       "    .dataframe tbody tr th {\n",
       "        vertical-align: top;\n",
       "    }\n",
       "\n",
       "    .dataframe thead th {\n",
       "        text-align: right;\n",
       "    }\n",
       "</style>\n",
       "<table border=\"1\" class=\"dataframe\">\n",
       "  <thead>\n",
       "    <tr style=\"text-align: right;\">\n",
       "      <th></th>\n",
       "      <th>id</th>\n",
       "      <th>name</th>\n",
       "      <th>project</th>\n",
       "      <th>race</th>\n",
       "      <th>gender</th>\n",
       "      <th>vital_status</th>\n",
       "      <th>ethnicity</th>\n",
       "      <th>platform_unit_id</th>\n",
       "      <th>disease_type</th>\n",
       "      <th>sample_id</th>\n",
       "      <th>...</th>\n",
       "      <th>Sequencing Coverage</th>\n",
       "      <th>sample_uuid</th>\n",
       "      <th>aliquot_id</th>\n",
       "      <th>Insert Size</th>\n",
       "      <th>reference_genome</th>\n",
       "      <th>case_id</th>\n",
       "      <th>Sequencing Center</th>\n",
       "      <th>days_to_death</th>\n",
       "      <th>experimental_strategy</th>\n",
       "      <th>quality_scale</th>\n",
       "    </tr>\n",
       "  </thead>\n",
       "  <tbody>\n",
       "    <tr>\n",
       "      <th>0</th>\n",
       "      <td>5b117f4eec70d7f4d3fbad06</td>\n",
       "      <td>11bd481c-4cd1-4b2a-9e13-1b4aba7cd4d2.bam</td>\n",
       "      <td>cavatica/pgdn-821z</td>\n",
       "      <td>Black or African American</td>\n",
       "      <td>Male</td>\n",
       "      <td>Alive</td>\n",
       "      <td>Not Hispanic or Latino</td>\n",
       "      <td>NaN</td>\n",
       "      <td>Low-grade glioma/astrocytoma (WHO grade I/II)</td>\n",
       "      <td>7316-162-T</td>\n",
       "      <td>...</td>\n",
       "      <td>100M</td>\n",
       "      <td>bbc6af81-7211-4b59-9f1f-887378a671ea</td>\n",
       "      <td>564459</td>\n",
       "      <td>250</td>\n",
       "      <td>HG19</td>\n",
       "      <td>C35670</td>\n",
       "      <td>NANT</td>\n",
       "      <td>NaN</td>\n",
       "      <td>RNA-Seq</td>\n",
       "      <td>illumina18</td>\n",
       "    </tr>\n",
       "    <tr>\n",
       "      <th>60</th>\n",
       "      <td>5b117f4eec70d7f4d3fbaea5</td>\n",
       "      <td>11bd481c-4cd1-4b2a-9e13-1b4aba7cd4d2.local.tra...</td>\n",
       "      <td>cavatica/pgdn-821z</td>\n",
       "      <td>Black or African American</td>\n",
       "      <td>Male</td>\n",
       "      <td>Alive</td>\n",
       "      <td>Not Hispanic or Latino</td>\n",
       "      <td>NaN</td>\n",
       "      <td>Low-grade glioma/astrocytoma (WHO grade I/II)</td>\n",
       "      <td>7316-162-T</td>\n",
       "      <td>...</td>\n",
       "      <td>100M</td>\n",
       "      <td>d1ed4af4-3976-410e-b3b8-afa532db2d7c</td>\n",
       "      <td>564459</td>\n",
       "      <td>250</td>\n",
       "      <td>RefSeq_Build_73</td>\n",
       "      <td>C35670</td>\n",
       "      <td>NANT</td>\n",
       "      <td>NaN</td>\n",
       "      <td>RNA-Seq</td>\n",
       "      <td>illumina18</td>\n",
       "    </tr>\n",
       "  </tbody>\n",
       "</table>\n",
       "<p>2 rows × 26 columns</p>\n",
       "</div>"
      ],
      "text/plain": [
       "                          id  \\\n",
       "0   5b117f4eec70d7f4d3fbad06   \n",
       "60  5b117f4eec70d7f4d3fbaea5   \n",
       "\n",
       "                                                 name             project  \\\n",
       "0            11bd481c-4cd1-4b2a-9e13-1b4aba7cd4d2.bam  cavatica/pgdn-821z   \n",
       "60  11bd481c-4cd1-4b2a-9e13-1b4aba7cd4d2.local.tra...  cavatica/pgdn-821z   \n",
       "\n",
       "                         race gender vital_status               ethnicity  \\\n",
       "0   Black or African American   Male        Alive  Not Hispanic or Latino   \n",
       "60  Black or African American   Male        Alive  Not Hispanic or Latino   \n",
       "\n",
       "   platform_unit_id                                   disease_type  \\\n",
       "0               NaN  Low-grade glioma/astrocytoma (WHO grade I/II)   \n",
       "60              NaN  Low-grade glioma/astrocytoma (WHO grade I/II)   \n",
       "\n",
       "     sample_id      ...        Sequencing Coverage  \\\n",
       "0   7316-162-T      ...                       100M   \n",
       "60  7316-162-T      ...                       100M   \n",
       "\n",
       "                             sample_uuid  aliquot_id Insert Size  \\\n",
       "0   bbc6af81-7211-4b59-9f1f-887378a671ea      564459         250   \n",
       "60  d1ed4af4-3976-410e-b3b8-afa532db2d7c      564459         250   \n",
       "\n",
       "   reference_genome  case_id Sequencing Center days_to_death  \\\n",
       "0              HG19   C35670              NANT           NaN   \n",
       "60  RefSeq_Build_73   C35670              NANT           NaN   \n",
       "\n",
       "   experimental_strategy  quality_scale  \n",
       "0                RNA-Seq     illumina18  \n",
       "60               RNA-Seq     illumina18  \n",
       "\n",
       "[2 rows x 26 columns]"
      ]
     },
     "execution_count": 127,
     "metadata": {},
     "output_type": "execute_result"
    }
   ],
   "source": [
    "manifest[manifest.sample_id == \"7316-162-T\"]"
   ]
  },
  {
   "cell_type": "code",
   "execution_count": 128,
   "metadata": {},
   "outputs": [
    {
     "name": "stdout",
     "output_type": "stream",
     "text": [
      "692\n"
     ]
    }
   ],
   "source": [
    "with open(\"/home/jovyan/cbttc_download_links.txt\") as f:\n",
    "    links = f.readlines()\n",
    "print(len(links))"
   ]
  },
  {
   "cell_type": "code",
   "execution_count": null,
   "metadata": {},
   "outputs": [],
   "source": [
    "import requests\n",
    "files = {}\n",
    "for link in links:\n",
    "    r = requests.get(link.strip(), headers={\"Range\": \"bytes=0-0\"})\n",
    "    files[r.headers[\"Content-Disposition\"].split(\"=\")[1]] = {\"size\": int(r.headers[\"Content-Range\"].split(\"/\")[1])}"
   ]
  },
  {
   "cell_type": "code",
   "execution_count": 141,
   "metadata": {},
   "outputs": [
    {
     "data": {
      "text/plain": [
       "5708.470868718"
      ]
     },
     "execution_count": 141,
     "metadata": {},
     "output_type": "execute_result"
    }
   ],
   "source": [
    "sum([v[\"size\"] for k,v in files.items() if \"local.transcript\" not in k]) / 1000**3"
   ]
  },
  {
   "cell_type": "code",
   "execution_count": 148,
   "metadata": {},
   "outputs": [],
   "source": [
    "sizes = pd.DataFrame(files).T"
   ]
  },
  {
   "cell_type": "code",
   "execution_count": 149,
   "metadata": {},
   "outputs": [
    {
     "data": {
      "text/html": [
       "<div>\n",
       "<style scoped>\n",
       "    .dataframe tbody tr th:only-of-type {\n",
       "        vertical-align: middle;\n",
       "    }\n",
       "\n",
       "    .dataframe tbody tr th {\n",
       "        vertical-align: top;\n",
       "    }\n",
       "\n",
       "    .dataframe thead th {\n",
       "        text-align: right;\n",
       "    }\n",
       "</style>\n",
       "<table border=\"1\" class=\"dataframe\">\n",
       "  <thead>\n",
       "    <tr style=\"text-align: right;\">\n",
       "      <th></th>\n",
       "      <th>size</th>\n",
       "    </tr>\n",
       "  </thead>\n",
       "  <tbody>\n",
       "    <tr>\n",
       "      <th>008f259f-c6a4-49a1-b404-efe16afb3a8a.bam</th>\n",
       "      <td>17870146049</td>\n",
       "    </tr>\n",
       "    <tr>\n",
       "      <th>008f259f-c6a4-49a1-b404-efe16afb3a8a.local.transcript.bam</th>\n",
       "      <td>32404519671</td>\n",
       "    </tr>\n",
       "    <tr>\n",
       "      <th>01999899-8431-40b3-9976-27d8ba17e2e6.bam</th>\n",
       "      <td>18811399367</td>\n",
       "    </tr>\n",
       "    <tr>\n",
       "      <th>01999899-8431-40b3-9976-27d8ba17e2e6.local.transcript.bam</th>\n",
       "      <td>34767985605</td>\n",
       "    </tr>\n",
       "    <tr>\n",
       "      <th>019c8219-31e2-4bcb-8801-d8248f17040b.bam</th>\n",
       "      <td>20189446457</td>\n",
       "    </tr>\n",
       "  </tbody>\n",
       "</table>\n",
       "</div>"
      ],
      "text/plain": [
       "                                                           size\n",
       "008f259f-c6a4-49a1-b404-efe16afb3a8a.bam            17870146049\n",
       "008f259f-c6a4-49a1-b404-efe16afb3a8a.local.tran...  32404519671\n",
       "01999899-8431-40b3-9976-27d8ba17e2e6.bam            18811399367\n",
       "01999899-8431-40b3-9976-27d8ba17e2e6.local.tran...  34767985605\n",
       "019c8219-31e2-4bcb-8801-d8248f17040b.bam            20189446457"
      ]
     },
     "execution_count": 149,
     "metadata": {},
     "output_type": "execute_result"
    }
   ],
   "source": [
    "sizes.head()"
   ]
  },
  {
   "cell_type": "code",
   "execution_count": 154,
   "metadata": {},
   "outputs": [
    {
     "data": {
      "text/plain": [
       "14077521254526"
      ]
     },
     "execution_count": 154,
     "metadata": {},
     "output_type": "execute_result"
    }
   ],
   "source": [
    "sum(sizes[\"size\"].values)"
   ]
  },
  {
   "cell_type": "code",
   "execution_count": 157,
   "metadata": {},
   "outputs": [],
   "source": [
    "pd.merge(manifest, sizes, how=\"left\", left_on=\"name\", right_index=True).to_csv(\n",
    "    \"/home/jovyan/cbttc_manifest_with_size.tsv\", sep=\"\\t\")"
   ]
  },
  {
   "cell_type": "markdown",
   "metadata": {},
   "source": [
    "## St Judes PCGP"
   ]
  },
  {
   "cell_type": "code",
   "execution_count": 6,
   "metadata": {},
   "outputs": [
    {
     "data": {
      "text/html": [
       "<div>\n",
       "<style scoped>\n",
       "    .dataframe tbody tr th:only-of-type {\n",
       "        vertical-align: middle;\n",
       "    }\n",
       "\n",
       "    .dataframe tbody tr th {\n",
       "        vertical-align: top;\n",
       "    }\n",
       "\n",
       "    .dataframe thead th {\n",
       "        text-align: right;\n",
       "    }\n",
       "</style>\n",
       "<table border=\"1\" class=\"dataframe\">\n",
       "  <thead>\n",
       "    <tr style=\"text-align: right;\">\n",
       "      <th></th>\n",
       "      <th>file_path</th>\n",
       "      <th>subject_name</th>\n",
       "      <th>sample_name</th>\n",
       "      <th>sample_type</th>\n",
       "      <th>sequencing_type</th>\n",
       "      <th>file_type</th>\n",
       "      <th>description</th>\n",
       "      <th>sj_diseases</th>\n",
       "      <th>sj_datasets</th>\n",
       "      <th>sj_pmid_accessions</th>\n",
       "      <th>sj_ega_accessions</th>\n",
       "    </tr>\n",
       "  </thead>\n",
       "  <tbody>\n",
       "    <tr>\n",
       "      <th>0</th>\n",
       "      <td>/restricted/BAM/SJRHB002_G.WholeGenome.bam.bai</td>\n",
       "      <td>SJRHB002</td>\n",
       "      <td>SJRHB002_G</td>\n",
       "      <td>Germline</td>\n",
       "      <td>WGS</td>\n",
       "      <td>BAM</td>\n",
       "      <td>NaN</td>\n",
       "      <td>RHB</td>\n",
       "      <td>Pediatric Cancer Genome Project (PCGP)</td>\n",
       "      <td>23232254,24332040</td>\n",
       "      <td>EGAS00001000256</td>\n",
       "    </tr>\n",
       "    <tr>\n",
       "      <th>1</th>\n",
       "      <td>/restricted/BAM/SJRHB002_G.WholeGenome.bam</td>\n",
       "      <td>SJRHB002</td>\n",
       "      <td>SJRHB002_G</td>\n",
       "      <td>Germline</td>\n",
       "      <td>WGS</td>\n",
       "      <td>BAM</td>\n",
       "      <td>NaN</td>\n",
       "      <td>RHB</td>\n",
       "      <td>Pediatric Cancer Genome Project (PCGP)</td>\n",
       "      <td>23232254,24332040</td>\n",
       "      <td>EGAS00001000256</td>\n",
       "    </tr>\n",
       "    <tr>\n",
       "      <th>2</th>\n",
       "      <td>/restricted/BAM/SJRHB005_G.WholeGenome.bam</td>\n",
       "      <td>SJRHB005</td>\n",
       "      <td>SJRHB005_G</td>\n",
       "      <td>Germline</td>\n",
       "      <td>WGS</td>\n",
       "      <td>BAM</td>\n",
       "      <td>NaN</td>\n",
       "      <td>RHB</td>\n",
       "      <td>Pediatric Cancer Genome Project (PCGP)</td>\n",
       "      <td>23232254,24332040</td>\n",
       "      <td>EGAS00001000256</td>\n",
       "    </tr>\n",
       "    <tr>\n",
       "      <th>3</th>\n",
       "      <td>/restricted/BAM/SJRHB005_G.WholeGenome.bam.bai</td>\n",
       "      <td>SJRHB005</td>\n",
       "      <td>SJRHB005_G</td>\n",
       "      <td>Germline</td>\n",
       "      <td>WGS</td>\n",
       "      <td>BAM</td>\n",
       "      <td>NaN</td>\n",
       "      <td>RHB</td>\n",
       "      <td>Pediatric Cancer Genome Project (PCGP)</td>\n",
       "      <td>23232254,24332040</td>\n",
       "      <td>EGAS00001000256</td>\n",
       "    </tr>\n",
       "    <tr>\n",
       "      <th>4</th>\n",
       "      <td>/restricted/BAM/SJRB051_G.WholeGenome.bam.bai</td>\n",
       "      <td>SJRB051</td>\n",
       "      <td>SJRB051_G</td>\n",
       "      <td>Germline</td>\n",
       "      <td>WGS</td>\n",
       "      <td>BAM</td>\n",
       "      <td>NaN</td>\n",
       "      <td>RB</td>\n",
       "      <td>Pediatric Cancer Genome Project (PCGP)</td>\n",
       "      <td>NaN</td>\n",
       "      <td>NaN</td>\n",
       "    </tr>\n",
       "  </tbody>\n",
       "</table>\n",
       "</div>"
      ],
      "text/plain": [
       "                                        file_path subject_name sample_name  \\\n",
       "0  /restricted/BAM/SJRHB002_G.WholeGenome.bam.bai     SJRHB002  SJRHB002_G   \n",
       "1      /restricted/BAM/SJRHB002_G.WholeGenome.bam     SJRHB002  SJRHB002_G   \n",
       "2      /restricted/BAM/SJRHB005_G.WholeGenome.bam     SJRHB005  SJRHB005_G   \n",
       "3  /restricted/BAM/SJRHB005_G.WholeGenome.bam.bai     SJRHB005  SJRHB005_G   \n",
       "4   /restricted/BAM/SJRB051_G.WholeGenome.bam.bai      SJRB051   SJRB051_G   \n",
       "\n",
       "  sample_type sequencing_type file_type  description sj_diseases  \\\n",
       "0    Germline             WGS       BAM          NaN         RHB   \n",
       "1    Germline             WGS       BAM          NaN         RHB   \n",
       "2    Germline             WGS       BAM          NaN         RHB   \n",
       "3    Germline             WGS       BAM          NaN         RHB   \n",
       "4    Germline             WGS       BAM          NaN          RB   \n",
       "\n",
       "                              sj_datasets sj_pmid_accessions sj_ega_accessions  \n",
       "0  Pediatric Cancer Genome Project (PCGP)  23232254,24332040   EGAS00001000256  \n",
       "1  Pediatric Cancer Genome Project (PCGP)  23232254,24332040   EGAS00001000256  \n",
       "2  Pediatric Cancer Genome Project (PCGP)  23232254,24332040   EGAS00001000256  \n",
       "3  Pediatric Cancer Genome Project (PCGP)  23232254,24332040   EGAS00001000256  \n",
       "4  Pediatric Cancer Genome Project (PCGP)                NaN               NaN  "
      ]
     },
     "execution_count": 6,
     "metadata": {},
     "output_type": "execute_result"
    }
   ],
   "source": [
    "manifest = pd.read_csv(\"/home/jovyan/stjude_manifest.tsv\", sep=\"\\t\")\n",
    "manifest.head()"
   ]
  },
  {
   "cell_type": "code",
   "execution_count": 39,
   "metadata": {},
   "outputs": [
    {
     "name": "stdout",
     "output_type": "stream",
     "text": [
      "RNASeq: 1794\n",
      "PCGP: 1794\n",
      "File Types: {'BAM'}\n"
     ]
    }
   ],
   "source": [
    "rnaseq = manifest[manifest.sequencing_type == \"RNA-Seq\"]\n",
    "print(\"RNASeq:\", rnaseq.shape[0])\n",
    "PCGP = rnaseq[rnaseq.sj_datasets == \"Pediatric Cancer Genome Project (PCGP)\"]\n",
    "print(\"PCGP:\", PCGP.shape[0])\n",
    "print(\"File Types:\", set(PCGP.file_type))"
   ]
  }
 ],
 "metadata": {
  "kernelspec": {
   "display_name": "Python 3",
   "language": "python",
   "name": "python3"
  },
  "language_info": {
   "codemirror_mode": {
    "name": "ipython",
    "version": 3
   },
   "file_extension": ".py",
   "mimetype": "text/x-python",
   "name": "python",
   "nbconvert_exporter": "python",
   "pygments_lexer": "ipython3",
   "version": "3.6.3"
  }
 },
 "nbformat": 4,
 "nbformat_minor": 2
}
