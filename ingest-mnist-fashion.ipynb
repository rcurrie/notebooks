{
 "cells": [
  {
   "cell_type": "markdown",
   "metadata": {},
   "source": [
    "# Ingest Fashion MNIST\n",
    "\n",
    "Convert [Fashion MNIST](https://github.com/zalandoresearch/fashion-mnist) into tfrecord files"
   ]
  },
  {
   "cell_type": "code",
   "execution_count": 1,
   "metadata": {},
   "outputs": [],
   "source": [
    "import os\n",
    "import requests\n",
    "import io\n",
    "import gzip\n",
    "import re\n",
    "import zipfile\n",
    "\n",
    "import numpy as np\n",
    "import matplotlib.pyplot as plt\n",
    "import tensorflow as tf\n",
    "\n",
    "tf.enable_eager_execution()"
   ]
  },
  {
   "cell_type": "code",
   "execution_count": 2,
   "metadata": {},
   "outputs": [],
   "source": [
    "# Switch to scratch data directory on local machine\n",
    "!mkdir -p ~/data/braingeneers/fashion-mnist\n",
    "os.chdir(os.path.expanduser(\"~/data/braingeneers/fashion-mnist\"))"
   ]
  },
  {
   "cell_type": "code",
   "execution_count": 3,
   "metadata": {},
   "outputs": [
    {
     "name": "stdout",
     "output_type": "stream",
     "text": [
      "--2018-11-07 23:04:10--  http://fashion-mnist.s3-website.eu-central-1.amazonaws.com/train-images-idx3-ubyte.gz\n",
      "Resolving fashion-mnist.s3-website.eu-central-1.amazonaws.com (fashion-mnist.s3-website.eu-central-1.amazonaws.com)... 52.219.74.27\n",
      "Connecting to fashion-mnist.s3-website.eu-central-1.amazonaws.com (fashion-mnist.s3-website.eu-central-1.amazonaws.com)|52.219.74.27|:80... connected.\n",
      "HTTP request sent, awaiting response... 200 OK\n",
      "Length: 26421880 (25M) [binary/octet-stream]\n",
      "Saving to: 'train-images-idx3-ubyte.gz'\n",
      "\n",
      "train-images-idx3-u 100%[===================>]  25.20M  3.41MB/s    in 11s     \n",
      "\n",
      "2018-11-07 23:04:21 (2.22 MB/s) - 'train-images-idx3-ubyte.gz' saved [26421880/26421880]\n",
      "\n",
      "--2018-11-07 23:04:22--  http://fashion-mnist.s3-website.eu-central-1.amazonaws.com/train-labels-idx1-ubyte.gz\n",
      "Resolving fashion-mnist.s3-website.eu-central-1.amazonaws.com (fashion-mnist.s3-website.eu-central-1.amazonaws.com)... 52.219.74.3\n",
      "Connecting to fashion-mnist.s3-website.eu-central-1.amazonaws.com (fashion-mnist.s3-website.eu-central-1.amazonaws.com)|52.219.74.3|:80... connected.\n",
      "HTTP request sent, awaiting response... 200 OK\n",
      "Length: 29515 (29K) [binary/octet-stream]\n",
      "Saving to: 'train-labels-idx1-ubyte.gz'\n",
      "\n",
      "train-labels-idx1-u 100%[===================>]  28.82K   191KB/s    in 0.2s    \n",
      "\n",
      "2018-11-07 23:04:22 (191 KB/s) - 'train-labels-idx1-ubyte.gz' saved [29515/29515]\n",
      "\n",
      "--2018-11-07 23:04:22--  http://fashion-mnist.s3-website.eu-central-1.amazonaws.com/t10k-images-idx3-ubyte.gz\n",
      "Resolving fashion-mnist.s3-website.eu-central-1.amazonaws.com (fashion-mnist.s3-website.eu-central-1.amazonaws.com)... 52.219.74.3\n",
      "Connecting to fashion-mnist.s3-website.eu-central-1.amazonaws.com (fashion-mnist.s3-website.eu-central-1.amazonaws.com)|52.219.74.3|:80... connected.\n",
      "HTTP request sent, awaiting response... 200 OK\n",
      "Length: 4422102 (4.2M) [binary/octet-stream]\n",
      "Saving to: 't10k-images-idx3-ubyte.gz'\n",
      "\n",
      "t10k-images-idx3-ub 100%[===================>]   4.22M  2.30MB/s    in 1.8s    \n",
      "\n",
      "2018-11-07 23:04:25 (2.30 MB/s) - 't10k-images-idx3-ubyte.gz' saved [4422102/4422102]\n",
      "\n",
      "--2018-11-07 23:04:25--  http://fashion-mnist.s3-website.eu-central-1.amazonaws.com/t10k-labels-idx1-ubyte.gz\n",
      "Resolving fashion-mnist.s3-website.eu-central-1.amazonaws.com (fashion-mnist.s3-website.eu-central-1.amazonaws.com)... 52.219.74.3\n",
      "Connecting to fashion-mnist.s3-website.eu-central-1.amazonaws.com (fashion-mnist.s3-website.eu-central-1.amazonaws.com)|52.219.74.3|:80... connected.\n",
      "HTTP request sent, awaiting response... 200 OK\n",
      "Length: 5148 (5.0K) [binary/octet-stream]\n",
      "Saving to: 't10k-labels-idx1-ubyte.gz'\n",
      "\n",
      "t10k-labels-idx1-ub 100%[===================>]   5.03K  --.-KB/s    in 0s      \n",
      "\n",
      "2018-11-07 23:04:25 (413 MB/s) - 't10k-labels-idx1-ubyte.gz' saved [5148/5148]\n",
      "\n"
     ]
    }
   ],
   "source": [
    "!wget -N http://fashion-mnist.s3-website.eu-central-1.amazonaws.com/train-images-idx3-ubyte.gz\n",
    "!wget -N http://fashion-mnist.s3-website.eu-central-1.amazonaws.com/train-labels-idx1-ubyte.gz\n",
    "!wget -N http://fashion-mnist.s3-website.eu-central-1.amazonaws.com/t10k-images-idx3-ubyte.gz\n",
    "!wget -N http://fashion-mnist.s3-website.eu-central-1.amazonaws.com/t10k-labels-idx1-ubyte.gz"
   ]
  },
  {
   "cell_type": "code",
   "execution_count": 4,
   "metadata": {},
   "outputs": [
    {
     "name": "stdout",
     "output_type": "stream",
     "text": [
      "Found 60000 train and 10000 test examples\n"
     ]
    }
   ],
   "source": [
    "with gzip.open(\"train-labels-idx1-ubyte.gz\", \"rb\") as f:\n",
    "    train_labels = np.frombuffer(f.read(), dtype=np.uint8, offset=8)\n",
    "\n",
    "with gzip.open(\"train-images-idx3-ubyte.gz\", \"rb\") as f:\n",
    "    train_images = np.frombuffer(f.read(), dtype=np.uint8, offset=16).reshape(len(train_labels), 784)\n",
    "    \n",
    "with gzip.open(\"t10k-labels-idx1-ubyte.gz\", \"rb\") as f:\n",
    "    test_labels = np.frombuffer(f.read(), dtype=np.uint8, offset=8)\n",
    "\n",
    "with gzip.open(\"t10k-images-idx3-ubyte.gz\", \"rb\") as f:\n",
    "    test_images = np.frombuffer(f.read(), dtype=np.uint8, offset=16).reshape(len(test_labels), 784)\n",
    "    \n",
    "print(\"Found {} train and {} test examples\".format(len(train_images), len(test_images)))"
   ]
  },
  {
   "cell_type": "code",
   "execution_count": 5,
   "metadata": {},
   "outputs": [
    {
     "data": {
      "text/plain": [
       "<matplotlib.image.AxesImage at 0x7f7520e1a5c0>"
      ]
     },
     "execution_count": 5,
     "metadata": {},
     "output_type": "execute_result"
    },
    {
     "data": {
      "image/png": "[encoded data removed]",
      "text/plain": [
       "<Figure size 432x288 with 1 Axes>"
      ]
     },
     "metadata": {
      "needs_background": "light"
     },
     "output_type": "display_data"
    }
   ],
   "source": [
    "plt.imshow(train_images[0].reshape(28,28), cmap='gray')"
   ]
  },
  {
   "cell_type": "code",
   "execution_count": 6,
   "metadata": {},
   "outputs": [
    {
     "data": {
      "image/png": "[encoded data removed]",
      "text/plain": [
       "<IPython.core.display.Image object>"
      ]
     },
     "execution_count": 6,
     "metadata": {},
     "output_type": "execute_result"
    }
   ],
   "source": [
    "!pip install --user --quiet imageio\n",
    "import imageio\n",
    "image = imageio.imwrite(imageio.RETURN_BYTES, train_images[0].reshape(28,28), format=\"PNG\")\n",
    "\n",
    "import IPython\n",
    "IPython.display.Image(image)"
   ]
  },
  {
   "cell_type": "code",
   "execution_count": 7,
   "metadata": {},
   "outputs": [],
   "source": [
    "def write_dataset(images, labels, dest):\n",
    "    with tf.python_io.TFRecordWriter(dest) as writer:\n",
    "        for image, label in zip(images, labels):\n",
    "            writer.write(tf.train.Example(features=tf.train.Features(feature = {\n",
    "                \"example\": tf.train.Feature(bytes_list=tf.train.BytesList(value=[image])),\n",
    "                \"label\": tf.train.Feature(int64_list=tf.train.Int64List(value=[int(label)]))\n",
    "            })).SerializeToString())\n",
    "\n",
    "write_dataset(\n",
    "    [imageio.imwrite(imageio.RETURN_BYTES, i.reshape(28,28), format=\"PNG\") for i in train_images],\n",
    "    train_labels, \"fashion-mnist-train.tfrecord\")\n",
    "\n",
    "write_dataset(\n",
    "    [imageio.imwrite(imageio.RETURN_BYTES, i.reshape(28,28), format=\"PNG\") for i in test_images],\n",
    "    test_labels, \"fashion-mnist-test.tfrecord\")"
   ]
  },
  {
   "cell_type": "code",
   "execution_count": 32,
   "metadata": {},
   "outputs": [],
   "source": [
    "import json\n",
    "with open(\"metadata.json\", \"w\") as f:\n",
    "    f.write(json.dumps({\n",
    "        \"data_set\": \"fashion-mnist\",\n",
    "        \"description\": \"https://github.com/zalandoresearch/fashion-mnist\",\n",
    "        \"labels\": sorted(list(set(int(l) for l in train_labels))),\n",
    "        \"train_examples_name\": \"fashion-mnist-train.tfrecord\",\n",
    "        \"test_examples_name\": \"fashion-mnist-test.tfrecord\",\n",
    "        \"num_train_examples\": len(train_images),\n",
    "        \"num_test_examples\": len(test_images),\n",
    "        \"image_width\": 28,\n",
    "        \"image_height\": 28\n",
    "    }))"
   ]
  },
  {
   "cell_type": "code",
   "execution_count": 10,
   "metadata": {},
   "outputs": [
    {
     "data": {
      "text/plain": [
       "<matplotlib.image.AxesImage at 0x7f7520537f98>"
      ]
     },
     "execution_count": 10,
     "metadata": {},
     "output_type": "execute_result"
    },
    {
     "data": {
      "image/png": "[encoded data removed]",
      "text/plain": [
       "<Figure size 432x288 with 1 Axes>"
      ]
     },
     "metadata": {
      "needs_background": "light"
     },
     "output_type": "display_data"
    }
   ],
   "source": [
    "def parse_one_example(example):\n",
    "    example = tf.parse_single_example(example, features = {\n",
    "        \"example\": tf.FixedLenFeature([], tf.string),\n",
    "        \"label\": tf.FixedLenFeature([], tf.int64)\n",
    "    })\n",
    "    return example[\"example\"], tf.one_hot(example[\"label\"], 10)\n",
    "\n",
    "training_dataset = tf.data.TFRecordDataset([\"fashion-mnist-train.tfrecord\"])\n",
    "\n",
    "# Extract and display first image\n",
    "# https://www.tensorflow.org/api_guides/python/image#Encoding_and_Decoding\n",
    "example, label = parse_one_example(training_dataset.make_one_shot_iterator().get_next())\n",
    "image = tf.image.decode_image(example)\n",
    "\n",
    "assert metadata[\"image_width\"] == image.shape[1].value\n",
    "assert metadata[\"image_height\"] == image.shape[0].value\n",
    "\n",
    "plt.imshow(image.numpy().reshape(image.shape[0], image.shape[1]), cmap='gray')"
   ]
  },
  {
   "cell_type": "markdown",
   "metadata": {},
   "source": [
    "# Upload to S3\n",
    "\n",
    "These files are now accessible publicly external to the PRP under \n",
    "\n",
    "https://s3.nautilus.optiputer.net/braingeneers/simulated/\n",
    "    \n",
    "and internal to the PRP at the endpoint:\n",
    "\n",
    "s3://rook-ceph-rgw-rooks3.rook"
   ]
  },
  {
   "cell_type": "code",
   "execution_count": 19,
   "metadata": {},
   "outputs": [],
   "source": [
    "# Empty the path\n",
    "!aws --profile {os.getenv(\"AWS_PROFILE\")} --endpoint {os.getenv(\"AWS_S3_ENDPOINT\")} \\\n",
    "    s3 rm --recursive s3://braingeneers/fashion-mnist"
   ]
  },
  {
   "cell_type": "code",
   "execution_count": 33,
   "metadata": {},
   "outputs": [
    {
     "name": "stdout",
     "output_type": "stream",
     "text": [
      "Completed 342 Bytes/342 Bytes (340 Bytes/s) with 1 file(s) remaining\r",
      "upload: ./metadata.json to s3://braingeneers/fashion-mnist/metadata.json\r\n"
     ]
    }
   ],
   "source": [
    "# Use the aws cli's rsync like sync command to push changed files up to PRP S3/CEPH\n",
    "!aws --profile {os.getenv(\"AWS_PROFILE\")} --endpoint {os.getenv(\"AWS_S3_ENDPOINT\")} \\\n",
    "    s3 sync . s3://braingeneers/fashion-mnist --acl public-read"
   ]
  },
  {
   "cell_type": "code",
   "execution_count": 31,
   "metadata": {},
   "outputs": [
    {
     "name": "stdout",
     "output_type": "stream",
     "text": [
      "2018-11-07 23:08:34    5622886 fashion-mnist-test.tfrecord\r\n",
      "2018-11-07 23:08:36   33630997 fashion-mnist-train.tfrecord\r\n",
      "2018-11-07 23:08:34        313 metadata.json\r\n",
      "2018-11-07 23:08:34    4422102 t10k-images-idx3-ubyte.gz\r\n",
      "2018-11-07 23:08:34       5148 t10k-labels-idx1-ubyte.gz\r\n",
      "2018-11-07 23:08:36   26421880 train-images-idx3-ubyte.gz\r\n",
      "2018-11-07 23:08:34      29515 train-labels-idx1-ubyte.gz\r\n"
     ]
    }
   ],
   "source": [
    "!aws --profile {os.getenv(\"AWS_PROFILE\")} --endpoint {os.getenv(\"AWS_S3_ENDPOINT\")} \\\n",
    "    s3 ls s3://braingeneers/fashion-mnist/"
   ]
  },
  {
   "cell_type": "markdown",
   "metadata": {},
   "source": [
    "## Reload and Display\n",
    "\n",
    "Load the dataset directly from S3 and verify we can visualize and image"
   ]
  },
  {
   "cell_type": "code",
   "execution_count": 2,
   "metadata": {},
   "outputs": [
    {
     "data": {
      "text/plain": [
       "dict_keys(['test_examples_name', 'data_set', 'description', 'image_height', 'image_width', 'labels', 'num_train_examples', 'train_examples_name', 'num_test_examples'])"
      ]
     },
     "execution_count": 2,
     "metadata": {},
     "output_type": "execute_result"
    }
   ],
   "source": [
    "import requests\n",
    "\n",
    "metadata = requests.get(\"https://s3.nautilus.optiputer.net/braingeneers/fashion-mnist/metadata.json\").json()\n",
    "metadata.keys()"
   ]
  },
  {
   "cell_type": "code",
   "execution_count": 11,
   "metadata": {},
   "outputs": [
    {
     "data": {
      "text/plain": [
       "<matplotlib.image.AxesImage at 0x7fb2144c3668>"
      ]
     },
     "execution_count": 11,
     "metadata": {},
     "output_type": "execute_result"
    },
    {
     "data": {
      "image/png": "[encoded data removed]",
      "text/plain": [
       "<Figure size 432x288 with 1 Axes>"
      ]
     },
     "metadata": {
      "needs_background": "light"
     },
     "output_type": "display_data"
    }
   ],
   "source": [
    "def parse_one_example(example):\n",
    "    example = tf.parse_single_example(example, features = {\n",
    "        \"example\": tf.FixedLenFeature([], tf.string),\n",
    "        \"label\": tf.FixedLenFeature([], tf.int64)\n",
    "    })\n",
    "    return example[\"example\"], tf.one_hot(example[\"label\"], len(metadata[\"labels\"]))\n",
    "\n",
    "training_dataset = tf.data.TFRecordDataset([\"s3://braingeneers/fashion-mnist/fashion-mnist-train.tfrecord\"])\n",
    "\n",
    "# Extract and display first image\n",
    "# https://www.tensorflow.org/api_guides/python/image#Encoding_and_Decoding\n",
    "example, label = parse_one_example(training_dataset.make_one_shot_iterator().get_next())\n",
    "image = tf.image.decode_image(example)\n",
    "\n",
    "assert metadata[\"image_width\"] == image.shape[1].value\n",
    "assert metadata[\"image_height\"] == image.shape[0].value\n",
    "\n",
    "plt.imshow(image.numpy().reshape(image.shape[0], image.shape[1]), cmap='gray')"
   ]
  }
 ],
 "metadata": {
  "kernelspec": {
   "display_name": "Python 3",
   "language": "python",
   "name": "python3"
  },
  "language_info": {
   "codemirror_mode": {
    "name": "ipython",
    "version": 3
   },
   "file_extension": ".py",
   "mimetype": "text/x-python",
   "name": "python",
   "nbconvert_exporter": "python",
   "pygments_lexer": "ipython3",
   "version": "3.5.2"
  }
 },
 "nbformat": 4,
 "nbformat_minor": 2
}
