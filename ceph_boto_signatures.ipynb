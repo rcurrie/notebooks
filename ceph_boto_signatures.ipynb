{
 "cells": [
  {
   "cell_type": "markdown",
   "metadata": {},
   "source": [
    "### Various methods to tell botocore and boto3 to use the old style signature that CEPH requires"
   ]
  },
  {
   "cell_type": "code",
   "execution_count": 1,
   "metadata": {},
   "outputs": [
    {
     "name": "stdout",
     "output_type": "stream",
     "text": [
      "8\n"
     ]
    }
   ],
   "source": [
    "# low level botocore\n",
    "import botocore.session\n",
    "from botocore.config import Config\n",
    "from botocore.session import Session\n",
    "\n",
    "session = Session(profile=\"ceph\")\n",
    "client = session.create_client('s3', endpoint_url=\"http://ceph-gw-01.pod\", config=Config(signature_version='s3'))\n",
    "print(len(client.list_buckets()[\"Buckets\"]))"
   ]
  },
  {
   "cell_type": "code",
   "execution_count": 2,
   "metadata": {
    "scrolled": true
   },
   "outputs": [
    {
     "name": "stdout",
     "output_type": "stream",
     "text": [
      "8\n"
     ]
    }
   ],
   "source": [
    "# boto3 old style\n",
    "import boto3\n",
    "from botocore.config import Config\n",
    "\n",
    "session = boto3.Session(profile_name=\"ceph\")\n",
    "conn = session.client(service_name=\"s3\", endpoint_url=\"http://ceph-gw-01.pod\", config=Config(signature_version='s3'))\n",
    "print(len(conn.list_buckets()[\"Buckets\"]))"
   ]
  },
  {
   "cell_type": "code",
   "execution_count": 3,
   "metadata": {},
   "outputs": [
    {
     "name": "stdout",
     "output_type": "stream",
     "text": [
      "8\n"
     ]
    }
   ],
   "source": [
    "# boto3 resources\n",
    "import boto3\n",
    "from botocore.config import Config\n",
    "\n",
    "boto3.setup_default_session(profile_name=\"ceph\")\n",
    "\n",
    "s3 = boto3.resource(\"s3\", endpoint_url=\"http://ceph-gw-01.pod\", config=Config(signature_version='s3'))\n",
    "print(len([bucket.name for bucket in s3.buckets.all()]))"
   ]
  }
 ],
 "metadata": {
  "kernelspec": {
   "display_name": "Python 3",
   "language": "python",
   "name": "python3"
  },
  "language_info": {
   "codemirror_mode": {
    "name": "ipython",
    "version": 3
   },
   "file_extension": ".py",
   "mimetype": "text/x-python",
   "name": "python",
   "nbconvert_exporter": "python",
   "pygments_lexer": "ipython3",
   "version": "3.6.3"
  }
 },
 "nbformat": 4,
 "nbformat_minor": 2
}
