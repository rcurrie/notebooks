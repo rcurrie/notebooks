{
 "cells": [
  {
   "cell_type": "code",
   "execution_count": 1,
   "metadata": {},
   "outputs": [],
   "source": [
    "import os\n",
    "import io\n",
    "import glob\n",
    "import json\n",
    "import re\n",
    "import numpy as np\n",
    "import pandas as pd\n",
    "\n",
    "os.chdir(os.path.expanduser(\"~/data/omop\"))"
   ]
  },
  {
   "cell_type": "code",
   "execution_count": 2,
   "metadata": {},
   "outputs": [],
   "source": [
    "# Load all tables into dataframes\n",
    "tables = {re.findall(r\"tsv\\/(.*?)_OMOP.*?\", f)[0]: \n",
    "          pd.read_table(f, index_col=0, dtype={\"MRN\": str}).round(5)\n",
    "          for f in glob.glob(\"tsv/*.tsv\")}\n",
    "\n",
    "# Drop sig column as it is free text notes on administration of drug\n",
    "tables[\"drug_exposure\"] = tables[\"drug_exposure\"].drop(columns=\"sig\")"
   ]
  },
  {
   "cell_type": "code",
   "execution_count": 3,
   "metadata": {},
   "outputs": [],
   "source": [
    "# Replace numerical NaN with 0 and text with None so R and Javascript can import without errors\n",
    "tables[\"drug_exposure\"] = tables[\"drug_exposure\"].fillna({\n",
    "    'drug_start_in_days': 0,\n",
    "    'drug_end_in_days': 0,\n",
    "    'drug_concept_id': 0,\n",
    "    'drug_type_concept_id': 0,\n",
    "    'days_supply': 0,\n",
    "#     'dose_unit_source_value': None,\n",
    "    'quantity': 0,\n",
    "    'refills': 0\n",
    "}).replace(dict(dose_unit_source_value={np.nan: None}))"
   ]
  },
  {
   "cell_type": "code",
   "execution_count": 4,
   "metadata": {},
   "outputs": [
    {
     "data": {
      "text/plain": [
       "dict_keys(['drug_exposure', 'death', 'person', 'condition_occurrence', 'procedure_occurrence'])"
      ]
     },
     "execution_count": 4,
     "metadata": {},
     "output_type": "execute_result"
    }
   ],
   "source": [
    "# List all the tables we found\n",
    "tables.keys()"
   ]
  },
  {
   "cell_type": "code",
   "execution_count": 5,
   "metadata": {},
   "outputs": [],
   "source": [
    "# Organize by patient mrn\n",
    "patients = {mrn: {name: table.loc[mrn].to_dict() if name == \"person\" or name == \"death\"\n",
    "                  else table.loc[mrn].to_dict(\"records\")\n",
    "                  for name, table in tables.items() if mrn in table.index}\n",
    "            for mrn in tables[\"person\"].index}"
   ]
  },
  {
   "cell_type": "code",
   "execution_count": 6,
   "metadata": {},
   "outputs": [],
   "source": [
    "mrn_to_cgt_id = pd.read_table(io.StringIO(\"\"\"\n",
    "DD3EBE5F8FE593\tf9b6a782-bbf5-4be8-bf7e-d1a9586d9552\n",
    "D2DF3E8C7EE52D\tc2e2e081-4c39-4201-8a27-7b469ed39490\n",
    "D7A1DB622B2D86\tdb2d85aa-4f94-4e77-8755-6b94a710c1aa\n",
    "D8C5D297AA5EE3\t2fbc25da-3965-49c4-866f-72cf0abc2417\n",
    "D92E7044C471BD\t940171e7-d358-463a-8d9a-2b2fa90c2a84\n",
    "D27DA93D449FD3\tf0314175-2d19-4146-8754-fc5aed3ab420\n",
    "D9A57FDBDDEE4F\tc7dbcfac-37ea-43f8-8899-1a9f2fb56341\n",
    "D3622CCFB68372\tef5c3164-6f45-4d3a-88f0-4509226c5571\n",
    "D223AAE0137F8D\tec3d977b-c310-4df3-a444-f79bc3dd8b58\n",
    "D37A33A3E2C50D\t131cf62d-ad78-49c1-a699-5bcc1004cd12\n",
    "D1FB80DF9BD001\tcf11c31c-f4c3-48ba-9c46-66f406d0b7a1\n",
    "D2EFA05E54A47A\tccc2ba97-912f-4b62-b767-cca129ee6a56\n",
    "D3689FA5A3F1D2\t104ec531-5d95-41e2-ac72-f6cff2006b8e\n",
    "D3F26D1C0E0596\ta5627ac3-450d-4036-ade8-99ae62a5c232\n",
    "DB53107CEFF7EF\t5189efbe-3382-4353-ad2f-9afd0255c2c8\n",
    "D2824A4944E8E4\td199cfb0-91e8-471d-b1b3-53189cd64ee0\n",
    "\"\"\"), names=[\"mrn\", \"cgt_id\"], index_col=0)"
   ]
  },
  {
   "cell_type": "code",
   "execution_count": 7,
   "metadata": {},
   "outputs": [
    {
     "data": {
      "text/html": [
       "<div>\n",
       "<style scoped>\n",
       "    .dataframe tbody tr th:only-of-type {\n",
       "        vertical-align: middle;\n",
       "    }\n",
       "\n",
       "    .dataframe tbody tr th {\n",
       "        vertical-align: top;\n",
       "    }\n",
       "\n",
       "    .dataframe thead th {\n",
       "        text-align: right;\n",
       "    }\n",
       "</style>\n",
       "<table border=\"1\" class=\"dataframe\">\n",
       "  <thead>\n",
       "    <tr style=\"text-align: right;\">\n",
       "      <th></th>\n",
       "      <th>cgt_id</th>\n",
       "    </tr>\n",
       "    <tr>\n",
       "      <th>mrn</th>\n",
       "      <th></th>\n",
       "    </tr>\n",
       "  </thead>\n",
       "  <tbody>\n",
       "    <tr>\n",
       "      <th>DD3EBE5F8FE593</th>\n",
       "      <td>f9b6a782-bbf5-4be8-bf7e-d1a9586d9552</td>\n",
       "    </tr>\n",
       "    <tr>\n",
       "      <th>D2DF3E8C7EE52D</th>\n",
       "      <td>c2e2e081-4c39-4201-8a27-7b469ed39490</td>\n",
       "    </tr>\n",
       "    <tr>\n",
       "      <th>D7A1DB622B2D86</th>\n",
       "      <td>db2d85aa-4f94-4e77-8755-6b94a710c1aa</td>\n",
       "    </tr>\n",
       "    <tr>\n",
       "      <th>D8C5D297AA5EE3</th>\n",
       "      <td>2fbc25da-3965-49c4-866f-72cf0abc2417</td>\n",
       "    </tr>\n",
       "    <tr>\n",
       "      <th>D92E7044C471BD</th>\n",
       "      <td>940171e7-d358-463a-8d9a-2b2fa90c2a84</td>\n",
       "    </tr>\n",
       "    <tr>\n",
       "      <th>D27DA93D449FD3</th>\n",
       "      <td>f0314175-2d19-4146-8754-fc5aed3ab420</td>\n",
       "    </tr>\n",
       "    <tr>\n",
       "      <th>D9A57FDBDDEE4F</th>\n",
       "      <td>c7dbcfac-37ea-43f8-8899-1a9f2fb56341</td>\n",
       "    </tr>\n",
       "    <tr>\n",
       "      <th>D3622CCFB68372</th>\n",
       "      <td>ef5c3164-6f45-4d3a-88f0-4509226c5571</td>\n",
       "    </tr>\n",
       "    <tr>\n",
       "      <th>D223AAE0137F8D</th>\n",
       "      <td>ec3d977b-c310-4df3-a444-f79bc3dd8b58</td>\n",
       "    </tr>\n",
       "    <tr>\n",
       "      <th>D37A33A3E2C50D</th>\n",
       "      <td>131cf62d-ad78-49c1-a699-5bcc1004cd12</td>\n",
       "    </tr>\n",
       "    <tr>\n",
       "      <th>D1FB80DF9BD001</th>\n",
       "      <td>cf11c31c-f4c3-48ba-9c46-66f406d0b7a1</td>\n",
       "    </tr>\n",
       "    <tr>\n",
       "      <th>D2EFA05E54A47A</th>\n",
       "      <td>ccc2ba97-912f-4b62-b767-cca129ee6a56</td>\n",
       "    </tr>\n",
       "    <tr>\n",
       "      <th>D3689FA5A3F1D2</th>\n",
       "      <td>104ec531-5d95-41e2-ac72-f6cff2006b8e</td>\n",
       "    </tr>\n",
       "    <tr>\n",
       "      <th>D3F26D1C0E0596</th>\n",
       "      <td>a5627ac3-450d-4036-ade8-99ae62a5c232</td>\n",
       "    </tr>\n",
       "    <tr>\n",
       "      <th>DB53107CEFF7EF</th>\n",
       "      <td>5189efbe-3382-4353-ad2f-9afd0255c2c8</td>\n",
       "    </tr>\n",
       "    <tr>\n",
       "      <th>D2824A4944E8E4</th>\n",
       "      <td>d199cfb0-91e8-471d-b1b3-53189cd64ee0</td>\n",
       "    </tr>\n",
       "  </tbody>\n",
       "</table>\n",
       "</div>"
      ],
      "text/plain": [
       "                                              cgt_id\n",
       "mrn                                                 \n",
       "DD3EBE5F8FE593  f9b6a782-bbf5-4be8-bf7e-d1a9586d9552\n",
       "D2DF3E8C7EE52D  c2e2e081-4c39-4201-8a27-7b469ed39490\n",
       "D7A1DB622B2D86  db2d85aa-4f94-4e77-8755-6b94a710c1aa\n",
       "D8C5D297AA5EE3  2fbc25da-3965-49c4-866f-72cf0abc2417\n",
       "D92E7044C471BD  940171e7-d358-463a-8d9a-2b2fa90c2a84\n",
       "D27DA93D449FD3  f0314175-2d19-4146-8754-fc5aed3ab420\n",
       "D9A57FDBDDEE4F  c7dbcfac-37ea-43f8-8899-1a9f2fb56341\n",
       "D3622CCFB68372  ef5c3164-6f45-4d3a-88f0-4509226c5571\n",
       "D223AAE0137F8D  ec3d977b-c310-4df3-a444-f79bc3dd8b58\n",
       "D37A33A3E2C50D  131cf62d-ad78-49c1-a699-5bcc1004cd12\n",
       "D1FB80DF9BD001  cf11c31c-f4c3-48ba-9c46-66f406d0b7a1\n",
       "D2EFA05E54A47A  ccc2ba97-912f-4b62-b767-cca129ee6a56\n",
       "D3689FA5A3F1D2  104ec531-5d95-41e2-ac72-f6cff2006b8e\n",
       "D3F26D1C0E0596  a5627ac3-450d-4036-ade8-99ae62a5c232\n",
       "DB53107CEFF7EF  5189efbe-3382-4353-ad2f-9afd0255c2c8\n",
       "D2824A4944E8E4  d199cfb0-91e8-471d-b1b3-53189cd64ee0"
      ]
     },
     "execution_count": 7,
     "metadata": {},
     "output_type": "execute_result"
    }
   ],
   "source": [
    "# Only include partipants we plan to upload/export\n",
    "\n",
    "\n",
    "# patients.keys()\n",
    "mrn_to_cgt_id"
   ]
  },
  {
   "cell_type": "code",
   "execution_count": 12,
   "metadata": {},
   "outputs": [],
   "source": [
    "# Dump out omop.json per patient with mrn as the name\n",
    "os.makedirs(\"json\", exist_ok=True)\n",
    "\n",
    "class NumpyEncoder(json.JSONEncoder):\n",
    "    def default(self, obj):\n",
    "        if isinstance(obj, np.int64):\n",
    "            return int(obj)\n",
    "        else:\n",
    "            return json.JSONEncoder.default(self, obj)\n",
    "    \n",
    "for mrn, omop in patients.items():\n",
    "    if mrn not in mrn_to_cgt_id.index:\n",
    "        continue\n",
    "    with open(\"json/{}.omop.json\".format(mrn_to_cgt_id.loc[mrn].cgt_id), \"w\") as f:\n",
    "        f.write(json.dumps(patients[mrn], cls=NumpyEncoder, sort_keys=True))"
   ]
  },
  {
   "cell_type": "code",
   "execution_count": 9,
   "metadata": {},
   "outputs": [],
   "source": [
    "# Verify round trip\n",
    "for mrn, _ in patients.items():\n",
    "    A = json.dumps(patients[mrn], cls=NumpyEncoder, sort_keys=True)\n",
    "    B = json.dumps(json.loads(A), sort_keys=True)\n",
    "    assert A == B"
   ]
  },
  {
   "cell_type": "markdown",
   "metadata": {},
   "source": [
    "## Validate Javascript Reading\n",
    "\n",
    "Open the debug console in your browser to view the output of the following and verify that you can just eval the generated JSON back into a javascript dictionary. You should see a javascript dictionary in the console that you can expand that has the same values as the python dictionary and source json string."
   ]
  },
  {
   "cell_type": "code",
   "execution_count": 10,
   "metadata": {},
   "outputs": [
    {
     "data": {
      "application/javascript": [
       "window.omop={\"condition_occurrence\": [{\"condition_concept_id\": 44833437, \"condition_start_in_days\": 26555, \"condition_type_concept_id\": 646370676}, {\"condition_concept_id\": 35206130, \"condition_start_in_days\": 26536, \"condition_type_concept_id\": 646370874}, {\"condition_concept_id\": 45571810, \"condition_start_in_days\": 26525, \"condition_type_concept_id\": 646370677}, {\"condition_concept_id\": 45591201, \"condition_start_in_days\": 26534, \"condition_type_concept_id\": 646370677}, {\"condition_concept_id\": 35206333, \"condition_start_in_days\": 26542, \"condition_type_concept_id\": 646370676}, {\"condition_concept_id\": 45590773, \"condition_start_in_days\": 26542, \"condition_type_concept_id\": 646370676}, {\"condition_concept_id\": 35206333, \"condition_start_in_days\": 26544, \"condition_type_concept_id\": 646370677}, {\"condition_concept_id\": 45571810, \"condition_start_in_days\": 26555, \"condition_type_concept_id\": 646370676}, {\"condition_concept_id\": 35206139, \"condition_start_in_days\": 26557, \"condition_type_concept_id\": 646370678}, {\"condition_concept_id\": 45601182, \"condition_start_in_days\": 26557, \"condition_type_concept_id\": 646370678}, {\"condition_concept_id\": 45534458, \"condition_start_in_days\": 26556, \"condition_type_concept_id\": 646370874}, {\"condition_concept_id\": 45571810, \"condition_start_in_days\": 26556, \"condition_type_concept_id\": 646370677}, {\"condition_concept_id\": 45591201, \"condition_start_in_days\": 26556, \"condition_type_concept_id\": 646370874}, {\"condition_concept_id\": 45601182, \"condition_start_in_days\": 26569, \"condition_type_concept_id\": 646370677}, {\"condition_concept_id\": 45534458, \"condition_start_in_days\": 26570, \"condition_type_concept_id\": 646370677}, {\"condition_concept_id\": 45591201, \"condition_start_in_days\": 26570, \"condition_type_concept_id\": 646370677}, {\"condition_concept_id\": 35206333, \"condition_start_in_days\": 26571, \"condition_type_concept_id\": 646370677}, {\"condition_concept_id\": 35206333, \"condition_start_in_days\": 26572, \"condition_type_concept_id\": 646370676}, {\"condition_concept_id\": 45601182, \"condition_start_in_days\": 26572, \"condition_type_concept_id\": 646370677}, {\"condition_concept_id\": 44834502, \"condition_start_in_days\": 26556, \"condition_type_concept_id\": 646370676}, {\"condition_concept_id\": 45552285, \"condition_start_in_days\": 26586, \"condition_type_concept_id\": 646370676}, {\"condition_concept_id\": 35206130, \"condition_start_in_days\": 26536, \"condition_type_concept_id\": 646370676}, {\"condition_concept_id\": 35206333, \"condition_start_in_days\": 26536, \"condition_type_concept_id\": 646370676}, {\"condition_concept_id\": 45534458, \"condition_start_in_days\": 26525, \"condition_type_concept_id\": 646370677}, {\"condition_concept_id\": 45571810, \"condition_start_in_days\": 26525, \"condition_type_concept_id\": 646370676}, {\"condition_concept_id\": 45601182, \"condition_start_in_days\": 26534, \"condition_type_concept_id\": 646370677}, {\"condition_concept_id\": 44832119, \"condition_start_in_days\": 26540, \"condition_type_concept_id\": 38000245}, {\"condition_concept_id\": 45591201, \"condition_start_in_days\": 26542, \"condition_type_concept_id\": 646370677}, {\"condition_concept_id\": 44828147, \"condition_start_in_days\": 26555, \"condition_type_concept_id\": 646370676}, {\"condition_concept_id\": 45534458, \"condition_start_in_days\": 26555, \"condition_type_concept_id\": 646370676}, {\"condition_concept_id\": 44834502, \"condition_start_in_days\": 26556, \"condition_type_concept_id\": 646370676}, {\"condition_concept_id\": 45552285, \"condition_start_in_days\": 26556, \"condition_type_concept_id\": 646370676}, {\"condition_concept_id\": 45571810, \"condition_start_in_days\": 26556, \"condition_type_concept_id\": 646370677}, {\"condition_concept_id\": 45591201, \"condition_start_in_days\": 26557, \"condition_type_concept_id\": 646370874}, {\"condition_concept_id\": 44832119, \"condition_start_in_days\": 26591, \"condition_type_concept_id\": 646370676}, {\"condition_concept_id\": 35206333, \"condition_start_in_days\": 26564, \"condition_type_concept_id\": 646370676}, {\"condition_concept_id\": 35206333, \"condition_start_in_days\": 26569, \"condition_type_concept_id\": 646370677}, {\"condition_concept_id\": 45534458, \"condition_start_in_days\": 26569, \"condition_type_concept_id\": 646370676}, {\"condition_concept_id\": 45552285, \"condition_start_in_days\": 26569, \"condition_type_concept_id\": 646370677}, {\"condition_concept_id\": 45601182, \"condition_start_in_days\": 26571, \"condition_type_concept_id\": 646370677}, {\"condition_concept_id\": 35206333, \"condition_start_in_days\": 26572, \"condition_type_concept_id\": 646370677}, {\"condition_concept_id\": 45552285, \"condition_start_in_days\": 26572, \"condition_type_concept_id\": 646370677}, {\"condition_concept_id\": 35206141, \"condition_start_in_days\": 26586, \"condition_type_concept_id\": 646370676}, {\"condition_concept_id\": 35206330, \"condition_start_in_days\": 26536, \"condition_type_concept_id\": 646370676}, {\"condition_concept_id\": 44835683, \"condition_start_in_days\": 26536, \"condition_type_concept_id\": 646370676}, {\"condition_concept_id\": 45601182, \"condition_start_in_days\": 26525, \"condition_type_concept_id\": 646370677}, {\"condition_concept_id\": 35206333, \"condition_start_in_days\": 26534, \"condition_type_concept_id\": 646370677}, {\"condition_concept_id\": 35206130, \"condition_start_in_days\": 26540, \"condition_type_concept_id\": 38000245}, {\"condition_concept_id\": 45601182, \"condition_start_in_days\": 26555, \"condition_type_concept_id\": 646370676}, {\"condition_concept_id\": 35206141, \"condition_start_in_days\": 26556, \"condition_type_concept_id\": 646370676}, {\"condition_concept_id\": 45534458, \"condition_start_in_days\": 26557, \"condition_type_concept_id\": 646370678}, {\"condition_concept_id\": 45571810, \"condition_start_in_days\": 26557, \"condition_type_concept_id\": 646370678}, {\"condition_concept_id\": 45552285, \"condition_start_in_days\": 26556, \"condition_type_concept_id\": 646370874}, {\"condition_concept_id\": 45571810, \"condition_start_in_days\": 26556, \"condition_type_concept_id\": 646370676}, {\"condition_concept_id\": 45601182, \"condition_start_in_days\": 26556, \"condition_type_concept_id\": 646370874}, {\"condition_concept_id\": 45601182, \"condition_start_in_days\": 26570, \"condition_type_concept_id\": 646370677}, {\"condition_concept_id\": 45534458, \"condition_start_in_days\": 26571, \"condition_type_concept_id\": 646370677}, {\"condition_concept_id\": 45591201, \"condition_start_in_days\": 26571, \"condition_type_concept_id\": 646370677}, {\"condition_concept_id\": 44825196, \"condition_start_in_days\": 26556, \"condition_type_concept_id\": 646370676}, {\"condition_concept_id\": 45591201, \"condition_start_in_days\": 26586, \"condition_type_concept_id\": 646370874}, {\"condition_concept_id\": 35206333, \"condition_start_in_days\": 26536, \"condition_type_concept_id\": 646370678}, {\"condition_concept_id\": 45534458, \"condition_start_in_days\": 26525, \"condition_type_concept_id\": 646370676}, {\"condition_concept_id\": 45571810, \"condition_start_in_days\": 26534, \"condition_type_concept_id\": 646370677}, {\"condition_concept_id\": 44821739, \"condition_start_in_days\": 26540, \"condition_type_concept_id\": 38000245}, {\"condition_concept_id\": 45591201, \"condition_start_in_days\": 26544, \"condition_type_concept_id\": 646370677}, {\"condition_concept_id\": 44827875, \"condition_start_in_days\": 26555, \"condition_type_concept_id\": 646370676}, {\"condition_concept_id\": 45534458, \"condition_start_in_days\": 26556, \"condition_type_concept_id\": 646370677}, {\"condition_concept_id\": 35206333, \"condition_start_in_days\": 26557, \"condition_type_concept_id\": 646370678}, {\"condition_concept_id\": 35206333, \"condition_start_in_days\": 26556, \"condition_type_concept_id\": 646370874}, {\"condition_concept_id\": 45571810, \"condition_start_in_days\": 26556, \"condition_type_concept_id\": 646370874}, {\"condition_concept_id\": 45591201, \"condition_start_in_days\": 26556, \"condition_type_concept_id\": 646370677}, {\"condition_concept_id\": 45534458, \"condition_start_in_days\": 26569, \"condition_type_concept_id\": 646370677}, {\"condition_concept_id\": 35206333, \"condition_start_in_days\": 26570, \"condition_type_concept_id\": 646370677}, {\"condition_concept_id\": 45552285, \"condition_start_in_days\": 26571, \"condition_type_concept_id\": 646370677}, {\"condition_concept_id\": 45534458, \"condition_start_in_days\": 26572, \"condition_type_concept_id\": 646370677}, {\"condition_concept_id\": 45552285, \"condition_start_in_days\": 26572, \"condition_type_concept_id\": 646370676}, {\"condition_concept_id\": 44825196, \"condition_start_in_days\": 26586, \"condition_type_concept_id\": 646370676}, {\"condition_concept_id\": 45571810, \"condition_start_in_days\": 26586, \"condition_type_concept_id\": 646370874}, {\"condition_concept_id\": 35206130, \"condition_start_in_days\": 26536, \"condition_type_concept_id\": 646370678}, {\"condition_concept_id\": 35206333, \"condition_start_in_days\": 26525, \"condition_type_concept_id\": 646370677}, {\"condition_concept_id\": 45591201, \"condition_start_in_days\": 26525, \"condition_type_concept_id\": 646370676}, {\"condition_concept_id\": 35206333, \"condition_start_in_days\": 26540, \"condition_type_concept_id\": 38000245}, {\"condition_concept_id\": 45552285, \"condition_start_in_days\": 26540, \"condition_type_concept_id\": 38000245}, {\"condition_concept_id\": 45601182, \"condition_start_in_days\": 26542, \"condition_type_concept_id\": 646370677}, {\"condition_concept_id\": 44825196, \"condition_start_in_days\": 26556, \"condition_type_concept_id\": 646370676}, {\"condition_concept_id\": 45591201, \"condition_start_in_days\": 26556, \"condition_type_concept_id\": 646370677}, {\"condition_concept_id\": 45601182, \"condition_start_in_days\": 26557, \"condition_type_concept_id\": 646370874}, {\"condition_concept_id\": 35206130, \"condition_start_in_days\": 26591, \"condition_type_concept_id\": 646370676}, {\"condition_concept_id\": 45552285, \"condition_start_in_days\": 26557, \"condition_type_concept_id\": 646370678}, {\"condition_concept_id\": 35206333, \"condition_start_in_days\": 26556, \"condition_type_concept_id\": 646370676}, {\"condition_concept_id\": 45534458, \"condition_start_in_days\": 26556, \"condition_type_concept_id\": 646370678}, {\"condition_concept_id\": 45591201, \"condition_start_in_days\": 26556, \"condition_type_concept_id\": 646370678}, {\"condition_concept_id\": 45601182, \"condition_start_in_days\": 26556, \"condition_type_concept_id\": 646370677}, {\"condition_concept_id\": 45571810, \"condition_start_in_days\": 26569, \"condition_type_concept_id\": 646370677}, {\"condition_concept_id\": 45552285, \"condition_start_in_days\": 26570, \"condition_type_concept_id\": 646370677}, {\"condition_concept_id\": 45571810, \"condition_start_in_days\": 26572, \"condition_type_concept_id\": 646370677}, {\"condition_concept_id\": 45552285, \"condition_start_in_days\": 26556, \"condition_type_concept_id\": 646370676}, {\"condition_concept_id\": 35206333, \"condition_start_in_days\": 26558, \"condition_type_concept_id\": 646370676}, {\"condition_concept_id\": 45534458, \"condition_start_in_days\": 26586, \"condition_type_concept_id\": 646370874}, {\"condition_concept_id\": 45591201, \"condition_start_in_days\": 26555, \"condition_type_concept_id\": 646370676}, {\"condition_concept_id\": 45601182, \"condition_start_in_days\": 26525, \"condition_type_concept_id\": 646370676}, {\"condition_concept_id\": 45534458, \"condition_start_in_days\": 26544, \"condition_type_concept_id\": 646370677}, {\"condition_concept_id\": 45601182, \"condition_start_in_days\": 26556, \"condition_type_concept_id\": 646370677}, {\"condition_concept_id\": 45591201, \"condition_start_in_days\": 26557, \"condition_type_concept_id\": 646370678}, {\"condition_concept_id\": 45552285, \"condition_start_in_days\": 26557, \"condition_type_concept_id\": 646370676}, {\"condition_concept_id\": 35206333, \"condition_start_in_days\": 26556, \"condition_type_concept_id\": 646370677}, {\"condition_concept_id\": 44821739, \"condition_start_in_days\": 26556, \"condition_type_concept_id\": 646370676}, {\"condition_concept_id\": 45552285, \"condition_start_in_days\": 26556, \"condition_type_concept_id\": 646370677}, {\"condition_concept_id\": 45601182, \"condition_start_in_days\": 26556, \"condition_type_concept_id\": 646370676}, {\"condition_concept_id\": 44823445, \"condition_start_in_days\": 26569, \"condition_type_concept_id\": 646370676}, {\"condition_concept_id\": 45591201, \"condition_start_in_days\": 26569, \"condition_type_concept_id\": 646370676}, {\"condition_concept_id\": 45571810, \"condition_start_in_days\": 26570, \"condition_type_concept_id\": 646370677}, {\"condition_concept_id\": 45601182, \"condition_start_in_days\": 26586, \"condition_type_concept_id\": 646370874}, {\"condition_concept_id\": 35206333, \"condition_start_in_days\": 26525, \"condition_type_concept_id\": 646370676}, {\"condition_concept_id\": 44834502, \"condition_start_in_days\": 26540, \"condition_type_concept_id\": 38000245}, {\"condition_concept_id\": 35206139, \"condition_start_in_days\": 26542, \"condition_type_concept_id\": 646370676}, {\"condition_concept_id\": 44821739, \"condition_start_in_days\": 26542, \"condition_type_concept_id\": 646370676}, {\"condition_concept_id\": 45534458, \"condition_start_in_days\": 26542, \"condition_type_concept_id\": 646370677}, {\"condition_concept_id\": 45571810, \"condition_start_in_days\": 26542, \"condition_type_concept_id\": 646370677}, {\"condition_concept_id\": 45601182, \"condition_start_in_days\": 26544, \"condition_type_concept_id\": 646370677}, {\"condition_concept_id\": 35206333, \"condition_start_in_days\": 26551, \"condition_type_concept_id\": 646370676}, {\"condition_concept_id\": 35211389, \"condition_start_in_days\": 26555, \"condition_type_concept_id\": 646370676}, {\"condition_concept_id\": 44823445, \"condition_start_in_days\": 26555, \"condition_type_concept_id\": 646370676}, {\"condition_concept_id\": 35206333, \"condition_start_in_days\": 26556, \"condition_type_concept_id\": 646370677}, {\"condition_concept_id\": 45534458, \"condition_start_in_days\": 26557, \"condition_type_concept_id\": 646370874}, {\"condition_concept_id\": 45571810, \"condition_start_in_days\": 26557, \"condition_type_concept_id\": 646370874}, {\"condition_concept_id\": 35206333, \"condition_start_in_days\": 26557, \"condition_type_concept_id\": 646370678}, {\"condition_concept_id\": 45534458, \"condition_start_in_days\": 26556, \"condition_type_concept_id\": 646370676}, {\"condition_concept_id\": 45552285, \"condition_start_in_days\": 26556, \"condition_type_concept_id\": 646370678}, {\"condition_concept_id\": 45591201, \"condition_start_in_days\": 26556, \"condition_type_concept_id\": 646370676}, {\"condition_concept_id\": 45601182, \"condition_start_in_days\": 26556, \"condition_type_concept_id\": 646370678}, {\"condition_concept_id\": 45552285, \"condition_start_in_days\": 26564, \"condition_type_concept_id\": 646370676}, {\"condition_concept_id\": 44833437, \"condition_start_in_days\": 26569, \"condition_type_concept_id\": 646370676}, {\"condition_concept_id\": 45571810, \"condition_start_in_days\": 26569, \"condition_type_concept_id\": 646370676}, {\"condition_concept_id\": 45571810, \"condition_start_in_days\": 26571, \"condition_type_concept_id\": 646370677}, {\"condition_concept_id\": 35206141, \"condition_start_in_days\": 26556, \"condition_type_concept_id\": 646370676}, {\"condition_concept_id\": 35206333, \"condition_start_in_days\": 26558, \"condition_type_concept_id\": 646370678}, {\"condition_concept_id\": 35206333, \"condition_start_in_days\": 26586, \"condition_type_concept_id\": 646370874}, {\"condition_concept_id\": 44834502, \"condition_start_in_days\": 26586, \"condition_type_concept_id\": 646370676}, {\"condition_concept_id\": 35206333, \"condition_start_in_days\": 26536, \"condition_type_concept_id\": 646370874}, {\"condition_concept_id\": 45591201, \"condition_start_in_days\": 26525, \"condition_type_concept_id\": 646370677}, {\"condition_concept_id\": 45534458, \"condition_start_in_days\": 26534, \"condition_type_concept_id\": 646370677}, {\"condition_concept_id\": 35206333, \"condition_start_in_days\": 26542, \"condition_type_concept_id\": 646370677}, {\"condition_concept_id\": 45571810, \"condition_start_in_days\": 26544, \"condition_type_concept_id\": 646370677}, {\"condition_concept_id\": 45591201, \"condition_start_in_days\": 26555, \"condition_type_concept_id\": 646370676}, {\"condition_concept_id\": 35206333, \"condition_start_in_days\": 26557, \"condition_type_concept_id\": 646370874}, {\"condition_concept_id\": 45590773, \"condition_start_in_days\": 26557, \"condition_type_concept_id\": 646370678}, {\"condition_concept_id\": 35206333, \"condition_start_in_days\": 26557, \"condition_type_concept_id\": 646370676}, {\"condition_concept_id\": 35206333, \"condition_start_in_days\": 26556, \"condition_type_concept_id\": 646370678}, {\"condition_concept_id\": 45534458, \"condition_start_in_days\": 26556, \"condition_type_concept_id\": 646370677}, {\"condition_concept_id\": 45552285, \"condition_start_in_days\": 26556, \"condition_type_concept_id\": 646370676}, {\"condition_concept_id\": 45571810, \"condition_start_in_days\": 26556, \"condition_type_concept_id\": 646370678}, {\"condition_concept_id\": 45591201, \"condition_start_in_days\": 26569, \"condition_type_concept_id\": 646370677}, {\"condition_concept_id\": 45601182, \"condition_start_in_days\": 26569, \"condition_type_concept_id\": 646370676}, {\"condition_concept_id\": 45591201, \"condition_start_in_days\": 26572, \"condition_type_concept_id\": 646370677}], \"drug_exposure\": [{\"days_supply\": 30, \"dose_unit_source_value\": null, \"drug_concept_id\": 723042, \"drug_end_in_days\": 26228.0, \"drug_start_in_days\": 26198, \"drug_type_concept_id\": 38000175, \"quantity\": 30.0, \"refills\": 0}, {\"days_supply\": 90, \"dose_unit_source_value\": null, \"drug_concept_id\": 1548197, \"drug_end_in_days\": 26440.0, \"drug_start_in_days\": 26350, \"drug_type_concept_id\": 38000175, \"quantity\": 90.0, \"refills\": 0}, {\"days_supply\": 90, \"dose_unit_source_value\": null, \"drug_concept_id\": 19067291, \"drug_end_in_days\": 26637.0, \"drug_start_in_days\": 26547, \"drug_type_concept_id\": 38000175, \"quantity\": 90.0, \"refills\": 0}, {\"days_supply\": 90, \"dose_unit_source_value\": null, \"drug_concept_id\": 19080217, \"drug_end_in_days\": 26445.0, \"drug_start_in_days\": 26355, \"drug_type_concept_id\": 38000175, \"quantity\": 90.0, \"refills\": 0}, {\"days_supply\": 28, \"dose_unit_source_value\": null, \"drug_concept_id\": 40236481, \"drug_end_in_days\": 26469.0, \"drug_start_in_days\": 26441, \"drug_type_concept_id\": 38000175, \"quantity\": 28.0, \"refills\": 0}, {\"days_supply\": 30, \"dose_unit_source_value\": null, \"drug_concept_id\": 40236481, \"drug_end_in_days\": 26591.0, \"drug_start_in_days\": 26561, \"drug_type_concept_id\": 38000175, \"quantity\": 30.0, \"refills\": 0}, {\"days_supply\": 30, \"dose_unit_source_value\": null, \"drug_concept_id\": 40242495, \"drug_end_in_days\": 26551.0, \"drug_start_in_days\": 26521, \"drug_type_concept_id\": 38000175, \"quantity\": 60.0, \"refills\": 0}, {\"days_supply\": 30, \"dose_unit_source_value\": null, \"drug_concept_id\": 40242495, \"drug_end_in_days\": 26609.0, \"drug_start_in_days\": 26579, \"drug_type_concept_id\": 38000175, \"quantity\": 60.0, \"refills\": 0}, {\"days_supply\": 10, \"dose_unit_source_value\": null, \"drug_concept_id\": 42800173, \"drug_end_in_days\": 26313.0, \"drug_start_in_days\": 26303, \"drug_type_concept_id\": 38000175, \"quantity\": 20.0, \"refills\": 0}, {\"days_supply\": 0, \"dose_unit_source_value\": \"*Unspecified\", \"drug_concept_id\": 40166362, \"drug_end_in_days\": 26569.0, \"drug_start_in_days\": 26557, \"drug_type_concept_id\": 38000177, \"quantity\": 30.0, \"refills\": 0}, {\"days_supply\": 0, \"dose_unit_source_value\": null, \"drug_concept_id\": 19029025, \"drug_end_in_days\": 0.0, \"drug_start_in_days\": 26459, \"drug_type_concept_id\": 38000178, \"quantity\": 0.0, \"refills\": 3}, {\"days_supply\": 0, \"dose_unit_source_value\": \"*Unspecified\", \"drug_concept_id\": 19077548, \"drug_end_in_days\": 0.0, \"drug_start_in_days\": 26527, \"drug_type_concept_id\": 38000177, \"quantity\": 0.0, \"refills\": 2}, {\"days_supply\": 0, \"dose_unit_source_value\": \"*Unspecified\", \"drug_concept_id\": 42800173, \"drug_end_in_days\": 0.0, \"drug_start_in_days\": 26439, \"drug_type_concept_id\": 38000177, \"quantity\": 0.0, \"refills\": 0}, {\"days_supply\": 0, \"dose_unit_source_value\": \"*Unspecified\", \"drug_concept_id\": 19026493, \"drug_end_in_days\": 0.0, \"drug_start_in_days\": 26569, \"drug_type_concept_id\": 38000177, \"quantity\": 180.0, \"refills\": 0}, {\"days_supply\": 0, \"dose_unit_source_value\": \"mg\", \"drug_concept_id\": 40166362, \"drug_end_in_days\": 0.0, \"drug_start_in_days\": 26569, \"drug_type_concept_id\": 38000177, \"quantity\": 60.0, \"refills\": 0}, {\"days_supply\": 30, \"dose_unit_source_value\": null, \"drug_concept_id\": 723042, \"drug_end_in_days\": 26381.0, \"drug_start_in_days\": 26351, \"drug_type_concept_id\": 38000175, \"quantity\": 30.0, \"refills\": 0}, {\"days_supply\": 30, \"dose_unit_source_value\": null, \"drug_concept_id\": 19026493, \"drug_end_in_days\": 26602.0, \"drug_start_in_days\": 26572, \"drug_type_concept_id\": 38000175, \"quantity\": 180.0, \"refills\": 0}, {\"days_supply\": 90, \"dose_unit_source_value\": null, \"drug_concept_id\": 19067291, \"drug_end_in_days\": 26549.0, \"drug_start_in_days\": 26459, \"drug_type_concept_id\": 38000175, \"quantity\": 90.0, \"refills\": 0}, {\"days_supply\": 30, \"dose_unit_source_value\": null, \"drug_concept_id\": 19077548, \"drug_end_in_days\": 26523.0, \"drug_start_in_days\": 26493, \"drug_type_concept_id\": 38000175, \"quantity\": 90.0, \"refills\": 0}, {\"days_supply\": 30, \"dose_unit_source_value\": null, \"drug_concept_id\": 19134047, \"drug_end_in_days\": 26320.0, \"drug_start_in_days\": 26290, \"drug_type_concept_id\": 38000175, \"quantity\": 60.0, \"refills\": 0}, {\"days_supply\": 30, \"dose_unit_source_value\": null, \"drug_concept_id\": 40242495, \"drug_end_in_days\": 26581.0, \"drug_start_in_days\": 26551, \"drug_type_concept_id\": 38000175, \"quantity\": 60.0, \"refills\": 0}, {\"days_supply\": 30, \"dose_unit_source_value\": null, \"drug_concept_id\": 42799049, \"drug_end_in_days\": 26549.0, \"drug_start_in_days\": 26519, \"drug_type_concept_id\": 38000175, \"quantity\": 23.0, \"refills\": 0}, {\"days_supply\": 0, \"dose_unit_source_value\": null, \"drug_concept_id\": 752095, \"drug_end_in_days\": 0.0, \"drug_start_in_days\": 26491, \"drug_type_concept_id\": 38000178, \"quantity\": 0.0, \"refills\": 2}, {\"days_supply\": 0, \"dose_unit_source_value\": \"*Unspecified\", \"drug_concept_id\": 1548197, \"drug_end_in_days\": 0.0, \"drug_start_in_days\": 26459, \"drug_type_concept_id\": 38000177, \"quantity\": 0.0, \"refills\": 4}, {\"days_supply\": 30, \"dose_unit_source_value\": null, \"drug_concept_id\": 1154062, \"drug_end_in_days\": 26505.0, \"drug_start_in_days\": 26475, \"drug_type_concept_id\": 38000175, \"quantity\": 10.0, \"refills\": 0}, {\"days_supply\": 30, \"dose_unit_source_value\": null, \"drug_concept_id\": 1154615, \"drug_end_in_days\": 26241.0, \"drug_start_in_days\": 26211, \"drug_type_concept_id\": 38000175, \"quantity\": 1.0, \"refills\": 0}, {\"days_supply\": 7, \"dose_unit_source_value\": null, \"drug_concept_id\": 1742255, \"drug_end_in_days\": 26225.0, \"drug_start_in_days\": 26218, \"drug_type_concept_id\": 38000175, \"quantity\": 7.0, \"refills\": 0}, {\"days_supply\": 30, \"dose_unit_source_value\": null, \"drug_concept_id\": 19026493, \"drug_end_in_days\": 26532.0, \"drug_start_in_days\": 26502, \"drug_type_concept_id\": 38000175, \"quantity\": 180.0, \"refills\": 0}, {\"days_supply\": 90, \"dose_unit_source_value\": null, \"drug_concept_id\": 19029025, \"drug_end_in_days\": 26438.0, \"drug_start_in_days\": 26348, \"drug_type_concept_id\": 38000175, \"quantity\": 90.0, \"refills\": 0}, {\"days_supply\": 7, \"dose_unit_source_value\": null, \"drug_concept_id\": 19075380, \"drug_end_in_days\": 26465.0, \"drug_start_in_days\": 26458, \"drug_type_concept_id\": 38000175, \"quantity\": 14.0, \"refills\": 0}, {\"days_supply\": 5, \"dose_unit_source_value\": null, \"drug_concept_id\": 19075380, \"drug_end_in_days\": 26478.0, \"drug_start_in_days\": 26473, \"drug_type_concept_id\": 38000175, \"quantity\": 10.0, \"refills\": 0}, {\"days_supply\": 30, \"dose_unit_source_value\": null, \"drug_concept_id\": 19077548, \"drug_end_in_days\": 26615.0, \"drug_start_in_days\": 26585, \"drug_type_concept_id\": 38000175, \"quantity\": 240.0, \"refills\": 0}, {\"days_supply\": 30, \"dose_unit_source_value\": null, \"drug_concept_id\": 19080217, \"drug_end_in_days\": 26356.0, \"drug_start_in_days\": 26326, \"drug_type_concept_id\": 38000175, \"quantity\": 30.0, \"refills\": 0}, {\"days_supply\": 90, \"dose_unit_source_value\": null, \"drug_concept_id\": 19080217, \"drug_end_in_days\": 26529.0, \"drug_start_in_days\": 26439, \"drug_type_concept_id\": 38000175, \"quantity\": 90.0, \"refills\": 0}, {\"days_supply\": 30, \"dose_unit_source_value\": null, \"drug_concept_id\": 19121195, \"drug_end_in_days\": 26488.0, \"drug_start_in_days\": 26458, \"drug_type_concept_id\": 38000175, \"quantity\": 10.0, \"refills\": 0}, {\"days_supply\": 30, \"dose_unit_source_value\": null, \"drug_concept_id\": 19134047, \"drug_end_in_days\": 26202.0, \"drug_start_in_days\": 26172, \"drug_type_concept_id\": 38000175, \"quantity\": 60.0, \"refills\": 0}, {\"days_supply\": 30, \"dose_unit_source_value\": null, \"drug_concept_id\": 19134047, \"drug_end_in_days\": 26276.0, \"drug_start_in_days\": 26246, \"drug_type_concept_id\": 38000175, \"quantity\": 60.0, \"refills\": 0}, {\"days_supply\": 30, \"dose_unit_source_value\": null, \"drug_concept_id\": 19134047, \"drug_end_in_days\": 26488.0, \"drug_start_in_days\": 26458, \"drug_type_concept_id\": 38000175, \"quantity\": 120.0, \"refills\": 0}, {\"days_supply\": 30, \"dose_unit_source_value\": null, \"drug_concept_id\": 40166362, \"drug_end_in_days\": 26599.0, \"drug_start_in_days\": 26569, \"drug_type_concept_id\": 38000175, \"quantity\": 60.0, \"refills\": 0}, {\"days_supply\": 30, \"dose_unit_source_value\": null, \"drug_concept_id\": 40175050, \"drug_end_in_days\": 26367.0, \"drug_start_in_days\": 26337, \"drug_type_concept_id\": 38000175, \"quantity\": 30.0, \"refills\": 0}, {\"days_supply\": 30, \"dose_unit_source_value\": null, \"drug_concept_id\": 40175050, \"drug_end_in_days\": 26425.0, \"drug_start_in_days\": 26395, \"drug_type_concept_id\": 38000175, \"quantity\": 30.0, \"refills\": 0}, {\"days_supply\": 10, \"dose_unit_source_value\": null, \"drug_concept_id\": 42800173, \"drug_end_in_days\": 26298.0, \"drug_start_in_days\": 26288, \"drug_type_concept_id\": 38000175, \"quantity\": 20.0, \"refills\": 0}, {\"days_supply\": 10, \"dose_unit_source_value\": null, \"drug_concept_id\": 42800173, \"drug_end_in_days\": 26343.0, \"drug_start_in_days\": 26333, \"drug_type_concept_id\": 38000175, \"quantity\": 20.0, \"refills\": 0}, {\"days_supply\": 10, \"dose_unit_source_value\": null, \"drug_concept_id\": 42800173, \"drug_end_in_days\": 26449.0, \"drug_start_in_days\": 26439, \"drug_type_concept_id\": 38000175, \"quantity\": 20.0, \"refills\": 0}, {\"days_supply\": 0, \"dose_unit_source_value\": null, \"drug_concept_id\": 42799049, \"drug_end_in_days\": 0.0, \"drug_start_in_days\": 26519, \"drug_type_concept_id\": 38000178, \"quantity\": 0.0, \"refills\": 2}, {\"days_supply\": 15, \"dose_unit_source_value\": null, \"drug_concept_id\": 752095, \"drug_end_in_days\": 26598.0, \"drug_start_in_days\": 26583, \"drug_type_concept_id\": 38000175, \"quantity\": 60.0, \"refills\": 0}, {\"days_supply\": 90, \"dose_unit_source_value\": null, \"drug_concept_id\": 19029025, \"drug_end_in_days\": 26637.0, \"drug_start_in_days\": 26547, \"drug_type_concept_id\": 38000175, \"quantity\": 90.0, \"refills\": 0}, {\"days_supply\": 30, \"dose_unit_source_value\": null, \"drug_concept_id\": 19077548, \"drug_end_in_days\": 26585.0, \"drug_start_in_days\": 26555, \"drug_type_concept_id\": 38000175, \"quantity\": 240.0, \"refills\": 0}, {\"days_supply\": 27, \"dose_unit_source_value\": null, \"drug_concept_id\": 40180041, \"drug_end_in_days\": 26316.0, \"drug_start_in_days\": 26289, \"drug_type_concept_id\": 38000175, \"quantity\": 120.0, \"refills\": 0}, {\"days_supply\": 30, \"dose_unit_source_value\": null, \"drug_concept_id\": 40236481, \"drug_end_in_days\": 26496.0, \"drug_start_in_days\": 26466, \"drug_type_concept_id\": 38000175, \"quantity\": 30.0, \"refills\": 0}, {\"days_supply\": 30, \"dose_unit_source_value\": null, \"drug_concept_id\": 42799049, \"drug_end_in_days\": 26423.0, \"drug_start_in_days\": 26393, \"drug_type_concept_id\": 38000175, \"quantity\": 23.0, \"refills\": 0}, {\"days_supply\": 30, \"dose_unit_source_value\": null, \"drug_concept_id\": 42800184, \"drug_end_in_days\": 26395.0, \"drug_start_in_days\": 26365, \"drug_type_concept_id\": 38000175, \"quantity\": 30.0, \"refills\": 0}, {\"days_supply\": 0, \"dose_unit_source_value\": \"*Unspecified\", \"drug_concept_id\": 19067291, \"drug_end_in_days\": 0.0, \"drug_start_in_days\": 26459, \"drug_type_concept_id\": 38000177, \"quantity\": 0.0, \"refills\": 4}, {\"days_supply\": 0, \"dose_unit_source_value\": null, \"drug_concept_id\": 19080217, \"drug_end_in_days\": 0.0, \"drug_start_in_days\": 26439, \"drug_type_concept_id\": 38000178, \"quantity\": 0.0, \"refills\": 3}, {\"days_supply\": 0, \"dose_unit_source_value\": null, \"drug_concept_id\": 40175050, \"drug_end_in_days\": 0.0, \"drug_start_in_days\": 26513, \"drug_type_concept_id\": 38000178, \"quantity\": 0.0, \"refills\": 1}, {\"days_supply\": 0, \"dose_unit_source_value\": \"*Unspecified\", \"drug_concept_id\": 40236481, \"drug_end_in_days\": 0.0, \"drug_start_in_days\": 26528, \"drug_type_concept_id\": 38000177, \"quantity\": 0.0, \"refills\": 0}, {\"days_supply\": 15, \"dose_unit_source_value\": null, \"drug_concept_id\": 752095, \"drug_end_in_days\": 26573.0, \"drug_start_in_days\": 26558, \"drug_type_concept_id\": 38000175, \"quantity\": 60.0, \"refills\": 0}, {\"days_supply\": 90, \"dose_unit_source_value\": null, \"drug_concept_id\": 19067291, \"drug_end_in_days\": 26440.0, \"drug_start_in_days\": 26350, \"drug_type_concept_id\": 38000175, \"quantity\": 90.0, \"refills\": 0}, {\"days_supply\": 30, \"dose_unit_source_value\": null, \"drug_concept_id\": 19075427, \"drug_end_in_days\": 26460.0, \"drug_start_in_days\": 26430, \"drug_type_concept_id\": 38000175, \"quantity\": 120.0, \"refills\": 0}, {\"days_supply\": 22, \"dose_unit_source_value\": null, \"drug_concept_id\": 19077548, \"drug_end_in_days\": 26537.0, \"drug_start_in_days\": 26515, \"drug_type_concept_id\": 38000175, \"quantity\": 90.0, \"refills\": 0}, {\"days_supply\": 30, \"dose_unit_source_value\": null, \"drug_concept_id\": 19134047, \"drug_end_in_days\": 26425.0, \"drug_start_in_days\": 26395, \"drug_type_concept_id\": 38000175, \"quantity\": 60.0, \"refills\": 0}, {\"days_supply\": 30, \"dose_unit_source_value\": null, \"drug_concept_id\": 19134047, \"drug_end_in_days\": 26461.0, \"drug_start_in_days\": 26431, \"drug_type_concept_id\": 38000175, \"quantity\": 120.0, \"refills\": 0}, {\"days_supply\": 19, \"dose_unit_source_value\": null, \"drug_concept_id\": 40162515, \"drug_end_in_days\": 26510.0, \"drug_start_in_days\": 26491, \"drug_type_concept_id\": 38000175, \"quantity\": 150.0, \"refills\": 0}, {\"days_supply\": 90, \"dose_unit_source_value\": null, \"drug_concept_id\": 40175050, \"drug_end_in_days\": 26603.0, \"drug_start_in_days\": 26513, \"drug_type_concept_id\": 38000175, \"quantity\": 90.0, \"refills\": 0}, {\"days_supply\": 27, \"dose_unit_source_value\": null, \"drug_concept_id\": 40180041, \"drug_end_in_days\": 26296.0, \"drug_start_in_days\": 26269, \"drug_type_concept_id\": 38000175, \"quantity\": 120.0, \"refills\": 0}, {\"days_supply\": 30, \"dose_unit_source_value\": null, \"drug_concept_id\": 40236481, \"drug_end_in_days\": 26529.0, \"drug_start_in_days\": 26499, \"drug_type_concept_id\": 38000175, \"quantity\": 30.0, \"refills\": 0}, {\"days_supply\": 30, \"dose_unit_source_value\": null, \"drug_concept_id\": 40236481, \"drug_end_in_days\": 26558.0, \"drug_start_in_days\": 26528, \"drug_type_concept_id\": 38000175, \"quantity\": 30.0, \"refills\": 0}, {\"days_supply\": 0, \"dose_unit_source_value\": \"*Unspecified\", \"drug_concept_id\": 752095, \"drug_end_in_days\": 0.0, \"drug_start_in_days\": 26491, \"drug_type_concept_id\": 38000177, \"quantity\": 0.0, \"refills\": 2}, {\"days_supply\": 0, \"dose_unit_source_value\": \"*Unspecified\", \"drug_concept_id\": 19080217, \"drug_end_in_days\": 0.0, \"drug_start_in_days\": 26439, \"drug_type_concept_id\": 38000177, \"quantity\": 0.0, \"refills\": 3}, {\"days_supply\": 0, \"dose_unit_source_value\": null, \"drug_concept_id\": 19131676, \"drug_end_in_days\": 0.0, \"drug_start_in_days\": 26456, \"drug_type_concept_id\": 38000178, \"quantity\": 0.0, \"refills\": 0}, {\"days_supply\": 0, \"dose_unit_source_value\": null, \"drug_concept_id\": 40236481, \"drug_end_in_days\": 0.0, \"drug_start_in_days\": 26528, \"drug_type_concept_id\": 38000178, \"quantity\": 0.0, \"refills\": 0}, {\"days_supply\": 90, \"dose_unit_source_value\": null, \"drug_concept_id\": 1548197, \"drug_end_in_days\": 26549.0, \"drug_start_in_days\": 26459, \"drug_type_concept_id\": 38000175, \"quantity\": 90.0, \"refills\": 0}, {\"days_supply\": 30, \"dose_unit_source_value\": null, \"drug_concept_id\": 1551192, \"drug_end_in_days\": 26368.0, \"drug_start_in_days\": 26338, \"drug_type_concept_id\": 38000175, \"quantity\": 30.0, \"refills\": 0}, {\"days_supply\": 7, \"dose_unit_source_value\": null, \"drug_concept_id\": 19073187, \"drug_end_in_days\": 26436.0, \"drug_start_in_days\": 26429, \"drug_type_concept_id\": 38000175, \"quantity\": 21.0, \"refills\": 0}, {\"days_supply\": 19, \"dose_unit_source_value\": null, \"drug_concept_id\": 40173098, \"drug_end_in_days\": 26310.0, \"drug_start_in_days\": 26291, \"drug_type_concept_id\": 38000175, \"quantity\": 150.0, \"refills\": 0}, {\"days_supply\": 19, \"dose_unit_source_value\": null, \"drug_concept_id\": 40173098, \"drug_end_in_days\": 26416.0, \"drug_start_in_days\": 26397, \"drug_type_concept_id\": 38000175, \"quantity\": 150.0, \"refills\": 0}, {\"days_supply\": 27, \"dose_unit_source_value\": null, \"drug_concept_id\": 40180041, \"drug_end_in_days\": 26231.0, \"drug_start_in_days\": 26204, \"drug_type_concept_id\": 38000175, \"quantity\": 120.0, \"refills\": 0}, {\"days_supply\": 30, \"dose_unit_source_value\": null, \"drug_concept_id\": 40236481, \"drug_end_in_days\": 26437.0, \"drug_start_in_days\": 26407, \"drug_type_concept_id\": 38000175, \"quantity\": 30.0, \"refills\": 0}, {\"days_supply\": 30, \"dose_unit_source_value\": null, \"drug_concept_id\": 42799049, \"drug_end_in_days\": 26213.0, \"drug_start_in_days\": 26183, \"drug_type_concept_id\": 38000175, \"quantity\": 23.0, \"refills\": 0}, {\"days_supply\": 0, \"dose_unit_source_value\": \"*Unspecified\", \"drug_concept_id\": 19026493, \"drug_end_in_days\": 26569.0, \"drug_start_in_days\": 26502, \"drug_type_concept_id\": 38000177, \"quantity\": 0.0, \"refills\": 0}, {\"days_supply\": 0, \"dose_unit_source_value\": \"*Unspecified\", \"drug_concept_id\": 19029025, \"drug_end_in_days\": 0.0, \"drug_start_in_days\": 26459, \"drug_type_concept_id\": 38000177, \"quantity\": 0.0, \"refills\": 3}, {\"days_supply\": 0, \"dose_unit_source_value\": \"*Unspecified\", \"drug_concept_id\": 19131676, \"drug_end_in_days\": 0.0, \"drug_start_in_days\": 26456, \"drug_type_concept_id\": 38000177, \"quantity\": 0.0, \"refills\": 0}, {\"days_supply\": 0, \"dose_unit_source_value\": \"*Unspecified\", \"drug_concept_id\": 40175050, \"drug_end_in_days\": 0.0, \"drug_start_in_days\": 26513, \"drug_type_concept_id\": 38000177, \"quantity\": 0.0, \"refills\": 1}, {\"days_supply\": 90, \"dose_unit_source_value\": null, \"drug_concept_id\": 1548197, \"drug_end_in_days\": 26637.0, \"drug_start_in_days\": 26547, \"drug_type_concept_id\": 38000175, \"quantity\": 90.0, \"refills\": 0}, {\"days_supply\": 30, \"dose_unit_source_value\": null, \"drug_concept_id\": 19026493, \"drug_end_in_days\": 26567.0, \"drug_start_in_days\": 26537, \"drug_type_concept_id\": 38000175, \"quantity\": 180.0, \"refills\": 0}, {\"days_supply\": 30, \"dose_unit_source_value\": null, \"drug_concept_id\": 19077548, \"drug_end_in_days\": 26557.0, \"drug_start_in_days\": 26527, \"drug_type_concept_id\": 38000175, \"quantity\": 240.0, \"refills\": 0}, {\"days_supply\": 15, \"dose_unit_source_value\": null, \"drug_concept_id\": 19131676, \"drug_end_in_days\": 26471.0, \"drug_start_in_days\": 26456, \"drug_type_concept_id\": 38000175, \"quantity\": 5.0, \"refills\": 0}, {\"days_supply\": 30, \"dose_unit_source_value\": null, \"drug_concept_id\": 40173098, \"drug_end_in_days\": 26234.0, \"drug_start_in_days\": 26204, \"drug_type_concept_id\": 38000175, \"quantity\": 150.0, \"refills\": 0}, {\"days_supply\": 0, \"dose_unit_source_value\": null, \"drug_concept_id\": 938330, \"drug_end_in_days\": 0.0, \"drug_start_in_days\": 26536, \"drug_type_concept_id\": 38000178, \"quantity\": 0.0, \"refills\": 0}, {\"days_supply\": 0, \"dose_unit_source_value\": null, \"drug_concept_id\": 19067291, \"drug_end_in_days\": 0.0, \"drug_start_in_days\": 26459, \"drug_type_concept_id\": 38000178, \"quantity\": 0.0, \"refills\": 4}, {\"days_supply\": 0, \"dose_unit_source_value\": null, \"drug_concept_id\": 19077548, \"drug_end_in_days\": 0.0, \"drug_start_in_days\": 26527, \"drug_type_concept_id\": 38000178, \"quantity\": 0.0, \"refills\": 2}, {\"days_supply\": 0, \"dose_unit_source_value\": null, \"drug_concept_id\": 40180068, \"drug_end_in_days\": 0.0, \"drug_start_in_days\": 26536, \"drug_type_concept_id\": 38000178, \"quantity\": 0.0, \"refills\": 0}, {\"days_supply\": 0, \"dose_unit_source_value\": null, \"drug_concept_id\": 40240688, \"drug_end_in_days\": 0.0, \"drug_start_in_days\": 26536, \"drug_type_concept_id\": 38000178, \"quantity\": 0.0, \"refills\": 0}, {\"days_supply\": 0, \"dose_unit_source_value\": \"*Unspecified\", \"drug_concept_id\": 40242495, \"drug_end_in_days\": 26569.0, \"drug_start_in_days\": 26521, \"drug_type_concept_id\": 38000177, \"quantity\": 0.0, \"refills\": 0}, {\"days_supply\": 0, \"dose_unit_source_value\": null, \"drug_concept_id\": 42800173, \"drug_end_in_days\": 0.0, \"drug_start_in_days\": 26439, \"drug_type_concept_id\": 38000178, \"quantity\": 0.0, \"refills\": 0}, {\"days_supply\": 15, \"dose_unit_source_value\": null, \"drug_concept_id\": 752095, \"drug_end_in_days\": 26506.0, \"drug_start_in_days\": 26491, \"drug_type_concept_id\": 38000175, \"quantity\": 60.0, \"refills\": 0}, {\"days_supply\": 15, \"dose_unit_source_value\": null, \"drug_concept_id\": 752095, \"drug_end_in_days\": 26612.0, \"drug_start_in_days\": 26597, \"drug_type_concept_id\": 38000175, \"quantity\": 60.0, \"refills\": 0}, {\"days_supply\": 10, \"dose_unit_source_value\": null, \"drug_concept_id\": 1707346, \"drug_end_in_days\": 26190.0, \"drug_start_in_days\": 26180, \"drug_type_concept_id\": 38000175, \"quantity\": 30.0, \"refills\": 0}, {\"days_supply\": 90, \"dose_unit_source_value\": null, \"drug_concept_id\": 19029025, \"drug_end_in_days\": 26549.0, \"drug_start_in_days\": 26459, \"drug_type_concept_id\": 38000175, \"quantity\": 90.0, \"refills\": 0}, {\"days_supply\": 30, \"dose_unit_source_value\": null, \"drug_concept_id\": 19029025, \"drug_end_in_days\": 26614.0, \"drug_start_in_days\": 26584, \"drug_type_concept_id\": 38000175, \"quantity\": 60.0, \"refills\": 0}, {\"days_supply\": 18, \"dose_unit_source_value\": null, \"drug_concept_id\": 40166362, \"drug_end_in_days\": 26576.0, \"drug_start_in_days\": 26558, \"drug_type_concept_id\": 38000175, \"quantity\": 30.0, \"refills\": 0}, {\"days_supply\": 30, \"dose_unit_source_value\": null, \"drug_concept_id\": 40166362, \"drug_end_in_days\": 26620.0, \"drug_start_in_days\": 26590, \"drug_type_concept_id\": 38000175, \"quantity\": 90.0, \"refills\": 0}, {\"days_supply\": 30, \"dose_unit_source_value\": null, \"drug_concept_id\": 40173098, \"drug_end_in_days\": 26486.0, \"drug_start_in_days\": 26456, \"drug_type_concept_id\": 38000175, \"quantity\": 150.0, \"refills\": 0}, {\"days_supply\": 30, \"dose_unit_source_value\": null, \"drug_concept_id\": 40175050, \"drug_end_in_days\": 26401.0, \"drug_start_in_days\": 26371, \"drug_type_concept_id\": 38000175, \"quantity\": 30.0, \"refills\": 0}, {\"days_supply\": 90, \"dose_unit_source_value\": null, \"drug_concept_id\": 40175050, \"drug_end_in_days\": 26519.0, \"drug_start_in_days\": 26429, \"drug_type_concept_id\": 38000175, \"quantity\": 90.0, \"refills\": 0}, {\"days_supply\": 27, \"dose_unit_source_value\": null, \"drug_concept_id\": 40180041, \"drug_end_in_days\": 26566.0, \"drug_start_in_days\": 26539, \"drug_type_concept_id\": 38000175, \"quantity\": 120.0, \"refills\": 0}, {\"days_supply\": 14, \"dose_unit_source_value\": null, \"drug_concept_id\": 42800184, \"drug_end_in_days\": 26348.0, \"drug_start_in_days\": 26334, \"drug_type_concept_id\": 38000175, \"quantity\": 30.0, \"refills\": 0}, {\"days_supply\": 0, \"dose_unit_source_value\": null, \"drug_concept_id\": 1548197, \"drug_end_in_days\": 0.0, \"drug_start_in_days\": 26459, \"drug_type_concept_id\": 38000178, \"quantity\": 0.0, \"refills\": 4}, {\"days_supply\": 0, \"dose_unit_source_value\": \"*Unspecified\", \"drug_concept_id\": 42799049, \"drug_end_in_days\": 0.0, \"drug_start_in_days\": 26519, \"drug_type_concept_id\": 38000177, \"quantity\": 0.0, \"refills\": 2}, {\"days_supply\": 0, \"dose_unit_source_value\": \"mg\", \"drug_concept_id\": 40242495, \"drug_end_in_days\": 0.0, \"drug_start_in_days\": 26569, \"drug_type_concept_id\": 38000177, \"quantity\": 60.0, \"refills\": 0}], \"person\": {\"birth_year\": 1944, \"ethnicity_concept_id\": 38003564, \"gender_concept_id\": 8532, \"race_concept_id\": 8527}, \"procedure_occurrence\": [{\"procedure_concept_id\": 4196378, \"procedure_days\": 26540, \"procedure_type_concept_id\": 646370723}, {\"procedure_concept_id\": 2213242, \"procedure_days\": 26536, \"procedure_type_concept_id\": 44786631}, {\"procedure_concept_id\": 4326177, \"procedure_days\": 26536, \"procedure_type_concept_id\": 0}, {\"procedure_concept_id\": 2211852, \"procedure_days\": 26557, \"procedure_type_concept_id\": 44786631}, {\"procedure_concept_id\": 2211839, \"procedure_days\": 26564, \"procedure_type_concept_id\": 44786631}, {\"procedure_concept_id\": 2211837, \"procedure_days\": 26551, \"procedure_type_concept_id\": 44786631}, {\"procedure_concept_id\": 2211867, \"procedure_days\": 26557, \"procedure_type_concept_id\": 44786631}, {\"procedure_concept_id\": 46257688, \"procedure_days\": 26570, \"procedure_type_concept_id\": 44786631}, {\"procedure_concept_id\": 2211867, \"procedure_days\": 26554, \"procedure_type_concept_id\": 44786631}, {\"procedure_concept_id\": 2211840, \"procedure_days\": 26564, \"procedure_type_concept_id\": 44786631}, {\"procedure_concept_id\": 46257688, \"procedure_days\": 26568, \"procedure_type_concept_id\": 44786631}, {\"procedure_concept_id\": 46257688, \"procedure_days\": 26571, \"procedure_type_concept_id\": 44786631}, {\"procedure_concept_id\": 2213283, \"procedure_days\": 26536, \"procedure_type_concept_id\": 44786631}, {\"procedure_concept_id\": 2414394, \"procedure_days\": 26536, \"procedure_type_concept_id\": 44786631}, {\"procedure_concept_id\": 2211839, \"procedure_days\": 26551, \"procedure_type_concept_id\": 44786631}, {\"procedure_concept_id\": 2211867, \"procedure_days\": 26555, \"procedure_type_concept_id\": 44786631}, {\"procedure_concept_id\": 2211867, \"procedure_days\": 26556, \"procedure_type_concept_id\": 44786631}, {\"procedure_concept_id\": 2211871, \"procedure_days\": 26558, \"procedure_type_concept_id\": 44786631}, {\"procedure_concept_id\": 40756993, \"procedure_days\": 26564, \"procedure_type_concept_id\": 44786631}, {\"procedure_concept_id\": 2211852, \"procedure_days\": 26571, \"procedure_type_concept_id\": 44786631}, {\"procedure_concept_id\": 46257688, \"procedure_days\": 26572, \"procedure_type_concept_id\": 44786631}, {\"procedure_concept_id\": 4196378, \"procedure_days\": 26556, \"procedure_type_concept_id\": 646370723}, {\"procedure_concept_id\": 4196378, \"procedure_days\": 26591, \"procedure_type_concept_id\": 646370723}, {\"procedure_concept_id\": 2211836, \"procedure_days\": 26542, \"procedure_type_concept_id\": 44786631}, {\"procedure_concept_id\": 2414393, \"procedure_days\": 26555, \"procedure_type_concept_id\": 44786631}, {\"procedure_concept_id\": 2211833, \"procedure_days\": 26557, \"procedure_type_concept_id\": 44786631}, {\"procedure_concept_id\": 2211867, \"procedure_days\": 26558, \"procedure_type_concept_id\": 44786631}, {\"procedure_concept_id\": 46257688, \"procedure_days\": 26569, \"procedure_type_concept_id\": 44786631}, {\"procedure_concept_id\": 2211876, \"procedure_days\": 26572, \"procedure_type_concept_id\": 44786631}, {\"procedure_concept_id\": 4196378, \"procedure_days\": 26586, \"procedure_type_concept_id\": 646370723}, {\"procedure_concept_id\": 2101870, \"procedure_days\": 26536, \"procedure_type_concept_id\": 44786631}, {\"procedure_concept_id\": 2213241, \"procedure_days\": 26536, \"procedure_type_concept_id\": 44786631}, {\"procedure_concept_id\": 4307376, \"procedure_days\": 26536, \"procedure_type_concept_id\": 0}, {\"procedure_concept_id\": 2211851, \"procedure_days\": 26551, \"procedure_type_concept_id\": 44786631}, {\"procedure_concept_id\": 2211871, \"procedure_days\": 26572, \"procedure_type_concept_id\": 44786631}, {\"procedure_concept_id\": 2211876, \"procedure_days\": 26558, \"procedure_type_concept_id\": 44786631}, {\"procedure_concept_id\": 4196378, \"procedure_days\": 26536, \"procedure_type_concept_id\": 646370723}, {\"procedure_concept_id\": 2211833, \"procedure_days\": 26542, \"procedure_type_concept_id\": 44786631}, {\"procedure_concept_id\": 2414394, \"procedure_days\": 26542, \"procedure_type_concept_id\": 44786631}, {\"procedure_concept_id\": 2211880, \"procedure_days\": 26557, \"procedure_type_concept_id\": 44786631}, {\"procedure_concept_id\": 2211880, \"procedure_days\": 26557, \"procedure_type_concept_id\": 44786631}, {\"procedure_concept_id\": 2514399, \"procedure_days\": 26569, \"procedure_type_concept_id\": 44786631}]};"
      ],
      "text/plain": [
       "<IPython.core.display.Javascript object>"
      ]
     },
     "execution_count": 10,
     "metadata": {},
     "output_type": "execute_result"
    }
   ],
   "source": [
    "# # Pass the omop string into the browser via window variable\n",
    "from IPython.display import Javascript\n",
    "Javascript(\"window.omop={};\".format(json.dumps(patients[list(patients.keys())[0]], cls=NumpyEncoder, sort_keys=True)))"
   ]
  },
  {
   "cell_type": "code",
   "execution_count": 11,
   "metadata": {
    "scrolled": true
   },
   "outputs": [
    {
     "data": {
      "application/javascript": [
       "// console.log(window.omop)\n"
      ],
      "text/plain": [
       "<IPython.core.display.Javascript object>"
      ]
     },
     "metadata": {},
     "output_type": "display_data"
    }
   ],
   "source": [
    "%%javascript\n",
    "// console.log(window.omop)"
   ]
  }
 ],
 "metadata": {
  "kernelspec": {
   "display_name": "Python 3",
   "language": "python",
   "name": "python3"
  },
  "language_info": {
   "codemirror_mode": {
    "name": "ipython",
    "version": 3
   },
   "file_extension": ".py",
   "mimetype": "text/x-python",
   "name": "python",
   "nbconvert_exporter": "python",
   "pygments_lexer": "ipython3",
   "version": "3.5.2"
  }
 },
 "nbformat": 4,
 "nbformat_minor": 2
}
