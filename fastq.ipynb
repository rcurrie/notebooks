{
 "cells": [
  {
   "cell_type": "code",
   "execution_count": 1,
   "metadata": {
    "collapsed": true
   },
   "outputs": [],
   "source": [
    "import gzip\n",
    "import pandas as pd"
   ]
  },
  {
   "cell_type": "code",
   "execution_count": 30,
   "metadata": {
    "collapsed": false
   },
   "outputs": [],
   "source": [
    "r1 = pd.read_csv(\"_EGAR00001270273_SJMLL003_D-HAMJ5ADXX.2.R1.fq.gz\", sep=\"\\n\", nrows=8, header=None)"
   ]
  },
  {
   "cell_type": "code",
   "execution_count": 27,
   "metadata": {
    "collapsed": false
   },
   "outputs": [
    {
     "data": {
      "text/html": [
       "<div>\n",
       "<table border=\"1\" class=\"dataframe\">\n",
       "  <thead>\n",
       "    <tr style=\"text-align: right;\">\n",
       "      <th></th>\n",
       "      <th>ID</th>\n",
       "      <th>Sequence</th>\n",
       "      <th>+</th>\n",
       "      <th>Quality</th>\n",
       "    </tr>\n",
       "  </thead>\n",
       "  <tbody>\n",
       "    <tr>\n",
       "      <th>0</th>\n",
       "      <td>@HISEQ:154:HAMJ5ADXX:2:1101:10000:12388</td>\n",
       "      <td>GCTGGCGAGGCCCTGCGGAGAGTGCTGGAGTGCCTGGCGTCGGGCA...</td>\n",
       "      <td>+</td>\n",
       "      <td>CCCFFFFFHGGGHJJGIIIJIJDGGIEGHIAHGGIJJIJHHFDDDD...</td>\n",
       "    </tr>\n",
       "    <tr>\n",
       "      <th>1</th>\n",
       "      <td>@HISEQ:154:HAMJ5ADXX:2:1101:10000:17073</td>\n",
       "      <td>ACTATTTTGAGATGGGGACAAGAAATGAAATGTGGAGCTGAAATCA...</td>\n",
       "      <td>+</td>\n",
       "      <td>CCCFFFFFHFHHHJJJJJJJJJIJIJJJJIJJIGIGIJJJJJJJJJ...</td>\n",
       "    </tr>\n",
       "  </tbody>\n",
       "</table>\n",
       "</div>"
      ],
      "text/plain": [
       "                                        ID  \\\n",
       "0  @HISEQ:154:HAMJ5ADXX:2:1101:10000:12388   \n",
       "1  @HISEQ:154:HAMJ5ADXX:2:1101:10000:17073   \n",
       "\n",
       "                                            Sequence  +  \\\n",
       "0  GCTGGCGAGGCCCTGCGGAGAGTGCTGGAGTGCCTGGCGTCGGGCA...  +   \n",
       "1  ACTATTTTGAGATGGGGACAAGAAATGAAATGTGGAGCTGAAATCA...  +   \n",
       "\n",
       "                                             Quality  \n",
       "0  CCCFFFFFHGGGHJJGIIIJIJDGGIEGHIAHGGIJJIJHHFDDDD...  \n",
       "1  CCCFFFFFHFHHHJJJJJJJJJIJIJJJJIJJIGIGIJJJJJJJJJ...  "
      ]
     },
     "execution_count": 27,
     "metadata": {},
     "output_type": "execute_result"
    }
   ],
   "source": [
    "pd.DataFrame(pd.read_csv(\"_EGAR00001270273_SJMLL003_D-HAMJ5ADXX.2.R1.fq.gz\", sep=\"\\n\", \n",
    "                         nrows=8, header=None).values.reshape(-1, 4), \n",
    "             columns=[\"ID\", \"Sequence\", \"+\", \"Quality\"])\n",
    "\n",
    "# pd.read_csv(\"_EGAR00001270273_SJMLL003_D-HAMJ5ADXX.2.R1.fq.gz\", sep=\"\\n\", nrows=8)"
   ]
  }
 ],
 "metadata": {
  "kernelspec": {
   "display_name": "Python 3",
   "language": "python",
   "name": "python3"
  },
  "language_info": {
   "codemirror_mode": {
    "name": "ipython",
    "version": 3
   },
   "file_extension": ".py",
   "mimetype": "text/x-python",
   "name": "python",
   "nbconvert_exporter": "python",
   "pygments_lexer": "ipython3",
   "version": "3.5.2"
  }
 },
 "nbformat": 4,
 "nbformat_minor": 1
}
