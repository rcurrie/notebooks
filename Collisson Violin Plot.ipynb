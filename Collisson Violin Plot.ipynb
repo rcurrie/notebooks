{
 "cells": [
  {
   "cell_type": "code",
   "execution_count": 3,
   "metadata": {
    "collapsed": false
   },
   "outputs": [],
   "source": [
    "import numpy as np\n",
    "import pandas as pd\n",
    "from scipy import stats\n",
    "\n",
    "!pip2 install --quiet plotly\n",
    "import plotly.plotly as py\n",
    "from plotly.tools import FigureFactory as FF\n",
    "from plotly.graph_objs import graph_objs\n",
    "\n",
    "import plotly.tools as tls\n",
    "tls.set_credentials_file(username='rcurrie', api_key='ZwHlJEmXP7lHum8TD22n')"
   ]
  },
  {
   "cell_type": "code",
   "execution_count": 4,
   "metadata": {
    "collapsed": false
   },
   "outputs": [
    {
     "data": {
      "text/html": [
       "<div>\n",
       "<table border=\"1\" class=\"dataframe\">\n",
       "  <thead>\n",
       "    <tr style=\"text-align: right;\">\n",
       "      <th></th>\n",
       "      <th>Unnamed: 0</th>\n",
       "      <th>NF1 mutants</th>\n",
       "      <th>expression</th>\n",
       "      <th>CNV</th>\n",
       "      <th>expression.1</th>\n",
       "      <th>CNV.1</th>\n",
       "      <th>Unnamed: 6</th>\n",
       "    </tr>\n",
       "  </thead>\n",
       "  <tbody>\n",
       "    <tr>\n",
       "      <th>0</th>\n",
       "      <td>sample</td>\n",
       "      <td>nonsense OR Frame OR Splice OR missense</td>\n",
       "      <td>MET (gene average)</td>\n",
       "      <td>MET</td>\n",
       "      <td>SPRY4 (gene average)</td>\n",
       "      <td>SPRY4</td>\n",
       "      <td>acronym</td>\n",
       "    </tr>\n",
       "    <tr>\n",
       "      <th>1</th>\n",
       "      <td>TCGA-38-4631-01</td>\n",
       "      <td>TRUE</td>\n",
       "      <td>2.875770415</td>\n",
       "      <td>4.104341847</td>\n",
       "      <td>-0.3379</td>\n",
       "      <td>-1.849842829</td>\n",
       "      <td>LUAD</td>\n",
       "    </tr>\n",
       "    <tr>\n",
       "      <th>2</th>\n",
       "      <td>TCGA-78-7542-01</td>\n",
       "      <td>TRUE</td>\n",
       "      <td>2.6836</td>\n",
       "      <td>5.004341847</td>\n",
       "      <td>-0.0492</td>\n",
       "      <td>-0.799842829</td>\n",
       "      <td>LUAD</td>\n",
       "    </tr>\n",
       "    <tr>\n",
       "      <th>3</th>\n",
       "      <td>TCGA-49-6767-01</td>\n",
       "      <td>TRUE</td>\n",
       "      <td>1.3698</td>\n",
       "      <td>3.654341847</td>\n",
       "      <td>-0.3019</td>\n",
       "      <td>-1.319842829</td>\n",
       "      <td>LUAD</td>\n",
       "    </tr>\n",
       "    <tr>\n",
       "      <th>4</th>\n",
       "      <td>TCGA-95-7043-01</td>\n",
       "      <td>TRUE</td>\n",
       "      <td>0.7137</td>\n",
       "      <td>-0.025658153</td>\n",
       "      <td>-0.5982</td>\n",
       "      <td>-0.899842829</td>\n",
       "      <td>LUAD</td>\n",
       "    </tr>\n",
       "  </tbody>\n",
       "</table>\n",
       "</div>"
      ],
      "text/plain": [
       "        Unnamed: 0                              NF1 mutants  \\\n",
       "0           sample  nonsense OR Frame OR Splice OR missense   \n",
       "1  TCGA-38-4631-01                                     TRUE   \n",
       "2  TCGA-78-7542-01                                     TRUE   \n",
       "3  TCGA-49-6767-01                                     TRUE   \n",
       "4  TCGA-95-7043-01                                     TRUE   \n",
       "\n",
       "           expression           CNV          expression.1         CNV.1  \\\n",
       "0  MET (gene average)           MET  SPRY4 (gene average)         SPRY4   \n",
       "1         2.875770415   4.104341847               -0.3379  -1.849842829   \n",
       "2              2.6836   5.004341847               -0.0492  -0.799842829   \n",
       "3              1.3698   3.654341847               -0.3019  -1.319842829   \n",
       "4              0.7137  -0.025658153               -0.5982  -0.899842829   \n",
       "\n",
       "  Unnamed: 6  \n",
       "0    acronym  \n",
       "1       LUAD  \n",
       "2       LUAD  \n",
       "3       LUAD  \n",
       "4       LUAD  "
      ]
     },
     "execution_count": 4,
     "metadata": {},
     "output_type": "execute_result"
    }
   ],
   "source": [
    "df = pd.read_csv(\"data/collisson_violin_data.tsv\", sep=\"\\t\")\n",
    "df.head()"
   ]
  },
  {
   "cell_type": "code",
   "execution_count": 5,
   "metadata": {
    "collapsed": false
   },
   "outputs": [
    {
     "name": "stdout",
     "output_type": "stream",
     "text": [
      "https://plot.ly/~rcurrie/92\n",
      "https://plot.ly/~rcurrie/94\n",
      "https://plot.ly/~rcurrie/96\n",
      "https://plot.ly/~rcurrie/98\n"
     ]
    }
   ],
   "source": [
    "fig = FF.create_violin(df[1:].loc[df[\"expression\"].notnull()], \n",
    "                       data_header=\"expression\", group_header=\"NF1 mutants\", title=\"MET Expression\")\n",
    "fig.layout.xaxis1.title = \"NF1 Wild Type\"\n",
    "fig.layout.xaxis2.title = \"NF1 Mutant\"\n",
    "fig.layout.yaxis.title = \"log2(normalized gene expression)\"\n",
    "fig.data.pop(11)\n",
    "fig.data.pop(5)\n",
    "print py.plot(fig, filename=\"collison.met.expression\")\n",
    "\n",
    "fig = FF.create_violin(df[1:].loc[df[\"CNV\"].notnull()], \n",
    "                       data_header=\"CNV\", group_header=\"NF1 mutants\", title=\"MET CNV\")\n",
    "fig.layout.xaxis1.title = \"NF1 Wild Type\"\n",
    "fig.layout.xaxis2.title = \"NF1 Mutant\"\n",
    "fig.layout.yaxis.title = \"log2(copy number variation)\"\n",
    "fig.data.pop(11)\n",
    "fig.data.pop(5)\n",
    "print py.plot(fig, filename=\"collison.met.cnv\")\n",
    "\n",
    "fig = FF.create_violin(df[1:].loc[df[\"expression.1\"].notnull()], \n",
    "                       data_header=\"expression.1\", group_header=\"NF1 mutants\", title=\"SPRY4 Expression\")\n",
    "fig.layout.xaxis1.title = \"NF1 Wild Type\"\n",
    "fig.layout.xaxis2.title = \"NF1 Mutant\"\n",
    "fig.layout.yaxis.title = \"log2(normalized gene expression)\"\n",
    "fig.data.pop(11)\n",
    "fig.data.pop(5)\n",
    "print py.plot(fig, filename=\"collison.spry4.expression\")\n",
    "\n",
    "fig = FF.create_violin(df[1:].loc[df[\"CNV.1\"].notnull()], \n",
    "                       data_header=\"CNV.1\", group_header=\"NF1 mutants\", title=\"SPRY4 CNV\")\n",
    "fig.layout.xaxis1.title = \"NF1 Wild Type\"\n",
    "fig.layout.xaxis2.title = \"NF1 Mutant\"\n",
    "fig.layout.yaxis.title = \"log2(copy number variation)\"\n",
    "fig.data.pop(11)\n",
    "fig.data.pop(5)\n",
    "print py.plot(fig, filename=\"collison.spry4.cnv\")\n"
   ]
  }
 ],
 "metadata": {
  "kernelspec": {
   "display_name": "Python 2",
   "language": "python",
   "name": "python2"
  },
  "language_info": {
   "codemirror_mode": {
    "name": "ipython",
    "version": 2
   },
   "file_extension": ".py",
   "mimetype": "text/x-python",
   "name": "python",
   "nbconvert_exporter": "python",
   "pygments_lexer": "ipython2",
   "version": "2.7.12"
  }
 },
 "nbformat": 4,
 "nbformat_minor": 1
}
