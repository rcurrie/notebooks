{
 "cells": [
  {
   "cell_type": "code",
   "execution_count": 4,
   "metadata": {},
   "outputs": [],
   "source": [
    "import pysam\n",
    "import pandas as pd"
   ]
  },
  {
   "cell_type": "code",
   "execution_count": 1,
   "metadata": {},
   "outputs": [],
   "source": [
    "fastqs = [\"/home/jovyan/pipelines/samples/TEST_R1.fastq.gz\", \"/home/jovyan/pipelines/samples/TEST_R2.fastq.gz\"]\n"
   ]
  },
  {
   "cell_type": "code",
   "execution_count": 20,
   "metadata": {},
   "outputs": [
    {
     "name": "stdout",
     "output_type": "stream",
     "text": [
      "#Reads R1 = 5026 R2 = 5026\n"
     ]
    },
    {
     "data": {
      "text/html": [
       "<div>\n",
       "<table border=\"1\" class=\"dataframe\">\n",
       "  <thead>\n",
       "    <tr style=\"text-align: right;\">\n",
       "      <th></th>\n",
       "      <th>ID</th>\n",
       "      <th>Sequence</th>\n",
       "      <th>Quality</th>\n",
       "    </tr>\n",
       "  </thead>\n",
       "  <tbody>\n",
       "    <tr>\n",
       "      <th>0</th>\n",
       "      <td>@HWI-EAS418:3:1:97:1284/1</td>\n",
       "      <td>AAGCCCACTGGCCTGAGCACATGAAGTCCTGCACCCAGTCAGATGC...</td>\n",
       "      <td>A;BCCB6ABACCCCACCCB6CC6;A&gt;A@@BCCCBACB?ACCCCCCB...</td>\n",
       "    </tr>\n",
       "    <tr>\n",
       "      <th>1</th>\n",
       "      <td>@HWI-EAS418:3:1:119:121/1</td>\n",
       "      <td>TTCTGCATGGTTAGCTTCTCGTTGCCCGCCAGCAGCCCGTCGGACG...</td>\n",
       "      <td>BBAABABAA?AAA&lt;BBBABBAAB&gt;A?ABAAA&lt;BB&gt;A&gt;&gt;99&gt;5&gt;&gt;&gt;A...</td>\n",
       "    </tr>\n",
       "    <tr>\n",
       "      <th>2</th>\n",
       "      <td>@HWI-EAS418:3:1:146:32/1</td>\n",
       "      <td>GCTTGTAGGAGGGTAAAATAGAGACCCAGTAAAATTGTAATAAGCA...</td>\n",
       "      <td>BCBCBABBBBBBB;B@BBACABABBBBBBAAB7ABBB@BBBBB&gt;BB...</td>\n",
       "    </tr>\n",
       "    <tr>\n",
       "      <th>3</th>\n",
       "      <td>@HWI-EAS418:3:1:282:933/1</td>\n",
       "      <td>GGGCAATGAATGAAGCGAACAGATTTTCGTTCATTTTGGTTCTCAG...</td>\n",
       "      <td>BBBCBBCC=BBBBBBBA?BBAB&lt;BBCBCBBBBABBBBBB@ABA:3=...</td>\n",
       "    </tr>\n",
       "    <tr>\n",
       "      <th>4</th>\n",
       "      <td>@HWI-EAS418:3:1:346:1689/1</td>\n",
       "      <td>ACACCTCTCATGTCTCTTCACCGTGCCAGACTAGAGTCAAGCTCAA...</td>\n",
       "      <td>@CBCCBCBBBBBACBCBBCCCCA?BBA@=9@=@AB&lt;?BA6?B?@;A...</td>\n",
       "    </tr>\n",
       "  </tbody>\n",
       "</table>\n",
       "</div>"
      ],
      "text/plain": [
       "                           ID  \\\n",
       "0   @HWI-EAS418:3:1:97:1284/1   \n",
       "1   @HWI-EAS418:3:1:119:121/1   \n",
       "2    @HWI-EAS418:3:1:146:32/1   \n",
       "3   @HWI-EAS418:3:1:282:933/1   \n",
       "4  @HWI-EAS418:3:1:346:1689/1   \n",
       "\n",
       "                                            Sequence  \\\n",
       "0  AAGCCCACTGGCCTGAGCACATGAAGTCCTGCACCCAGTCAGATGC...   \n",
       "1  TTCTGCATGGTTAGCTTCTCGTTGCCCGCCAGCAGCCCGTCGGACG...   \n",
       "2  GCTTGTAGGAGGGTAAAATAGAGACCCAGTAAAATTGTAATAAGCA...   \n",
       "3  GGGCAATGAATGAAGCGAACAGATTTTCGTTCATTTTGGTTCTCAG...   \n",
       "4  ACACCTCTCATGTCTCTTCACCGTGCCAGACTAGAGTCAAGCTCAA...   \n",
       "\n",
       "                                             Quality  \n",
       "0  A;BCCB6ABACCCCACCCB6CC6;A>A@@BCCCBACB?ACCCCCCB...  \n",
       "1  BBAABABAA?AAA<BBBABBAAB>A?ABAAA<BB>A>>99>5>>>A...  \n",
       "2  BCBCBABBBBBBB;B@BBACABABBBBBBAAB7ABBB@BBBBB>BB...  \n",
       "3  BBBCBBCC=BBBBBBBA?BBAB<BBCBCBBBBABBBBBB@ABA:3=...  \n",
       "4  @CBCCBCBBBBBACBCBBCCCCA?BBA@=9@=@AB<?BA6?B?@;A...  "
      ]
     },
     "execution_count": 20,
     "metadata": {},
     "output_type": "execute_result"
    }
   ],
   "source": [
    "r1 = pd.DataFrame(pd.read_csv(fastqs[0], sep=\"\\n\", header=None).values.reshape(-1, 4), \n",
    "             columns=[\"ID\", \"Sequence\", \"+\", \"Quality\"]).drop(\"+\", axis=1)\n",
    "r2 = pd.DataFrame(pd.read_csv(fastqs[1], sep=\"\\n\", header=None).values.reshape(-1, 4), \n",
    "             columns=[\"ID\", \"Sequence\", \"+\", \"Quality\"]).drop(\"+\", axis=1)\n",
    "print(\"#Reads R1 = {} R2 = {}\".format(len(r1), len(r1)))\n",
    "r1.head()"
   ]
  }
 ],
 "metadata": {
  "kernelspec": {
   "display_name": "Python 3",
   "language": "python",
   "name": "python3"
  },
  "language_info": {
   "codemirror_mode": {
    "name": "ipython",
    "version": 3
   },
   "file_extension": ".py",
   "mimetype": "text/x-python",
   "name": "python",
   "nbconvert_exporter": "python",
   "pygments_lexer": "ipython3",
   "version": "3.6.3"
  }
 },
 "nbformat": 4,
 "nbformat_minor": 2
}
