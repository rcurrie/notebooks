{
 "cells": [
  {
   "cell_type": "code",
   "execution_count": 6,
   "metadata": {},
   "outputs": [],
   "source": [
    "import pysam\n",
    "import pandas as pd"
   ]
  },
  {
   "cell_type": "code",
   "execution_count": 36,
   "metadata": {},
   "outputs": [
    {
     "name": "stdout",
     "output_type": "stream",
     "text": [
      "#Reads R1 = 5026 R2 = 5026\n"
     ]
    },
    {
     "data": {
      "text/html": [
       "<div>\n",
       "<table border=\"1\" class=\"dataframe\">\n",
       "  <thead>\n",
       "    <tr style=\"text-align: right;\">\n",
       "      <th></th>\n",
       "      <th>ID</th>\n",
       "      <th>Sequence</th>\n",
       "      <th>Quality</th>\n",
       "    </tr>\n",
       "  </thead>\n",
       "  <tbody>\n",
       "    <tr>\n",
       "      <th>3076</th>\n",
       "      <td>@HWI-EAS418:3:100:1006:1366/1</td>\n",
       "      <td>GGGTGTAGGTGTGCCTTGTGGTAAGAAGTGGGCTAGGGCATTTTTA...</td>\n",
       "      <td>BBB=B=&lt;AB6B@BBBBCB=CB=B=BABA=B&lt;AAB&gt;A@BB9BABBBA...</td>\n",
       "    </tr>\n",
       "    <tr>\n",
       "      <th>3059</th>\n",
       "      <td>@HWI-EAS418:3:100:102:938/1</td>\n",
       "      <td>AAGAGGAGGAGGAGGAAGGGAGCACCAGTGAAGAATCAGAGGAGGA...</td>\n",
       "      <td>+;@8@@3&gt;@4@&gt;3;:25=:A9?B8@@7:6@,58)&amp;5B=&gt;.;91&gt;:0...</td>\n",
       "    </tr>\n",
       "    <tr>\n",
       "      <th>3077</th>\n",
       "      <td>@HWI-EAS418:3:100:1067:1532/1</td>\n",
       "      <td>TCCTACACTAAAAAAAAACTTGCTTACACACAACTGAAAATAGAAT...</td>\n",
       "      <td>BCCCCCCCC@CCCBCABCCCBBCBCCCBCCBB@BBBA6ABBBBBAB...</td>\n",
       "    </tr>\n",
       "    <tr>\n",
       "      <th>3078</th>\n",
       "      <td>@HWI-EAS418:3:100:1070:314/1</td>\n",
       "      <td>GGGAGTACTACTCGATTGTCAACGTCAAGGAGTCGCAGGTCGCCTG...</td>\n",
       "      <td>AAA&gt;?=CCB@BBCA;ABA@BBABA?B?8@A?A8B;A9@&gt;3A=BA==...</td>\n",
       "    </tr>\n",
       "    <tr>\n",
       "      <th>3079</th>\n",
       "      <td>@HWI-EAS418:3:100:1162:964/1</td>\n",
       "      <td>AACAACACATCACCTGTCCAAAAAGGCCTTCGATACGGGATAATCC...</td>\n",
       "      <td>@BBACCCBCBCCBBBCBCCB&gt;?A6ABBBBCCA9@?BBB@&gt;@&gt;?BBB...</td>\n",
       "    </tr>\n",
       "  </tbody>\n",
       "</table>\n",
       "</div>"
      ],
      "text/plain": [
       "                                 ID  \\\n",
       "3076  @HWI-EAS418:3:100:1006:1366/1   \n",
       "3059    @HWI-EAS418:3:100:102:938/1   \n",
       "3077  @HWI-EAS418:3:100:1067:1532/1   \n",
       "3078   @HWI-EAS418:3:100:1070:314/1   \n",
       "3079   @HWI-EAS418:3:100:1162:964/1   \n",
       "\n",
       "                                               Sequence  \\\n",
       "3076  GGGTGTAGGTGTGCCTTGTGGTAAGAAGTGGGCTAGGGCATTTTTA...   \n",
       "3059  AAGAGGAGGAGGAGGAAGGGAGCACCAGTGAAGAATCAGAGGAGGA...   \n",
       "3077  TCCTACACTAAAAAAAAACTTGCTTACACACAACTGAAAATAGAAT...   \n",
       "3078  GGGAGTACTACTCGATTGTCAACGTCAAGGAGTCGCAGGTCGCCTG...   \n",
       "3079  AACAACACATCACCTGTCCAAAAAGGCCTTCGATACGGGATAATCC...   \n",
       "\n",
       "                                                Quality  \n",
       "3076  BBB=B=<AB6B@BBBBCB=CB=B=BABA=B<AAB>A@BB9BABBBA...  \n",
       "3059  +;@8@@3>@4@>3;:25=:A9?B8@@7:6@,58)&5B=>.;91>:0...  \n",
       "3077  BCCCCCCCC@CCCBCABCCCBBCBCCCBCCBB@BBBA6ABBBBBAB...  \n",
       "3078  AAA>?=CCB@BBCA;ABA@BBABA?B?8@A?A8B;A9@>3A=BA==...  \n",
       "3079  @BBACCCBCBCCBBBCBCCB>?A6ABBBBCCA9@?BBB@>@>?BBB...  "
      ]
     },
     "execution_count": 36,
     "metadata": {},
     "output_type": "execute_result"
    }
   ],
   "source": [
    "fastqs = [\"/home/jovyan/pipelines/samples/TEST_R1.fastq.gz\", \"/home/jovyan/pipelines/samples/TEST_R2.fastq.gz\"]\n",
    "\n",
    "r1 = pd.DataFrame(pd.read_csv(fastqs[0], sep=\"\\n\", header=None).values.reshape(-1, 4), \n",
    "             columns=[\"ID\", \"Sequence\", \"+\", \"Quality\"]).drop(\"+\", axis=1)\n",
    "r2 = pd.DataFrame(pd.read_csv(fastqs[1], sep=\"\\n\", header=None).values.reshape(-1, 4), \n",
    "             columns=[\"ID\", \"Sequence\", \"+\", \"Quality\"]).drop(\"+\", axis=1)\n",
    "print(\"#Reads R1 = {} R2 = {}\".format(len(r1), len(r1)))\n",
    "r1.sort_values(\"ID\").head()"
   ]
  },
  {
   "cell_type": "code",
   "execution_count": 23,
   "metadata": {},
   "outputs": [
    {
     "name": "stdout",
     "output_type": "stream",
     "text": [
      "20:37:39.613 INFO  NativeLibraryLoader - Loading libgkl_compression.so from jar:file:/opt/picard-tools/picard.jar!/com/intel/gkl/native/libgkl_compression.so\n",
      "[Mon Jan 15 20:37:39 UTC 2018] FastqToSam FASTQ=/samples/TEST_R1.fastq.gz FASTQ2=/samples/TEST_R2.fastq.gz OUTPUT=/samples/TEST.bam SAMPLE_NAME=TEST    USE_SEQUENTIAL_FASTQS=false READ_GROUP_NAME=A SORT_ORDER=queryname MIN_Q=0 MAX_Q=93 STRIP_UNPAIRED_MATE_NUMBER=false ALLOW_AND_IGNORE_EMPTY_LINES=false VERBOSITY=INFO QUIET=false VALIDATION_STRINGENCY=STRICT COMPRESSION_LEVEL=5 MAX_RECORDS_IN_RAM=500000 CREATE_INDEX=false CREATE_MD5_FILE=false GA4GH_CLIENT_SECRETS=client_secrets.json USE_JDK_DEFLATER=false USE_JDK_INFLATER=false\n",
      "[Mon Jan 15 20:37:39 UTC 2018] Executing as root@8257344bb4ad on Linux 4.4.0-75-generic amd64; OpenJDK 64-Bit Server VM 1.8.0_111-8u111-b14-2~bpo8+1-b14; Deflater: Intel; Inflater: Intel; Picard version: 2.10.9-SNAPSHOT\n",
      "INFO\t2018-01-15 20:37:40\tFastqToSam\tAuto-detected quality format as: Standard.\n",
      "INFO\t2018-01-15 20:37:40\tFastqToSam\tProcessed 5026 fastq reads\n",
      "[Mon Jan 15 20:37:40 UTC 2018] picard.sam.FastqToSam done. Elapsed time: 0.02 minutes.\n",
      "Runtime.totalMemory()=771751936\n"
     ]
    }
   ],
   "source": [
    "!mkdir -p /scratch/fastq2bam2fastq\n",
    "!docker run -it --rm \\\n",
    "    -v /data/scratch/fastq2bam2fastq:/samples \\\n",
    "    quay.io/ucsc_cgl/picardtools FastqToSam \\\n",
    "      F1=/samples/TEST_R1.fastq.gz F2=/samples/TEST_R2.fastq.gz \\\n",
    "      OUTPUT=/samples/TEST.bam SAMPLE_NAME=TEST"
   ]
  },
  {
   "cell_type": "code",
   "execution_count": 26,
   "metadata": {},
   "outputs": [
    {
     "name": "stdout",
     "output_type": "stream",
     "text": [
      "10052\r\n"
     ]
    }
   ],
   "source": [
    "!samtools view -c /data/scratch/fastq2bam2fastq/TEST.bam"
   ]
  },
  {
   "cell_type": "code",
   "execution_count": 30,
   "metadata": {},
   "outputs": [
    {
     "name": "stdout",
     "output_type": "stream",
     "text": [
      "[M::bam2fq_mainloop] discarded 0 singletons\r\n",
      "[M::bam2fq_mainloop] processed 10052 reads\r\n"
     ]
    }
   ],
   "source": [
    "!docker run -it --rm \\\n",
    "    -v /data/scratch/fastq2bam2fastq:/samples \\\n",
    "    quay.io/ucsc_cgl/samtools@sha256:90528e39e246dc37421fe393795aa37fa1156d0dff59742eb243f01d2a27322e \\\n",
    "    fastq -1 /samples/TEST2.R1.fq.gz -2 /samples/TEST2.R2.fq.gz /samples/TEST.bam"
   ]
  },
  {
   "cell_type": "code",
   "execution_count": 33,
   "metadata": {},
   "outputs": [
    {
     "name": "stdout",
     "output_type": "stream",
     "text": [
      "TEST2.R1.fq.gz\tTEST2.R2.fq.gz\tTEST.bam  TEST_R1.fastq.gz  TEST_R2.fastq.gz\r\n"
     ]
    }
   ],
   "source": [
    "!ls /data/scratch/fastq2bam2fastq/"
   ]
  },
  {
   "cell_type": "code",
   "execution_count": 37,
   "metadata": {},
   "outputs": [
    {
     "name": "stdout",
     "output_type": "stream",
     "text": [
      "#Reads R1 = 5026 R2 = 5026\n"
     ]
    },
    {
     "data": {
      "text/html": [
       "<div>\n",
       "<table border=\"1\" class=\"dataframe\">\n",
       "  <thead>\n",
       "    <tr style=\"text-align: right;\">\n",
       "      <th></th>\n",
       "      <th>ID</th>\n",
       "      <th>Sequence</th>\n",
       "      <th>Quality</th>\n",
       "    </tr>\n",
       "  </thead>\n",
       "  <tbody>\n",
       "    <tr>\n",
       "      <th>0</th>\n",
       "      <td>@HWI-EAS418:3:100:1006:1366</td>\n",
       "      <td>GGGTGTAGGTGTGCCTTGTGGTAAGAAGTGGGCTAGGGCATTTTTA...</td>\n",
       "      <td>BBB=B=&lt;AB6B@BBBBCB=CB=B=BABA=B&lt;AAB&gt;A@BB9BABBBA...</td>\n",
       "    </tr>\n",
       "    <tr>\n",
       "      <th>1</th>\n",
       "      <td>@HWI-EAS418:3:100:102:938</td>\n",
       "      <td>AAGAGGAGGAGGAGGAAGGGAGCACCAGTGAAGAATCAGAGGAGGA...</td>\n",
       "      <td>+;@8@@3&gt;@4@&gt;3;:25=:A9?B8@@7:6@,58)&amp;5B=&gt;.;91&gt;:0...</td>\n",
       "    </tr>\n",
       "    <tr>\n",
       "      <th>2</th>\n",
       "      <td>@HWI-EAS418:3:100:1067:1532</td>\n",
       "      <td>TCCTACACTAAAAAAAAACTTGCTTACACACAACTGAAAATAGAAT...</td>\n",
       "      <td>BCCCCCCCC@CCCBCABCCCBBCBCCCBCCBB@BBBA6ABBBBBAB...</td>\n",
       "    </tr>\n",
       "    <tr>\n",
       "      <th>3</th>\n",
       "      <td>@HWI-EAS418:3:100:1070:314</td>\n",
       "      <td>GGGAGTACTACTCGATTGTCAACGTCAAGGAGTCGCAGGTCGCCTG...</td>\n",
       "      <td>AAA&gt;?=CCB@BBCA;ABA@BBABA?B?8@A?A8B;A9@&gt;3A=BA==...</td>\n",
       "    </tr>\n",
       "    <tr>\n",
       "      <th>4</th>\n",
       "      <td>@HWI-EAS418:3:100:1162:964</td>\n",
       "      <td>AACAACACATCACCTGTCCAAAAAGGCCTTCGATACGGGATAATCC...</td>\n",
       "      <td>@BBACCCBCBCCBBBCBCCB&gt;?A6ABBBBCCA9@?BBB@&gt;@&gt;?BBB...</td>\n",
       "    </tr>\n",
       "  </tbody>\n",
       "</table>\n",
       "</div>"
      ],
      "text/plain": [
       "                            ID  \\\n",
       "0  @HWI-EAS418:3:100:1006:1366   \n",
       "1    @HWI-EAS418:3:100:102:938   \n",
       "2  @HWI-EAS418:3:100:1067:1532   \n",
       "3   @HWI-EAS418:3:100:1070:314   \n",
       "4   @HWI-EAS418:3:100:1162:964   \n",
       "\n",
       "                                            Sequence  \\\n",
       "0  GGGTGTAGGTGTGCCTTGTGGTAAGAAGTGGGCTAGGGCATTTTTA...   \n",
       "1  AAGAGGAGGAGGAGGAAGGGAGCACCAGTGAAGAATCAGAGGAGGA...   \n",
       "2  TCCTACACTAAAAAAAAACTTGCTTACACACAACTGAAAATAGAAT...   \n",
       "3  GGGAGTACTACTCGATTGTCAACGTCAAGGAGTCGCAGGTCGCCTG...   \n",
       "4  AACAACACATCACCTGTCCAAAAAGGCCTTCGATACGGGATAATCC...   \n",
       "\n",
       "                                             Quality  \n",
       "0  BBB=B=<AB6B@BBBBCB=CB=B=BABA=B<AAB>A@BB9BABBBA...  \n",
       "1  +;@8@@3>@4@>3;:25=:A9?B8@@7:6@,58)&5B=>.;91>:0...  \n",
       "2  BCCCCCCCC@CCCBCABCCCBBCBCCCBCCBB@BBBA6ABBBBBAB...  \n",
       "3  AAA>?=CCB@BBCA;ABA@BBABA?B?8@A?A8B;A9@>3A=BA==...  \n",
       "4  @BBACCCBCBCCBBBCBCCB>?A6ABBBBCCA9@?BBB@>@>?BBB...  "
      ]
     },
     "execution_count": 37,
     "metadata": {},
     "output_type": "execute_result"
    }
   ],
   "source": [
    "fastqs = [\"/data/scratch/fastq2bam2fastq/TEST2.R1.fq.gz\", \"/data/scratch/fastq2bam2fastq/TEST2.R2.fq.gz\"]\n",
    "\n",
    "r1 = pd.DataFrame(pd.read_csv(fastqs[0], sep=\"\\n\", header=None).values.reshape(-1, 4), \n",
    "             columns=[\"ID\", \"Sequence\", \"+\", \"Quality\"]).drop(\"+\", axis=1)\n",
    "r2 = pd.DataFrame(pd.read_csv(fastqs[1], sep=\"\\n\", header=None).values.reshape(-1, 4), \n",
    "             columns=[\"ID\", \"Sequence\", \"+\", \"Quality\"]).drop(\"+\", axis=1)\n",
    "print(\"#Reads R1 = {} R2 = {}\".format(len(r1), len(r1)))\n",
    "r1.sort_values(\"ID\").head()"
   ]
  }
 ],
 "metadata": {
  "kernelspec": {
   "display_name": "Python 3",
   "language": "python",
   "name": "python3"
  },
  "language_info": {
   "codemirror_mode": {
    "name": "ipython",
    "version": 3
   },
   "file_extension": ".py",
   "mimetype": "text/x-python",
   "name": "python",
   "nbconvert_exporter": "python",
   "pygments_lexer": "ipython3",
   "version": "3.6.3"
  }
 },
 "nbformat": 4,
 "nbformat_minor": 2
}
