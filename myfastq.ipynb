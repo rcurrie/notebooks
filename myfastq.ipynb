{
 "cells": [
  {
   "cell_type": "code",
   "execution_count": 7,
   "metadata": {},
   "outputs": [
    {
     "name": "stdout",
     "output_type": "stream",
     "text": [
      "-rw-r--r-- 1 jovyan 603 4.0M Mar 14 03:16 /home/jovyan/UKGRPRIJC.fastq.gz\n"
     ]
    }
   ],
   "source": [
    "!ls -alh ~/UKGRPRIJC.fastq.gz"
   ]
  },
  {
   "cell_type": "code",
   "execution_count": 3,
   "metadata": {},
   "outputs": [],
   "source": [
    "!sudo usermod -aG docker jovyan"
   ]
  },
  {
   "cell_type": "code",
   "execution_count": 6,
   "metadata": {},
   "outputs": [
    {
     "name": "stdout",
     "output_type": "stream",
     "text": [
      "CONTAINER ID        IMAGE                    COMMAND                  CREATED             STATUS              PORTS                                              NAMES\n",
      "fdf1ce4a63b7        rcurrie-jupyter          \"tini -- start-noteb…\"   14 hours ago        Up 14 hours         0.0.0.0:52821->6006/tcp, 0.0.0.0:52820->8888/tcp   rcurrie-jupyter\n",
      "803599a26f25        ucsctreehouse/archiver   \"/bin/sh\"                2 months ago        Up 2 months                                                            epic_wright\n"
     ]
    }
   ],
   "source": [
    "!sudo docker ps"
   ]
  }
 ],
 "metadata": {
  "kernelspec": {
   "display_name": "Python 3",
   "language": "python",
   "name": "python3"
  },
  "language_info": {
   "codemirror_mode": {
    "name": "ipython",
    "version": 3
   },
   "file_extension": ".py",
   "mimetype": "text/x-python",
   "name": "python",
   "nbconvert_exporter": "python",
   "pygments_lexer": "ipython3",
   "version": "3.6.3"
  }
 },
 "nbformat": 4,
 "nbformat_minor": 2
}
