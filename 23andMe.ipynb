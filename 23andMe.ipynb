{
 "cells": [
  {
   "cell_type": "code",
   "execution_count": 3,
   "metadata": {},
   "outputs": [],
   "source": [
    "import os\n",
    "import requests\n",
    "import pandas as pd"
   ]
  },
  {
   "cell_type": "markdown",
   "metadata": {},
   "source": [
    "## 23andMe Format\n",
    "\n",
    "```\n",
    "# Updated: 2018-03-02\n",
    "# index is a key for the /genomes/ endpoint (2 base pairs per index).\n",
    "# strand is always +1.\n",
    "index\tsnp\tchromosome\tchromosome_position\n",
    "0\trs41362547\tMT\t10044\n",
    "1\ti723121\tMT\t10550\n",
    "1\trs28358280\tMT\t10550\n",
    "2\ti723122\tMT\t11251\n",
    "2\trs3915952\tMT\t11251\n",
    "```"
   ]
  },
  {
   "cell_type": "code",
   "execution_count": 20,
   "metadata": {},
   "outputs": [
    {
     "data": {
      "text/html": [
       "<div>\n",
       "<style scoped>\n",
       "    .dataframe tbody tr th:only-of-type {\n",
       "        vertical-align: middle;\n",
       "    }\n",
       "\n",
       "    .dataframe tbody tr th {\n",
       "        vertical-align: top;\n",
       "    }\n",
       "\n",
       "    .dataframe thead th {\n",
       "        text-align: right;\n",
       "    }\n",
       "</style>\n",
       "<table border=\"1\" class=\"dataframe\">\n",
       "  <thead>\n",
       "    <tr style=\"text-align: right;\">\n",
       "      <th></th>\n",
       "      <th>index</th>\n",
       "      <th>snp</th>\n",
       "      <th>chromosome</th>\n",
       "      <th>chromosome_position</th>\n",
       "    </tr>\n",
       "  </thead>\n",
       "  <tbody>\n",
       "    <tr>\n",
       "      <th>0</th>\n",
       "      <td>0</td>\n",
       "      <td>rs41362547</td>\n",
       "      <td>MT</td>\n",
       "      <td>10044</td>\n",
       "    </tr>\n",
       "    <tr>\n",
       "      <th>1</th>\n",
       "      <td>1</td>\n",
       "      <td>i723121</td>\n",
       "      <td>MT</td>\n",
       "      <td>10550</td>\n",
       "    </tr>\n",
       "    <tr>\n",
       "      <th>2</th>\n",
       "      <td>1</td>\n",
       "      <td>rs28358280</td>\n",
       "      <td>MT</td>\n",
       "      <td>10550</td>\n",
       "    </tr>\n",
       "    <tr>\n",
       "      <th>3</th>\n",
       "      <td>2</td>\n",
       "      <td>i723122</td>\n",
       "      <td>MT</td>\n",
       "      <td>11251</td>\n",
       "    </tr>\n",
       "    <tr>\n",
       "      <th>4</th>\n",
       "      <td>2</td>\n",
       "      <td>rs3915952</td>\n",
       "      <td>MT</td>\n",
       "      <td>11251</td>\n",
       "    </tr>\n",
       "  </tbody>\n",
       "</table>\n",
       "</div>"
      ],
      "text/plain": [
       "   index         snp chromosome  chromosome_position\n",
       "0      0  rs41362547         MT                10044\n",
       "1      1     i723121         MT                10550\n",
       "2      1  rs28358280         MT                10550\n",
       "3      2     i723122         MT                11251\n",
       "4      2   rs3915952         MT                11251"
      ]
     },
     "execution_count": 20,
     "metadata": {},
     "output_type": "execute_result"
    }
   ],
   "source": [
    "# Download the entire list of SNPs possible\n",
    "if not os.path.exists(\"/home/jovyan/scratch/23_and_me_genome_snp_map.tsv\"):\n",
    "    print(\"Downloading 23andMe list of SNPs...\")\n",
    "    r = requests.get(\"https://api.23andme.com/1/genome_snp_map/\")\n",
    "    r.raise_for_status()\n",
    "    with open(\"/home/jovyan/scratch/23_and_me_genome_snp_map.tsv\", \"w\") as f:\n",
    "        f.write(r.text)\n",
    "snps = pd.read_csv(\"/home/jovyan/scratch/23_and_me_genome_snp_map.tsv\", sep=\"\\t\", header=3)\n",
    "snps.head()"
   ]
  },
  {
   "cell_type": "markdown",
   "metadata": {},
   "source": [
    "## Gene Cards\n",
    "* BRCA1\n",
    " chr17:43,044,295-43,170,245(GRCh38/hg38)\n",
    " chr17:41,196,312-41,277,500(GRCh37/hg19)\n",
    "\n",
    "* BRCA2 \n",
    " chr13:32,314,862-32,400,266(GRCh38/hg38)\n",
    " chr13:32,889,611-32,973,809(GRCh37/hg19)"
   ]
  },
  {
   "cell_type": "code",
   "execution_count": 42,
   "metadata": {},
   "outputs": [
    {
     "data": {
      "text/plain": [
       "(1497986, 4)"
      ]
     },
     "execution_count": 42,
     "metadata": {},
     "output_type": "execute_result"
    }
   ],
   "source": [
    "snps.shape"
   ]
  },
  {
   "cell_type": "code",
   "execution_count": 43,
   "metadata": {},
   "outputs": [],
   "source": [
    "brca_snps = [row for index, row in snps.iterrows() \n",
    "             if (row.chromosome == \"17\" and row.chromosome_position in range(43044295, 43170245))\n",
    "             or (row.chromosome == \"13\" and row.chromosome_position in range(32314862, 32400266))]"
   ]
  },
  {
   "cell_type": "code",
   "execution_count": 45,
   "metadata": {},
   "outputs": [
    {
     "data": {
      "text/plain": [
       "105"
      ]
     },
     "execution_count": 45,
     "metadata": {},
     "output_type": "execute_result"
    }
   ],
   "source": [
    "len(brca_snps)"
   ]
  }
 ],
 "metadata": {
  "kernelspec": {
   "display_name": "Python 3",
   "language": "python",
   "name": "python3"
  },
  "language_info": {
   "codemirror_mode": {
    "name": "ipython",
    "version": 3
   },
   "file_extension": ".py",
   "mimetype": "text/x-python",
   "name": "python",
   "nbconvert_exporter": "python",
   "pygments_lexer": "ipython3",
   "version": "3.6.3"
  }
 },
 "nbformat": 4,
 "nbformat_minor": 2
}
