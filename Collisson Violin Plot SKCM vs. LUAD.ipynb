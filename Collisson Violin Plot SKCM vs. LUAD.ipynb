{
 "cells": [
  {
   "cell_type": "markdown",
   "metadata": {
    "deletable": true,
    "editable": true
   },
   "source": [
    "# SKCM vs. LUAD Violin Plots\n",
    "\n",
    "\n",
    "## Data Source:\n",
    "### SKCM\n",
    "https://xenabrowser.net/heatmap/?bookmark=04ef27d85f3699a0a48e365874e67414\n",
    "### LUAD\n",
    "https://xenabrowser.net/heatmap/?bookmark=d968994fca66cd0ccc5d48a58df1795e\n"
   ]
  },
  {
   "cell_type": "code",
   "execution_count": 3,
   "metadata": {
    "collapsed": false,
    "deletable": true,
    "editable": true
   },
   "outputs": [],
   "source": [
    "import numpy as np\n",
    "import pandas as pd\n",
    "from scipy import stats\n",
    "\n",
    "!pip2 install --quiet plotly\n",
    "import plotly.plotly as py\n",
    "import plotly.figure_factory as ff\n",
    "from plotly.graph_objs import graph_objs\n",
    "\n",
    "import plotly.tools as tls\n",
    "tls.set_credentials_file(username='rcurrie', api_key='ZwHlJEmXP7lHum8TD22n')"
   ]
  },
  {
   "cell_type": "code",
   "execution_count": 5,
   "metadata": {
    "collapsed": false,
    "deletable": true,
    "editable": true
   },
   "outputs": [
    {
     "data": {
      "text/html": [
       "<div>\n",
       "<table border=\"1\" class=\"dataframe\">\n",
       "  <thead>\n",
       "    <tr style=\"text-align: right;\">\n",
       "      <th></th>\n",
       "      <th>sample</th>\n",
       "      <th>acronym</th>\n",
       "      <th>non-silent_NF1</th>\n",
       "      <th>NF1_mRNA</th>\n",
       "      <th>samples</th>\n",
       "    </tr>\n",
       "  </thead>\n",
       "  <tbody>\n",
       "    <tr>\n",
       "      <th>0</th>\n",
       "      <td>TCGA-44-8119-01</td>\n",
       "      <td>LUAD</td>\n",
       "      <td>True</td>\n",
       "      <td>11.80</td>\n",
       "      <td>TCGA-44-8119-01</td>\n",
       "    </tr>\n",
       "    <tr>\n",
       "      <th>1</th>\n",
       "      <td>TCGA-44-6775-01</td>\n",
       "      <td>LUAD</td>\n",
       "      <td>True</td>\n",
       "      <td>10.11</td>\n",
       "      <td>TCGA-44-6775-01</td>\n",
       "    </tr>\n",
       "    <tr>\n",
       "      <th>2</th>\n",
       "      <td>TCGA-78-7535-01</td>\n",
       "      <td>LUAD</td>\n",
       "      <td>True</td>\n",
       "      <td>8.82</td>\n",
       "      <td>TCGA-78-7535-01</td>\n",
       "    </tr>\n",
       "    <tr>\n",
       "      <th>3</th>\n",
       "      <td>TCGA-91-6829-01</td>\n",
       "      <td>LUAD</td>\n",
       "      <td>True</td>\n",
       "      <td>11.53</td>\n",
       "      <td>TCGA-91-6829-01</td>\n",
       "    </tr>\n",
       "    <tr>\n",
       "      <th>4</th>\n",
       "      <td>TCGA-64-1679-01</td>\n",
       "      <td>LUAD</td>\n",
       "      <td>True</td>\n",
       "      <td>11.29</td>\n",
       "      <td>TCGA-64-1679-01</td>\n",
       "    </tr>\n",
       "  </tbody>\n",
       "</table>\n",
       "</div>"
      ],
      "text/plain": [
       "            sample acronym non-silent_NF1  NF1_mRNA          samples\n",
       "0  TCGA-44-8119-01    LUAD           True     11.80  TCGA-44-8119-01\n",
       "1  TCGA-44-6775-01    LUAD           True     10.11  TCGA-44-6775-01\n",
       "2  TCGA-78-7535-01    LUAD           True      8.82  TCGA-78-7535-01\n",
       "3  TCGA-91-6829-01    LUAD           True     11.53  TCGA-91-6829-01\n",
       "4  TCGA-64-1679-01    LUAD           True     11.29  TCGA-64-1679-01"
      ]
     },
     "execution_count": 5,
     "metadata": {},
     "output_type": "execute_result"
    }
   ],
   "source": [
    "luad = pd.read_csv(\"data/denseDataOnlyDownload_LUAD.tsv\", sep=\"\\t\")\n",
    "luad.head()"
   ]
  },
  {
   "cell_type": "code",
   "execution_count": 9,
   "metadata": {
    "collapsed": false,
    "deletable": true,
    "editable": true
   },
   "outputs": [
    {
     "name": "stdout",
     "output_type": "stream",
     "text": [
      "https://plot.ly/~rcurrie/100\n"
     ]
    }
   ],
   "source": [
    "fig = ff.create_violin(luad[1:].loc[luad[\"NF1_mRNA\"].notnull()], \n",
    "                       data_header=\"NF1_mRNA\", group_header=\"non-silent_NF1\", title=\"LUAD\")\n",
    "fig.layout.xaxis1.title = \"With/Amplification\"\n",
    "fig.layout.xaxis2.title = \"Mutated/Lost\"\n",
    "fig.layout.yaxis.title = \"NF1 mRNA\"\n",
    "fig.data.pop(11)\n",
    "fig.data.pop(5)\n",
    "print py.plot(fig, filename=\"collison.luad.expression\")"
   ]
  },
  {
   "cell_type": "code",
   "execution_count": 10,
   "metadata": {
    "collapsed": false,
    "deletable": true,
    "editable": true
   },
   "outputs": [
    {
     "data": {
      "text/html": [
       "<div>\n",
       "<table border=\"1\" class=\"dataframe\">\n",
       "  <thead>\n",
       "    <tr style=\"text-align: right;\">\n",
       "      <th></th>\n",
       "      <th>sample</th>\n",
       "      <th>acronym</th>\n",
       "      <th>nonsilent_NF1</th>\n",
       "      <th>NF1_mRNA</th>\n",
       "      <th>samples</th>\n",
       "    </tr>\n",
       "  </thead>\n",
       "  <tbody>\n",
       "    <tr>\n",
       "      <th>0</th>\n",
       "      <td>TCGA-EE-A2MI-06</td>\n",
       "      <td>SKCM</td>\n",
       "      <td>True</td>\n",
       "      <td>12.08</td>\n",
       "      <td>TCGA-EE-A2MI-06</td>\n",
       "    </tr>\n",
       "    <tr>\n",
       "      <th>1</th>\n",
       "      <td>TCGA-EE-A2A2-06</td>\n",
       "      <td>SKCM</td>\n",
       "      <td>True</td>\n",
       "      <td>11.75</td>\n",
       "      <td>TCGA-EE-A2A2-06</td>\n",
       "    </tr>\n",
       "    <tr>\n",
       "      <th>2</th>\n",
       "      <td>TCGA-FS-A1Z3-06</td>\n",
       "      <td>SKCM</td>\n",
       "      <td>True</td>\n",
       "      <td>11.33</td>\n",
       "      <td>TCGA-FS-A1Z3-06</td>\n",
       "    </tr>\n",
       "    <tr>\n",
       "      <th>3</th>\n",
       "      <td>TCGA-EB-A4IS-01</td>\n",
       "      <td>SKCM</td>\n",
       "      <td>True</td>\n",
       "      <td>11.21</td>\n",
       "      <td>TCGA-EB-A4IS-01</td>\n",
       "    </tr>\n",
       "    <tr>\n",
       "      <th>4</th>\n",
       "      <td>TCGA-ER-A19F-06</td>\n",
       "      <td>SKCM</td>\n",
       "      <td>True</td>\n",
       "      <td>11.07</td>\n",
       "      <td>TCGA-ER-A19F-06</td>\n",
       "    </tr>\n",
       "  </tbody>\n",
       "</table>\n",
       "</div>"
      ],
      "text/plain": [
       "            sample acronym nonsilent_NF1  NF1_mRNA          samples\n",
       "0  TCGA-EE-A2MI-06    SKCM          True     12.08  TCGA-EE-A2MI-06\n",
       "1  TCGA-EE-A2A2-06    SKCM          True     11.75  TCGA-EE-A2A2-06\n",
       "2  TCGA-FS-A1Z3-06    SKCM          True     11.33  TCGA-FS-A1Z3-06\n",
       "3  TCGA-EB-A4IS-01    SKCM          True     11.21  TCGA-EB-A4IS-01\n",
       "4  TCGA-ER-A19F-06    SKCM          True     11.07  TCGA-ER-A19F-06"
      ]
     },
     "execution_count": 10,
     "metadata": {},
     "output_type": "execute_result"
    }
   ],
   "source": [
    "skcm = pd.read_csv(\"data/denseDataOnlyDownload_SKCM.tsv\", sep=\"\\t\")\n",
    "skcm.head()"
   ]
  },
  {
   "cell_type": "code",
   "execution_count": 11,
   "metadata": {
    "collapsed": false,
    "deletable": true,
    "editable": true
   },
   "outputs": [
    {
     "name": "stdout",
     "output_type": "stream",
     "text": [
      "https://plot.ly/~rcurrie/102\n"
     ]
    }
   ],
   "source": [
    "fig = ff.create_violin(skcm[1:].loc[skcm[\"NF1_mRNA\"].notnull()], \n",
    "                       data_header=\"NF1_mRNA\", group_header=\"nonsilent_NF1\", title=\"SKCM\")\n",
    "fig.layout.xaxis1.title = \"With/Amplification\"\n",
    "fig.layout.xaxis2.title = \"Mutated/Lost\"\n",
    "fig.layout.yaxis.title = \"NF1 mRNA\"\n",
    "fig.data.pop(11)\n",
    "fig.data.pop(5)\n",
    "print py.plot(fig, filename=\"collison.skcm.expression\")"
   ]
  }
 ],
 "metadata": {
  "kernelspec": {
   "display_name": "Python 3",
   "language": "python",
   "name": "python3"
  },
  "language_info": {
   "codemirror_mode": {
    "name": "ipython",
    "version": 3
   },
   "file_extension": ".py",
   "mimetype": "text/x-python",
   "name": "python",
   "nbconvert_exporter": "python",
   "pygments_lexer": "ipython3",
   "version": "3.6.3"
  }
 },
 "nbformat": 4,
 "nbformat_minor": 2
}
