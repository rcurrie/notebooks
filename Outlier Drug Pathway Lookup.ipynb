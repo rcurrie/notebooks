{
 "cells": [
  {
   "cell_type": "markdown",
   "metadata": {},
   "source": [
    "### Outlier Drug Pathway Lookup\n",
    "Loads the results of an outlier analysis directly from MedBook's Mongo databse into a python pandas data frame and then looks up interactions in DGIdb and pathways in Reactome, KEGG and Wiki Pathways. \n",
    "\n",
    "To run replace the outlier analysis id (mGRmfK9rdZgpW6K53) with the id in the browser address bar when viewing the results of the outlier analysis in MedBook."
   ]
  },
  {
   "cell_type": "code",
   "execution_count": null,
   "metadata": {
    "collapsed": true
   },
   "outputs": [],
   "source": [
    "# import a variety of packages\n",
    "import requests\n",
    "import yaml\n",
    "from IPython.core.display import display, HTML\n",
    "import numpy as np\n",
    "import pandas as pd\n",
    "!pip2 install --quiet pypathway # not instandard jupyter container so add manually\n",
    "from pypathway import *\n",
    "import pymongo"
   ]
  },
  {
   "cell_type": "code",
   "execution_count": 14,
   "metadata": {
    "collapsed": true
   },
   "outputs": [],
   "source": [
    "# Connect to the database\n",
    "db = pymongo.MongoClient(\"mongo\").MedBook"
   ]
  },
  {
   "cell_type": "code",
   "execution_count": 15,
   "metadata": {
    "collapsed": false
   },
   "outputs": [
    {
     "name": "stdout",
     "output_type": "stream",
     "text": [
      "GsaN5gNNrusKL8DtX : ckcc/TH03_0118_S01_RNASeq against --[TC2] acute myeloid leukemia\n",
      "KFN3WuD6vRdun3ih3 : ckcc/TH03_0118_S01_RNASeq against --[TC2] AML+ALAL+ALL\n",
      "hzTfpy7kXzftFMJxe : ckcc/TH03_0118_S01_RNASeq against Compendium 2 final samples 2016/10/24\n",
      "zmkf3FzT9ajMPeWLC : ckcc/TH03_0118_S01_RNASeq against AML\n"
     ]
    }
   ],
   "source": [
    "# Find all jobs from a given sample name\n",
    "jobs = db.jobs.find({\"args.sample_label\": \"ckcc/TH03_0118_S01_RNASeq\"})\n",
    "for job in jobs:\n",
    "    print job[\"_id\"],\":\", job[\"args\"][\"sample_label\"],\"against\", job[\"args\"][\"sample_group_name\"]"
   ]
  },
  {
   "cell_type": "code",
   "execution_count": 21,
   "metadata": {
    "collapsed": false
   },
   "outputs": [
    {
     "name": "stdout",
     "output_type": "stream",
     "text": [
      "Outlier analysis for ckcc/TH03_0118_S01_RNASeq against Compendium 2 final samples 2016/10/24\n"
     ]
    }
   ],
   "source": [
    "# Lookup the outlier job information and extract up, down and top 5% expressed into dataframes\n",
    "job = db.jobs.find_one({\"_id\": \"hzTfpy7kXzftFMJxe\"})\n",
    "up = pd.DataFrame(job[\"output\"][\"up_genes\"])\n",
    "down = pd.DataFrame(job[\"output\"][\"down_genes\"])\n",
    "top5percent = pd.DataFrame(job[\"output\"][\"top5percent_genes\"])\n",
    "print \"Outlier analysis for\", job[\"args\"][\"sample_label\"],\"against\", job[\"args\"][\"sample_group_name\"]"
   ]
  },
  {
   "cell_type": "code",
   "execution_count": 22,
   "metadata": {
    "collapsed": false
   },
   "outputs": [
    {
     "name": "stdout",
     "output_type": "stream",
     "text": [
      "Up regulated genes (5)\n"
     ]
    },
    {
     "data": {
      "text/html": [
       "<div>\n",
       "<table border=\"1\" class=\"dataframe\">\n",
       "  <thead>\n",
       "    <tr style=\"text-align: right;\">\n",
       "      <th></th>\n",
       "      <th>background_median</th>\n",
       "      <th>gene_label</th>\n",
       "      <th>sample_value</th>\n",
       "    </tr>\n",
       "  </thead>\n",
       "  <tbody>\n",
       "    <tr>\n",
       "      <th>0</th>\n",
       "      <td>8.09185</td>\n",
       "      <td>ACAP1</td>\n",
       "      <td>13.259877</td>\n",
       "    </tr>\n",
       "    <tr>\n",
       "      <th>1</th>\n",
       "      <td>8.37600</td>\n",
       "      <td>ADA</td>\n",
       "      <td>13.776777</td>\n",
       "    </tr>\n",
       "    <tr>\n",
       "      <th>2</th>\n",
       "      <td>4.80645</td>\n",
       "      <td>ADGRE1</td>\n",
       "      <td>13.109611</td>\n",
       "    </tr>\n",
       "    <tr>\n",
       "      <th>3</th>\n",
       "      <td>6.30690</td>\n",
       "      <td>ADGRG5</td>\n",
       "      <td>12.579483</td>\n",
       "    </tr>\n",
       "    <tr>\n",
       "      <th>4</th>\n",
       "      <td>2.41830</td>\n",
       "      <td>AE000661.37</td>\n",
       "      <td>11.976970</td>\n",
       "    </tr>\n",
       "  </tbody>\n",
       "</table>\n",
       "</div>"
      ],
      "text/plain": [
       "   background_median   gene_label  sample_value\n",
       "0            8.09185        ACAP1     13.259877\n",
       "1            8.37600          ADA     13.776777\n",
       "2            4.80645       ADGRE1     13.109611\n",
       "3            6.30690       ADGRG5     12.579483\n",
       "4            2.41830  AE000661.37     11.976970"
      ]
     },
     "execution_count": 22,
     "metadata": {},
     "output_type": "execute_result"
    }
   ],
   "source": [
    "print \"Up regulated genes (5)\"\n",
    "up.head()"
   ]
  },
  {
   "cell_type": "code",
   "execution_count": 8,
   "metadata": {
    "collapsed": false
   },
   "outputs": [
    {
     "name": "stdout",
     "output_type": "stream",
     "text": [
      "Up regulated genes with drug targets:\n",
      "ADA:\n",
      "- PENTOSTATIN\n",
      "- 1-((1R,2S)-1-{2-[2-(4-CHLOROPHENYL)-1,3-BENZOXAZOL-7-YL]ETHYL}-2-HYDROXYPROPYL)-1H-IMIDAZOLE-4-CARBOXAMIDE\n",
      "- 1-((1R)-1-(HYDROXYMETHYL)-3-{6-[(3-PHENYLPROPANOYL)AMINO]-1H-INDOL-1-YL}PROPYL)-1H-IMIDAZOLE-4-CARBOXAMIDE\n",
      "- 1-{(1R,2S)-2-HYDROXY-1-[2-(2-NAPHTHYLOXY)ETHYL]PROPYL}-1H-IMIDAZONE-4-CARBOXAMIDE\n",
      "- FLUDARABINE\n",
      "- CLADRIBINE\n",
      "- EHNA\n",
      "- DIPYRIDAMOLE\n",
      "- 6-HYDROXY-7,8-DIHYDRO PURINE NUCLEOSIDE\n",
      "- 6-HYDROXY-1,6-DIHYDRO PURINE NUCLEOSIDE\n",
      "APAF1:\n",
      "- ADENOSINE TRIPHOSPHATE\n",
      "BTK:\n",
      "- AVL-292\n",
      "- INOSITOL 1,3,4,5-TETRAKISPHOSPHATE\n",
      "- IBRUTINIB\n",
      "CFD:\n",
      "- 3,4-DICHLOROISOCOUMARIN\n",
      "- ISATOIC ANHYDRIDE\n",
      "CSF3R:\n",
      "- RUXOLITINIB\n",
      "CTSG:\n",
      "- BIS-NAPTHYL BETA-KETOPHOSPHONIC ACID\n",
      "- DERMOLASTIN\n",
      "- 2-[3-({METHYL[1-(2-NAPHTHOYL)PIPERIDIN-4-YL]AMINO}CARBONYL)-2-NAPHTHYL]-1-(1-NAPHTHYL)-2-OXOETHYLPHOSPHONIC\n",
      "  ACID\n",
      "DNTT:\n",
      "- CORDYCEPIN\n",
      "FLT3:\n",
      "- LESTAURTINIB\n",
      "- QUIZARTINIB\n",
      "- GTP-14564\n",
      "- SORAFENIB\n",
      "- FLT-3 INHIBITOR II\n",
      "- CRENOLANIB\n",
      "- 4SC-202\n",
      "- RGB-286638\n",
      "- CEDIRANIB\n",
      "- CLOFARABINE\n",
      "- SUNITINIB\n",
      "- SUNITINIB MALATE\n",
      "- BORTEZOMIB\n",
      "- PACRITINIB\n",
      "- FLT-3 INHIBITOR III\n",
      "- DAUNORUBICIN\n",
      "- ENMD-2076\n",
      "- PONATINIB\n",
      "- TANDUTINIB\n",
      "- DOVITINIB\n",
      "- MIDOSTAURIN\n",
      "- FLT-3 INHIBITOR\n",
      "- AMUVATINIB\n",
      "- SU5614\n",
      "- CABOZANTINIB\n",
      "- LINIFANIB\n",
      "- SORAFENIB TOSYLATE\n",
      "- NINTEDANIB\n",
      "ITGA4:\n",
      "- VEDOLIZMAB\n",
      "- SB-683699\n",
      "- CDP323\n",
      "- FIRATEGRAST\n",
      "MAPKAPK3:\n",
      "- 2-[2-(2-FLUOROPHENYL)PYRIDIN-4-YL]-1,5,6,7-TETRAHYDRO-4H-PYRROLO[3,2-C]PYRIDIN-4-ONE\n",
      "MPO:\n",
      "- CEFDINIR\n",
      "- L-CARNITINE\n",
      "- MELATONIN\n",
      "- NOMIFENSINE\n",
      "P2RX1:\n",
      "- MRS 2219\n",
      "- BZATP\n",
      "- IP<SUB>5</SUB>I\n",
      "PADI4:\n",
      "- DOXYCYCLINE\n",
      "- TETRACYCLINE\n",
      "- STREPTOMYCIN\n",
      "- L-CITRULLINE\n",
      "- N-[(1S)-1-(AMINOCARBONYL)-4-(ETHANIMIDOYLAMINO)BUTYL]BENZAMIDE\n",
      "PIK3R6:\n",
      "- GSK2126458\n",
      "- GDC-0941\n",
      "- GDC-0980\n",
      "- GSK2636771\n",
      "- PKI-587\n",
      "- SF1126\n",
      "- SOPHORETIN\n",
      "- XL147\n",
      "- PI-103\n",
      "PIM1:\n",
      "- STAUROSPORINE\n",
      "- S,S-(2-HYDROXYETHYL)THIOCYSTEINE\n",
      "- (4R)-7,8-DICHLORO-1',9-DIMETHYL-1-OXO-1,2,4,9-TETRAHYDROSPIRO[BETA-CARBOLINE-3,4'-PIPERIDINE]-4-CARBONITRILE\n",
      "- QUERCETIN\n",
      "- 2,3-DIPHENYL-1H-INDOLE-7-CARBOXYLIC ACID\n",
      "- (3E)-3-[(4-HYDROXYPHENYL)IMINO]-1H-INDOL-2(3H)-ONE\n",
      "- RUBOXISTAURIN\n",
      "- AKT INHIBITOR X\n",
      "- (4R)-7-CHLORO-9-METHYL-1-OXO-1,2,4,9-TETRAHYDROSPIRO[BETA-CARBOLINE-3,4'-PIPERIDINE]-4-CARBONITRILE\n",
      "- 4-(4-HYDROXY-3-METHYLPHENYL)-6-PHENYLPYRIMIDIN-2(5H)-ONE\n",
      "- 2-(4-MORPHOLINYL)-8-PHENYL-4H-1-BENZOPYRAN-4-ONE\n",
      "- AZD1208\n",
      "- IMIDAZOPYRIDAZIN 1\n",
      "- N-PHENYL-1H-PYRROLO[2,3-B]PYRIDIN-3-AMINE\n",
      "- 3,4-DIHYDROXY-1-METHYLQUINOLIN-2(1H)-ONE\n",
      "- SGI-1776\n",
      "- PHOSPHOAMINOPHOSPHONIC ACID-ADENYLATE ESTER\n",
      "- (2S)-1,3-BENZOTHIAZOL-2-YL{2-[(2-PYRIDIN-3-YLETHYL)AMINO]PYRIMIDIN-4-YL}ETHANENITRILE\n",
      "PRTN3:\n",
      "- ELAFIN\n",
      "PTPN6:\n",
      "- SODIUM STIBOGLUCONATE\n",
      "RNASE2:\n",
      "- ADENOSINE-3'-5'-DIPHOSPHATE\n",
      "- ADENOSINE-2'-5'-DIPHOSPHATE\n",
      "S1PR4:\n",
      "- SPHINGOSINE 1-PHOSPHATE\n",
      "- PHYTOSPHINGOSINE 1-PHOSPHATE\n",
      "- AFD(R)\n",
      "SELL:\n",
      "- BIMOSIAMOSE\n",
      "SLC25A20:\n",
      "- L-CARNITINE\n",
      "SUCNR1:\n",
      "- SUCCINIC ACID\n",
      "\n"
     ]
    }
   ],
   "source": [
    "# Search for drug interactions - see http://dgidb.genome.wustl.edu/api\n",
    "endpoint = \"http://dgidb.genome.wustl.edu/api/v1/interactions.json\"\n",
    "query = \"?genes={}\".format(\",\".join(up[\"gene_label\"].values))  # just inhibitors\n",
    "matches = requests.get(endpoint + query).json()\n",
    "druggable_genes = {m[\"geneName\"]: list(set([i[\"drugName\"] \n",
    "                                            for i in m[\"interactions\"]])) for m in matches[\"matchedTerms\"]}\n",
    "print \"Up regulated genes with drug targets:\"\n",
    "print yaml.safe_dump(druggable_genes, default_flow_style=False)"
   ]
  },
  {
   "cell_type": "code",
   "execution_count": 9,
   "metadata": {
    "collapsed": false
   },
   "outputs": [
    {
     "name": "stdout",
     "output_type": "stream",
     "text": [
      "Found 14 pathways in reactome,\n"
     ]
    },
    {
     "data": {
      "text/html": [
       "Cytochrome c-mediated apoptotic response <a target='_blank' href='http://www.reactome.org/content/detail/R-HSA-111461'>R-HSA-111461</a>"
      ],
      "text/plain": [
       "<IPython.core.display.HTML object>"
      ]
     },
     "metadata": {},
     "output_type": "display_data"
    },
    {
     "data": {
      "text/html": [
       "TP53 Regulates Transcription of Caspase Activators and Caspases <a target='_blank' href='http://www.reactome.org/content/detail/R-HSA-6803207'>R-HSA-6803207</a>"
      ],
      "text/plain": [
       "<IPython.core.display.HTML object>"
      ]
     },
     "metadata": {},
     "output_type": "display_data"
    },
    {
     "data": {
      "text/html": [
       "Ligand-independent caspase activation via DCC <a target='_blank' href='http://www.reactome.org/content/detail/R-HSA-418889'>R-HSA-418889</a>"
      ],
      "text/plain": [
       "<IPython.core.display.HTML object>"
      ]
     },
     "metadata": {},
     "output_type": "display_data"
    },
    {
     "data": {
      "text/html": [
       "TP53 Regulates Transcription of Cell Death Genes <a target='_blank' href='http://www.reactome.org/content/detail/R-HSA-5633008'>R-HSA-5633008</a>"
      ],
      "text/plain": [
       "<IPython.core.display.HTML object>"
      ]
     },
     "metadata": {},
     "output_type": "display_data"
    },
    {
     "data": {
      "text/html": [
       "Oxidative Stress Induced Senescence <a target='_blank' href='http://www.reactome.org/content/detail/R-HSA-2559580'>R-HSA-2559580</a>"
      ],
      "text/plain": [
       "<IPython.core.display.HTML object>"
      ]
     },
     "metadata": {},
     "output_type": "display_data"
    },
    {
     "data": {
      "text/html": [
       "Signaling by SCF-KIT <a target='_blank' href='http://www.reactome.org/content/detail/R-HSA-1433557'>R-HSA-1433557</a>"
      ],
      "text/plain": [
       "<IPython.core.display.HTML object>"
      ]
     },
     "metadata": {},
     "output_type": "display_data"
    },
    {
     "data": {
      "text/html": [
       "LGI-ADAM interactions <a target='_blank' href='http://www.reactome.org/content/detail/R-HSA-5682910'>R-HSA-5682910</a>"
      ],
      "text/plain": [
       "<IPython.core.display.HTML object>"
      ]
     },
     "metadata": {},
     "output_type": "display_data"
    },
    {
     "data": {
      "text/html": [
       "Formation of editosomes by ADAR proteins <a target='_blank' href='http://www.reactome.org/content/detail/R-HSA-77042'>R-HSA-77042</a>"
      ],
      "text/plain": [
       "<IPython.core.display.HTML object>"
      ]
     },
     "metadata": {},
     "output_type": "display_data"
    },
    {
     "data": {
      "text/html": [
       "Adaptive Immune System <a target='_blank' href='http://www.reactome.org/content/detail/R-HSA-1280218'>R-HSA-1280218</a>"
      ],
      "text/plain": [
       "<IPython.core.display.HTML object>"
      ]
     },
     "metadata": {},
     "output_type": "display_data"
    },
    {
     "data": {
      "text/html": [
       "LGI-ADAM interactions <a target='_blank' href='http://www.reactome.org/content/detail/R-XTR-5682910'>R-XTR-5682910</a>"
      ],
      "text/plain": [
       "<IPython.core.display.HTML object>"
      ]
     },
     "metadata": {},
     "output_type": "display_data"
    },
    {
     "data": {
      "text/html": [
       "LGI-ADAM interactions <a target='_blank' href='http://www.reactome.org/content/detail/R-DRE-5682910'>R-DRE-5682910</a>"
      ],
      "text/plain": [
       "<IPython.core.display.HTML object>"
      ]
     },
     "metadata": {},
     "output_type": "display_data"
    },
    {
     "data": {
      "text/html": [
       "Antigen activates B Cell Receptor (BCR) leading to generation of second messengers <a target='_blank' href='http://www.reactome.org/content/detail/R-HSA-983695'>R-HSA-983695</a>"
      ],
      "text/plain": [
       "<IPython.core.display.HTML object>"
      ]
     },
     "metadata": {},
     "output_type": "display_data"
    },
    {
     "data": {
      "text/html": [
       "Signaling by the B Cell Receptor (BCR) <a target='_blank' href='http://www.reactome.org/content/detail/R-HSA-983705'>R-HSA-983705</a>"
      ],
      "text/plain": [
       "<IPython.core.display.HTML object>"
      ]
     },
     "metadata": {},
     "output_type": "display_data"
    },
    {
     "data": {
      "text/html": [
       "Fc epsilon receptor (FCERI) signaling <a target='_blank' href='http://www.reactome.org/content/detail/R-HSA-2454202'>R-HSA-2454202</a>"
      ],
      "text/plain": [
       "<IPython.core.display.HTML object>"
      ]
     },
     "metadata": {},
     "output_type": "display_data"
    }
   ],
   "source": [
    "reactome = []\n",
    "for gene in druggable_genes.keys():\n",
    "    reactome.extend(PublicDatabase.search_reactome(gene))\n",
    "print \"Found\", len(reactome),\"pathways in reactome,\"\n",
    "for p in reactome:\n",
    "    display(HTML(\"{} <a target='_blank' href='http://www.reactome.org/content/detail/{}'>{}</a>\".format(\n",
    "                p.description, p.id, p.id)))\n",
    "    if p.SBGN:\n",
    "        display(HTML(\"Has SBGN Diagram\"))"
   ]
  },
  {
   "cell_type": "code",
   "execution_count": 11,
   "metadata": {
    "collapsed": false
   },
   "outputs": [
    {
     "name": "stdout",
     "output_type": "stream",
     "text": [
      "Found 8 pathways in kegg,\n"
     ]
    },
    {
     "data": {
      "text/html": [
       "Fatty acid degradation <a target='_blank' href='http://www.reactome.org/content/detail/00071'>00071</a>"
      ],
      "text/plain": [
       "<IPython.core.display.HTML object>"
      ]
     },
     "metadata": {},
     "output_type": "display_data"
    },
    {
     "data": {
      "text/html": [
       "Synthesis and degradation of ketone bodies <a target='_blank' href='http://www.reactome.org/content/detail/00072'>00072</a>"
      ],
      "text/plain": [
       "<IPython.core.display.HTML object>"
      ]
     },
     "metadata": {},
     "output_type": "display_data"
    },
    {
     "data": {
      "text/html": [
       "Valine, leucine and isoleucine degradation <a target='_blank' href='http://www.reactome.org/content/detail/00280'>00280</a>"
      ],
      "text/plain": [
       "<IPython.core.display.HTML object>"
      ]
     },
     "metadata": {},
     "output_type": "display_data"
    },
    {
     "data": {
      "text/html": [
       "Lysine degradation <a target='_blank' href='http://www.reactome.org/content/detail/00310'>00310</a>"
      ],
      "text/plain": [
       "<IPython.core.display.HTML object>"
      ]
     },
     "metadata": {},
     "output_type": "display_data"
    },
    {
     "data": {
      "text/html": [
       "Other glycan degradation <a target='_blank' href='http://www.reactome.org/content/detail/00511'>00511</a>"
      ],
      "text/plain": [
       "<IPython.core.display.HTML object>"
      ]
     },
     "metadata": {},
     "output_type": "display_data"
    },
    {
     "data": {
      "text/html": [
       "Glycosaminoglycan degradation <a target='_blank' href='http://www.reactome.org/content/detail/00531'>00531</a>"
      ],
      "text/plain": [
       "<IPython.core.display.HTML object>"
      ]
     },
     "metadata": {},
     "output_type": "display_data"
    },
    {
     "data": {
      "text/html": [
       "RNA degradation <a target='_blank' href='http://www.reactome.org/content/detail/03018'>03018</a>"
      ],
      "text/plain": [
       "<IPython.core.display.HTML object>"
      ]
     },
     "metadata": {},
     "output_type": "display_data"
    },
    {
     "data": {
      "text/html": [
       "Selenocompound metabolism <a target='_blank' href='http://www.reactome.org/content/detail/00450'>00450</a>"
      ],
      "text/plain": [
       "<IPython.core.display.HTML object>"
      ]
     },
     "metadata": {},
     "output_type": "display_data"
    }
   ],
   "source": [
    "kegg = []\n",
    "for gene in druggable_genes.keys():\n",
    "    kegg.extend(PublicDatabase.search_kegg(gene, organism=\"hsa\"))\n",
    "print \"Found\", len(kegg),\"pathways in kegg,\"\n",
    "for p in kegg:\n",
    "    display(HTML(\"{} <a target='_blank' href='http://www.reactome.org/content/detail/{}'>{}</a>\".format(\n",
    "                p.description, p.id, p.id)))"
   ]
  },
  {
   "cell_type": "code",
   "execution_count": 12,
   "metadata": {
    "collapsed": false
   },
   "outputs": [
    {
     "name": "stdout",
     "output_type": "stream",
     "text": [
      "Found 106 pathways in wiki pathways,\n"
     ]
    },
    {
     "data": {
      "text/html": [
       "Fas Ligand (FasL) pathway and Stress induction of Heat Shock Proteins (HSP) regulation <a target='_blank' href='http://wikipathways.org/index.php/Pathway:WP314'>WP314</a>"
      ],
      "text/plain": [
       "<IPython.core.display.HTML object>"
      ]
     },
     "metadata": {},
     "output_type": "display_data"
    },
    {
     "data": {
      "text/html": [
       "Apoptosis Modulation by HSP70 <a target='_blank' href='http://wikipathways.org/index.php/Pathway:WP384'>WP384</a>"
      ],
      "text/plain": [
       "<IPython.core.display.HTML object>"
      ]
     },
     "metadata": {},
     "output_type": "display_data"
    },
    {
     "data": {
      "text/html": [
       "TP53 Regulates Transcription of Cell Death Genes <a target='_blank' href='http://wikipathways.org/index.php/Pathway:WP3802'>WP3802</a>"
      ],
      "text/plain": [
       "<IPython.core.display.HTML object>"
      ]
     },
     "metadata": {},
     "output_type": "display_data"
    },
    {
     "data": {
      "text/html": [
       "Intrinsic Pathway for Apoptosis <a target='_blank' href='http://wikipathways.org/index.php/Pathway:WP1841'>WP1841</a>"
      ],
      "text/plain": [
       "<IPython.core.display.HTML object>"
      ]
     },
     "metadata": {},
     "output_type": "display_data"
    },
    {
     "data": {
      "text/html": [
       "Integrated Lung Cancer Pathway <a target='_blank' href='http://wikipathways.org/index.php/Pathway:WP2512'>WP2512</a>"
      ],
      "text/plain": [
       "<IPython.core.display.HTML object>"
      ]
     },
     "metadata": {},
     "output_type": "display_data"
    },
    {
     "data": {
      "text/html": [
       "Amyotrophic lateral sclerosis (ALS) <a target='_blank' href='http://wikipathways.org/index.php/Pathway:WP2447'>WP2447</a>"
      ],
      "text/plain": [
       "<IPython.core.display.HTML object>"
      ]
     },
     "metadata": {},
     "output_type": "display_data"
    },
    {
     "data": {
      "text/html": [
       "Apoptosis Modulation and Signaling <a target='_blank' href='http://wikipathways.org/index.php/Pathway:WP1772'>WP1772</a>"
      ],
      "text/plain": [
       "<IPython.core.display.HTML object>"
      ]
     },
     "metadata": {},
     "output_type": "display_data"
    },
    {
     "data": {
      "text/html": [
       "Apoptosis <a target='_blank' href='http://wikipathways.org/index.php/Pathway:WP254'>WP254</a>"
      ],
      "text/plain": [
       "<IPython.core.display.HTML object>"
      ]
     },
     "metadata": {},
     "output_type": "display_data"
    },
    {
     "data": {
      "text/html": [
       "Apoptotic Signaling Pathway <a target='_blank' href='http://wikipathways.org/index.php/Pathway:WP3639'>WP3639</a>"
      ],
      "text/plain": [
       "<IPython.core.display.HTML object>"
      ]
     },
     "metadata": {},
     "output_type": "display_data"
    },
    {
     "data": {
      "text/html": [
       "TNF alpha Signaling Pathway <a target='_blank' href='http://wikipathways.org/index.php/Pathway:WP231'>WP231</a>"
      ],
      "text/plain": [
       "<IPython.core.display.HTML object>"
      ]
     },
     "metadata": {},
     "output_type": "display_data"
    },
    {
     "data": {
      "text/html": [
       "DNA Damage Response <a target='_blank' href='http://wikipathways.org/index.php/Pathway:WP707'>WP707</a>"
      ],
      "text/plain": [
       "<IPython.core.display.HTML object>"
      ]
     },
     "metadata": {},
     "output_type": "display_data"
    },
    {
     "data": {
      "text/html": [
       "Parkinsons Disease Pathway <a target='_blank' href='http://wikipathways.org/index.php/Pathway:WP2371'>WP2371</a>"
      ],
      "text/plain": [
       "<IPython.core.display.HTML object>"
      ]
     },
     "metadata": {},
     "output_type": "display_data"
    },
    {
     "data": {
      "text/html": [
       "miRNA Regulation of DNA Damage Response <a target='_blank' href='http://wikipathways.org/index.php/Pathway:WP1530'>WP1530</a>"
      ],
      "text/plain": [
       "<IPython.core.display.HTML object>"
      ]
     },
     "metadata": {},
     "output_type": "display_data"
    },
    {
     "data": {
      "text/html": [
       "Alzheimers Disease <a target='_blank' href='http://wikipathways.org/index.php/Pathway:WP2059'>WP2059</a>"
      ],
      "text/plain": [
       "<IPython.core.display.HTML object>"
      ]
     },
     "metadata": {},
     "output_type": "display_data"
    },
    {
     "data": {
      "text/html": [
       "Integrated Pancreatic Cancer Pathway <a target='_blank' href='http://wikipathways.org/index.php/Pathway:WP2377'>WP2377</a>"
      ],
      "text/plain": [
       "<IPython.core.display.HTML object>"
      ]
     },
     "metadata": {},
     "output_type": "display_data"
    },
    {
     "data": {
      "text/html": [
       "Integrin-mediated Cell Adhesion <a target='_blank' href='http://wikipathways.org/index.php/Pathway:WP185'>WP185</a>"
      ],
      "text/plain": [
       "<IPython.core.display.HTML object>"
      ]
     },
     "metadata": {},
     "output_type": "display_data"
    },
    {
     "data": {
      "text/html": [
       "Integrin cell surface interactions <a target='_blank' href='http://wikipathways.org/index.php/Pathway:WP1833'>WP1833</a>"
      ],
      "text/plain": [
       "<IPython.core.display.HTML object>"
      ]
     },
     "metadata": {},
     "output_type": "display_data"
    },
    {
     "data": {
      "text/html": [
       "Cell surface interactions at the vascular wall <a target='_blank' href='http://wikipathways.org/index.php/Pathway:WP1794'>WP1794</a>"
      ],
      "text/plain": [
       "<IPython.core.display.HTML object>"
      ]
     },
     "metadata": {},
     "output_type": "display_data"
    },
    {
     "data": {
      "text/html": [
       "Arrhythmogenic Right Ventricular Cardiomyopathy <a target='_blank' href='http://wikipathways.org/index.php/Pathway:WP2118'>WP2118</a>"
      ],
      "text/plain": [
       "<IPython.core.display.HTML object>"
      ]
     },
     "metadata": {},
     "output_type": "display_data"
    },
    {
     "data": {
      "text/html": [
       "Focal Adhesion <a target='_blank' href='http://wikipathways.org/index.php/Pathway:WP306'>WP306</a>"
      ],
      "text/plain": [
       "<IPython.core.display.HTML object>"
      ]
     },
     "metadata": {},
     "output_type": "display_data"
    },
    {
     "data": {
      "text/html": [
       "Immunoregulatory interactions between a Lymphoid and a non-Lymphoid cell <a target='_blank' href='http://wikipathways.org/index.php/Pathway:WP1829'>WP1829</a>"
      ],
      "text/plain": [
       "<IPython.core.display.HTML object>"
      ]
     },
     "metadata": {},
     "output_type": "display_data"
    },
    {
     "data": {
      "text/html": [
       "Platelet homeostasis <a target='_blank' href='http://wikipathways.org/index.php/Pathway:WP1885'>WP1885</a>"
      ],
      "text/plain": [
       "<IPython.core.display.HTML object>"
      ]
     },
     "metadata": {},
     "output_type": "display_data"
    },
    {
     "data": {
      "text/html": [
       "MAP kinase activation in TLR cascade <a target='_blank' href='http://wikipathways.org/index.php/Pathway:WP2792'>WP2792</a>"
      ],
      "text/plain": [
       "<IPython.core.display.HTML object>"
      ]
     },
     "metadata": {},
     "output_type": "display_data"
    },
    {
     "data": {
      "text/html": [
       "Serotonin HTR1 Group and FOS Pathway <a target='_blank' href='http://wikipathways.org/index.php/Pathway:WP722'>WP722</a>"
      ],
      "text/plain": [
       "<IPython.core.display.HTML object>"
      ]
     },
     "metadata": {},
     "output_type": "display_data"
    },
    {
     "data": {
      "text/html": [
       "Fas Ligand (FasL) pathway and Stress induction of Heat Shock Proteins (HSP) regulation <a target='_blank' href='http://wikipathways.org/index.php/Pathway:WP314'>WP314</a>"
      ],
      "text/plain": [
       "<IPython.core.display.HTML object>"
      ]
     },
     "metadata": {},
     "output_type": "display_data"
    },
    {
     "data": {
      "text/html": [
       "Oxidative Stress Induced Senescence <a target='_blank' href='http://wikipathways.org/index.php/Pathway:WP3404'>WP3404</a>"
      ],
      "text/plain": [
       "<IPython.core.display.HTML object>"
      ]
     },
     "metadata": {},
     "output_type": "display_data"
    },
    {
     "data": {
      "text/html": [
       "NGF signalling via TRKA from the plasma membrane <a target='_blank' href='http://wikipathways.org/index.php/Pathway:WP1873'>WP1873</a>"
      ],
      "text/plain": [
       "<IPython.core.display.HTML object>"
      ]
     },
     "metadata": {},
     "output_type": "display_data"
    },
    {
     "data": {
      "text/html": [
       "Signaling by VEGF <a target='_blank' href='http://wikipathways.org/index.php/Pathway:WP1919'>WP1919</a>"
      ],
      "text/plain": [
       "<IPython.core.display.HTML object>"
      ]
     },
     "metadata": {},
     "output_type": "display_data"
    },
    {
     "data": {
      "text/html": [
       "Hematopoietic Stem Cell Gene Regulation by GABP alpha/beta Complex <a target='_blank' href='http://wikipathways.org/index.php/Pathway:WP3657'>WP3657</a>"
      ],
      "text/plain": [
       "<IPython.core.display.HTML object>"
      ]
     },
     "metadata": {},
     "output_type": "display_data"
    },
    {
     "data": {
      "text/html": [
       "Wnt/beta-catenin Signaling Pathway in Leukemia <a target='_blank' href='http://wikipathways.org/index.php/Pathway:WP3658'>WP3658</a>"
      ],
      "text/plain": [
       "<IPython.core.display.HTML object>"
      ]
     },
     "metadata": {},
     "output_type": "display_data"
    },
    {
     "data": {
      "text/html": [
       "Signaling by Interleukins <a target='_blank' href='http://wikipathways.org/index.php/Pathway:WP3504'>WP3504</a>"
      ],
      "text/plain": [
       "<IPython.core.display.HTML object>"
      ]
     },
     "metadata": {},
     "output_type": "display_data"
    },
    {
     "data": {
      "text/html": [
       "GPCR ligand binding <a target='_blank' href='http://wikipathways.org/index.php/Pathway:WP1825'>WP1825</a>"
      ],
      "text/plain": [
       "<IPython.core.display.HTML object>"
      ]
     },
     "metadata": {},
     "output_type": "display_data"
    },
    {
     "data": {
      "text/html": [
       "GPCR downstream signaling <a target='_blank' href='http://wikipathways.org/index.php/Pathway:WP1824'>WP1824</a>"
      ],
      "text/plain": [
       "<IPython.core.display.HTML object>"
      ]
     },
     "metadata": {},
     "output_type": "display_data"
    },
    {
     "data": {
      "text/html": [
       "GPVI-mediated activation cascade <a target='_blank' href='http://wikipathways.org/index.php/Pathway:WP1826'>WP1826</a>"
      ],
      "text/plain": [
       "<IPython.core.display.HTML object>"
      ]
     },
     "metadata": {},
     "output_type": "display_data"
    },
    {
     "data": {
      "text/html": [
       "PI Metabolism <a target='_blank' href='http://wikipathways.org/index.php/Pathway:WP2747'>WP2747</a>"
      ],
      "text/plain": [
       "<IPython.core.display.HTML object>"
      ]
     },
     "metadata": {},
     "output_type": "display_data"
    },
    {
     "data": {
      "text/html": [
       "GPCR downstream signaling <a target='_blank' href='http://wikipathways.org/index.php/Pathway:WP1824'>WP1824</a>"
      ],
      "text/plain": [
       "<IPython.core.display.HTML object>"
      ]
     },
     "metadata": {},
     "output_type": "display_data"
    },
    {
     "data": {
      "text/html": [
       "GPCRs, Class A Rhodopsin-like <a target='_blank' href='http://wikipathways.org/index.php/Pathway:WP455'>WP455</a>"
      ],
      "text/plain": [
       "<IPython.core.display.HTML object>"
      ]
     },
     "metadata": {},
     "output_type": "display_data"
    },
    {
     "data": {
      "text/html": [
       "GPCR ligand binding <a target='_blank' href='http://wikipathways.org/index.php/Pathway:WP1825'>WP1825</a>"
      ],
      "text/plain": [
       "<IPython.core.display.HTML object>"
      ]
     },
     "metadata": {},
     "output_type": "display_data"
    },
    {
     "data": {
      "text/html": [
       "GPCR downstream signaling <a target='_blank' href='http://wikipathways.org/index.php/Pathway:WP1824'>WP1824</a>"
      ],
      "text/plain": [
       "<IPython.core.display.HTML object>"
      ]
     },
     "metadata": {},
     "output_type": "display_data"
    },
    {
     "data": {
      "text/html": [
       "IL-5 Signaling Pathway <a target='_blank' href='http://wikipathways.org/index.php/Pathway:WP127'>WP127</a>"
      ],
      "text/plain": [
       "<IPython.core.display.HTML object>"
      ]
     },
     "metadata": {},
     "output_type": "display_data"
    },
    {
     "data": {
      "text/html": [
       "Ectoderm Differentiation <a target='_blank' href='http://wikipathways.org/index.php/Pathway:WP2858'>WP2858</a>"
      ],
      "text/plain": [
       "<IPython.core.display.HTML object>"
      ]
     },
     "metadata": {},
     "output_type": "display_data"
    },
    {
     "data": {
      "text/html": [
       "Hematopoietic Stem Cell Differentiation <a target='_blank' href='http://wikipathways.org/index.php/Pathway:WP2849'>WP2849</a>"
      ],
      "text/plain": [
       "<IPython.core.display.HTML object>"
      ]
     },
     "metadata": {},
     "output_type": "display_data"
    },
    {
     "data": {
      "text/html": [
       "ACE Inhibitor Pathway <a target='_blank' href='http://wikipathways.org/index.php/Pathway:WP554'>WP554</a>"
      ],
      "text/plain": [
       "<IPython.core.display.HTML object>"
      ]
     },
     "metadata": {},
     "output_type": "display_data"
    },
    {
     "data": {
      "text/html": [
       "Regulation of Insulin-like Growth Factor (IGF) transport and uptake by Insulin-like Growth Factor Binding Proteins (IGFBPs) <a target='_blank' href='http://wikipathways.org/index.php/Pathway:WP2799'>WP2799</a>"
      ],
      "text/plain": [
       "<IPython.core.display.HTML object>"
      ]
     },
     "metadata": {},
     "output_type": "display_data"
    },
    {
     "data": {
      "text/html": [
       "Metabolism of Angiotensinogen to Angiotensins <a target='_blank' href='http://wikipathways.org/index.php/Pathway:WP2729'>WP2729</a>"
      ],
      "text/plain": [
       "<IPython.core.display.HTML object>"
      ]
     },
     "metadata": {},
     "output_type": "display_data"
    },
    {
     "data": {
      "text/html": [
       "Activation of Matrix Metalloproteinases <a target='_blank' href='http://wikipathways.org/index.php/Pathway:WP2769'>WP2769</a>"
      ],
      "text/plain": [
       "<IPython.core.display.HTML object>"
      ]
     },
     "metadata": {},
     "output_type": "display_data"
    },
    {
     "data": {
      "text/html": [
       "Degradation of the extracellular matrix <a target='_blank' href='http://wikipathways.org/index.php/Pathway:WP2774'>WP2774</a>"
      ],
      "text/plain": [
       "<IPython.core.display.HTML object>"
      ]
     },
     "metadata": {},
     "output_type": "display_data"
    },
    {
     "data": {
      "text/html": [
       "Mitochondrial LC-Fatty Acid Beta-Oxidation <a target='_blank' href='http://wikipathways.org/index.php/Pathway:WP368'>WP368</a>"
      ],
      "text/plain": [
       "<IPython.core.display.HTML object>"
      ]
     },
     "metadata": {},
     "output_type": "display_data"
    },
    {
     "data": {
      "text/html": [
       "Fatty Acid Beta Oxidation <a target='_blank' href='http://wikipathways.org/index.php/Pathway:WP143'>WP143</a>"
      ],
      "text/plain": [
       "<IPython.core.display.HTML object>"
      ]
     },
     "metadata": {},
     "output_type": "display_data"
    },
    {
     "data": {
      "text/html": [
       "Fatty acid, triacylglycerol, and ketone body metabolism <a target='_blank' href='http://wikipathways.org/index.php/Pathway:WP1817'>WP1817</a>"
      ],
      "text/plain": [
       "<IPython.core.display.HTML object>"
      ]
     },
     "metadata": {},
     "output_type": "display_data"
    },
    {
     "data": {
      "text/html": [
       "Hematopoietic Stem Cell Differentiation <a target='_blank' href='http://wikipathways.org/index.php/Pathway:WP2849'>WP2849</a>"
      ],
      "text/plain": [
       "<IPython.core.display.HTML object>"
      ]
     },
     "metadata": {},
     "output_type": "display_data"
    },
    {
     "data": {
      "text/html": [
       "Chromatin modifying enzymes <a target='_blank' href='http://wikipathways.org/index.php/Pathway:WP3362'>WP3362</a>"
      ],
      "text/plain": [
       "<IPython.core.display.HTML object>"
      ]
     },
     "metadata": {},
     "output_type": "display_data"
    },
    {
     "data": {
      "text/html": [
       "Signaling by Interleukins <a target='_blank' href='http://wikipathways.org/index.php/Pathway:WP3504'>WP3504</a>"
      ],
      "text/plain": [
       "<IPython.core.display.HTML object>"
      ]
     },
     "metadata": {},
     "output_type": "display_data"
    },
    {
     "data": {
      "text/html": [
       "Sleep regulation <a target='_blank' href='http://wikipathways.org/index.php/Pathway:WP3591'>WP3591</a>"
      ],
      "text/plain": [
       "<IPython.core.display.HTML object>"
      ]
     },
     "metadata": {},
     "output_type": "display_data"
    },
    {
     "data": {
      "text/html": [
       "Circadian rythm related genes <a target='_blank' href='http://wikipathways.org/index.php/Pathway:WP3594'>WP3594</a>"
      ],
      "text/plain": [
       "<IPython.core.display.HTML object>"
      ]
     },
     "metadata": {},
     "output_type": "display_data"
    },
    {
     "data": {
      "text/html": [
       "Metabolism of nucleotides <a target='_blank' href='http://wikipathways.org/index.php/Pathway:WP1851'>WP1851</a>"
      ],
      "text/plain": [
       "<IPython.core.display.HTML object>"
      ]
     },
     "metadata": {},
     "output_type": "display_data"
    },
    {
     "data": {
      "text/html": [
       "Signal regulatory protein (SIRP) family interactions <a target='_blank' href='http://wikipathways.org/index.php/Pathway:WP1909'>WP1909</a>"
      ],
      "text/plain": [
       "<IPython.core.display.HTML object>"
      ]
     },
     "metadata": {},
     "output_type": "display_data"
    },
    {
     "data": {
      "text/html": [
       "Growth hormone receptor signaling <a target='_blank' href='http://wikipathways.org/index.php/Pathway:WP2657'>WP2657</a>"
      ],
      "text/plain": [
       "<IPython.core.display.HTML object>"
      ]
     },
     "metadata": {},
     "output_type": "display_data"
    },
    {
     "data": {
      "text/html": [
       "IL-3 Signaling Pathway <a target='_blank' href='http://wikipathways.org/index.php/Pathway:WP286'>WP286</a>"
      ],
      "text/plain": [
       "<IPython.core.display.HTML object>"
      ]
     },
     "metadata": {},
     "output_type": "display_data"
    },
    {
     "data": {
      "text/html": [
       "Interferon type I signaling pathways <a target='_blank' href='http://wikipathways.org/index.php/Pathway:WP585'>WP585</a>"
      ],
      "text/plain": [
       "<IPython.core.display.HTML object>"
      ]
     },
     "metadata": {},
     "output_type": "display_data"
    },
    {
     "data": {
      "text/html": [
       "B Cell Receptor Signaling Pathway <a target='_blank' href='http://wikipathways.org/index.php/Pathway:WP3885'>WP3885</a>"
      ],
      "text/plain": [
       "<IPython.core.display.HTML object>"
      ]
     },
     "metadata": {},
     "output_type": "display_data"
    },
    {
     "data": {
      "text/html": [
       "B Cell Receptor Signaling Pathway <a target='_blank' href='http://wikipathways.org/index.php/Pathway:WP3884'>WP3884</a>"
      ],
      "text/plain": [
       "<IPython.core.display.HTML object>"
      ]
     },
     "metadata": {},
     "output_type": "display_data"
    },
    {
     "data": {
      "text/html": [
       "B Cell Receptor Signaling Pathway <a target='_blank' href='http://wikipathways.org/index.php/Pathway:WP23'>WP23</a>"
      ],
      "text/plain": [
       "<IPython.core.display.HTML object>"
      ]
     },
     "metadata": {},
     "output_type": "display_data"
    },
    {
     "data": {
      "text/html": [
       "Interleukin-3, 5 and GM-CSF signaling <a target='_blank' href='http://wikipathways.org/index.php/Pathway:WP1840'>WP1840</a>"
      ],
      "text/plain": [
       "<IPython.core.display.HTML object>"
      ]
     },
     "metadata": {},
     "output_type": "display_data"
    },
    {
     "data": {
      "text/html": [
       "GPVI-mediated activation cascade <a target='_blank' href='http://wikipathways.org/index.php/Pathway:WP1826'>WP1826</a>"
      ],
      "text/plain": [
       "<IPython.core.display.HTML object>"
      ]
     },
     "metadata": {},
     "output_type": "display_data"
    },
    {
     "data": {
      "text/html": [
       "Platelet homeostasis <a target='_blank' href='http://wikipathways.org/index.php/Pathway:WP1885'>WP1885</a>"
      ],
      "text/plain": [
       "<IPython.core.display.HTML object>"
      ]
     },
     "metadata": {},
     "output_type": "display_data"
    },
    {
     "data": {
      "text/html": [
       "Kit receptor signaling pathway <a target='_blank' href='http://wikipathways.org/index.php/Pathway:WP304'>WP304</a>"
      ],
      "text/plain": [
       "<IPython.core.display.HTML object>"
      ]
     },
     "metadata": {},
     "output_type": "display_data"
    },
    {
     "data": {
      "text/html": [
       "Costimulation by the CD28 family <a target='_blank' href='http://wikipathways.org/index.php/Pathway:WP1799'>WP1799</a>"
      ],
      "text/plain": [
       "<IPython.core.display.HTML object>"
      ]
     },
     "metadata": {},
     "output_type": "display_data"
    },
    {
     "data": {
      "text/html": [
       "IL-4 Signaling Pathway <a target='_blank' href='http://wikipathways.org/index.php/Pathway:WP395'>WP395</a>"
      ],
      "text/plain": [
       "<IPython.core.display.HTML object>"
      ]
     },
     "metadata": {},
     "output_type": "display_data"
    },
    {
     "data": {
      "text/html": [
       "Prolactin Signaling Pathway <a target='_blank' href='http://wikipathways.org/index.php/Pathway:WP2037'>WP2037</a>"
      ],
      "text/plain": [
       "<IPython.core.display.HTML object>"
      ]
     },
     "metadata": {},
     "output_type": "display_data"
    },
    {
     "data": {
      "text/html": [
       "Signaling by SCF-KIT <a target='_blank' href='http://wikipathways.org/index.php/Pathway:WP2713'>WP2713</a>"
      ],
      "text/plain": [
       "<IPython.core.display.HTML object>"
      ]
     },
     "metadata": {},
     "output_type": "display_data"
    },
    {
     "data": {
      "text/html": [
       "Cell surface interactions at the vascular wall <a target='_blank' href='http://wikipathways.org/index.php/Pathway:WP1794'>WP1794</a>"
      ],
      "text/plain": [
       "<IPython.core.display.HTML object>"
      ]
     },
     "metadata": {},
     "output_type": "display_data"
    },
    {
     "data": {
      "text/html": [
       "Interleukin-2 signaling <a target='_blank' href='http://wikipathways.org/index.php/Pathway:WP2732'>WP2732</a>"
      ],
      "text/plain": [
       "<IPython.core.display.HTML object>"
      ]
     },
     "metadata": {},
     "output_type": "display_data"
    },
    {
     "data": {
      "text/html": [
       "JAK/STAT <a target='_blank' href='http://wikipathways.org/index.php/Pathway:WP2593'>WP2593</a>"
      ],
      "text/plain": [
       "<IPython.core.display.HTML object>"
      ]
     },
     "metadata": {},
     "output_type": "display_data"
    },
    {
     "data": {
      "text/html": [
       "Regulation of toll-like receptor signaling pathway <a target='_blank' href='http://wikipathways.org/index.php/Pathway:WP1449'>WP1449</a>"
      ],
      "text/plain": [
       "<IPython.core.display.HTML object>"
      ]
     },
     "metadata": {},
     "output_type": "display_data"
    },
    {
     "data": {
      "text/html": [
       "Interferon gamma signaling <a target='_blank' href='http://wikipathways.org/index.php/Pathway:WP1836'>WP1836</a>"
      ],
      "text/plain": [
       "<IPython.core.display.HTML object>"
      ]
     },
     "metadata": {},
     "output_type": "display_data"
    },
    {
     "data": {
      "text/html": [
       "Interferon alpha/beta signaling <a target='_blank' href='http://wikipathways.org/index.php/Pathway:WP1835'>WP1835</a>"
      ],
      "text/plain": [
       "<IPython.core.display.HTML object>"
      ]
     },
     "metadata": {},
     "output_type": "display_data"
    },
    {
     "data": {
      "text/html": [
       "VEGFA-VEGFR2 Signaling Pathway <a target='_blank' href='http://wikipathways.org/index.php/Pathway:WP3888'>WP3888</a>"
      ],
      "text/plain": [
       "<IPython.core.display.HTML object>"
      ]
     },
     "metadata": {},
     "output_type": "display_data"
    },
    {
     "data": {
      "text/html": [
       "Signaling by the B Cell Receptor (BCR) <a target='_blank' href='http://wikipathways.org/index.php/Pathway:WP2746'>WP2746</a>"
      ],
      "text/plain": [
       "<IPython.core.display.HTML object>"
      ]
     },
     "metadata": {},
     "output_type": "display_data"
    },
    {
     "data": {
      "text/html": [
       "Cell surface interactions at the vascular wall <a target='_blank' href='http://wikipathways.org/index.php/Pathway:WP1794'>WP1794</a>"
      ],
      "text/plain": [
       "<IPython.core.display.HTML object>"
      ]
     },
     "metadata": {},
     "output_type": "display_data"
    },
    {
     "data": {
      "text/html": [
       "Human Complement System <a target='_blank' href='http://wikipathways.org/index.php/Pathway:WP2806'>WP2806</a>"
      ],
      "text/plain": [
       "<IPython.core.display.HTML object>"
      ]
     },
     "metadata": {},
     "output_type": "display_data"
    },
    {
     "data": {
      "text/html": [
       "Immunoregulatory interactions between a Lymphoid and a non-Lymphoid cell <a target='_blank' href='http://wikipathways.org/index.php/Pathway:WP1829'>WP1829</a>"
      ],
      "text/plain": [
       "<IPython.core.display.HTML object>"
      ]
     },
     "metadata": {},
     "output_type": "display_data"
    },
    {
     "data": {
      "text/html": [
       "Benzene metabolism <a target='_blank' href='http://wikipathways.org/index.php/Pathway:WP3891'>WP3891</a>"
      ],
      "text/plain": [
       "<IPython.core.display.HTML object>"
      ]
     },
     "metadata": {},
     "output_type": "display_data"
    },
    {
     "data": {
      "text/html": [
       "Amyotrophic lateral sclerosis (ALS) SOD1 - CHMP2B MODEL <a target='_blank' href='http://wikipathways.org/index.php/Pathway:WP2847'>WP2847</a>"
      ],
      "text/plain": [
       "<IPython.core.display.HTML object>"
      ]
     },
     "metadata": {},
     "output_type": "display_data"
    },
    {
     "data": {
      "text/html": [
       "Selenium Micronutrient Network <a target='_blank' href='http://wikipathways.org/index.php/Pathway:WP15'>WP15</a>"
      ],
      "text/plain": [
       "<IPython.core.display.HTML object>"
      ]
     },
     "metadata": {},
     "output_type": "display_data"
    },
    {
     "data": {
      "text/html": [
       "Folate Metabolism <a target='_blank' href='http://wikipathways.org/index.php/Pathway:WP176'>WP176</a>"
      ],
      "text/plain": [
       "<IPython.core.display.HTML object>"
      ]
     },
     "metadata": {},
     "output_type": "display_data"
    },
    {
     "data": {
      "text/html": [
       "Vitamin B12 Metabolism <a target='_blank' href='http://wikipathways.org/index.php/Pathway:WP1533'>WP1533</a>"
      ],
      "text/plain": [
       "<IPython.core.display.HTML object>"
      ]
     },
     "metadata": {},
     "output_type": "display_data"
    },
    {
     "data": {
      "text/html": [
       "Complement Activation <a target='_blank' href='http://wikipathways.org/index.php/Pathway:WP545'>WP545</a>"
      ],
      "text/plain": [
       "<IPython.core.display.HTML object>"
      ]
     },
     "metadata": {},
     "output_type": "display_data"
    },
    {
     "data": {
      "text/html": [
       "Human Complement System <a target='_blank' href='http://wikipathways.org/index.php/Pathway:WP2806'>WP2806</a>"
      ],
      "text/plain": [
       "<IPython.core.display.HTML object>"
      ]
     },
     "metadata": {},
     "output_type": "display_data"
    },
    {
     "data": {
      "text/html": [
       "Response to elevated platelet cytosolic Ca2+ <a target='_blank' href='http://wikipathways.org/index.php/Pathway:WP1903'>WP1903</a>"
      ],
      "text/plain": [
       "<IPython.core.display.HTML object>"
      ]
     },
     "metadata": {},
     "output_type": "display_data"
    },
    {
     "data": {
      "text/html": [
       "Complement cascade <a target='_blank' href='http://wikipathways.org/index.php/Pathway:WP1798'>WP1798</a>"
      ],
      "text/plain": [
       "<IPython.core.display.HTML object>"
      ]
     },
     "metadata": {},
     "output_type": "display_data"
    },
    {
     "data": {
      "text/html": [
       "Signaling by Interleukins <a target='_blank' href='http://wikipathways.org/index.php/Pathway:WP3504'>WP3504</a>"
      ],
      "text/plain": [
       "<IPython.core.display.HTML object>"
      ]
     },
     "metadata": {},
     "output_type": "display_data"
    },
    {
     "data": {
      "text/html": [
       "Formation of Fibrin Clot (Clotting Cascade) <a target='_blank' href='http://wikipathways.org/index.php/Pathway:WP1818'>WP1818</a>"
      ],
      "text/plain": [
       "<IPython.core.display.HTML object>"
      ]
     },
     "metadata": {},
     "output_type": "display_data"
    },
    {
     "data": {
      "text/html": [
       "MyD88:Mal cascade initiated on plasma membrane <a target='_blank' href='http://wikipathways.org/index.php/Pathway:WP2761'>WP2761</a>"
      ],
      "text/plain": [
       "<IPython.core.display.HTML object>"
      ]
     },
     "metadata": {},
     "output_type": "display_data"
    },
    {
     "data": {
      "text/html": [
       "DAP12 interactions <a target='_blank' href='http://wikipathways.org/index.php/Pathway:WP2694'>WP2694</a>"
      ],
      "text/plain": [
       "<IPython.core.display.HTML object>"
      ]
     },
     "metadata": {},
     "output_type": "display_data"
    },
    {
     "data": {
      "text/html": [
       "Thymic Stromal LymphoPoietin (TSLP) Signaling Pathway <a target='_blank' href='http://wikipathways.org/index.php/Pathway:WP2203'>WP2203</a>"
      ],
      "text/plain": [
       "<IPython.core.display.HTML object>"
      ]
     },
     "metadata": {},
     "output_type": "display_data"
    },
    {
     "data": {
      "text/html": [
       "IL-5 Signaling Pathway <a target='_blank' href='http://wikipathways.org/index.php/Pathway:WP127'>WP127</a>"
      ],
      "text/plain": [
       "<IPython.core.display.HTML object>"
      ]
     },
     "metadata": {},
     "output_type": "display_data"
    },
    {
     "data": {
      "text/html": [
       "Kit receptor signaling pathway <a target='_blank' href='http://wikipathways.org/index.php/Pathway:WP304'>WP304</a>"
      ],
      "text/plain": [
       "<IPython.core.display.HTML object>"
      ]
     },
     "metadata": {},
     "output_type": "display_data"
    },
    {
     "data": {
      "text/html": [
       "B Cell Receptor Signaling Pathway <a target='_blank' href='http://wikipathways.org/index.php/Pathway:WP3885'>WP3885</a>"
      ],
      "text/plain": [
       "<IPython.core.display.HTML object>"
      ]
     },
     "metadata": {},
     "output_type": "display_data"
    },
    {
     "data": {
      "text/html": [
       "B Cell Receptor Signaling Pathway <a target='_blank' href='http://wikipathways.org/index.php/Pathway:WP3884'>WP3884</a>"
      ],
      "text/plain": [
       "<IPython.core.display.HTML object>"
      ]
     },
     "metadata": {},
     "output_type": "display_data"
    },
    {
     "data": {
      "text/html": [
       "B Cell Receptor Signaling Pathway <a target='_blank' href='http://wikipathways.org/index.php/Pathway:WP23'>WP23</a>"
      ],
      "text/plain": [
       "<IPython.core.display.HTML object>"
      ]
     },
     "metadata": {},
     "output_type": "display_data"
    },
    {
     "data": {
      "text/html": [
       "Regulation of toll-like receptor signaling pathway <a target='_blank' href='http://wikipathways.org/index.php/Pathway:WP1449'>WP1449</a>"
      ],
      "text/plain": [
       "<IPython.core.display.HTML object>"
      ]
     },
     "metadata": {},
     "output_type": "display_data"
    },
    {
     "data": {
      "text/html": [
       "RHO GTPases Activate WASPs and WAVEs <a target='_blank' href='http://wikipathways.org/index.php/Pathway:WP3388'>WP3388</a>"
      ],
      "text/plain": [
       "<IPython.core.display.HTML object>"
      ]
     },
     "metadata": {},
     "output_type": "display_data"
    },
    {
     "data": {
      "text/html": [
       "Fc epsilon receptor (FCERI) signaling <a target='_blank' href='http://wikipathways.org/index.php/Pathway:WP2759'>WP2759</a>"
      ],
      "text/plain": [
       "<IPython.core.display.HTML object>"
      ]
     },
     "metadata": {},
     "output_type": "display_data"
    },
    {
     "data": {
      "text/html": [
       "Signaling by the B Cell Receptor (BCR) <a target='_blank' href='http://wikipathways.org/index.php/Pathway:WP2746'>WP2746</a>"
      ],
      "text/plain": [
       "<IPython.core.display.HTML object>"
      ]
     },
     "metadata": {},
     "output_type": "display_data"
    },
    {
     "data": {
      "text/html": [
       "Fcgamma receptor (FCGR) dependent phagocytosis <a target='_blank' href='http://wikipathways.org/index.php/Pathway:WP2719'>WP2719</a>"
      ],
      "text/plain": [
       "<IPython.core.display.HTML object>"
      ]
     },
     "metadata": {},
     "output_type": "display_data"
    }
   ],
   "source": [
    "wiki_pathways = []\n",
    "for gene in druggable_genes.keys():\n",
    "    wiki_pathways.extend(PublicDatabase.search_wp(gene, species=\"Homo_sapiens\"))\n",
    "print \"Found\", len(wiki_pathways),\"pathways in wiki pathways,\"\n",
    "for p in wiki_pathways:\n",
    "    display(HTML(\"{} <a target='_blank' href='http://wikipathways.org/index.php/Pathway:{}'>{}</a>\".format(\n",
    "                p.description, p.id, p.id)))"
   ]
  }
 ],
 "metadata": {
  "kernelspec": {
   "display_name": "Python 2",
   "language": "python",
   "name": "python2"
  },
  "language_info": {
   "codemirror_mode": {
    "name": "ipython",
    "version": 2
   },
   "file_extension": ".py",
   "mimetype": "text/x-python",
   "name": "python",
   "nbconvert_exporter": "python",
   "pygments_lexer": "ipython2",
   "version": "2.7.12"
  }
 },
 "nbformat": 4,
 "nbformat_minor": 1
}
