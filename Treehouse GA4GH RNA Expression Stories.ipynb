{
 "cells": [
  {
   "cell_type": "markdown",
   "metadata": {},
   "source": [
    "### Treehouse analysis stories coded up against the GA4GH RNASeq API\n",
    "\n",
    "References:\n",
    "\n",
    "https://ga4gh-schemas.readthedocs.io/en/latest/schemas/index.html\n",
    "\n",
    "https://github.com/BD2KGenomics/bioapi-examples\n",
    "\n",
    "https://github.com/ga4gh/ga4gh-client/blob/master/ga4gh/client/client.py"
   ]
  },
  {
   "cell_type": "code",
   "execution_count": 1,
   "metadata": {
    "collapsed": false
   },
   "outputs": [
    {
     "name": "stdout",
     "output_type": "stream",
     "text": [
      "ga4gh.client version 0.0.4.dev9+ngd79dd00.d20170106\n"
     ]
    }
   ],
   "source": [
    "import pandas as pd\n",
    "import numpy as np\n",
    "\n",
    "!pip2 install -q --upgrade ga4gh --pre\n",
    "import ga4gh\n",
    "from ga4gh.client import client\n",
    "print \"ga4gh.client version\", ga4gh.client.__version__"
   ]
  },
  {
   "cell_type": "code",
   "execution_count": 2,
   "metadata": {
    "collapsed": false
   },
   "outputs": [],
   "source": [
    "# See https://github.com/ga4gh/ga4gh-client/blob/master/ga4gh/client/client.py\n",
    "c = client.HttpClient(\"http://1kgenomes.ga4gh.org\")\n",
    "\n",
    "# Experimental Recompute Server\n",
    "# c = client.HttpClient(\"http://13.93.238.3/ga4gh/\")"
   ]
  },
  {
   "cell_type": "code",
   "execution_count": 3,
   "metadata": {
    "collapsed": false
   },
   "outputs": [
    {
     "name": "stdout",
     "output_type": "stream",
     "text": [
      "dataset: id: \"WyIxa2dlbm9tZXMiXQ\"\n",
      "name: \"1kgenomes\"\n",
      "description: \"Variants from the 1000 Genomes project and GENCODE genes annotations\"\n",
      "\n"
     ]
    }
   ],
   "source": [
    "# Use the first dataset\n",
    "dataset = c.search_datasets().next()\n",
    "print \"dataset:\", dataset"
   ]
  },
  {
   "cell_type": "code",
   "execution_count": 8,
   "metadata": {
    "collapsed": false
   },
   "outputs": [
    {
     "name": "stdout",
     "output_type": "stream",
     "text": [
      "quantification_set: id: \"WyIxa2dlbm9tZXMiLCJFLUdFVVYtMSBSTkEgUXVhbnRpZmljYXRpb24iXQ\"\n",
      "dataset_id: \"WyIxa2dlbm9tZXMiXQ\"\n",
      "name: \"E-GEUV-1 RNA Quantification\"\n",
      "\n"
     ]
    }
   ],
   "source": [
    "quantification_set = c.search_rna_quantification_sets(dataset_id=dataset.id).next()\n",
    "print \"quantification_set:\", quantification_set"
   ]
  },
  {
   "cell_type": "markdown",
   "metadata": {},
   "source": [
    "Additional user stories -- things that right now we're implementing in pandas...\n",
    "\n",
    " - I have a mapping {feature -> threshold value} and a sample. I'd like to get a vector of (feature, expression value) for all features in that sample where expression value > feature[threshold]. \n",
    "\n",
    "- I'd like to get the features in a sample sorted by expression value.\n",
    "\n",
    "\n",
    "- I have a set of sample identifiers. For each feature in samples in that set, I'd like to get statistics on its expression values within that set (median, quartiles, interquartile range).\n",
    "\n",
    "Cheers,\n",
    "Ellen\n",
    "\n",
    "As a user I’d like to store 10k expression profiles plus phenotype information easily\n",
    "\n",
    "As a user I’d like to extract all or a subset of those expression values into a large matrix easily by phenotype and/or gene/expression level\n",
    "\n",
    "As a user I’d like to extract a single expression profile for Not1 analysis against the prior 2 requirements"
   ]
  },
  {
   "cell_type": "markdown",
   "metadata": {
    "collapsed": false
   },
   "source": [
    "#### Query by phenotype\n",
    "\n",
    "\"I'd like to generate a set of samples based on phenotype information (not just \"disease = ALAL\" but more complex queries, able to include or exclude samples by identifier)\"\n",
    "\n",
    "\"Get the expression levels for all female Thyroid tumor samples\""
   ]
  },
  {
   "cell_type": "code",
   "execution_count": 13,
   "metadata": {
    "collapsed": false
   },
   "outputs": [
    {
     "name": "stdout",
     "output_type": "stream",
     "text": [
      "Samples found: 107\n",
      "CPU times: user 3.34 s, sys: 24 ms, total: 3.37 s\n",
      "Wall time: 9.52 s\n"
     ]
    }
   ],
   "source": [
    "%%time\n",
    "# All males from the GBR population\n",
    "biosample_ids = [b.id for b in c.search_biosamples(dataset_id=dataset.id) \n",
    "                 if b.info[\"Population\"].values \n",
    "                 and \"GBR\" in [v.string_value for v in b.info[\"Population\"].values]\n",
    "                 and \"male\" in c.get_individual(b.individual_id).sex.term]\n",
    "print \"Samples found:\", len(biosample_ids)"
   ]
  },
  {
   "cell_type": "code",
   "execution_count": 98,
   "metadata": {
    "collapsed": false
   },
   "outputs": [],
   "source": [
    "rna_quantifications = [r for r in c.search_rna_quantifications(rna_quantification_set_id=quantification_set.id)\n",
    "                       if r.biosample_id in biosample_ids]"
   ]
  },
  {
   "cell_type": "code",
   "execution_count": 112,
   "metadata": {
    "collapsed": false
   },
   "outputs": [],
   "source": [
    "expression = [{r.biosample_id: list(c.search_expression_levels(rna_quantification_id=r.id, \n",
    "                                              feature_ids= [\"ENST00000619216.1\", \"ENST00000469289.1\"]))\n",
    "              for r in rna_quantifications}]"
   ]
  },
  {
   "cell_type": "code",
   "execution_count": 114,
   "metadata": {
    "collapsed": false
   },
   "outputs": [
    {
     "data": {
      "text/plain": [
       "{u'WyIxa2dlbm9tZXMiLCJiIiwiSEcwMDA5NiJd': [id: \"WyIxa2dlbm9tZXMiLCJFLUdFVVYtMSBSTkEgUXVhbnRpZmljYXRpb24iLCJIRzAwMDk2IiwiRU5TVDAwMDAwNjE5MjE2LjFIRzAwMDk2Il0\"\n",
       "  name: \"ENST00000619216.1\"\n",
       "  feature_id: \"ENST00000619216.1\"\n",
       "  rna_quantification_id: \"WyIxa2dlbm9tZXMiLCJFLUdFVVYtMSBSTkEgUXVhbnRpZmljYXRpb24iLCJIRzAwMDk2Il0\"\n",
       "  raw_read_count: 1.0\n",
       "  expression: 3.34066\n",
       "  is_normalized: true\n",
       "  units: TPM],\n",
       " u'WyIxa2dlbm9tZXMiLCJiIiwiSEcwMDA5OSJd': [id: \"WyIxa2dlbm9tZXMiLCJFLUdFVVYtMSBSTkEgUXVhbnRpZmljYXRpb24iLCJIRzAwMDk5IiwiRU5TVDAwMDAwNjE5MjE2LjFIRzAwMDk5Il0\"\n",
       "  name: \"ENST00000619216.1\"\n",
       "  feature_id: \"ENST00000619216.1\"\n",
       "  rna_quantification_id: \"WyIxa2dlbm9tZXMiLCJFLUdFVVYtMSBSTkEgUXVhbnRpZmljYXRpb24iLCJIRzAwMDk5Il0\"\n",
       "  raw_read_count: 1.0\n",
       "  expression: 1.75\n",
       "  is_normalized: true\n",
       "  units: TPM],\n",
       " u'WyIxa2dlbm9tZXMiLCJiIiwiSEcwMDEwMCJd': [id: \"WyIxa2dlbm9tZXMiLCJFLUdFVVYtMSBSTkEgUXVhbnRpZmljYXRpb24iLCJIRzAwMTAwIiwiRU5TVDAwMDAwNjE5MjE2LjFIRzAwMTAwIl0\"\n",
       "  name: \"ENST00000619216.1\"\n",
       "  feature_id: \"ENST00000619216.1\"\n",
       "  rna_quantification_id: \"WyIxa2dlbm9tZXMiLCJFLUdFVVYtMSBSTkEgUXVhbnRpZmljYXRpb24iLCJIRzAwMTAwIl0\"\n",
       "  raw_read_count: 1.0\n",
       "  expression: 2.0\n",
       "  is_normalized: true\n",
       "  units: TPM],\n",
       " u'WyIxa2dlbm9tZXMiLCJiIiwiSEcwMDEwMSJd': [id: \"WyIxa2dlbm9tZXMiLCJFLUdFVVYtMSBSTkEgUXVhbnRpZmljYXRpb24iLCJIRzAwMTAxIiwiRU5TVDAwMDAwNjE5MjE2LjFIRzAwMTAxIl0\"\n",
       "  name: \"ENST00000619216.1\"\n",
       "  feature_id: \"ENST00000619216.1\"\n",
       "  rna_quantification_id: \"WyIxa2dlbm9tZXMiLCJFLUdFVVYtMSBSTkEgUXVhbnRpZmljYXRpb24iLCJIRzAwMTAxIl0\"\n",
       "  raw_read_count: 1.0\n",
       "  expression: 1.96875\n",
       "  is_normalized: true\n",
       "  units: TPM],\n",
       " u'WyIxa2dlbm9tZXMiLCJiIiwiSEcwMDEwMiJd': [id: \"WyIxa2dlbm9tZXMiLCJFLUdFVVYtMSBSTkEgUXVhbnRpZmljYXRpb24iLCJIRzAwMTAyIiwiRU5TVDAwMDAwNjE5MjE2LjFIRzAwMTAyIl0\"\n",
       "  name: \"ENST00000619216.1\"\n",
       "  feature_id: \"ENST00000619216.1\"\n",
       "  rna_quantification_id: \"WyIxa2dlbm9tZXMiLCJFLUdFVVYtMSBSTkEgUXVhbnRpZmljYXRpb24iLCJIRzAwMTAyIl0\"\n",
       "  raw_read_count: 1.0\n",
       "  expression: 0.75\n",
       "  is_normalized: true\n",
       "  units: TPM],\n",
       " u'WyIxa2dlbm9tZXMiLCJiIiwiSEcwMDEwMyJd': [id: \"WyIxa2dlbm9tZXMiLCJFLUdFVVYtMSBSTkEgUXVhbnRpZmljYXRpb24iLCJIRzAwMTAzIiwiRU5TVDAwMDAwNjE5MjE2LjFIRzAwMTAzIl0\"\n",
       "  name: \"ENST00000619216.1\"\n",
       "  feature_id: \"ENST00000619216.1\"\n",
       "  rna_quantification_id: \"WyIxa2dlbm9tZXMiLCJFLUdFVVYtMSBSTkEgUXVhbnRpZmljYXRpb24iLCJIRzAwMTAzIl0\"\n",
       "  raw_read_count: 1.0\n",
       "  expression: 0.9375\n",
       "  is_normalized: true\n",
       "  units: TPM],\n",
       " u'WyIxa2dlbm9tZXMiLCJiIiwiSEcwMDEwNCJd': [id: \"WyIxa2dlbm9tZXMiLCJFLUdFVVYtMSBSTkEgUXVhbnRpZmljYXRpb24iLCJIRzAwMTA0IiwiRU5TVDAwMDAwNjE5MjE2LjFIRzAwMTA0Il0\"\n",
       "  name: \"ENST00000619216.1\"\n",
       "  feature_id: \"ENST00000619216.1\"\n",
       "  rna_quantification_id: \"WyIxa2dlbm9tZXMiLCJFLUdFVVYtMSBSTkEgUXVhbnRpZmljYXRpb24iLCJIRzAwMTA0Il0\"\n",
       "  raw_read_count: 1.0\n",
       "  expression: 1.5\n",
       "  is_normalized: true\n",
       "  units: TPM,\n",
       "  id: \"WyIxa2dlbm9tZXMiLCJFLUdFVVYtMSBSTkEgUXVhbnRpZmljYXRpb24iLCJIRzAwMTA0IiwiRU5TVDAwMDAwNDY5Mjg5LjFIRzAwMTA0Il0\"\n",
       "  name: \"ENST00000469289.1\"\n",
       "  feature_id: \"ENST00000469289.1\"\n",
       "  rna_quantification_id: \"WyIxa2dlbm9tZXMiLCJFLUdFVVYtMSBSTkEgUXVhbnRpZmljYXRpb24iLCJIRzAwMTA0Il0\"\n",
       "  raw_read_count: 1.0\n",
       "  expression: 1.13687\n",
       "  is_normalized: true\n",
       "  units: TPM]}"
      ]
     },
     "execution_count": 114,
     "metadata": {},
     "output_type": "execute_result"
    }
   ],
   "source": [
    "expression[0]"
   ]
  },
  {
   "cell_type": "code",
   "execution_count": 4,
   "metadata": {
    "collapsed": false
   },
   "outputs": [
    {
     "ename": "NameError",
     "evalue": "name 'expression' is not defined",
     "output_type": "error",
     "traceback": [
      "\u001b[1;31m\u001b[0m",
      "\u001b[1;31mNameError\u001b[0mTraceback (most recent call last)",
      "\u001b[1;32m<ipython-input-4-63a95927102b>\u001b[0m in \u001b[0;36m<module>\u001b[1;34m()\u001b[0m\n\u001b[0;32m      2\u001b[0m \u001b[1;31m#                                for f in feature], index='feature_id')\u001b[0m\u001b[1;33m\u001b[0m\u001b[1;33m\u001b[0m\u001b[0m\n\u001b[0;32m      3\u001b[0m \u001b[1;31m# e.head()\u001b[0m\u001b[1;33m\u001b[0m\u001b[1;33m\u001b[0m\u001b[0m\n\u001b[1;32m----> 4\u001b[1;33m \u001b[0ma\u001b[0m \u001b[1;33m=\u001b[0m \u001b[0mexpression\u001b[0m\u001b[1;33m[\u001b[0m\u001b[1;36m0\u001b[0m\u001b[1;33m]\u001b[0m\u001b[1;33m[\u001b[0m\u001b[1;34m\"WyIxa2dlbm9tZXMiLCJiIiwiSEcwMDA5NiJd\"\u001b[0m\u001b[1;33m]\u001b[0m\u001b[1;33m[\u001b[0m\u001b[1;36m0\u001b[0m\u001b[1;33m]\u001b[0m\u001b[1;33m\u001b[0m\u001b[0m\n\u001b[0m",
      "\u001b[1;31mNameError\u001b[0m: name 'expression' is not defined"
     ]
    }
   ],
   "source": [
    "# e = pd.DataFrame.from_records([{'feature_id': f.feature_id, 'expression': f.expression} \n",
    "#                                for f in feature], index='feature_id')\n",
    "# e.head()\n",
    "a = expression[0][\"WyIxa2dlbm9tZXMiLCJiIiwiSEcwMDA5NiJd\"][0]"
   ]
  }
 ],
 "metadata": {
  "kernelspec": {
   "display_name": "Python 2",
   "language": "python",
   "name": "python2"
  },
  "language_info": {
   "codemirror_mode": {
    "name": "ipython",
    "version": 2
   },
   "file_extension": ".py",
   "mimetype": "text/x-python",
   "name": "python",
   "nbconvert_exporter": "python",
   "pygments_lexer": "ipython2",
   "version": "2.7.12"
  }
 },
 "nbformat": 4,
 "nbformat_minor": 1
}
