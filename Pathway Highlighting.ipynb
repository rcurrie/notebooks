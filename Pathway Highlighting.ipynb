{
 "cells": [
  {
   "cell_type": "code",
   "execution_count": 1,
   "metadata": {
    "collapsed": true
   },
   "outputs": [],
   "source": [
    "# import a variety of packages\n",
    "import requests\n",
    "import pandas as pd\n",
    "!pip2 install --quiet pypathway # not instandard jupyter container so add manually\n",
    "from pypathway import *"
   ]
  },
  {
   "cell_type": "code",
   "execution_count": 101,
   "metadata": {
    "collapsed": false
   },
   "outputs": [
    {
     "name": "stdout",
     "output_type": "stream",
     "text": [
      "['PLCB1', 'RASGEF', 'RASSF1', 'FLT3', 'RASSF1A']\n"
     ]
    }
   ],
   "source": [
    "genes = \"PLCB1 RASGEF RASSF1 FLT3 RASSF1A\".split(\" \")\n",
    "print genes"
   ]
  },
  {
   "cell_type": "code",
   "execution_count": 102,
   "metadata": {
    "collapsed": false
   },
   "outputs": [
    {
     "name": "stdout",
     "output_type": "stream",
     "text": [
      "Found 15 pathways\n"
     ]
    }
   ],
   "source": [
    "pathways = PublicDatabase.search_kegg(\"cancer\", organism=\"hsa\")\n",
    "print \"Found\", len(pathways), \"pathways\""
   ]
  },
  {
   "cell_type": "code",
   "execution_count": 20,
   "metadata": {
    "collapsed": true
   },
   "outputs": [],
   "source": [
    "# Load the first pathway\n",
    "diagram = pathways[0].load()"
   ]
  },
  {
   "cell_type": "code",
   "execution_count": 103,
   "metadata": {
    "collapsed": true
   },
   "outputs": [],
   "source": [
    "def genes_in_name(genes, name):\n",
    "    \"\"\" Return true if any of the genes are found in the string 'name'\"\"\"\n",
    "    for gene in genes:\n",
    "        if gene in name:\n",
    "            return True\n",
    "    return False"
   ]
  },
  {
   "cell_type": "code",
   "execution_count": 104,
   "metadata": {
    "collapsed": false
   },
   "outputs": [],
   "source": [
    "# Find the ids of any node that has a graphic name wiht a gene from out list in it\n",
    "up_ids = [node.id for node in diagram.nodes \n",
    "             if node and node.graphic[0].name \n",
    "             and genes_in_name(genes, node.graphic[0].name)]"
   ]
  },
  {
   "cell_type": "code",
   "execution_count": 105,
   "metadata": {
    "collapsed": false
   },
   "outputs": [
    {
     "data": {
      "text/html": [
       "<div id=\"box148522777687\" style=\"width: 100%; height: 0px;background-color: #ffffff\">\n",
       "    <script>\n",
       "        var box = $(\"#box148522777687\");\n",
       "        var father = box.parent();\n",
       "//        var grandfather = father.parent();\n",
       "        var thirdfather = father.parent().parent().parent();\n",
       "        thirdfather.children(\".prompt\").remove();\n",
       "        father.parent().children(\".prompt\").remove();\n",
       "        father.css(\"max-width\", \"100%\");\n",
       "        box.css(\"margin-left\", \"5px\");\n",
       "        var target = document.getElementById(\"box148522777687\");\n",
       "//        var w = target.offsetWidth;\n",
       "        var w = thirdfather.outerWidth();\n",
       "        console.log(w);\n",
       "        target.style.height = w * 0.697190426639 + \"px\";\n",
       "        box.append($(\"<iframe width='\" + (parseInt(w) - 15).toString() + \"'\" +\n",
       "                \" height='\" + w * 0.697190426639 + \"' src='assets/KEGG/kegg_148522777687.html' \" +\n",
       "                \"frameborder='0'></iframe>\"))\n",
       "    </script>\n",
       "</div>"
      ],
      "text/plain": [
       "<IPython.core.display.HTML object>"
      ]
     },
     "execution_count": 105,
     "metadata": {},
     "output_type": "execute_result"
    }
   ],
   "source": [
    "# Use colorblind safe colors: http://mkweb.bcgsc.ca/colorblind/\n",
    "up_color = Option(default=[Prop(bg_color=\"rgb(213,94,0)\", color=\"white\")])\n",
    "#down_color = Option(default=[Prop(bg_color=\"rgb(0,114,178)\", color=\"white\")])\n",
    "#top5percent_color = Option(default=[Prop(bg_color=\"rgb(230,159,0)\", color=\"white\")])\n",
    "opaque = Option(default=[Prop(bg_color=\"white\", color=\"black\", opacity=0.8)])\n",
    "\n",
    "# diagram.integrate([e.id for e in diagram.entities],\n",
    "#                   [up_color if i in up_ids\n",
    "#                    else down_color if i in down_ids \n",
    "#                    else top5percent_color if i in top5percent_ids \n",
    "#                    else opaque for i in [e.id for e in diagram.entities]])\n",
    "\n",
    "diagram.integrate([e.id for e in diagram.entities],\n",
    "                  [up_color if i in up_ids\n",
    "                   else opaque for i in [e.id for e in diagram.entities]])\n",
    "\n",
    "diagram.draw()"
   ]
  }
 ],
 "metadata": {
  "kernelspec": {
   "display_name": "Python 2",
   "language": "python",
   "name": "python2"
  },
  "language_info": {
   "codemirror_mode": {
    "name": "ipython",
    "version": 2
   },
   "file_extension": ".py",
   "mimetype": "text/x-python",
   "name": "python",
   "nbconvert_exporter": "python",
   "pygments_lexer": "ipython2",
   "version": "2.7.12"
  }
 },
 "nbformat": 4,
 "nbformat_minor": 1
}
