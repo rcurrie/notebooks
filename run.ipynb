{
 "cells": [
  {
   "cell_type": "code",
   "execution_count": 4,
   "metadata": {},
   "outputs": [],
   "source": [
    "import os\n",
    "import subprocess"
   ]
  },
  {
   "cell_type": "code",
   "execution_count": 9,
   "metadata": {},
   "outputs": [],
   "source": [
    "sample_ids = [\"THO1\", \"THO2\"]"
   ]
  },
  {
   "cell_type": "code",
   "execution_count": 30,
   "metadata": {},
   "outputs": [
    {
     "name": "stdout",
     "output_type": "stream",
     "text": [
      "Processing THO1\n",
      "[NbConvertApp] Converting notebook template.ipynb to notebook\n",
      "[NbConvertApp] Executing notebook with kernel: python3\n",
      "[IPKernelApp] ERROR | Failed to open SQLite history /home/jovyan/.ipython/profile_default/history.sqlite (database is locked).\n",
      "[IPKernelApp] ERROR | History file was moved to /home/jovyan/.ipython/profile_default/history-corrupt.sqlite and a new file created.\n",
      "[IPKernelApp] ERROR | Failed to open SQLite history /home/jovyan/.ipython/profile_default/history.sqlite (database is locked).\n",
      "[IPKernelApp] ERROR | History file was moved to /home/jovyan/.ipython/profile_default/history-corrupt.sqlite and a new file created.\n",
      "[IPKernelApp] ERROR | Failed to open SQLite history /home/jovyan/.ipython/profile_default/history.sqlite (database is locked).\n",
      "[IPKernelApp] ERROR | Failed to load history too many times, history will not be saved.\n",
      "[NbConvertApp] Writing 832 bytes to THO1.ipynb\n",
      "Processing THO2\n",
      "[NbConvertApp] Converting notebook template.ipynb to notebook\n",
      "[NbConvertApp] Executing notebook with kernel: python3\n",
      "[IPKernelApp] ERROR | Failed to open SQLite history /home/jovyan/.ipython/profile_default/history.sqlite (database is locked).\n",
      "[IPKernelApp] ERROR | History file was moved to /home/jovyan/.ipython/profile_default/history-corrupt.sqlite and a new file created.\n",
      "[IPKernelApp] ERROR | Failed to open SQLite history /home/jovyan/.ipython/profile_default/history.sqlite (database is locked).\n",
      "[IPKernelApp] ERROR | History file was moved to /home/jovyan/.ipython/profile_default/history-corrupt.sqlite and a new file created.\n",
      "[IPKernelApp] ERROR | Failed to open SQLite history /home/jovyan/.ipython/profile_default/history.sqlite (database is locked).\n",
      "[IPKernelApp] ERROR | Failed to load history too many times, history will not be saved.\n",
      "[NbConvertApp] Writing 832 bytes to THO2.ipynb\n"
     ]
    }
   ],
   "source": [
    "for sample_id in sample_ids:\n",
    "    print(\"Processing {}\".format(sample_id))\n",
    "    os.environ[\"SAMPLE_ID\"] = sample_id\n",
    "    !jupyter nbconvert --to notebook --execute template.ipynb --output {sample_id}.ipynb"
   ]
  }
 ],
 "metadata": {
  "kernelspec": {
   "display_name": "Python 3",
   "language": "python",
   "name": "python3"
  },
  "language_info": {
   "codemirror_mode": {
    "name": "ipython",
    "version": 3
   },
   "file_extension": ".py",
   "mimetype": "text/x-python",
   "name": "python",
   "nbconvert_exporter": "python",
   "pygments_lexer": "ipython3",
   "version": "3.6.3"
  }
 },
 "nbformat": 4,
 "nbformat_minor": 2
}
