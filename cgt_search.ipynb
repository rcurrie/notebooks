{
 "cells": [
  {
   "cell_type": "code",
   "execution_count": 46,
   "metadata": {},
   "outputs": [],
   "source": [
    "import requests\n",
    "import pandas as pd\n",
    "\n",
    "timeout = 60"
   ]
  },
  {
   "cell_type": "code",
   "execution_count": 39,
   "metadata": {},
   "outputs": [],
   "source": [
    "# r = requests.get(\"http://ipfs.io/ipns/QmY96gKPRbQNaSDB2cZCWBriz9n5Ryisygo8DCCuDxSFqs\", timeout=timeout)\n",
    "# steward = r.json()\n",
    "\n",
    "steward = {\n",
    "  \"domain\": \"ucsf.edu\",\n",
    "  \"submissions\": [\n",
    "    \"QmNZRNegPkLy3ubUxijr46AabLQCN5ZUwPjeebb21LJjvu\",\n",
    "    \"QmSz4EPqWdDK2iUA49LhFnQ452WagPJCKsuDD16Xvmk5EK\",\n",
    "    \"QmUe2Hk4pgj9V5fTF6eGiu2vhXyHRPRqCiQLihCrVY3Xo7\",\n",
    "    \"QmW5d3xUd29j9kF7dbhXfaukiJgKz5FcjmSThS5ypm5yWN\",\n",
    "    \"QmWUYehCkFP127bkgmKa9rEcbUnwu7k7uAVC1JW7vdtc54\",\n",
    "    \"QmWUaWHjh5da4ezsXu7FayBrE8DnRo26RxetnPEqiTPqPA\",\n",
    "    \"QmWtNGDXKffuj8mfj8tkHVQJR2wK7aCy9F25iPHKiQ36nA\",\n",
    "    \"QmXWwVjdQtNKBjniQSTBm7sFbQiqKACq72gM578NbFQ5Ei\",\n",
    "    \"QmYWbKeKuLd7FC9CrXdsMutSAYnoW2nQm1QnBPK1R3sMjs\",\n",
    "    \"QmYewos8zA1hmbA8grRdn1Qwvc7BYMDWRQfaHJkKr8zMRX\",\n",
    "    \"QmeaxEsmYw7ksgMVpfKiMBXyxb12oQMvC7XD3GUW9oCJZJ\"\n",
    "  ],\n",
    "  \"peers\": [\n",
    "    \"QmRABsyt1ppm97coLU3W75GEFdXAmf842h5YYGrsmAgesN\",\n",
    "    \"QmRNhWhkjSko5xdf23KEoUsViUsMpTJzf1tVw9svF6KfQR\",\n",
    "    \"QmUTsUK1BznJchpgHqck55xGozCWHchx3HCnBYN2KtZRfe\",\n",
    "    \"Qmanw7MzPbEkd3FSkeH8NHi3d8k1nHP1mU3S8LU4NCEg7o\",\n",
    "    \"QmavgaR675iJLAcvSo9TAokhKso1eNrngePpGCB2nBtgav\"\n",
    "  ]\n",
    "}"
   ]
  },
  {
   "cell_type": "code",
   "execution_count": 40,
   "metadata": {},
   "outputs": [
    {
     "name": "stdout",
     "output_type": "stream",
     "text": [
      "QmNZRNegPkLy3ubUxijr46AabLQCN5ZUwPjeebb21LJjvu\n",
      "QmSz4EPqWdDK2iUA49LhFnQ452WagPJCKsuDD16Xvmk5EK\n",
      "QmUe2Hk4pgj9V5fTF6eGiu2vhXyHRPRqCiQLihCrVY3Xo7\n",
      "QmW5d3xUd29j9kF7dbhXfaukiJgKz5FcjmSThS5ypm5yWN\n",
      "QmWUYehCkFP127bkgmKa9rEcbUnwu7k7uAVC1JW7vdtc54\n",
      "QmWUaWHjh5da4ezsXu7FayBrE8DnRo26RxetnPEqiTPqPA\n",
      "QmWtNGDXKffuj8mfj8tkHVQJR2wK7aCy9F25iPHKiQ36nA\n",
      "QmXWwVjdQtNKBjniQSTBm7sFbQiqKACq72gM578NbFQ5Ei\n",
      "QmYWbKeKuLd7FC9CrXdsMutSAYnoW2nQm1QnBPK1R3sMjs\n",
      "QmYewos8zA1hmbA8grRdn1Qwvc7BYMDWRQfaHJkKr8zMRX\n",
      "QmeaxEsmYw7ksgMVpfKiMBXyxb12oQMvC7XD3GUW9oCJZJ\n"
     ]
    }
   ],
   "source": [
    "submissions = []\n",
    "\n",
    "for multihash in steward[\"submissions\"]:\n",
    "    print(multihash)\n",
    "    r = requests.get(\"http://ipfs.io/ipfs/{}\".format(multihash), timeout=timeout)\n",
    "    submissions.append(r.json())"
   ]
  },
  {
   "cell_type": "code",
   "execution_count": 60,
   "metadata": {},
   "outputs": [
    {
     "data": {
      "text/plain": [
       "id\n",
       "0001                                    1\n",
       "0002                                    1\n",
       "131cf62d-ad78-49c1-a699-5bcc1004cd12    1\n",
       "2fbc25da-3965-49c4-866f-72cf0abc2417    1\n",
       "940171e7-d358-463a-8d9a-2b2fa90c2a84    1\n",
       "ccc2ba97-912f-4b62-b767-cca129ee6a56    1\n",
       "cf11c31c-f4c3-48ba-9c46-66f406d0b7a1    1\n",
       "db2d85aa-4f94-4e77-8755-6b94a710c1aa    3\n",
       "f0314175-2d19-4146-8754-fc5aed3ab420    1\n",
       "dtype: int64"
      ]
     },
     "execution_count": 60,
     "metadata": {},
     "output_type": "execute_result"
    }
   ],
   "source": [
    "pd.DataFrame([s[\"fields\"][\"CGT Public ID\"] for s in submissions], columns=[\"id\"]).groupby(\"id\").size()"
   ]
  }
 ],
 "metadata": {
  "kernelspec": {
   "display_name": "Python 3",
   "language": "python",
   "name": "python3"
  },
  "language_info": {
   "codemirror_mode": {
    "name": "ipython",
    "version": 3
   },
   "file_extension": ".py",
   "mimetype": "text/x-python",
   "name": "python",
   "nbconvert_exporter": "python",
   "pygments_lexer": "ipython3",
   "version": "3.6.3"
  }
 },
 "nbformat": 4,
 "nbformat_minor": 2
}
