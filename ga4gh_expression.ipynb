{
 "cells": [
  {
   "cell_type": "markdown",
   "metadata": {},
   "source": [
    "## GA4GH RNA Quantification API Example\n",
    "This example illustrates the methods used to access the `rna_quantification_service`."
   ]
  },
  {
   "cell_type": "markdown",
   "metadata": {},
   "source": [
    "### Initialize client \n",
    "In this step we create a client object which will be used to communicate with the server."
   ]
  },
  {
   "cell_type": "code",
   "execution_count": 1,
   "metadata": {
    "collapsed": false
   },
   "outputs": [],
   "source": [
    "import ga4gh.client as client\n",
    "c = client.HttpClient(\"http://1kgenomes.ga4gh.org\")"
   ]
  },
  {
   "cell_type": "code",
   "execution_count": 2,
   "metadata": {
    "collapsed": false
   },
   "outputs": [
    {
     "ename": "ParseError",
     "evalue": "Failed to parse datasets field: Message type \"ga4gh.Dataset\" has no field named \"info\".",
     "output_type": "error",
     "traceback": [
      "\u001b[1;31m\u001b[0m",
      "\u001b[1;31mParseError\u001b[0mTraceback (most recent call last)",
      "\u001b[1;32m<ipython-input-2-bb82a671370c>\u001b[0m in \u001b[0;36m<module>\u001b[1;34m()\u001b[0m\n\u001b[1;32m----> 1\u001b[1;33m \u001b[0mdataset\u001b[0m \u001b[1;33m=\u001b[0m \u001b[0mc\u001b[0m\u001b[1;33m.\u001b[0m\u001b[0msearch_datasets\u001b[0m\u001b[1;33m(\u001b[0m\u001b[1;33m)\u001b[0m\u001b[1;33m.\u001b[0m\u001b[0mnext\u001b[0m\u001b[1;33m(\u001b[0m\u001b[1;33m)\u001b[0m\u001b[1;33m\u001b[0m\u001b[0m\n\u001b[0m\u001b[0;32m      2\u001b[0m \u001b[1;32mprint\u001b[0m\u001b[1;33m(\u001b[0m\u001b[0mdataset\u001b[0m\u001b[1;33m)\u001b[0m\u001b[1;33m\u001b[0m\u001b[0m\n",
      "\u001b[1;32m/opt/conda/envs/python2/lib/python2.7/site-packages/ga4gh/client.pyc\u001b[0m in \u001b[0;36m_run_search_request\u001b[1;34m(self, protocol_request, object_name, protocol_response_class)\u001b[0m\n\u001b[0;32m     55\u001b[0m         \u001b[1;32mwhile\u001b[0m \u001b[0mnot_done\u001b[0m\u001b[1;33m:\u001b[0m\u001b[1;33m\u001b[0m\u001b[0m\n\u001b[0;32m     56\u001b[0m             response_object = self._run_search_page_request(\n\u001b[1;32m---> 57\u001b[1;33m                 protocol_request, object_name, protocol_response_class)\n\u001b[0m\u001b[0;32m     58\u001b[0m             value_list = getattr(\n\u001b[0;32m     59\u001b[0m                 \u001b[0mresponse_object\u001b[0m\u001b[1;33m,\u001b[0m\u001b[1;33m\u001b[0m\u001b[0m\n",
      "\u001b[1;32m/opt/conda/envs/python2/lib/python2.7/site-packages/ga4gh/client.pyc\u001b[0m in \u001b[0;36m_run_search_page_request\u001b[1;34m(self, protocol_request, object_name, protocol_response_class)\u001b[0m\n\u001b[0;32m    756\u001b[0m         \u001b[0mself\u001b[0m\u001b[1;33m.\u001b[0m\u001b[0m_check_response_status\u001b[0m\u001b[1;33m(\u001b[0m\u001b[0mresponse\u001b[0m\u001b[1;33m)\u001b[0m\u001b[1;33m\u001b[0m\u001b[0m\n\u001b[0;32m    757\u001b[0m         return self._deserialize_response(\n\u001b[1;32m--> 758\u001b[1;33m             response.text, protocol_response_class)\n\u001b[0m\u001b[0;32m    759\u001b[0m \u001b[1;33m\u001b[0m\u001b[0m\n\u001b[0;32m    760\u001b[0m     \u001b[1;32mdef\u001b[0m \u001b[0m_run_get_request\u001b[0m\u001b[1;33m(\u001b[0m\u001b[0mself\u001b[0m\u001b[1;33m,\u001b[0m \u001b[0mobject_name\u001b[0m\u001b[1;33m,\u001b[0m \u001b[0mprotocol_response_class\u001b[0m\u001b[1;33m,\u001b[0m \u001b[0mid_\u001b[0m\u001b[1;33m)\u001b[0m\u001b[1;33m:\u001b[0m\u001b[1;33m\u001b[0m\u001b[0m\n",
      "\u001b[1;32m/opt/conda/envs/python2/lib/python2.7/site-packages/ga4gh/client.pyc\u001b[0m in \u001b[0;36m_deserialize_response\u001b[1;34m(self, json_response_string, protocol_response_class)\u001b[0m\n\u001b[0;32m     34\u001b[0m         \u001b[1;32mif\u001b[0m \u001b[1;32mnot\u001b[0m \u001b[0mjson_response_string\u001b[0m\u001b[1;33m:\u001b[0m\u001b[1;33m\u001b[0m\u001b[0m\n\u001b[0;32m     35\u001b[0m             \u001b[1;32mraise\u001b[0m \u001b[0mexceptions\u001b[0m\u001b[1;33m.\u001b[0m\u001b[0mEmptyResponseException\u001b[0m\u001b[1;33m(\u001b[0m\u001b[1;33m)\u001b[0m\u001b[1;33m\u001b[0m\u001b[0m\n\u001b[1;32m---> 36\u001b[1;33m         \u001b[1;32mreturn\u001b[0m \u001b[0mprotocol\u001b[0m\u001b[1;33m.\u001b[0m\u001b[0mfromJson\u001b[0m\u001b[1;33m(\u001b[0m\u001b[0mjson_response_string\u001b[0m\u001b[1;33m,\u001b[0m \u001b[0mprotocol_response_class\u001b[0m\u001b[1;33m)\u001b[0m\u001b[1;33m\u001b[0m\u001b[0m\n\u001b[0m\u001b[0;32m     37\u001b[0m \u001b[1;33m\u001b[0m\u001b[0m\n\u001b[0;32m     38\u001b[0m     def _run_search_page_request(\n",
      "\u001b[1;32m/opt/conda/envs/python2/lib/python2.7/site-packages/ga4gh/protocol.pyc\u001b[0m in \u001b[0;36mfromJson\u001b[1;34m(json, protoClass)\u001b[0m\n\u001b[0;32m    112\u001b[0m     \u001b[0mDeserialise\u001b[0m \u001b[0mjson\u001b[0m \u001b[0minto\u001b[0m \u001b[0man\u001b[0m \u001b[0minstance\u001b[0m \u001b[0mof\u001b[0m \u001b[0mprotobuf\u001b[0m \u001b[1;32mclass\u001b[0m\u001b[1;33m\u001b[0m\u001b[0m\n\u001b[0;32m    113\u001b[0m     \"\"\"\n\u001b[1;32m--> 114\u001b[1;33m     \u001b[1;32mreturn\u001b[0m \u001b[0mjson_format\u001b[0m\u001b[1;33m.\u001b[0m\u001b[0mParse\u001b[0m\u001b[1;33m(\u001b[0m\u001b[0mjson\u001b[0m\u001b[1;33m,\u001b[0m \u001b[0mprotoClass\u001b[0m\u001b[1;33m(\u001b[0m\u001b[1;33m)\u001b[0m\u001b[1;33m)\u001b[0m\u001b[1;33m\u001b[0m\u001b[0m\n\u001b[0m\u001b[0;32m    115\u001b[0m \u001b[1;33m\u001b[0m\u001b[0m\n\u001b[0;32m    116\u001b[0m \u001b[1;33m\u001b[0m\u001b[0m\n",
      "\u001b[1;32m/opt/conda/envs/python2/lib/python2.7/site-packages/google/protobuf/json_format.pyc\u001b[0m in \u001b[0;36mParse\u001b[1;34m(text, message)\u001b[0m\n\u001b[0;32m    318\u001b[0m   \u001b[1;32mexcept\u001b[0m \u001b[0mValueError\u001b[0m \u001b[1;32mas\u001b[0m \u001b[0me\u001b[0m\u001b[1;33m:\u001b[0m\u001b[1;33m\u001b[0m\u001b[0m\n\u001b[0;32m    319\u001b[0m     \u001b[1;32mraise\u001b[0m \u001b[0mParseError\u001b[0m\u001b[1;33m(\u001b[0m\u001b[1;34m'Failed to load JSON: {0}.'\u001b[0m\u001b[1;33m.\u001b[0m\u001b[0mformat\u001b[0m\u001b[1;33m(\u001b[0m\u001b[0mstr\u001b[0m\u001b[1;33m(\u001b[0m\u001b[0me\u001b[0m\u001b[1;33m)\u001b[0m\u001b[1;33m)\u001b[0m\u001b[1;33m)\u001b[0m\u001b[1;33m\u001b[0m\u001b[0m\n\u001b[1;32m--> 320\u001b[1;33m   \u001b[0m_ConvertMessage\u001b[0m\u001b[1;33m(\u001b[0m\u001b[0mjs\u001b[0m\u001b[1;33m,\u001b[0m \u001b[0mmessage\u001b[0m\u001b[1;33m)\u001b[0m\u001b[1;33m\u001b[0m\u001b[0m\n\u001b[0m\u001b[0;32m    321\u001b[0m   \u001b[1;32mreturn\u001b[0m \u001b[0mmessage\u001b[0m\u001b[1;33m\u001b[0m\u001b[0m\n\u001b[0;32m    322\u001b[0m \u001b[1;33m\u001b[0m\u001b[0m\n",
      "\u001b[1;32m/opt/conda/envs/python2/lib/python2.7/site-packages/google/protobuf/json_format.pyc\u001b[0m in \u001b[0;36m_ConvertMessage\u001b[1;34m(value, message)\u001b[0m\n\u001b[0;32m    420\u001b[0m     \u001b[0m_WKTJSONMETHODS\u001b[0m\u001b[1;33m[\u001b[0m\u001b[0mfull_name\u001b[0m\u001b[1;33m]\u001b[0m\u001b[1;33m[\u001b[0m\u001b[1;36m1\u001b[0m\u001b[1;33m]\u001b[0m\u001b[1;33m(\u001b[0m\u001b[0mvalue\u001b[0m\u001b[1;33m,\u001b[0m \u001b[0mmessage\u001b[0m\u001b[1;33m)\u001b[0m\u001b[1;33m\u001b[0m\u001b[0m\n\u001b[0;32m    421\u001b[0m   \u001b[1;32melse\u001b[0m\u001b[1;33m:\u001b[0m\u001b[1;33m\u001b[0m\u001b[0m\n\u001b[1;32m--> 422\u001b[1;33m     \u001b[0m_ConvertFieldValuePair\u001b[0m\u001b[1;33m(\u001b[0m\u001b[0mvalue\u001b[0m\u001b[1;33m,\u001b[0m \u001b[0mmessage\u001b[0m\u001b[1;33m)\u001b[0m\u001b[1;33m\u001b[0m\u001b[0m\n\u001b[0m\u001b[0;32m    423\u001b[0m \u001b[1;33m\u001b[0m\u001b[0m\n\u001b[0;32m    424\u001b[0m \u001b[1;33m\u001b[0m\u001b[0m\n",
      "\u001b[1;32m/opt/conda/envs/python2/lib/python2.7/site-packages/google/protobuf/json_format.pyc\u001b[0m in \u001b[0;36m_ConvertFieldValuePair\u001b[1;34m(js, message)\u001b[0m\n\u001b[0;32m    394\u001b[0m     \u001b[1;32mexcept\u001b[0m \u001b[0mParseError\u001b[0m \u001b[1;32mas\u001b[0m \u001b[0me\u001b[0m\u001b[1;33m:\u001b[0m\u001b[1;33m\u001b[0m\u001b[0m\n\u001b[0;32m    395\u001b[0m       \u001b[1;32mif\u001b[0m \u001b[0mfield\u001b[0m \u001b[1;32mand\u001b[0m \u001b[0mfield\u001b[0m\u001b[1;33m.\u001b[0m\u001b[0mcontaining_oneof\u001b[0m \u001b[1;32mis\u001b[0m \u001b[0mNone\u001b[0m\u001b[1;33m:\u001b[0m\u001b[1;33m\u001b[0m\u001b[0m\n\u001b[1;32m--> 396\u001b[1;33m         \u001b[1;32mraise\u001b[0m \u001b[0mParseError\u001b[0m\u001b[1;33m(\u001b[0m\u001b[1;34m'Failed to parse {0} field: {1}'\u001b[0m\u001b[1;33m.\u001b[0m\u001b[0mformat\u001b[0m\u001b[1;33m(\u001b[0m\u001b[0mname\u001b[0m\u001b[1;33m,\u001b[0m \u001b[0me\u001b[0m\u001b[1;33m)\u001b[0m\u001b[1;33m)\u001b[0m\u001b[1;33m\u001b[0m\u001b[0m\n\u001b[0m\u001b[0;32m    397\u001b[0m       \u001b[1;32melse\u001b[0m\u001b[1;33m:\u001b[0m\u001b[1;33m\u001b[0m\u001b[0m\n\u001b[0;32m    398\u001b[0m         \u001b[1;32mraise\u001b[0m \u001b[0mParseError\u001b[0m\u001b[1;33m(\u001b[0m\u001b[0mstr\u001b[0m\u001b[1;33m(\u001b[0m\u001b[0me\u001b[0m\u001b[1;33m)\u001b[0m\u001b[1;33m)\u001b[0m\u001b[1;33m\u001b[0m\u001b[0m\n",
      "\u001b[1;31mParseError\u001b[0m: Failed to parse datasets field: Message type \"ga4gh.Dataset\" has no field named \"info\"."
     ]
    }
   ],
   "source": [
    "dataset = c.search_datasets().next()\n",
    "print(dataset)"
   ]
  },
  {
   "cell_type": "markdown",
   "metadata": {},
   "source": [
    "### Search RNA Quantification Sets Method\n",
    "This instance returns a list of RNA quantification sets in a dataset.  RNA quantification sets are a way to associate a group of related RNA quantifications.  Note that we use the `dataset_id` obtained from the `1kg_metadata_service` notebook."
   ]
  },
  {
   "cell_type": "code",
   "execution_count": 7,
   "metadata": {
    "collapsed": false
   },
   "outputs": [],
   "source": [
    "counter = 0\n",
    "for rna_quant_set in c.search_rna_quantification_sets(dataset_id=\"WyIxa2dlbm9tZXMiXQ\"):\n",
    "    if counter > 5:\n",
    "        break\n",
    "    counter += 1\n",
    "    print(\" id: {}\".format(rna_quant_set.id))\n",
    "    print(\" dataset_id: {}\".format(rna_quant_set.dataset_id))\n",
    "    print(\" name: {}\\n\".format(rna_quant_set.name))"
   ]
  },
  {
   "cell_type": "markdown",
   "metadata": {},
   "source": [
    "### Get RNA Quantification Set by id method\n",
    "This method obtains an single RNA quantification set by it's unique identifier. This `id` was chosen arbitrarily from the returned results."
   ]
  },
  {
   "cell_type": "code",
   "execution_count": 6,
   "metadata": {
    "collapsed": false
   },
   "outputs": [
    {
     "name": "stderr",
     "output_type": "stream",
     "text": [
      "ERROR:ga4gh.client:404 {\"errorCode\": 548919146, \"message\": \"RnaQuantificationSet with name 'WyIxa2dlbm9tZXMiLCIxa2ctcm5hIl0' not found\"}\n"
     ]
    },
    {
     "ename": "RequestNonSuccessException",
     "evalue": "Url http://1kgenomes.ga4gh.org/rnaquantificationsets/WyIxa2dlbm9tZXMiLCIxa2ctcm5hIl0 had status_code 404",
     "output_type": "error",
     "traceback": [
      "\u001b[1;31m\u001b[0m",
      "\u001b[1;31mRequestNonSuccessException\u001b[0mTraceback (most recent call last)",
      "\u001b[1;32m<ipython-input-6-04e07dcff8f6>\u001b[0m in \u001b[0;36m<module>\u001b[1;34m()\u001b[0m\n\u001b[0;32m      1\u001b[0m single_rna_quant_set = c.get_rna_quantification_set(\n\u001b[1;32m----> 2\u001b[1;33m     rna_quantification_set_id=\"WyIxa2dlbm9tZXMiLCIxa2ctcm5hIl0\")\n\u001b[0m\u001b[0;32m      3\u001b[0m \u001b[1;32mprint\u001b[0m\u001b[1;33m(\u001b[0m\u001b[1;34m\" name: {}\\n\"\u001b[0m\u001b[1;33m.\u001b[0m\u001b[0mformat\u001b[0m\u001b[1;33m(\u001b[0m\u001b[0msingle_rna_quant_set\u001b[0m\u001b[1;33m.\u001b[0m\u001b[0mname\u001b[0m\u001b[1;33m)\u001b[0m\u001b[1;33m)\u001b[0m\u001b[1;33m\u001b[0m\u001b[0m\n",
      "\u001b[1;32m/opt/conda/envs/python2/lib/python2.7/site-packages/ga4gh/client.pyc\u001b[0m in \u001b[0;36mget_rna_quantification_set\u001b[1;34m(self, rna_quantification_set_id)\u001b[0m\n\u001b[0;32m    281\u001b[0m         return self._run_get_request(\n\u001b[0;32m    282\u001b[0m             \u001b[1;34m\"rnaquantificationsets\"\u001b[0m\u001b[1;33m,\u001b[0m \u001b[0mprotocol\u001b[0m\u001b[1;33m.\u001b[0m\u001b[0mRnaQuantificationSet\u001b[0m\u001b[1;33m,\u001b[0m\u001b[1;33m\u001b[0m\u001b[0m\n\u001b[1;32m--> 283\u001b[1;33m             rna_quantification_set_id)\n\u001b[0m\u001b[0;32m    284\u001b[0m \u001b[1;33m\u001b[0m\u001b[0m\n\u001b[0;32m    285\u001b[0m     \u001b[1;32mdef\u001b[0m \u001b[0mget_rna_quantification\u001b[0m\u001b[1;33m(\u001b[0m\u001b[0mself\u001b[0m\u001b[1;33m,\u001b[0m \u001b[0mrna_quantification_id\u001b[0m\u001b[1;33m)\u001b[0m\u001b[1;33m:\u001b[0m\u001b[1;33m\u001b[0m\u001b[0m\n",
      "\u001b[1;32m/opt/conda/envs/python2/lib/python2.7/site-packages/ga4gh/client.pyc\u001b[0m in \u001b[0;36m_run_get_request\u001b[1;34m(self, object_name, protocol_response_class, id_)\u001b[0m\n\u001b[0;32m    763\u001b[0m         \u001b[0murl\u001b[0m \u001b[1;33m=\u001b[0m \u001b[0mposixpath\u001b[0m\u001b[1;33m.\u001b[0m\u001b[0mjoin\u001b[0m\u001b[1;33m(\u001b[0m\u001b[0mself\u001b[0m\u001b[1;33m.\u001b[0m\u001b[0m_url_prefix\u001b[0m\u001b[1;33m,\u001b[0m \u001b[0murl_suffix\u001b[0m\u001b[1;33m)\u001b[0m\u001b[1;33m\u001b[0m\u001b[0m\n\u001b[0;32m    764\u001b[0m         \u001b[0mresponse\u001b[0m \u001b[1;33m=\u001b[0m \u001b[0mself\u001b[0m\u001b[1;33m.\u001b[0m\u001b[0m_session\u001b[0m\u001b[1;33m.\u001b[0m\u001b[0mget\u001b[0m\u001b[1;33m(\u001b[0m\u001b[0murl\u001b[0m\u001b[1;33m,\u001b[0m \u001b[0mparams\u001b[0m\u001b[1;33m=\u001b[0m\u001b[0mself\u001b[0m\u001b[1;33m.\u001b[0m\u001b[0m_get_http_parameters\u001b[0m\u001b[1;33m(\u001b[0m\u001b[1;33m)\u001b[0m\u001b[1;33m)\u001b[0m\u001b[1;33m\u001b[0m\u001b[0m\n\u001b[1;32m--> 765\u001b[1;33m         \u001b[0mself\u001b[0m\u001b[1;33m.\u001b[0m\u001b[0m_check_response_status\u001b[0m\u001b[1;33m(\u001b[0m\u001b[0mresponse\u001b[0m\u001b[1;33m)\u001b[0m\u001b[1;33m\u001b[0m\u001b[0m\n\u001b[0m\u001b[0;32m    766\u001b[0m         return self._deserialize_response(\n\u001b[0;32m    767\u001b[0m             response.text, protocol_response_class)\n",
      "\u001b[1;32m/opt/conda/envs/python2/lib/python2.7/site-packages/ga4gh/client.pyc\u001b[0m in \u001b[0;36m_check_response_status\u001b[1;34m(self, response)\u001b[0m\n\u001b[0;32m    739\u001b[0m             raise exceptions.RequestNonSuccessException(\n\u001b[0;32m    740\u001b[0m                 \"Url {0} had status_code {1}\".format(\n\u001b[1;32m--> 741\u001b[1;33m                     response.url, response.status_code))\n\u001b[0m\u001b[0;32m    742\u001b[0m \u001b[1;33m\u001b[0m\u001b[0m\n\u001b[0;32m    743\u001b[0m     \u001b[1;32mdef\u001b[0m \u001b[0m_get_http_parameters\u001b[0m\u001b[1;33m(\u001b[0m\u001b[0mself\u001b[0m\u001b[1;33m)\u001b[0m\u001b[1;33m:\u001b[0m\u001b[1;33m\u001b[0m\u001b[0m\n",
      "\u001b[1;31mRequestNonSuccessException\u001b[0m: Url http://1kgenomes.ga4gh.org/rnaquantificationsets/WyIxa2dlbm9tZXMiLCIxa2ctcm5hIl0 had status_code 404"
     ]
    }
   ],
   "source": [
    "single_rna_quant_set = c.get_rna_quantification_set(\n",
    "    rna_quantification_set_id=\"WyIxa2dlbm9tZXMiLCIxa2ctcm5hIl0\")\n",
    "print(\" name: {}\\n\".format(single_rna_quant_set.name))"
   ]
  },
  {
   "cell_type": "markdown",
   "metadata": {},
   "source": [
    "### Search RNA Quantifications\n",
    "We can list all of the RNA quantifications in an RNA quantification set.  The `rna_quantification_set_id` was chosen arbitrarily from the returned results."
   ]
  },
  {
   "cell_type": "code",
   "execution_count": 12,
   "metadata": {
    "collapsed": false
   },
   "outputs": [
    {
     "name": "stdout",
     "output_type": "stream",
     "text": [
      "RNA Quantification: hg96\n",
      " id: WyIxa2dlbm9tZXMiLCIxa2ctcm5hIiwiaGc5NiJd\n",
      " description: Kallisto quantification info for HG00096\n",
      "\n",
      "RNA Quantification: hg96\n",
      " id: WyIxa2dlbm9tZXMiLCIxa2ctcm5hIiwiaGc5NiJd\n",
      " description: Kallisto quantification info for HG00096\n",
      "\n",
      "RNA Quantification: hg96\n",
      " id: WyIxa2dlbm9tZXMiLCIxa2ctcm5hIiwiaGc5NiJd\n",
      " description: Kallisto quantification info for HG00096\n",
      "\n",
      "RNA Quantification: hg99\n",
      " id: WyIxa2dlbm9tZXMiLCIxa2ctcm5hIiwiaGc5OSJd\n",
      " description: Kallisto quantification info for HG00099\n",
      "\n"
     ]
    }
   ],
   "source": [
    "counter = 0\n",
    "for rna_quant in c.search_rna_quantifications(\n",
    "        rna_quantification_set_id=\"WyIxa2dlbm9tZXMiLCIxa2ctcm5hIl0\"):\n",
    "    if counter > 5:\n",
    "        break\n",
    "    counter += 1\n",
    "    print(\"RNA Quantification: {}\".format(rna_quant.name))\n",
    "    print(\" id: {}\".format(rna_quant.id))\n",
    "    print(\" description: {}\\n\".format(rna_quant.description))"
   ]
  },
  {
   "cell_type": "markdown",
   "metadata": {},
   "source": [
    "### Get RNA Quantification by Id\n",
    "Similar to RNA quantification sets, we can retrieve a single RNA quantification by specific id.  This `id` was chosen arbitrarily from the returned results.\n",
    "\n",
    "The RNA quantification reported contains details of the processing pipeline which include the source of the reads as well as the annotations used. "
   ]
  },
  {
   "cell_type": "code",
   "execution_count": 13,
   "metadata": {
    "collapsed": false
   },
   "outputs": [
    {
     "name": "stdout",
     "output_type": "stream",
     "text": [
      " name: hg96\n",
      " read_ids: [u'WyIxa2dlbm9tZXMiLCJyZ3MiLCJIRzAwMDk2IiwiU1JSMDYyNjM0Il0', u'WyIxa2dlbm9tZXMiLCJyZ3MiLCJIRzAwMDk2IiwiU1JSMDYyNjM1Il0', u'WyIxa2dlbm9tZXMiLCJyZ3MiLCJIRzAwMDk2IiwiU1JSMDYyNjQxIl0']\n",
      " annotations: [u'WyIxa2dlbm9tZXMiLCJnZW5jb2RlX3YyNGxpZnQzNyJd']\n",
      "\n"
     ]
    }
   ],
   "source": [
    "single_rna_quant = c.get_rna_quantification(\n",
    "    rna_quantification_id=\"WyIxa2dlbm9tZXMiLCIxa2ctcm5hIiwiaGc5NiJd\")\n",
    "print(\" name: {}\".format(single_rna_quant.name))\n",
    "print(\" read_ids: {}\".format(single_rna_quant.read_group_ids))\n",
    "print(\" annotations: {}\\n\".format(single_rna_quant.feature_set_ids))"
   ]
  },
  {
   "cell_type": "markdown",
   "metadata": {},
   "source": [
    "### Search Expression Levels\n",
    "The feature level expression data for each RNA quantification is reported as a set of Expression Levels.  The `rna_quantification_service` makes it easy to search for these."
   ]
  },
  {
   "cell_type": "code",
   "execution_count": 14,
   "metadata": {
    "collapsed": false
   },
   "outputs": [
    {
     "name": "stdout",
     "output_type": "stream",
     "text": [
      "Expression Level: ENST00000619216.1\n",
      " id: WyIxa2dlbm9tZXMiLCIxa2ctcm5hIiwiaGc5NiIsIkVOU1QwMDAwMDYxOTIxNi4xIl0\n",
      " feature: \n",
      " expression: 6.14549 TPM\n",
      " read_count: 3.34066\n",
      " confidence_interval: 0.0 - 0.0\n",
      "\n",
      "Expression Level: ENST00000461467.1\n",
      " id: WyIxa2dlbm9tZXMiLCIxa2ctcm5hIiwiaGc5NiIsIkVOU1QwMDAwMDQ2MTQ2Ny4xIl0\n",
      " feature: WyIxa2dlbm9tZXMiLCJnZW5jb2RlX3YyNGxpZnQzNyIsIjE0MDUwOTE3MjE5OTMxMiJd\n",
      " expression: 0.621227 TPM\n",
      " read_count: 5.32165\n",
      " confidence_interval: 0.0 - 0.0\n",
      "\n",
      "Expression Level: ENST00000466430.5\n",
      " id: WyIxa2dlbm9tZXMiLCIxa2ctcm5hIiwiaGc5NiIsIkVOU1QwMDAwMDQ2NjQzMC41Il0\n",
      " feature: WyIxa2dlbm9tZXMiLCJnZW5jb2RlX3YyNGxpZnQzNyIsIjE0MDUwOTE3MjM1NDE5MiJd\n",
      " expression: 0.553376 TPM\n",
      " read_count: 30.6743\n",
      " confidence_interval: 0.0 - 0.0\n",
      "\n",
      "Expression Level: ENST00000484859.1\n",
      " id: WyIxa2dlbm9tZXMiLCIxa2ctcm5hIiwiaGc5NiIsIkVOU1QwMDAwMDQ4NDg1OS4xIl0\n",
      " feature: WyIxa2dlbm9tZXMiLCJnZW5jb2RlX3YyNGxpZnQzNyIsIjE0MDUwOTE3MjA4NzEyMCJd\n",
      " expression: 0.476131 TPM\n",
      " read_count: 48.2321\n",
      " confidence_interval: 0.0 - 0.0\n",
      "\n",
      "Expression Level: ENST00000466557.6\n",
      " id: WyIxa2dlbm9tZXMiLCIxa2ctcm5hIiwiaGc5NiIsIkVOU1QwMDAwMDQ2NjU1Ny42Il0\n",
      " feature: WyIxa2dlbm9tZXMiLCJnZW5jb2RlX3YyNGxpZnQzNyIsIjE0MDUwOTE3MjA4ODUyOCJd\n",
      " expression: 0.645015 TPM\n",
      " read_count: 15.4836\n",
      " confidence_interval: 0.0 - 0.0\n",
      "\n",
      "Expression Level: ENST00000491962.1\n",
      " id: WyIxa2dlbm9tZXMiLCIxa2ctcm5hIiwiaGc5NiIsIkVOU1QwMDAwMDQ5MTk2Mi4xIl0\n",
      " feature: WyIxa2dlbm9tZXMiLCJnZW5jb2RlX3YyNGxpZnQzNyIsIjE0MDUwOTE3MTY4ODkxMiJd\n",
      " expression: 0.679082 TPM\n",
      " read_count: 1.37725\n",
      " confidence_interval: 0.0 - 0.0\n",
      "\n"
     ]
    }
   ],
   "source": [
    "def getUnits(unitType):\n",
    "    units = [\"\", \"FPKM\", \"TPM\"]\n",
    "    return units[unitType]\n",
    "\n",
    "\n",
    "counter = 0\n",
    "for expression in c.search_expression_levels(\n",
    "        rna_quantification_id=\"WyIxa2dlbm9tZXMiLCIxa2ctcm5hIiwiaGc5NiJd\"):\n",
    "    if counter > 5:\n",
    "        break\n",
    "    counter += 1\n",
    "    print(\"Expression Level: {}\".format(expression.name))\n",
    "    print(\" id: {}\".format(expression.id))\n",
    "    print(\" feature: {}\".format(expression.feature_id))\n",
    "    print(\" expression: {} {}\".format(expression.expression, getUnits(expression.units)))\n",
    "    print(\" read_count: {}\".format(expression.raw_read_count))\n",
    "    print(\" confidence_interval: {} - {}\\n\".format(\n",
    "            expression.conf_interval_low, expression.conf_interval_high))"
   ]
  },
  {
   "cell_type": "markdown",
   "metadata": {},
   "source": [
    "It is also possible to restrict the search to a specific feature or to request expression values exceeding a threshold amount."
   ]
  },
  {
   "cell_type": "code",
   "execution_count": 15,
   "metadata": {
    "collapsed": false
   },
   "outputs": [
    {
     "name": "stdout",
     "output_type": "stream",
     "text": [
      "Expression Level: ENST00000619216.1\n",
      " id: WyIxa2dlbm9tZXMiLCIxa2ctcm5hIiwiaGc5NiIsIkVOU1QwMDAwMDYxOTIxNi4xIl0\n",
      " feature: \n",
      "\n",
      "Expression Level: ENST00000461467.1\n",
      " id: WyIxa2dlbm9tZXMiLCIxa2ctcm5hIiwiaGc5NiIsIkVOU1QwMDAwMDQ2MTQ2Ny4xIl0\n",
      " feature: WyIxa2dlbm9tZXMiLCJnZW5jb2RlX3YyNGxpZnQzNyIsIjE0MDUwOTE3MjE5OTMxMiJd\n",
      "\n",
      "Expression Level: ENST00000466430.5\n",
      " id: WyIxa2dlbm9tZXMiLCIxa2ctcm5hIiwiaGc5NiIsIkVOU1QwMDAwMDQ2NjQzMC41Il0\n",
      " feature: WyIxa2dlbm9tZXMiLCJnZW5jb2RlX3YyNGxpZnQzNyIsIjE0MDUwOTE3MjM1NDE5MiJd\n",
      "\n",
      "Expression Level: ENST00000484859.1\n",
      " id: WyIxa2dlbm9tZXMiLCIxa2ctcm5hIiwiaGc5NiIsIkVOU1QwMDAwMDQ4NDg1OS4xIl0\n",
      " feature: WyIxa2dlbm9tZXMiLCJnZW5jb2RlX3YyNGxpZnQzNyIsIjE0MDUwOTE3MjA4NzEyMCJd\n",
      "\n",
      "Expression Level: ENST00000466557.6\n",
      " id: WyIxa2dlbm9tZXMiLCIxa2ctcm5hIiwiaGc5NiIsIkVOU1QwMDAwMDQ2NjU1Ny42Il0\n",
      " feature: WyIxa2dlbm9tZXMiLCJnZW5jb2RlX3YyNGxpZnQzNyIsIjE0MDUwOTE3MjA4ODUyOCJd\n",
      "\n",
      "Expression Level: ENST00000491962.1\n",
      " id: WyIxa2dlbm9tZXMiLCIxa2ctcm5hIiwiaGc5NiIsIkVOU1QwMDAwMDQ5MTk2Mi4xIl0\n",
      " feature: WyIxa2dlbm9tZXMiLCJnZW5jb2RlX3YyNGxpZnQzNyIsIjE0MDUwOTE3MTY4ODkxMiJd\n",
      "\n"
     ]
    }
   ],
   "source": [
    "counter = 0\n",
    "for expression in c.search_expression_levels(\n",
    "        rna_quantification_id=\"WyIxa2dlbm9tZXMiLCIxa2ctcm5hIiwiaGc5NiJd\", feature_ids=[]):\n",
    "    if counter > 5:\n",
    "        break\n",
    "    counter += 1\n",
    "    print(\"Expression Level: {}\".format(expression.name))\n",
    "    print(\" id: {}\".format(expression.id))\n",
    "    print(\" feature: {}\\n\".format(expression.feature_id))"
   ]
  },
  {
   "cell_type": "markdown",
   "metadata": {},
   "source": [
    "Let's look for some high expressing features."
   ]
  },
  {
   "cell_type": "code",
   "execution_count": 16,
   "metadata": {
    "collapsed": false
   },
   "outputs": [
    {
     "name": "stdout",
     "output_type": "stream",
     "text": [
      "Expression Level: ENST00000234590.8\n",
      " id: WyIxa2dlbm9tZXMiLCIxa2ctcm5hIiwiaGc5NiIsIkVOU1QwMDAwMDIzNDU5MC44Il0\n",
      " expression: 2805.25 TPM\n",
      "\n",
      "Expression Level: ENST00000374550.7\n",
      " id: WyIxa2dlbm9tZXMiLCIxa2ctcm5hIiwiaGc5NiIsIkVOU1QwMDAwMDM3NDU1MC43Il0\n",
      " expression: 3597.17 TPM\n",
      "\n",
      "Expression Level: ENST00000396651.7\n",
      " id: WyIxa2dlbm9tZXMiLCIxa2ctcm5hIiwiaGc5NiIsIkVOU1QwMDAwMDM5NjY1MS43Il0\n",
      " expression: 2813.83 TPM\n",
      "\n",
      "Expression Level: ENST00000370321.7\n",
      " id: WyIxa2dlbm9tZXMiLCIxa2ctcm5hIiwiaGc5NiIsIkVOU1QwMDAwMDM3MDMyMS43Il0\n",
      " expression: 2234.57 TPM\n",
      "\n",
      "Expression Level: ENST00000368567.4\n",
      " id: WyIxa2dlbm9tZXMiLCIxa2ctcm5hIiwiaGc5NiIsIkVOU1QwMDAwMDM2ODU2Ny40Il0\n",
      " expression: 8211.31 TPM\n",
      "\n",
      "Expression Level: ENST00000242465.3\n",
      " id: WyIxa2dlbm9tZXMiLCIxa2ctcm5hIiwiaGc5NiIsIkVOU1QwMDAwMDI0MjQ2NS4zIl0\n",
      " expression: 1108.49 TPM\n",
      "\n"
     ]
    }
   ],
   "source": [
    "counter = 0\n",
    "for expression in c.search_expression_levels(\n",
    "        rna_quantification_id=\"WyIxa2dlbm9tZXMiLCIxa2ctcm5hIiwiaGc5NiJd\", threshold=1000):\n",
    "    if counter > 5:\n",
    "        break\n",
    "    counter += 1\n",
    "    print(\"Expression Level: {}\".format(expression.name))\n",
    "    print(\" id: {}\".format(expression.id))\n",
    "    print(\" expression: {} {}\\n\".format(expression.expression, getUnits(expression.units)))"
   ]
  },
  {
   "cell_type": "code",
   "execution_count": null,
   "metadata": {
    "collapsed": true
   },
   "outputs": [],
   "source": []
  }
 ],
 "metadata": {
  "anaconda-cloud": {},
  "kernelspec": {
   "display_name": "Python 2",
   "language": "python",
   "name": "python2"
  },
  "language_info": {
   "codemirror_mode": {
    "name": "ipython",
    "version": 2
   },
   "file_extension": ".py",
   "mimetype": "text/x-python",
   "name": "python",
   "nbconvert_exporter": "python",
   "pygments_lexer": "ipython2",
   "version": "2.7.12"
  }
 },
 "nbformat": 4,
 "nbformat_minor": 1
}
