{
 "cells": [
  {
   "cell_type": "markdown",
   "metadata": {},
   "source": [
    "#### Read the Treehouse compendium and save in an optimized format for reading back into python\n",
    "\n",
    "http://matthewrocklin.com/blog/work/2015/03/16/Fast-Serialization\n",
    "\n",
    "http://stackoverflow.com/questions/37010212/what-is-the-fastest-way-to-upload-a-big-csv-file-in-notebook-to-work-with-python/37012035#37012035"
   ]
  },
  {
   "cell_type": "code",
   "execution_count": 2,
   "metadata": {
    "collapsed": true
   },
   "outputs": [],
   "source": [
    "import numpy as np\n",
    "import pandas as pd"
   ]
  },
  {
   "cell_type": "code",
   "execution_count": 3,
   "metadata": {
    "collapsed": false
   },
   "outputs": [
    {
     "data": {
      "text/html": [
       "<div>\n",
       "<table border=\"1\" class=\"dataframe\">\n",
       "  <thead>\n",
       "    <tr style=\"text-align: right;\">\n",
       "      <th></th>\n",
       "      <th>Disease</th>\n",
       "      <th>Gender</th>\n",
       "      <th>Anatomical_location</th>\n",
       "      <th>Sample_type</th>\n",
       "      <th>Dataset</th>\n",
       "      <th>Stage_all_cancers</th>\n",
       "      <th>Grade_all_cancers</th>\n",
       "      <th>Age_at_dx</th>\n",
       "      <th>Histology_all_cancers</th>\n",
       "      <th>Subcategory</th>\n",
       "    </tr>\n",
       "    <tr>\n",
       "      <th>id</th>\n",
       "      <th></th>\n",
       "      <th></th>\n",
       "      <th></th>\n",
       "      <th></th>\n",
       "      <th></th>\n",
       "      <th></th>\n",
       "      <th></th>\n",
       "      <th></th>\n",
       "      <th></th>\n",
       "      <th></th>\n",
       "    </tr>\n",
       "  </thead>\n",
       "  <tbody>\n",
       "    <tr>\n",
       "      <th>ckcc_reference/TCGA-MP-A4T4-01</th>\n",
       "      <td>lung adenocarcinoma</td>\n",
       "      <td>female</td>\n",
       "      <td>lung</td>\n",
       "      <td>primary tumor</td>\n",
       "      <td>TCGA</td>\n",
       "      <td>Stage IIB</td>\n",
       "      <td>NaN</td>\n",
       "      <td>68.0</td>\n",
       "      <td>Adenocarcinoma</td>\n",
       "      <td>NaN</td>\n",
       "    </tr>\n",
       "    <tr>\n",
       "      <th>ckcc_reference/TCGA-KK-A8IG-01</th>\n",
       "      <td>prostate adenocarcinoma</td>\n",
       "      <td>male</td>\n",
       "      <td>prostate</td>\n",
       "      <td>primary tumor</td>\n",
       "      <td>TCGA</td>\n",
       "      <td>NaN</td>\n",
       "      <td>NaN</td>\n",
       "      <td>55.0</td>\n",
       "      <td>Adenocarcinoma Acinar Type</td>\n",
       "      <td>NaN</td>\n",
       "    </tr>\n",
       "    <tr>\n",
       "      <th>ckcc_reference/TCGA-A8-A09Z-01</th>\n",
       "      <td>breast invasive carcinoma</td>\n",
       "      <td>female</td>\n",
       "      <td>breast</td>\n",
       "      <td>primary tumor</td>\n",
       "      <td>TCGA</td>\n",
       "      <td>Stage IIB</td>\n",
       "      <td>NaN</td>\n",
       "      <td>83.0</td>\n",
       "      <td>NaN</td>\n",
       "      <td>NaN</td>\n",
       "    </tr>\n",
       "    <tr>\n",
       "      <th>ckcc_reference/TCGA-DD-AAW1-01</th>\n",
       "      <td>liver hepatocellular carcinoma</td>\n",
       "      <td>male</td>\n",
       "      <td>liver</td>\n",
       "      <td>primary tumor</td>\n",
       "      <td>TCGA</td>\n",
       "      <td>Stage IIIA</td>\n",
       "      <td>G2</td>\n",
       "      <td>55.0</td>\n",
       "      <td>Hepatocellular Carcinoma</td>\n",
       "      <td>NaN</td>\n",
       "    </tr>\n",
       "    <tr>\n",
       "      <th>ckcc_reference/TCGA-YL-A8SB-01</th>\n",
       "      <td>prostate adenocarcinoma</td>\n",
       "      <td>male</td>\n",
       "      <td>prostate</td>\n",
       "      <td>primary tumor</td>\n",
       "      <td>TCGA</td>\n",
       "      <td>NaN</td>\n",
       "      <td>NaN</td>\n",
       "      <td>62.0</td>\n",
       "      <td>Adenocarcinoma Acinar Type</td>\n",
       "      <td>NaN</td>\n",
       "    </tr>\n",
       "  </tbody>\n",
       "</table>\n",
       "</div>"
      ],
      "text/plain": [
       "                                                       Disease  Gender  \\\n",
       "id                                                                       \n",
       "ckcc_reference/TCGA-MP-A4T4-01             lung adenocarcinoma  female   \n",
       "ckcc_reference/TCGA-KK-A8IG-01         prostate adenocarcinoma    male   \n",
       "ckcc_reference/TCGA-A8-A09Z-01       breast invasive carcinoma  female   \n",
       "ckcc_reference/TCGA-DD-AAW1-01  liver hepatocellular carcinoma    male   \n",
       "ckcc_reference/TCGA-YL-A8SB-01         prostate adenocarcinoma    male   \n",
       "\n",
       "                               Anatomical_location    Sample_type Dataset  \\\n",
       "id                                                                          \n",
       "ckcc_reference/TCGA-MP-A4T4-01                lung  primary tumor    TCGA   \n",
       "ckcc_reference/TCGA-KK-A8IG-01            prostate  primary tumor    TCGA   \n",
       "ckcc_reference/TCGA-A8-A09Z-01              breast  primary tumor    TCGA   \n",
       "ckcc_reference/TCGA-DD-AAW1-01               liver  primary tumor    TCGA   \n",
       "ckcc_reference/TCGA-YL-A8SB-01            prostate  primary tumor    TCGA   \n",
       "\n",
       "                               Stage_all_cancers Grade_all_cancers  Age_at_dx  \\\n",
       "id                                                                              \n",
       "ckcc_reference/TCGA-MP-A4T4-01         Stage IIB               NaN       68.0   \n",
       "ckcc_reference/TCGA-KK-A8IG-01               NaN               NaN       55.0   \n",
       "ckcc_reference/TCGA-A8-A09Z-01         Stage IIB               NaN       83.0   \n",
       "ckcc_reference/TCGA-DD-AAW1-01        Stage IIIA                G2       55.0   \n",
       "ckcc_reference/TCGA-YL-A8SB-01               NaN               NaN       62.0   \n",
       "\n",
       "                                     Histology_all_cancers Subcategory  \n",
       "id                                                                      \n",
       "ckcc_reference/TCGA-MP-A4T4-01              Adenocarcinoma         NaN  \n",
       "ckcc_reference/TCGA-KK-A8IG-01  Adenocarcinoma Acinar Type         NaN  \n",
       "ckcc_reference/TCGA-A8-A09Z-01                         NaN         NaN  \n",
       "ckcc_reference/TCGA-DD-AAW1-01    Hepatocellular Carcinoma         NaN  \n",
       "ckcc_reference/TCGA-YL-A8SB-01  Adenocarcinoma Acinar Type         NaN  "
      ]
     },
     "execution_count": 3,
     "metadata": {},
     "output_type": "execute_result"
    }
   ],
   "source": [
    "clinical = pd.read_table(\"treehouse/clinical.tsv.gz\", index_col=0)\n",
    "clinical.head()"
   ]
  },
  {
   "cell_type": "code",
   "execution_count": 4,
   "metadata": {
    "collapsed": false
   },
   "outputs": [
    {
     "data": {
      "text/html": [
       "<div>\n",
       "<table border=\"1\" class=\"dataframe\">\n",
       "  <thead>\n",
       "    <tr style=\"text-align: right;\">\n",
       "      <th></th>\n",
       "      <th>icgc/_EGAR00001415737_RNA_PAIRED_ICGC_GBM15_tumor_SN935_0182_B_C2UKHACXXs_131105_1</th>\n",
       "      <th>icgc/_EGAR00001415749_RNA_PAIRED_ICGC_GBM24_tumor_SN935_0169_B_D2335ACXXs_130809_5</th>\n",
       "      <th>icgc/_EGAR00001415750_RNA_PAIRED_ICGC_GBM25_tumor_SN935_0169_B_D2335ACXXs_130809_6</th>\n",
       "      <th>icgc/_EGAR00001415751_RNA_PAIRED_ICGC_GBM26_tumor_SN935_0169_B_D2335ACXXs_130809_7</th>\n",
       "      <th>icgc/_EGAR00001415752_RNA_PAIRED_ICGC_GBM27_tumor_SN935_0182_B_C2UKHACXXs_131105_2</th>\n",
       "      <th>icgc/_EGAR00001415753_RNA_PAIRED_ICGC_GBM28_tumor_SN935_0182_B_C2UKHACXXs_131105_3</th>\n",
       "      <th>icgc/_EGAR00001415754_RNA_PAIRED_ICGC_GBM32_tumor_SN935_0182_B_C2UKHACXXs_131105_5</th>\n",
       "      <th>icgc/_EGAR00001415755_RNA_PAIRED_ICGC_GBM33_tumor_SN935_0182_B_C2UKHACXXs_131105_6</th>\n",
       "      <th>icgc/_EGAR00001415756_RNA_PAIRED_ICGC_GBM34_tumor_SN935_0182_B_C2UKHACXXs_131105_7</th>\n",
       "      <th>icgc/_EGAR00001415757_RNA_PAIRED_ICGC_GBM36_tumor_SN935_0182_B_C2UKHACXXs_131105_8</th>\n",
       "      <th>...</th>\n",
       "      <th>icgc/_EGAZ00001000218_81MAGABXX_3_withJunctionsOnGenome_dupsFlagged</th>\n",
       "      <th>icgc/_EGAZ00001000219_81MAGABXX_4_withJunctionsOnGenome_dupsFlagged</th>\n",
       "      <th>icgc/_EGAZ00001000221_81MAGABXX_6_withJunctionsOnGenome_dupsFlagged</th>\n",
       "      <th>icgc/_EGAZ00001000223_81MAGABXX_8_withJunctionsOnGenome_dupsFlagged</th>\n",
       "      <th>icgc/_EGAZ00001000226_81MAGABXX_1_withJunctionsOnGenome_dupsFlagged</th>\n",
       "      <th>icgc/_EGAZ00001000227_81MAGABXX_2_withJunctionsOnGenome_dupsFlagged</th>\n",
       "      <th>icgc/_EGAZ00001000232_81MK3ABXX_3_withJunctionsOnGenome_dupsFlagged</th>\n",
       "      <th>icgc/_EGAZ00001000233_81MK3ABXX_4_withJunctionsOnGenome_dupsFlagged</th>\n",
       "      <th>icgc/_EGAZ00001000236_81MK3ABXX_7_withJunctionsOnGenome_dupsFlagged</th>\n",
       "      <th>icgc/_EGAZ00001000237_81MK3ABXX_8_withJunctionsOnGenome_dupsFlagged</th>\n",
       "    </tr>\n",
       "    <tr>\n",
       "      <th>Gene</th>\n",
       "      <th></th>\n",
       "      <th></th>\n",
       "      <th></th>\n",
       "      <th></th>\n",
       "      <th></th>\n",
       "      <th></th>\n",
       "      <th></th>\n",
       "      <th></th>\n",
       "      <th></th>\n",
       "      <th></th>\n",
       "      <th></th>\n",
       "      <th></th>\n",
       "      <th></th>\n",
       "      <th></th>\n",
       "      <th></th>\n",
       "      <th></th>\n",
       "      <th></th>\n",
       "      <th></th>\n",
       "      <th></th>\n",
       "      <th></th>\n",
       "      <th></th>\n",
       "    </tr>\n",
       "  </thead>\n",
       "  <tbody>\n",
       "    <tr>\n",
       "      <th>A1BG</th>\n",
       "      <td>8.510573</td>\n",
       "      <td>5.567774</td>\n",
       "      <td>7.031197</td>\n",
       "      <td>3.974043</td>\n",
       "      <td>8.888762</td>\n",
       "      <td>8.070768</td>\n",
       "      <td>8.960242</td>\n",
       "      <td>5.813766</td>\n",
       "      <td>6.447685</td>\n",
       "      <td>8.297486</td>\n",
       "      <td>...</td>\n",
       "      <td>7.636989</td>\n",
       "      <td>7.688503</td>\n",
       "      <td>7.543005</td>\n",
       "      <td>8.563799</td>\n",
       "      <td>8.429271</td>\n",
       "      <td>6.171861</td>\n",
       "      <td>5.230726</td>\n",
       "      <td>4.805638</td>\n",
       "      <td>7.831513</td>\n",
       "      <td>8.292066</td>\n",
       "    </tr>\n",
       "    <tr>\n",
       "      <th>A1BG-AS1</th>\n",
       "      <td>8.179963</td>\n",
       "      <td>5.723395</td>\n",
       "      <td>7.295928</td>\n",
       "      <td>4.641575</td>\n",
       "      <td>8.997787</td>\n",
       "      <td>8.871587</td>\n",
       "      <td>9.263988</td>\n",
       "      <td>6.302668</td>\n",
       "      <td>6.337251</td>\n",
       "      <td>8.590347</td>\n",
       "      <td>...</td>\n",
       "      <td>8.344312</td>\n",
       "      <td>8.030484</td>\n",
       "      <td>8.416316</td>\n",
       "      <td>8.879734</td>\n",
       "      <td>8.312411</td>\n",
       "      <td>6.419139</td>\n",
       "      <td>6.243256</td>\n",
       "      <td>6.599565</td>\n",
       "      <td>7.845771</td>\n",
       "      <td>8.565631</td>\n",
       "    </tr>\n",
       "    <tr>\n",
       "      <th>A1CF</th>\n",
       "      <td>5.357552</td>\n",
       "      <td>2.364404</td>\n",
       "      <td>4.487454</td>\n",
       "      <td>6.017118</td>\n",
       "      <td>3.405924</td>\n",
       "      <td>8.179587</td>\n",
       "      <td>3.399417</td>\n",
       "      <td>4.656073</td>\n",
       "      <td>0.708143</td>\n",
       "      <td>2.494876</td>\n",
       "      <td>...</td>\n",
       "      <td>2.934819</td>\n",
       "      <td>3.430566</td>\n",
       "      <td>2.164883</td>\n",
       "      <td>0.000000</td>\n",
       "      <td>2.033370</td>\n",
       "      <td>2.803661</td>\n",
       "      <td>1.002162</td>\n",
       "      <td>3.446388</td>\n",
       "      <td>0.918920</td>\n",
       "      <td>3.269332</td>\n",
       "    </tr>\n",
       "    <tr>\n",
       "      <th>A2M</th>\n",
       "      <td>14.528995</td>\n",
       "      <td>16.699163</td>\n",
       "      <td>16.211254</td>\n",
       "      <td>14.105852</td>\n",
       "      <td>15.721936</td>\n",
       "      <td>14.401179</td>\n",
       "      <td>18.103092</td>\n",
       "      <td>17.378096</td>\n",
       "      <td>15.151257</td>\n",
       "      <td>17.133427</td>\n",
       "      <td>...</td>\n",
       "      <td>12.399626</td>\n",
       "      <td>13.133085</td>\n",
       "      <td>12.090726</td>\n",
       "      <td>13.742161</td>\n",
       "      <td>11.805397</td>\n",
       "      <td>12.112751</td>\n",
       "      <td>11.752514</td>\n",
       "      <td>12.496746</td>\n",
       "      <td>12.957214</td>\n",
       "      <td>12.696267</td>\n",
       "    </tr>\n",
       "    <tr>\n",
       "      <th>A2M-AS1</th>\n",
       "      <td>7.170544</td>\n",
       "      <td>8.359066</td>\n",
       "      <td>7.223032</td>\n",
       "      <td>8.099578</td>\n",
       "      <td>8.921361</td>\n",
       "      <td>7.806324</td>\n",
       "      <td>8.858294</td>\n",
       "      <td>7.856719</td>\n",
       "      <td>5.077914</td>\n",
       "      <td>8.068009</td>\n",
       "      <td>...</td>\n",
       "      <td>4.500165</td>\n",
       "      <td>4.682028</td>\n",
       "      <td>4.379094</td>\n",
       "      <td>3.894090</td>\n",
       "      <td>4.748622</td>\n",
       "      <td>6.923610</td>\n",
       "      <td>4.813078</td>\n",
       "      <td>4.853587</td>\n",
       "      <td>6.566897</td>\n",
       "      <td>3.740971</td>\n",
       "    </tr>\n",
       "  </tbody>\n",
       "</table>\n",
       "<p>5 rows × 10818 columns</p>\n",
       "</div>"
      ],
      "text/plain": [
       "          icgc/_EGAR00001415737_RNA_PAIRED_ICGC_GBM15_tumor_SN935_0182_B_C2UKHACXXs_131105_1  \\\n",
       "Gene                                                                                           \n",
       "A1BG                                               8.510573                                    \n",
       "A1BG-AS1                                           8.179963                                    \n",
       "A1CF                                               5.357552                                    \n",
       "A2M                                               14.528995                                    \n",
       "A2M-AS1                                            7.170544                                    \n",
       "\n",
       "          icgc/_EGAR00001415749_RNA_PAIRED_ICGC_GBM24_tumor_SN935_0169_B_D2335ACXXs_130809_5  \\\n",
       "Gene                                                                                           \n",
       "A1BG                                               5.567774                                    \n",
       "A1BG-AS1                                           5.723395                                    \n",
       "A1CF                                               2.364404                                    \n",
       "A2M                                               16.699163                                    \n",
       "A2M-AS1                                            8.359066                                    \n",
       "\n",
       "          icgc/_EGAR00001415750_RNA_PAIRED_ICGC_GBM25_tumor_SN935_0169_B_D2335ACXXs_130809_6  \\\n",
       "Gene                                                                                           \n",
       "A1BG                                               7.031197                                    \n",
       "A1BG-AS1                                           7.295928                                    \n",
       "A1CF                                               4.487454                                    \n",
       "A2M                                               16.211254                                    \n",
       "A2M-AS1                                            7.223032                                    \n",
       "\n",
       "          icgc/_EGAR00001415751_RNA_PAIRED_ICGC_GBM26_tumor_SN935_0169_B_D2335ACXXs_130809_7  \\\n",
       "Gene                                                                                           \n",
       "A1BG                                               3.974043                                    \n",
       "A1BG-AS1                                           4.641575                                    \n",
       "A1CF                                               6.017118                                    \n",
       "A2M                                               14.105852                                    \n",
       "A2M-AS1                                            8.099578                                    \n",
       "\n",
       "          icgc/_EGAR00001415752_RNA_PAIRED_ICGC_GBM27_tumor_SN935_0182_B_C2UKHACXXs_131105_2  \\\n",
       "Gene                                                                                           \n",
       "A1BG                                               8.888762                                    \n",
       "A1BG-AS1                                           8.997787                                    \n",
       "A1CF                                               3.405924                                    \n",
       "A2M                                               15.721936                                    \n",
       "A2M-AS1                                            8.921361                                    \n",
       "\n",
       "          icgc/_EGAR00001415753_RNA_PAIRED_ICGC_GBM28_tumor_SN935_0182_B_C2UKHACXXs_131105_3  \\\n",
       "Gene                                                                                           \n",
       "A1BG                                               8.070768                                    \n",
       "A1BG-AS1                                           8.871587                                    \n",
       "A1CF                                               8.179587                                    \n",
       "A2M                                               14.401179                                    \n",
       "A2M-AS1                                            7.806324                                    \n",
       "\n",
       "          icgc/_EGAR00001415754_RNA_PAIRED_ICGC_GBM32_tumor_SN935_0182_B_C2UKHACXXs_131105_5  \\\n",
       "Gene                                                                                           \n",
       "A1BG                                               8.960242                                    \n",
       "A1BG-AS1                                           9.263988                                    \n",
       "A1CF                                               3.399417                                    \n",
       "A2M                                               18.103092                                    \n",
       "A2M-AS1                                            8.858294                                    \n",
       "\n",
       "          icgc/_EGAR00001415755_RNA_PAIRED_ICGC_GBM33_tumor_SN935_0182_B_C2UKHACXXs_131105_6  \\\n",
       "Gene                                                                                           \n",
       "A1BG                                               5.813766                                    \n",
       "A1BG-AS1                                           6.302668                                    \n",
       "A1CF                                               4.656073                                    \n",
       "A2M                                               17.378096                                    \n",
       "A2M-AS1                                            7.856719                                    \n",
       "\n",
       "          icgc/_EGAR00001415756_RNA_PAIRED_ICGC_GBM34_tumor_SN935_0182_B_C2UKHACXXs_131105_7  \\\n",
       "Gene                                                                                           \n",
       "A1BG                                               6.447685                                    \n",
       "A1BG-AS1                                           6.337251                                    \n",
       "A1CF                                               0.708143                                    \n",
       "A2M                                               15.151257                                    \n",
       "A2M-AS1                                            5.077914                                    \n",
       "\n",
       "          icgc/_EGAR00001415757_RNA_PAIRED_ICGC_GBM36_tumor_SN935_0182_B_C2UKHACXXs_131105_8  \\\n",
       "Gene                                                                                           \n",
       "A1BG                                               8.297486                                    \n",
       "A1BG-AS1                                           8.590347                                    \n",
       "A1CF                                               2.494876                                    \n",
       "A2M                                               17.133427                                    \n",
       "A2M-AS1                                            8.068009                                    \n",
       "\n",
       "                                         ...                                   \\\n",
       "Gene                                     ...                                    \n",
       "A1BG                                     ...                                    \n",
       "A1BG-AS1                                 ...                                    \n",
       "A1CF                                     ...                                    \n",
       "A2M                                      ...                                    \n",
       "A2M-AS1                                  ...                                    \n",
       "\n",
       "          icgc/_EGAZ00001000218_81MAGABXX_3_withJunctionsOnGenome_dupsFlagged  \\\n",
       "Gene                                                                            \n",
       "A1BG                                               7.636989                     \n",
       "A1BG-AS1                                           8.344312                     \n",
       "A1CF                                               2.934819                     \n",
       "A2M                                               12.399626                     \n",
       "A2M-AS1                                            4.500165                     \n",
       "\n",
       "          icgc/_EGAZ00001000219_81MAGABXX_4_withJunctionsOnGenome_dupsFlagged  \\\n",
       "Gene                                                                            \n",
       "A1BG                                               7.688503                     \n",
       "A1BG-AS1                                           8.030484                     \n",
       "A1CF                                               3.430566                     \n",
       "A2M                                               13.133085                     \n",
       "A2M-AS1                                            4.682028                     \n",
       "\n",
       "          icgc/_EGAZ00001000221_81MAGABXX_6_withJunctionsOnGenome_dupsFlagged  \\\n",
       "Gene                                                                            \n",
       "A1BG                                               7.543005                     \n",
       "A1BG-AS1                                           8.416316                     \n",
       "A1CF                                               2.164883                     \n",
       "A2M                                               12.090726                     \n",
       "A2M-AS1                                            4.379094                     \n",
       "\n",
       "          icgc/_EGAZ00001000223_81MAGABXX_8_withJunctionsOnGenome_dupsFlagged  \\\n",
       "Gene                                                                            \n",
       "A1BG                                               8.563799                     \n",
       "A1BG-AS1                                           8.879734                     \n",
       "A1CF                                               0.000000                     \n",
       "A2M                                               13.742161                     \n",
       "A2M-AS1                                            3.894090                     \n",
       "\n",
       "          icgc/_EGAZ00001000226_81MAGABXX_1_withJunctionsOnGenome_dupsFlagged  \\\n",
       "Gene                                                                            \n",
       "A1BG                                               8.429271                     \n",
       "A1BG-AS1                                           8.312411                     \n",
       "A1CF                                               2.033370                     \n",
       "A2M                                               11.805397                     \n",
       "A2M-AS1                                            4.748622                     \n",
       "\n",
       "          icgc/_EGAZ00001000227_81MAGABXX_2_withJunctionsOnGenome_dupsFlagged  \\\n",
       "Gene                                                                            \n",
       "A1BG                                               6.171861                     \n",
       "A1BG-AS1                                           6.419139                     \n",
       "A1CF                                               2.803661                     \n",
       "A2M                                               12.112751                     \n",
       "A2M-AS1                                            6.923610                     \n",
       "\n",
       "          icgc/_EGAZ00001000232_81MK3ABXX_3_withJunctionsOnGenome_dupsFlagged  \\\n",
       "Gene                                                                            \n",
       "A1BG                                               5.230726                     \n",
       "A1BG-AS1                                           6.243256                     \n",
       "A1CF                                               1.002162                     \n",
       "A2M                                               11.752514                     \n",
       "A2M-AS1                                            4.813078                     \n",
       "\n",
       "          icgc/_EGAZ00001000233_81MK3ABXX_4_withJunctionsOnGenome_dupsFlagged  \\\n",
       "Gene                                                                            \n",
       "A1BG                                               4.805638                     \n",
       "A1BG-AS1                                           6.599565                     \n",
       "A1CF                                               3.446388                     \n",
       "A2M                                               12.496746                     \n",
       "A2M-AS1                                            4.853587                     \n",
       "\n",
       "          icgc/_EGAZ00001000236_81MK3ABXX_7_withJunctionsOnGenome_dupsFlagged  \\\n",
       "Gene                                                                            \n",
       "A1BG                                               7.831513                     \n",
       "A1BG-AS1                                           7.845771                     \n",
       "A1CF                                               0.918920                     \n",
       "A2M                                               12.957214                     \n",
       "A2M-AS1                                            6.566897                     \n",
       "\n",
       "          icgc/_EGAZ00001000237_81MK3ABXX_8_withJunctionsOnGenome_dupsFlagged  \n",
       "Gene                                                                           \n",
       "A1BG                                               8.292066                    \n",
       "A1BG-AS1                                           8.565631                    \n",
       "A1CF                                               3.269332                    \n",
       "A2M                                               12.696267                    \n",
       "A2M-AS1                                            3.740971                    \n",
       "\n",
       "[5 rows x 10818 columns]"
      ]
     },
     "execution_count": 4,
     "metadata": {},
     "output_type": "execute_result"
    }
   ],
   "source": [
    "expression = pd.read_table(\"treehouse/expression.tsv.gz\", index_col=0).astype(np.float32)\n",
    "expression.head()"
   ]
  },
  {
   "cell_type": "code",
   "execution_count": 67,
   "metadata": {
    "collapsed": false
   },
   "outputs": [],
   "source": [
    "with open(\"treehouse/clinical.pkl\", \"wb\") as f:\n",
    "    pickle.dump(clinical, f, protocol=2)"
   ]
  },
  {
   "cell_type": "code",
   "execution_count": 71,
   "metadata": {
    "collapsed": false
   },
   "outputs": [],
   "source": [
    "expression.to_pickle(\"treehouse/expression.pkl\")"
   ]
  },
  {
   "cell_type": "code",
   "execution_count": 89,
   "metadata": {
    "collapsed": false
   },
   "outputs": [
    {
     "name": "stdout",
     "output_type": "stream",
     "text": [
      "-rw-r--r-- 1 root root 1505974624 Dec 19 17:14 treehouse/expression.pkl\r\n"
     ]
    }
   ],
   "source": [
    "!ls -al treehouse/expression.pkl"
   ]
  },
  {
   "cell_type": "code",
   "execution_count": 77,
   "metadata": {
    "collapsed": false
   },
   "outputs": [],
   "source": [
    "with open(\"treehouse/expression.pkl\", \"wb\") as f:\n",
    "    pickle.dump(expression, f, protocol=2)"
   ]
  },
  {
   "cell_type": "code",
   "execution_count": 68,
   "metadata": {
    "collapsed": false
   },
   "outputs": [
    {
     "name": "stdout",
     "output_type": "stream",
     "text": [
      "CPU times: user 7.38 s, sys: 1.72 s, total: 9.09 s\n",
      "Wall time: 9.06 s\n"
     ]
    }
   ],
   "source": [
    "%%time\n",
    "with open(\"treehouse/expression.pkl\", \"rb\") as f:\n",
    "    epkl = pickle.load(f)"
   ]
  },
  {
   "cell_type": "code",
   "execution_count": 82,
   "metadata": {
    "collapsed": false
   },
   "outputs": [
    {
     "data": {
      "text/plain": [
       "4"
      ]
     },
     "execution_count": 82,
     "metadata": {},
     "output_type": "execute_result"
    }
   ],
   "source": [
    "epkl.ix[5,5].nbytes"
   ]
  },
  {
   "cell_type": "code",
   "execution_count": 88,
   "metadata": {
    "collapsed": false
   },
   "outputs": [
    {
     "data": {
      "text/plain": [
       "(27165, 10818)"
      ]
     },
     "execution_count": 88,
     "metadata": {},
     "output_type": "execute_result"
    }
   ],
   "source": [
    "expression.shape"
   ]
  },
  {
   "cell_type": "code",
   "execution_count": 87,
   "metadata": {
    "collapsed": false
   },
   "outputs": [
    {
     "data": {
      "text/plain": [
       "1121.0287857055664"
      ]
     },
     "execution_count": 87,
     "metadata": {},
     "output_type": "execute_result"
    }
   ],
   "source": [
    "expression.ix[1,1].nbytes * expression.shape[0] * expression.shape[1] / 2**20"
   ]
  },
  {
   "cell_type": "code",
   "execution_count": 5,
   "metadata": {
    "collapsed": false
   },
   "outputs": [],
   "source": [
    "# Needed to store to hdf5\n",
    "!pip2 install --quiet tables\n",
    "expression.to_hdf(\"treehouse/expression.hdf\", \"expression\")"
   ]
  }
 ],
 "metadata": {
  "kernelspec": {
   "display_name": "Python 2",
   "language": "python",
   "name": "python2"
  },
  "language_info": {
   "codemirror_mode": {
    "name": "ipython",
    "version": 2
   },
   "file_extension": ".py",
   "mimetype": "text/x-python",
   "name": "python",
   "nbconvert_exporter": "python",
   "pygments_lexer": "ipython2",
   "version": "2.7.12"
  }
 },
 "nbformat": 4,
 "nbformat_minor": 1
}
