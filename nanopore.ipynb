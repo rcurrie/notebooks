{
 "cells": [
  {
   "cell_type": "markdown",
   "metadata": {},
   "source": [
    "# Nanopore to Wave\n",
    "\n",
    "As a DNA molecule or fragement passes through the nanopore it causes the voltage potential to vary. This 'signal' is captured by an A to D converter and stored as a 'read'. These reads are stored in an HDF5 (h5, fast5 etc..>) file along with various attributes. The MinION samples at 4kHz with 13 bits while the PromethION samples at 4kHz and 11 bits. In addition to the signal each HDF5 file contains a variety of attributes such as the voltage offset, range etc...."
   ]
  },
  {
   "cell_type": "code",
   "execution_count": 2,
   "metadata": {},
   "outputs": [],
   "source": [
    "import os\n",
    "import h5py\n",
    "import glob\n",
    "import numpy as np\n",
    "import pandas as pd\n",
    "import wave\n",
    "import struct"
   ]
  },
  {
   "cell_type": "code",
   "execution_count": 72,
   "metadata": {},
   "outputs": [
    {
     "name": "stdout",
     "output_type": "stream",
     "text": [
      "Found 38 nanopore h5 files\n"
     ]
    }
   ],
   "source": [
    "# Look for all fast5 files under the nanopore directory\n",
    "files = glob.glob(os.path.expanduser(\"~/data/nanopore/*/*.fast5\"))\n",
    "print(f\"Found {len(files)} nanopore h5 files\")"
   ]
  },
  {
   "cell_type": "markdown",
   "metadata": {},
   "source": [
    "## Attributes\n",
    "Dump out all the attributes in the first file found"
   ]
  },
  {
   "cell_type": "code",
   "execution_count": 102,
   "metadata": {},
   "outputs": [
    {
     "name": "stdout",
     "output_type": "stream",
     "text": [
      "Dumping attributes for\n",
      "/Users/rcurrie/data/nanopore/PromethION_GM12878/PCT0018_20180627_0004A30B0023DD3B_1_A7_D7_sequencing_run_GM12878_76458_read_997_ch_1532_strand.fast5\n",
      "\n",
      "attribute\tvalue\n",
      "Raw/Reads/Read_41/read_number\t41\n",
      "Raw/Reads/Read_41/read_id\tb'a5c4c91c-ec48-4feb-81d4-1fe10185095c'\n",
      "Raw/Reads/Read_41/start_mux\t3\n",
      "Raw/Reads/Read_41/start_time\t494759\n",
      "Raw/Reads/Read_41/duration\t25714\n",
      "Raw/Reads/Read_41/median_before\t218.76177625501478\n",
      "UniqueGlobalKey/channel_id/channel_number\tb'119'\n",
      "UniqueGlobalKey/channel_id/offset\t24.0\n",
      "UniqueGlobalKey/channel_id/digitisation\t8192.0\n",
      "UniqueGlobalKey/channel_id/range\t1467.61\n",
      "UniqueGlobalKey/channel_id/sampling_rate\t4000.0\n",
      "UniqueGlobalKey/context_tags/filename\tb'deamernanopore_20161117_fnfab43577_mn16450_sequencing_run_ma_821_r9_4_na12878_11_17_16_88738'\n",
      "UniqueGlobalKey/context_tags/experiment_kit\tb'genomic_dna'\n",
      "UniqueGlobalKey/context_tags/experiment_type\tb'customer_qc'\n",
      "UniqueGlobalKey/context_tags/user_filename_input\tb'ma_821_r9.4_na12878_11_17_16'\n",
      "UniqueGlobalKey/context_tags/sample_frequency\tb'4000'\n",
      "UniqueGlobalKey/tracking_id/asic_id\tb'3574887596'\n",
      "UniqueGlobalKey/tracking_id/asic_id_eeprom\tb'0'\n",
      "UniqueGlobalKey/tracking_id/asic_temp\tb'29.2145729'\n",
      "UniqueGlobalKey/tracking_id/auto_update\tb'1'\n",
      "UniqueGlobalKey/tracking_id/auto_update_source\tb'https://mirror.oxfordnanoportal.com/software/MinKNOW/'\n",
      "UniqueGlobalKey/tracking_id/bream_core_version\tb'1.1.20.1'\n",
      "UniqueGlobalKey/tracking_id/bream_is_standard\tb'1'\n",
      "UniqueGlobalKey/tracking_id/bream_map_version\tb'1.1.20.1'\n",
      "UniqueGlobalKey/tracking_id/bream_ont_version\tb'1.1.20.1'\n",
      "UniqueGlobalKey/tracking_id/bream_prod_version\tb'1.1.20.1'\n",
      "UniqueGlobalKey/tracking_id/bream_rnd_version\tb'0.1.1'\n",
      "UniqueGlobalKey/tracking_id/device_id\tb'MN16450'\n",
      "UniqueGlobalKey/tracking_id/exp_script_name\tb'python/recipes/nc/NC_48Hr_Sequencing_Run_FLO-MIN106_SQK-LSK108.py'\n",
      "UniqueGlobalKey/tracking_id/exp_script_purpose\tb'sequencing_run'\n",
      "UniqueGlobalKey/tracking_id/exp_start_time\tb'1479433093'\n",
      "UniqueGlobalKey/tracking_id/flow_cell_id\tb'FAB43577'\n",
      "UniqueGlobalKey/tracking_id/heatsink_temp\tb'33.9921875'\n",
      "UniqueGlobalKey/tracking_id/hostname\tb'DEAMERNANOPORE'\n",
      "UniqueGlobalKey/tracking_id/installation_type\tb'map'\n",
      "UniqueGlobalKey/tracking_id/local_firmware_file\tb'0'\n",
      "UniqueGlobalKey/tracking_id/operating_system\tb'Windows 6.2'\n",
      "UniqueGlobalKey/tracking_id/protocol_run_id\tb'a4429838-103c-497f-a824-7dffa72cfd81'\n",
      "UniqueGlobalKey/tracking_id/protocols_version\tb'1.1.20'\n",
      "UniqueGlobalKey/tracking_id/run_id\tb'd6e473a6d513ec6bfc150c60fd4556d72f0e6d18'\n",
      "UniqueGlobalKey/tracking_id/usb_config\tb'1.0.11_ONT#MinION_fpga_1.0.1#ctrl#Auto'\n",
      "UniqueGlobalKey/tracking_id/version\tb'1.1.20'\n"
     ]
    }
   ],
   "source": [
    "with h5py.File(files[0], \"r\") as hdf:\n",
    "    print(f\"Dumping attributes for\\n{file}\\n\")\n",
    "    # Get the names of all groups and subgroups in the file\n",
    "    list_of_names = []\n",
    "    hdf.visit(list_of_names.append)\n",
    "    attribute = []\n",
    "    for name in list_of_names:\n",
    "        # Get all the attribute name and value pairs\n",
    "        itemL = hdf[name].attrs.items()\n",
    "        for item in itemL:\n",
    "            attr, val = item\n",
    "            if type(hdf[name].attrs[attr]) == np.ndarray:\n",
    "                val = ''.join(hdf[name].attrs[attr])\n",
    "            val = str(val).replace('\\n', '')\n",
    "            attribute.append([name+'/'+attr, val])\n",
    "    # Print the header\n",
    "    print('{0}'.format('\\t'.join(['attribute', 'value'])))\n",
    "    # Print the attribute list\n",
    "    print('{0}'.format('\\n'.join(\n",
    "        ['\\t'.join([str(x) for x in item]) for item in attribute])))"
   ]
  },
  {
   "cell_type": "markdown",
   "metadata": {},
   "source": [
    "## Lengths\n",
    "Get a sense of the range of read lengths"
   ]
  },
  {
   "cell_type": "code",
   "execution_count": 96,
   "metadata": {},
   "outputs": [
    {
     "name": "stdout",
     "output_type": "stream",
     "text": [
      "Durations Min: 4738 Max: 159190 Avg: 55321.76315789474\n"
     ]
    }
   ],
   "source": [
    "durations = []\n",
    "for file in files:\n",
    "    with h5py.File(file, \"r\") as hdf:\n",
    "        for read in hdf[\"Raw/Reads\"]:\n",
    "            durations.append(hdf[f\"Raw/Reads/{read}\"].attrs[\"duration\"])\n",
    "\n",
    "print(f\"Durations Min: {min(durations)} Max: {max(durations)} Avg: {sum(durations) / len(durations)}\")           "
   ]
  },
  {
   "cell_type": "markdown",
   "metadata": {},
   "source": [
    "## Read to Wave\n",
    "Convert each read into a wave file and store next to the HDF5 file with the read number and .wav suffix."
   ]
  },
  {
   "cell_type": "code",
   "execution_count": 85,
   "metadata": {},
   "outputs": [
    {
     "name": "stdout",
     "output_type": "stream",
     "text": [
      "Exporting DEAMERNANOPORE_20161117_FNFAB43577_MN16450_sequencing_run_MA_821_R9_4_NA12878_11_17_16_88738_ch119_read41_strand.fast5 read 41\n",
      "Exporting DEAMERNANOPORE_20161117_FNFAB43577_MN16450_sequencing_run_MA_821_R9_4_NA12878_11_17_16_88738_ch128_read268_strand.fast5 read 268\n",
      "Exporting DEAMERNANOPORE_20161117_FNFAB43577_MN16450_sequencing_run_MA_821_R9_4_NA12878_11_17_16_88738_ch128_read793_strand.fast5 read 793\n",
      "Exporting DEAMERNANOPORE_20161117_FNFAB43577_MN16450_sequencing_run_MA_821_R9_4_NA12878_11_17_16_88738_ch17_read1282_strand.fast5 read 1282\n",
      "Exporting DEAMERNANOPORE_20161117_FNFAB43577_MN16450_sequencing_run_MA_821_R9_4_NA12878_11_17_16_88738_ch213_read85_strand.fast5 read 85\n",
      "Exporting DEAMERNANOPORE_20161117_FNFAB43577_MN16450_sequencing_run_MA_821_R9_4_NA12878_11_17_16_88738_ch218_read462_strand.fast5 read 462\n",
      "Exporting DEAMERNANOPORE_20161117_FNFAB43577_MN16450_sequencing_run_MA_821_R9_4_NA12878_11_17_16_88738_ch236_read921_strand.fast5 read 921\n",
      "Exporting DEAMERNANOPORE_20161117_FNFAB43577_MN16450_sequencing_run_MA_821_R9_4_NA12878_11_17_16_88738_ch239_read857_strand.fast5 read 857\n",
      "Exporting DEAMERNANOPORE_20161117_FNFAB43577_MN16450_sequencing_run_MA_821_R9_4_NA12878_11_17_16_88738_ch252_read804_strand.fast5 read 804\n",
      "Exporting DEAMERNANOPORE_20161117_FNFAB43577_MN16450_sequencing_run_MA_821_R9_4_NA12878_11_17_16_88738_ch261_read474_strand.fast5 read 474\n",
      "Exporting DEAMERNANOPORE_20161117_FNFAB43577_MN16450_sequencing_run_MA_821_R9_4_NA12878_11_17_16_88738_ch263_read415_strand.fast5 read 415\n",
      "Exporting DEAMERNANOPORE_20161117_FNFAB43577_MN16450_sequencing_run_MA_821_R9_4_NA12878_11_17_16_88738_ch289_read676_strand.fast5 read 676\n",
      "Exporting DEAMERNANOPORE_20161117_FNFAB43577_MN16450_sequencing_run_MA_821_R9_4_NA12878_11_17_16_88738_ch302_read492_strand.fast5 read 492\n",
      "Exporting DEAMERNANOPORE_20161117_FNFAB43577_MN16450_sequencing_run_MA_821_R9_4_NA12878_11_17_16_88738_ch338_read608_strand.fast5 read 608\n",
      "Exporting DEAMERNANOPORE_20161117_FNFAB43577_MN16450_sequencing_run_MA_821_R9_4_NA12878_11_17_16_88738_ch349_read489_strand.fast5 read 489\n",
      "Exporting DEAMERNANOPORE_20161117_FNFAB43577_MN16450_sequencing_run_MA_821_R9_4_NA12878_11_17_16_88738_ch357_read44_strand.fast5 read 44\n",
      "Exporting DEAMERNANOPORE_20161117_FNFAB43577_MN16450_sequencing_run_MA_821_R9_4_NA12878_11_17_16_88738_ch378_read40_strand.fast5 read 40\n",
      "Exporting DEAMERNANOPORE_20161117_FNFAB43577_MN16450_sequencing_run_MA_821_R9_4_NA12878_11_17_16_89607_ch2_read2348_strand.fast5 read 2348\n",
      "Exporting DEAMERNANOPORE_20161117_FNFAB43577_MN16450_sequencing_run_MA_821_R9_4_NA12878_11_17_16_89607_ch3_read3253_strand.fast5 read 3253\n",
      "Exporting PCT0018_20180627_0004A30B0023DD3B_1_A7_D7_sequencing_run_GM12878_76458_read_1003_ch_1044_strand.fast5 read 1003\n",
      "Exporting PCT0018_20180627_0004A30B0023DD3B_1_A7_D7_sequencing_run_GM12878_76458_read_1043_ch_1780_strand.fast5 read 1043\n",
      "Exporting PCT0018_20180627_0004A30B0023DD3B_1_A7_D7_sequencing_run_GM12878_76458_read_1050_ch_2036_strand.fast5 read 1050\n",
      "Exporting PCT0018_20180627_0004A30B0023DD3B_1_A7_D7_sequencing_run_GM12878_76458_read_1052_ch_45_strand.fast5 read 1052\n",
      "Exporting PCT0018_20180627_0004A30B0023DD3B_1_A7_D7_sequencing_run_GM12878_76458_read_1053_ch_254_strand.fast5 read 1053\n",
      "Exporting PCT0018_20180627_0004A30B0023DD3B_1_A7_D7_sequencing_run_GM12878_76458_read_1054_ch_2281_strand.fast5 read 1054\n",
      "Exporting PCT0018_20180627_0004A30B0023DD3B_1_A7_D7_sequencing_run_GM12878_76458_read_1056_ch_762_strand.fast5 read 1056\n",
      "Exporting PCT0018_20180627_0004A30B0023DD3B_1_A7_D7_sequencing_run_GM12878_76458_read_1057_ch_1302_strand.fast5 read 1057\n",
      "Exporting PCT0018_20180627_0004A30B0023DD3B_1_A7_D7_sequencing_run_GM12878_76458_read_1058_ch_1053_strand.fast5 read 1058\n",
      "Exporting PCT0018_20180627_0004A30B0023DD3B_1_A7_D7_sequencing_run_GM12878_76458_read_1064_ch_1790_strand.fast5 read 1064\n",
      "Exporting PCT0018_20180627_0004A30B0023DD3B_1_A7_D7_sequencing_run_GM12878_76458_read_914_ch_288_strand.fast5 read 914\n",
      "Exporting PCT0018_20180627_0004A30B0023DD3B_1_A7_D7_sequencing_run_GM12878_76458_read_933_ch_291_strand.fast5 read 933\n",
      "Exporting PCT0018_20180627_0004A30B0023DD3B_1_A7_D7_sequencing_run_GM12878_76458_read_940_ch_105_strand.fast5 read 940\n",
      "Exporting PCT0018_20180627_0004A30B0023DD3B_1_A7_D7_sequencing_run_GM12878_76458_read_956_ch_1305_strand.fast5 read 956\n",
      "Exporting PCT0018_20180627_0004A30B0023DD3B_1_A7_D7_sequencing_run_GM12878_76458_read_959_ch_36_strand.fast5 read 959\n",
      "Exporting PCT0018_20180627_0004A30B0023DD3B_1_A7_D7_sequencing_run_GM12878_76458_read_959_ch_37_strand.fast5 read 959\n",
      "Exporting PCT0018_20180627_0004A30B0023DD3B_1_A7_D7_sequencing_run_GM12878_76458_read_991_ch_1534_strand.fast5 read 991\n",
      "Exporting PCT0018_20180627_0004A30B0023DD3B_1_A7_D7_sequencing_run_GM12878_76458_read_997_ch_1044_strand.fast5 read 997\n",
      "Exporting PCT0018_20180627_0004A30B0023DD3B_1_A7_D7_sequencing_run_GM12878_76458_read_997_ch_1532_strand.fast5 read 997\n"
     ]
    }
   ],
   "source": [
    "for file in files:\n",
    "    with h5py.File(file, \"r\") as hdf:\n",
    "        for read in hdf[\"Raw/Reads\"]:\n",
    "            read_id = hdf[f\"Raw/Reads/{read}\"].attrs[\"read_id\"].decode()\n",
    "            read_number = hdf[f\"Raw/Reads/{read}\"].attrs[\"read_number\"]\n",
    "            print(f\"Exporting {os.path.basename(file)} read {read_number}\")\n",
    "            with wave.open(f\"{file.split('.')[0]}_{read_number}.wav\", \"wb\") as wvf:\n",
    "                signal = hdf.get(f\"Raw/Reads/{read}/Signal\")\n",
    "                wvf.setnchannels(1)\n",
    "                wvf.setframerate(hdf[\"UniqueGlobalKey/channel_id\"].attrs[\"sampling_rate\"])\n",
    "                wvf.setsampwidth(2)\n",
    "                wvf.setcomptype('NONE','NONE')\n",
    "                wvf.writeframes(b''.join([struct.pack('<h',x) for x in signal]))"
   ]
  }
 ],
 "metadata": {
  "kernelspec": {
   "display_name": "Python 3",
   "language": "python",
   "name": "python3"
  },
  "language_info": {
   "codemirror_mode": {
    "name": "ipython",
    "version": 3
   },
   "file_extension": ".py",
   "mimetype": "text/x-python",
   "name": "python",
   "nbconvert_exporter": "python",
   "pygments_lexer": "ipython3",
   "version": "3.7.0"
  }
 },
 "nbformat": 4,
 "nbformat_minor": 2
}
