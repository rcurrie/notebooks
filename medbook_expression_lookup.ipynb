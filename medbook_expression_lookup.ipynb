{
 "cells": [
  {
   "cell_type": "markdown",
   "metadata": {},
   "source": [
    "## Examples of pulling expression data directly out of the MedBook mongo database"
   ]
  },
  {
   "cell_type": "code",
   "execution_count": 1,
   "metadata": {
    "collapsed": true
   },
   "outputs": [],
   "source": [
    "import numpy as np\n",
    "import pandas as pd"
   ]
  },
  {
   "cell_type": "code",
   "execution_count": 2,
   "metadata": {
    "collapsed": false
   },
   "outputs": [
    {
     "name": "stdout",
     "output_type": "stream",
     "text": [
      "Found 28 data sets\n"
     ]
    }
   ],
   "source": [
    "# Connect to the database\n",
    "import pymongo\n",
    "db = pymongo.MongoClient(\"mongo\").MedBook\n",
    "print \"Found {} data sets\".format(db.data_sets.count())"
   ]
  },
  {
   "cell_type": "code",
   "execution_count": 4,
   "metadata": {
    "collapsed": true
   },
   "outputs": [],
   "source": [
    "def get_expression_levels(data_set_name, limit=0):\n",
    "    \"\"\"\n",
    "    Returns a pandas dataframe with rows as features and columns as samples\n",
    "    \"\"\"\n",
    "    data_set = db.data_sets.find_one({\"name\": data_set_name})\n",
    "    print \"Found {} samples in {}\".format(len(data_set[\"sample_labels\"]), data_set_name)\n",
    "    features = db.genomic_expression.find({\"data_set_id\": data_set[\"_id\"]}, limit=limit)\n",
    "    features = features.sort([(\"feature_label\", pymongo.ASCENDING)])\n",
    "    return pd.DataFrame({f[\"feature_label\"]: f[\"values\"] for f in features}, \n",
    "                        index=data_set[\"sample_labels\"], dtype=np.float32).T"
   ]
  },
  {
   "cell_type": "code",
   "execution_count": 8,
   "metadata": {
    "collapsed": false
   },
   "outputs": [
    {
     "name": "stdout",
     "output_type": "stream",
     "text": [
      "Found 11 samples in Treehouse Prospectives 2016.10.14\n",
      "Found 11 samples with 58581 features\n",
      "First 5 features\n"
     ]
    },
    {
     "data": {
      "text/html": [
       "<div>\n",
       "<table border=\"1\" class=\"dataframe\">\n",
       "  <thead>\n",
       "    <tr style=\"text-align: right;\">\n",
       "      <th></th>\n",
       "      <th>ckcc/TH03_0112_S01_RNASeq</th>\n",
       "      <th>ckcc/TH03_0114_S01_RNASeq</th>\n",
       "      <th>ckcc/TH03_0118_S01_RNASeq</th>\n",
       "      <th>ckcc/TH03_0010_S02_RNASeq</th>\n",
       "      <th>ckcc/TH03_0113_S01_RNASeq</th>\n",
       "      <th>ckcc/TH03_0115_S01_RNASeq</th>\n",
       "      <th>ckcc/TH03_0113_S02_RNASeq</th>\n",
       "      <th>ckcc/TH03_0025_S02_RNASeq</th>\n",
       "      <th>ckcc/TH03_0117_S01_RNASeq</th>\n",
       "      <th>ckcc/TH03_0116_S01_RNASeq</th>\n",
       "      <th>ckcc/TH03_0112_S02_RNASeq</th>\n",
       "    </tr>\n",
       "  </thead>\n",
       "  <tbody>\n",
       "    <tr>\n",
       "      <th>5S_rRNA</th>\n",
       "      <td>0.000000</td>\n",
       "      <td>0.000000</td>\n",
       "      <td>0.000000</td>\n",
       "      <td>0.000000</td>\n",
       "      <td>0.000000</td>\n",
       "      <td>0.034135</td>\n",
       "      <td>0.000000</td>\n",
       "      <td>0.000000</td>\n",
       "      <td>0.000000</td>\n",
       "      <td>0.000000</td>\n",
       "      <td>0.000000</td>\n",
       "    </tr>\n",
       "    <tr>\n",
       "      <th>5_8S_rRNA</th>\n",
       "      <td>0.000000</td>\n",
       "      <td>0.000000</td>\n",
       "      <td>0.000000</td>\n",
       "      <td>0.000000</td>\n",
       "      <td>0.000000</td>\n",
       "      <td>0.000000</td>\n",
       "      <td>0.000000</td>\n",
       "      <td>0.000000</td>\n",
       "      <td>0.000000</td>\n",
       "      <td>0.000000</td>\n",
       "      <td>0.000000</td>\n",
       "    </tr>\n",
       "    <tr>\n",
       "      <th>7SK</th>\n",
       "      <td>0.137901</td>\n",
       "      <td>0.000000</td>\n",
       "      <td>0.000000</td>\n",
       "      <td>0.000000</td>\n",
       "      <td>0.000000</td>\n",
       "      <td>0.182055</td>\n",
       "      <td>0.000000</td>\n",
       "      <td>0.000000</td>\n",
       "      <td>0.000000</td>\n",
       "      <td>0.000000</td>\n",
       "      <td>0.000000</td>\n",
       "    </tr>\n",
       "    <tr>\n",
       "      <th>A1BG</th>\n",
       "      <td>6.388630</td>\n",
       "      <td>10.723810</td>\n",
       "      <td>8.413360</td>\n",
       "      <td>7.476323</td>\n",
       "      <td>9.012438</td>\n",
       "      <td>8.226566</td>\n",
       "      <td>10.706632</td>\n",
       "      <td>7.350043</td>\n",
       "      <td>6.907166</td>\n",
       "      <td>14.760183</td>\n",
       "      <td>6.608877</td>\n",
       "    </tr>\n",
       "    <tr>\n",
       "      <th>A1BG-AS1</th>\n",
       "      <td>6.968070</td>\n",
       "      <td>2.785655</td>\n",
       "      <td>8.379173</td>\n",
       "      <td>7.006485</td>\n",
       "      <td>7.645007</td>\n",
       "      <td>8.136575</td>\n",
       "      <td>8.594339</td>\n",
       "      <td>7.544250</td>\n",
       "      <td>5.962975</td>\n",
       "      <td>6.243307</td>\n",
       "      <td>6.573550</td>\n",
       "    </tr>\n",
       "  </tbody>\n",
       "</table>\n",
       "</div>"
      ],
      "text/plain": [
       "           ckcc/TH03_0112_S01_RNASeq  ckcc/TH03_0114_S01_RNASeq  \\\n",
       "5S_rRNA                     0.000000                   0.000000   \n",
       "5_8S_rRNA                   0.000000                   0.000000   \n",
       "7SK                         0.137901                   0.000000   \n",
       "A1BG                        6.388630                  10.723810   \n",
       "A1BG-AS1                    6.968070                   2.785655   \n",
       "\n",
       "           ckcc/TH03_0118_S01_RNASeq  ckcc/TH03_0010_S02_RNASeq  \\\n",
       "5S_rRNA                     0.000000                   0.000000   \n",
       "5_8S_rRNA                   0.000000                   0.000000   \n",
       "7SK                         0.000000                   0.000000   \n",
       "A1BG                        8.413360                   7.476323   \n",
       "A1BG-AS1                    8.379173                   7.006485   \n",
       "\n",
       "           ckcc/TH03_0113_S01_RNASeq  ckcc/TH03_0115_S01_RNASeq  \\\n",
       "5S_rRNA                     0.000000                   0.034135   \n",
       "5_8S_rRNA                   0.000000                   0.000000   \n",
       "7SK                         0.000000                   0.182055   \n",
       "A1BG                        9.012438                   8.226566   \n",
       "A1BG-AS1                    7.645007                   8.136575   \n",
       "\n",
       "           ckcc/TH03_0113_S02_RNASeq  ckcc/TH03_0025_S02_RNASeq  \\\n",
       "5S_rRNA                     0.000000                   0.000000   \n",
       "5_8S_rRNA                   0.000000                   0.000000   \n",
       "7SK                         0.000000                   0.000000   \n",
       "A1BG                       10.706632                   7.350043   \n",
       "A1BG-AS1                    8.594339                   7.544250   \n",
       "\n",
       "           ckcc/TH03_0117_S01_RNASeq  ckcc/TH03_0116_S01_RNASeq  \\\n",
       "5S_rRNA                     0.000000                   0.000000   \n",
       "5_8S_rRNA                   0.000000                   0.000000   \n",
       "7SK                         0.000000                   0.000000   \n",
       "A1BG                        6.907166                  14.760183   \n",
       "A1BG-AS1                    5.962975                   6.243307   \n",
       "\n",
       "           ckcc/TH03_0112_S02_RNASeq  \n",
       "5S_rRNA                     0.000000  \n",
       "5_8S_rRNA                   0.000000  \n",
       "7SK                         0.000000  \n",
       "A1BG                        6.608877  \n",
       "A1BG-AS1                    6.573550  "
      ]
     },
     "execution_count": 8,
     "metadata": {},
     "output_type": "execute_result"
    }
   ],
   "source": [
    "# Get expression levels for all samples in a study\n",
    "# This can take a few seconds if you pick a big dataset\n",
    "samples = get_expression_levels(\"Treehouse Prospectives 2016.10.14\")\n",
    "print \"Found {} samples with {} features\".format(samples.shape[1], samples.shape[0])\n",
    "print \"First 5 features\"\n",
    "samples.head()"
   ]
  },
  {
   "cell_type": "code",
   "execution_count": 9,
   "metadata": {
    "collapsed": false
   },
   "outputs": [
    {
     "data": {
      "text/plain": [
       "5S_rRNA      0.000000\n",
       "5_8S_rRNA    0.000000\n",
       "7SK          0.000000\n",
       "A1BG         8.413360\n",
       "A1BG-AS1     8.379173\n",
       "Name: ckcc/TH03_0118_S01_RNASeq, dtype: float32"
      ]
     },
     "execution_count": 9,
     "metadata": {},
     "output_type": "execute_result"
    }
   ],
   "source": [
    "# Get data from just one sample\n",
    "samples[\"ckcc/TH03_0118_S01_RNASeq\"].head()"
   ]
  },
  {
   "cell_type": "code",
   "execution_count": 13,
   "metadata": {
    "collapsed": false
   },
   "outputs": [
    {
     "data": {
      "text/plain": [
       "count    11.000000\n",
       "mean      9.363747\n",
       "std       1.097198\n",
       "min       6.494574\n",
       "25%       9.270689\n",
       "50%       9.702656\n",
       "75%      10.048644\n",
       "max      10.142463\n",
       "Name: JAK2, dtype: float64"
      ]
     },
     "execution_count": 13,
     "metadata": {},
     "output_type": "execute_result"
    }
   ],
   "source": [
    "# Compute stats on expression for just JAK2 accross all samples\n",
    "samples.T[\"JAK2\"].describe()"
   ]
  }
 ],
 "metadata": {
  "kernelspec": {
   "display_name": "Python 2",
   "language": "python",
   "name": "python2"
  },
  "language_info": {
   "codemirror_mode": {
    "name": "ipython",
    "version": 2
   },
   "file_extension": ".py",
   "mimetype": "text/x-python",
   "name": "python",
   "nbconvert_exporter": "python",
   "pygments_lexer": "ipython2",
   "version": "2.7.12"
  }
 },
 "nbformat": 4,
 "nbformat_minor": 1
}
