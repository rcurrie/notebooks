{
 "cells": [
  {
   "cell_type": "code",
   "execution_count": 1,
   "metadata": {
    "collapsed": true
   },
   "outputs": [],
   "source": [
    "import sys\n",
    "import requests\n",
    "import pandas as pd"
   ]
  },
  {
   "cell_type": "code",
   "execution_count": 12,
   "metadata": {
    "collapsed": false
   },
   "outputs": [
    {
     "name": "stdout",
     "output_type": "stream",
     "text": [
      "809\n"
     ]
    },
    {
     "data": {
      "text/plain": [
       "0      AAMP\n",
       "1     ABCA7\n",
       "2     ABCB8\n",
       "3     ABCF3\n",
       "4    ABHD10\n",
       "Name: 0, dtype: object"
      ]
     },
     "execution_count": 12,
     "metadata": {},
     "output_type": "execute_result"
    }
   ],
   "source": [
    "genes = pd.read_csv(\"data/pc.22\", header=None, squeeze=True)\n",
    "print len(genes.values)\n",
    "genes.head()"
   ]
  },
  {
   "cell_type": "code",
   "execution_count": 13,
   "metadata": {
    "collapsed": false
   },
   "outputs": [],
   "source": [
    "endpoint = \"http://dgidb.genome.wustl.edu/api/v1/interactions.json\"\n",
    "query = \"?interaction_sources=CIViC,CancerCommons,MyCancerGenome,MyCancerGenomeClinicalTrial&genes={}\".format(\n",
    "    \",\".join(genes.values))\n",
    "response = requests.get(endpoint + query)\n",
    "assert(matches.status_code == requests.codes.ok)"
   ]
  },
  {
   "cell_type": "code",
   "execution_count": 26,
   "metadata": {
    "collapsed": false
   },
   "outputs": [
    {
     "name": "stdout",
     "output_type": "stream",
     "text": [
      "DNMT1 and CISPLATINUM\n",
      "DNMT1 and DECITABINE\n",
      "ERCC2 and CARBOPLATIN\n",
      "ERCC2 and PACLITAXEL\n",
      "ERCC2 and CISPLATINUM\n",
      "MAP2K2 and REFAMETINIB\n",
      "MAP2K2 and TAK-733\n",
      "MAP2K2 and PIMASERTIB\n",
      "MAP2K2 and SELUMETINIB\n",
      "MAP2K2 and AZD8330\n",
      "MAP2K2 and GDC-0623\n",
      "MAP2K2 and TRAMETINIB\n",
      "MAP2K2 and TRAMETINIB\n",
      "MAP2K2 and SELUMETINIB\n",
      "MAP2K2 and DABRAFENIB MESYLATE\n",
      "MAP2K2 and TRAMETINIB\n",
      "MAP2K2 and TRAMETINIB\n",
      "MAP2K2 and TRAMETINIB\n",
      "MAP2K2 and TRAMETINIB\n",
      "MAP2K2 and TRAMETINIB\n",
      "MAP2K2 and TRAMETINIB\n",
      "MAP2K2 and TRAMETINIB\n",
      "MAP2K2 and SELUMETINIB\n",
      "MAP2K2 and TRAMETINIB\n",
      "MAP2K2 and TRAMETINIB\n",
      "MAP2K2 and TRAMETINIB\n",
      "MAP2K2 and TRAMETINIB\n",
      "MAP2K2 and TRAMETINIB\n",
      "MAP2K2 and TRAMETINIB\n",
      "MAP2K2 and TRAMETINIB\n",
      "MAP2K2 and TRAMETINIB\n",
      "MAP2K2 and TRAMETINIB\n",
      "MAP2K7 and TRAMETINIB\n",
      "MAP2K7 and TRAMETINIB\n",
      "MAP2K7 and SELUMETINIB\n",
      "MAP2K7 and TRAMETINIB\n",
      "MAP2K7 and TRAMETINIB\n",
      "MAP2K7 and TRAMETINIB\n",
      "MAP2K7 and TRAMETINIB\n",
      "MAP2K7 and TRAMETINIB\n",
      "MAP2K7 and DABRAFENIB MESYLATE\n",
      "MAP2K7 and TRAMETINIB\n",
      "MAP2K7 and TRAMETINIB\n",
      "MAP2K7 and TRAMETINIB\n",
      "MAP2K7 and TRAMETINIB\n",
      "MAP2K7 and TRAMETINIB\n",
      "MAP2K7 and TRAMETINIB\n",
      "MAP2K7 and TRAMETINIB\n",
      "PARP1 and VELIPARIB\n",
      "PARP1 and RUCAPARIB\n",
      "PARP1 and OLAPARIB\n",
      "PARP1 and VELIPARIB\n",
      "PARP1 and VELIPARIB\n",
      "PARP1 and VELIPARIB\n",
      "PARP1 and VELIPARIB\n",
      "PARP1 and VELIPARIB\n",
      "PARP1 and VELIPARIB\n",
      "PARP1 and VELIPARIB\n",
      "PIK3R2 and GDC-0980\n",
      "PIK3R2 and GSK2636771\n",
      "PIK3R2 and PI-103\n",
      "PIK3R2 and PKI-587\n",
      "PIK3R2 and SF1126\n",
      "PIK3R2 and SOPHORETIN\n",
      "PIK3R2 and GDC-0941\n",
      "PIK3R2 and XL147\n",
      "PIK3R2 and PKI-587\n",
      "PIK3R2 and PKI-587\n",
      "PIK3R2 and PKI-587\n",
      "PIK3R2 and GSK2126458\n",
      "PIK3R2 and PKI-587\n",
      "PIK3R2 and PKI-587\n",
      "PIK3R2 and GSK2126458\n",
      "PIK3R2 and PKI-587\n",
      "PIK3R2 and PKI-587\n",
      "PIK3R2 and PKI-587\n",
      "PIK3R2 and PKI-587\n",
      "PIK3R2 and PKI-587\n",
      "PRKD2 and SOPHORETIN\n",
      "PSMD2 and CARFILZOMIB\n",
      "PSMD2 and BORTEZOMIB\n",
      "XRCC1 and CISPLATINUM\n",
      "XRCC1 and DOCETAXEL\n",
      "XRCC1 and VINORELBINE\n",
      "XRCC1 and CARBOPLATIN\n",
      "XRCC1 and GEMCITABINE\n"
     ]
    }
   ],
   "source": [
    "matches = response.json()\n",
    "for match in matches[\"matchedTerms\"]:\n",
    "    for interaction in match[\"interactions\"]:\n",
    "        print \"{} and {}\".format(match[\"geneName\"], interaction[\"drugName\"])"
   ]
  }
 ],
 "metadata": {
  "kernelspec": {
   "display_name": "Python 2",
   "language": "python",
   "name": "python2"
  },
  "language_info": {
   "codemirror_mode": {
    "name": "ipython",
    "version": 2
   },
   "file_extension": ".py",
   "mimetype": "text/x-python",
   "name": "python",
   "nbconvert_exporter": "python",
   "pygments_lexer": "ipython2",
   "version": "2.7.12"
  }
 },
 "nbformat": 4,
 "nbformat_minor": 1
}
