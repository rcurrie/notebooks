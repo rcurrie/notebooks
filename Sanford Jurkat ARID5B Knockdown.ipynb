{
 "cells": [
  {
   "cell_type": "markdown",
   "metadata": {},
   "source": [
    "### Quantification and Preliminary Analysis of Jurkat Cell Line\n",
    "\n",
    "From Sam@Sanford: \n",
    "\n",
    "The samples are Jurkat cells.  \n",
    "* J1 vs J2 signify replicate experiments.\n",
    "* PLKO is the control (So J1 PLKO and J2 PLKO should be the same)\n",
    "* H2 and H5 are two independent shRNAs to knockdown ARID5B.\n",
    "\n",
    "\"By using duplicate shRNA genes that are changed similarly by both shRNA constructs are more likely to be directly linked to ARID5B whereas genes that are only affected by one shRNA or the other would be more concerning for off-target effects. Would be interesting to see if loss of Arid5b shows any particular pathway changes.\""
   ]
  },
  {
   "cell_type": "code",
   "execution_count": 114,
   "metadata": {
    "collapsed": false
   },
   "outputs": [],
   "source": [
    "%matplotlib inline\n",
    "import matplotlib.pyplot as plt\n",
    "import seaborn as sns\n",
    "\n",
    "import numpy as np\n",
    "import pandas as pd\n",
    "import h5py\n",
    "import requests"
   ]
  },
  {
   "cell_type": "markdown",
   "metadata": {},
   "source": [
    "### Install Kallisto and Process Samples"
   ]
  },
  {
   "cell_type": "code",
   "execution_count": 56,
   "metadata": {
    "collapsed": false
   },
   "outputs": [],
   "source": [
    "# Download and install kallisto and the same index used in cgl-rnaseq\n",
    "!wget -q -qO- https://github.com/pachterlab/kallisto/releases/download/v0.43.0/kallisto_linux-v0.43.0.tar.gz | \\\n",
    "    tar -xz kallisto_linux-v0.43.0/kallisto --strip-components=1\n",
    "!wget -q -N  http://hgdownload.soe.ucsc.edu/treehouse/reference/kallisto_hg38.idx"
   ]
  },
  {
   "cell_type": "code",
   "execution_count": 42,
   "metadata": {
    "collapsed": false
   },
   "outputs": [
    {
     "name": "stdout",
     "output_type": "stream",
     "text": [
      "J1-D6-H2_S11_concatenated.R1.fastq.gz\tJ2-D7-H2_S1_concatenated.R1.fastq.gz\r\n",
      "J1-D6-H5_S5_concatenated.R1.fastq.gz\tJ2-D7-H5_S12_concatenated.R1.fastq.gz\r\n",
      "J1-D6-PLKO_S3_concatenated.R1.fastq.gz\tJ2-D7-PLKO_S9_concatenated.R1.fastq.gz\r\n"
     ]
    }
   ],
   "source": [
    "!ls fastq"
   ]
  },
  {
   "cell_type": "code",
   "execution_count": 3,
   "metadata": {
    "collapsed": true
   },
   "outputs": [],
   "source": [
    "samples = [\"J1-D6-PLKO_S3\", \"J2-D7-PLKO_S9\", \"J1-D6-H2_S11\", \"J2-D7-H2_S1\", \"J1-D6-H5_S5\", \"J2-D7-H5_S12\"]"
   ]
  },
  {
   "cell_type": "code",
   "execution_count": 46,
   "metadata": {
    "collapsed": false
   },
   "outputs": [
    {
     "name": "stdout",
     "output_type": "stream",
     "text": [
      "Running Kallisto on J1-D6-PLKO_S3\n",
      "\n",
      "[quant] fragment length distribution is truncated gaussian with mean = 200, sd = 20\n",
      "[index] k-mer length: 31\n",
      "[index] number of targets: 197,044\n",
      "[index] number of k-mers: 115,344,928\n",
      "[index] number of equivalence classes: 750,215\n",
      "[quant] running in single-end mode\n",
      "[quant] will process file 1: fastq/J1-D6-PLKO_S3_concatenated.R1.fastq.gz\n",
      "[quant] finding pseudoalignments for the reads ... done\n",
      "[quant] processed 41,820,730 reads, 29,262,898 reads pseudoaligned\n",
      "[   em] quantifying the abundances ... done\n",
      "[   em] the Expectation-Maximization algorithm ran for 1,178 rounds\n",
      "\n",
      "Running Kallisto on J2-D7-PLKO_S9\n",
      "\n",
      "[quant] fragment length distribution is truncated gaussian with mean = 200, sd = 20\n",
      "[index] k-mer length: 31\n",
      "[index] number of targets: 197,044\n",
      "[index] number of k-mers: 115,344,928\n",
      "[index] number of equivalence classes: 750,215\n",
      "[quant] running in single-end mode\n",
      "[quant] will process file 1: fastq/J2-D7-PLKO_S9_concatenated.R1.fastq.gz\n",
      "[quant] finding pseudoalignments for the reads ... done\n",
      "[quant] processed 30,542,361 reads, 21,639,061 reads pseudoaligned\n",
      "[   em] quantifying the abundances ... done\n",
      "[   em] the Expectation-Maximization algorithm ran for 1,253 rounds\n",
      "\n",
      "Running Kallisto on J1-D6-H2_S11\n",
      "\n",
      "[quant] fragment length distribution is truncated gaussian with mean = 200, sd = 20\n",
      "[index] k-mer length: 31\n",
      "[index] number of targets: 197,044\n",
      "[index] number of k-mers: 115,344,928\n",
      "[index] number of equivalence classes: 750,215\n",
      "[quant] running in single-end mode\n",
      "[quant] will process file 1: fastq/J1-D6-H2_S11_concatenated.R1.fastq.gz\n",
      "[quant] finding pseudoalignments for the reads ... done\n",
      "[quant] processed 33,743,153 reads, 24,165,019 reads pseudoaligned\n",
      "[   em] quantifying the abundances ... done\n",
      "[   em] the Expectation-Maximization algorithm ran for 1,127 rounds\n",
      "\n",
      "Running Kallisto on J2-D7-H2_S1\n",
      "\n",
      "[quant] fragment length distribution is truncated gaussian with mean = 200, sd = 20\n",
      "[index] k-mer length: 31\n",
      "[index] number of targets: 197,044\n",
      "[index] number of k-mers: 115,344,928\n",
      "[index] number of equivalence classes: 750,215\n",
      "[quant] running in single-end mode\n",
      "[quant] will process file 1: fastq/J2-D7-H2_S1_concatenated.R1.fastq.gz\n",
      "[quant] finding pseudoalignments for the reads ... done\n",
      "[quant] processed 32,249,352 reads, 22,810,161 reads pseudoaligned\n",
      "[   em] quantifying the abundances ... done\n",
      "[   em] the Expectation-Maximization algorithm ran for 1,386 rounds\n",
      "\n",
      "Running Kallisto on J1-D6-H5_S5\n",
      "\n",
      "[quant] fragment length distribution is truncated gaussian with mean = 200, sd = 20\n",
      "[index] k-mer length: 31\n",
      "[index] number of targets: 197,044\n",
      "[index] number of k-mers: 115,344,928\n",
      "[index] number of equivalence classes: 750,215\n",
      "[quant] running in single-end mode\n",
      "[quant] will process file 1: fastq/J1-D6-H5_S5_concatenated.R1.fastq.gz\n",
      "[quant] finding pseudoalignments for the reads ... done\n",
      "[quant] processed 23,991,941 reads, 16,543,760 reads pseudoaligned\n",
      "[   em] quantifying the abundances ... done\n",
      "[   em] the Expectation-Maximization algorithm ran for 1,195 rounds\n",
      "\n",
      "Running Kallisto on J2-D7-H5_S12\n",
      "\n",
      "[quant] fragment length distribution is truncated gaussian with mean = 200, sd = 20\n",
      "[index] k-mer length: 31\n",
      "[index] number of targets: 197,044\n",
      "[index] number of k-mers: 115,344,928\n",
      "[index] number of equivalence classes: 750,215\n",
      "[quant] running in single-end mode\n",
      "[quant] will process file 1: fastq/J2-D7-H5_S12_concatenated.R1.fastq.gz\n",
      "[quant] finding pseudoalignments for the reads ... done\n",
      "[quant] processed 32,636,563 reads, 23,542,265 reads pseudoaligned\n",
      "[   em] quantifying the abundances ... done\n",
      "[   em] the Expectation-Maximization algorithm ran for 1,229 rounds\n",
      "\n",
      "CPU times: user 13.1 s, sys: 2.38 s, total: 15.4 s\n",
      "Wall time: 12min 28s\n"
     ]
    }
   ],
   "source": [
    "%%time\n",
    "# Run kallisto - fragment length and standard deviation just plugged in for now\n",
    "for sample in samples:\n",
    "    print(\"Running Kallisto on {}\".format(sample))\n",
    "    !./kallisto quant -i kallisto_hg38.idx --single -l 200 -s 20 -t 8 \\\n",
    "        -o {sample} fastq/{sample}_concatenated.R1.fastq.gz "
   ]
  },
  {
   "cell_type": "markdown",
   "metadata": {},
   "source": [
    "### Load Output into a Pandas Dataframe\n",
    "We load using the h5 output as its orders of magnitude faster then tsv. The index is transcript identifiers as binary strings which speeds up indexing when handling the dataframe, but means you need to use b'NAME' when doing a lookup."
   ]
  },
  {
   "cell_type": "code",
   "execution_count": 20,
   "metadata": {
    "collapsed": false
   },
   "outputs": [],
   "source": [
    "# See https://github.com/blachlylab/ursaminer/blob/master/ursa.py\n",
    "quants = [h5py.File(\"{}/abundance.h5\".format(sample), 'r') for sample in samples]\n",
    "divisors = [(q[\"est_counts\"][:] / q[\"aux\"][\"eff_lengths\"][:]).sum() for q in quants]\n",
    "tpms = {s: ((q[\"est_counts\"][:] / q[\"aux\"][\"eff_lengths\"][:]) / d) * 1e6 for s, q, d in zip(samples, quants, divisors)}"
   ]
  },
  {
   "cell_type": "code",
   "execution_count": 186,
   "metadata": {
    "collapsed": false
   },
   "outputs": [
    {
     "data": {
      "text/html": [
       "<div>\n",
       "<table border=\"1\" class=\"dataframe\">\n",
       "  <thead>\n",
       "    <tr style=\"text-align: right;\">\n",
       "      <th></th>\n",
       "      <th>J1-D6-PLKO_S3</th>\n",
       "      <th>J2-D7-PLKO_S9</th>\n",
       "      <th>J1-D6-H2_S11</th>\n",
       "      <th>J2-D7-H2_S1</th>\n",
       "      <th>J1-D6-H5_S5</th>\n",
       "      <th>J2-D7-H5_S12</th>\n",
       "    </tr>\n",
       "    <tr>\n",
       "      <th>/aux/ids</th>\n",
       "      <th></th>\n",
       "      <th></th>\n",
       "      <th></th>\n",
       "      <th></th>\n",
       "      <th></th>\n",
       "      <th></th>\n",
       "    </tr>\n",
       "  </thead>\n",
       "  <tbody>\n",
       "    <tr>\n",
       "      <th>b'ENST00000619216.1'</th>\n",
       "      <td>0.0</td>\n",
       "      <td>0.0</td>\n",
       "      <td>0.0</td>\n",
       "      <td>0.000000</td>\n",
       "      <td>0.0</td>\n",
       "      <td>0.0</td>\n",
       "    </tr>\n",
       "    <tr>\n",
       "      <th>b'ENST00000473358.1'</th>\n",
       "      <td>0.0</td>\n",
       "      <td>0.0</td>\n",
       "      <td>0.0</td>\n",
       "      <td>0.043979</td>\n",
       "      <td>0.0</td>\n",
       "      <td>0.0</td>\n",
       "    </tr>\n",
       "    <tr>\n",
       "      <th>b'ENST00000469289.1'</th>\n",
       "      <td>0.0</td>\n",
       "      <td>0.0</td>\n",
       "      <td>0.0</td>\n",
       "      <td>0.000000</td>\n",
       "      <td>0.0</td>\n",
       "      <td>0.0</td>\n",
       "    </tr>\n",
       "    <tr>\n",
       "      <th>b'ENST00000607096.1'</th>\n",
       "      <td>0.0</td>\n",
       "      <td>0.0</td>\n",
       "      <td>0.0</td>\n",
       "      <td>0.000000</td>\n",
       "      <td>0.0</td>\n",
       "      <td>0.0</td>\n",
       "    </tr>\n",
       "    <tr>\n",
       "      <th>b'ENST00000417324.1'</th>\n",
       "      <td>0.0</td>\n",
       "      <td>0.0</td>\n",
       "      <td>0.0</td>\n",
       "      <td>0.000000</td>\n",
       "      <td>0.0</td>\n",
       "      <td>0.0</td>\n",
       "    </tr>\n",
       "  </tbody>\n",
       "</table>\n",
       "</div>"
      ],
      "text/plain": [
       "                      J1-D6-PLKO_S3  J2-D7-PLKO_S9  J1-D6-H2_S11  J2-D7-H2_S1  \\\n",
       "/aux/ids                                                                        \n",
       "b'ENST00000619216.1'            0.0            0.0           0.0     0.000000   \n",
       "b'ENST00000473358.1'            0.0            0.0           0.0     0.043979   \n",
       "b'ENST00000469289.1'            0.0            0.0           0.0     0.000000   \n",
       "b'ENST00000607096.1'            0.0            0.0           0.0     0.000000   \n",
       "b'ENST00000417324.1'            0.0            0.0           0.0     0.000000   \n",
       "\n",
       "                      J1-D6-H5_S5  J2-D7-H5_S12  \n",
       "/aux/ids                                         \n",
       "b'ENST00000619216.1'          0.0           0.0  \n",
       "b'ENST00000473358.1'          0.0           0.0  \n",
       "b'ENST00000469289.1'          0.0           0.0  \n",
       "b'ENST00000607096.1'          0.0           0.0  \n",
       "b'ENST00000417324.1'          0.0           0.0  "
      ]
     },
     "execution_count": 186,
     "metadata": {},
     "output_type": "execute_result"
    }
   ],
   "source": [
    "expression = pd.DataFrame(tpms, index=quants[0][\"aux\"][\"ids\"], columns=samples, dtype=np.float32)\n",
    "expression.head()"
   ]
  },
  {
   "cell_type": "code",
   "execution_count": 23,
   "metadata": {
    "collapsed": false
   },
   "outputs": [
    {
     "data": {
      "text/html": [
       "<div>\n",
       "<table border=\"1\" class=\"dataframe\">\n",
       "  <thead>\n",
       "    <tr style=\"text-align: right;\">\n",
       "      <th></th>\n",
       "      <th>J1-D6-PLKO_S3</th>\n",
       "      <th>J2-D7-PLKO_S9</th>\n",
       "      <th>J1-D6-H2_S11</th>\n",
       "      <th>J2-D7-H2_S1</th>\n",
       "      <th>J1-D6-H5_S5</th>\n",
       "      <th>J2-D7-H5_S12</th>\n",
       "    </tr>\n",
       "  </thead>\n",
       "  <tbody>\n",
       "    <tr>\n",
       "      <th>count</th>\n",
       "      <td>197044.000000</td>\n",
       "      <td>197044.000000</td>\n",
       "      <td>197044.000000</td>\n",
       "      <td>197044.000000</td>\n",
       "      <td>1.970440e+05</td>\n",
       "      <td>197044.000000</td>\n",
       "    </tr>\n",
       "    <tr>\n",
       "      <th>mean</th>\n",
       "      <td>5.075009</td>\n",
       "      <td>5.075009</td>\n",
       "      <td>5.075009</td>\n",
       "      <td>5.075009</td>\n",
       "      <td>5.075009e+00</td>\n",
       "      <td>5.075009</td>\n",
       "    </tr>\n",
       "    <tr>\n",
       "      <th>std</th>\n",
       "      <td>591.305123</td>\n",
       "      <td>556.174888</td>\n",
       "      <td>593.896436</td>\n",
       "      <td>570.984528</td>\n",
       "      <td>4.976624e+02</td>\n",
       "      <td>602.283463</td>\n",
       "    </tr>\n",
       "    <tr>\n",
       "      <th>min</th>\n",
       "      <td>0.000000</td>\n",
       "      <td>0.000000</td>\n",
       "      <td>0.000000</td>\n",
       "      <td>0.000000</td>\n",
       "      <td>0.000000e+00</td>\n",
       "      <td>0.000000</td>\n",
       "    </tr>\n",
       "    <tr>\n",
       "      <th>25%</th>\n",
       "      <td>0.000000</td>\n",
       "      <td>0.000000</td>\n",
       "      <td>0.000000</td>\n",
       "      <td>0.000000</td>\n",
       "      <td>0.000000e+00</td>\n",
       "      <td>0.000000</td>\n",
       "    </tr>\n",
       "    <tr>\n",
       "      <th>50%</th>\n",
       "      <td>0.019011</td>\n",
       "      <td>0.009678</td>\n",
       "      <td>0.010393</td>\n",
       "      <td>0.012371</td>\n",
       "      <td>8.485389e-08</td>\n",
       "      <td>0.009999</td>\n",
       "    </tr>\n",
       "    <tr>\n",
       "      <th>75%</th>\n",
       "      <td>0.504582</td>\n",
       "      <td>0.542256</td>\n",
       "      <td>0.462218</td>\n",
       "      <td>0.498688</td>\n",
       "      <td>6.337851e-01</td>\n",
       "      <td>0.463845</td>\n",
       "    </tr>\n",
       "    <tr>\n",
       "      <th>max</th>\n",
       "      <td>176172.445809</td>\n",
       "      <td>167875.171367</td>\n",
       "      <td>171568.555304</td>\n",
       "      <td>159695.127392</td>\n",
       "      <td>1.461979e+05</td>\n",
       "      <td>177759.122936</td>\n",
       "    </tr>\n",
       "  </tbody>\n",
       "</table>\n",
       "</div>"
      ],
      "text/plain": [
       "       J1-D6-PLKO_S3  J2-D7-PLKO_S9   J1-D6-H2_S11    J2-D7-H2_S1  \\\n",
       "count  197044.000000  197044.000000  197044.000000  197044.000000   \n",
       "mean        5.075009       5.075009       5.075009       5.075009   \n",
       "std       591.305123     556.174888     593.896436     570.984528   \n",
       "min         0.000000       0.000000       0.000000       0.000000   \n",
       "25%         0.000000       0.000000       0.000000       0.000000   \n",
       "50%         0.019011       0.009678       0.010393       0.012371   \n",
       "75%         0.504582       0.542256       0.462218       0.498688   \n",
       "max    176172.445809  167875.171367  171568.555304  159695.127392   \n",
       "\n",
       "        J1-D6-H5_S5   J2-D7-H5_S12  \n",
       "count  1.970440e+05  197044.000000  \n",
       "mean   5.075009e+00       5.075009  \n",
       "std    4.976624e+02     602.283463  \n",
       "min    0.000000e+00       0.000000  \n",
       "25%    0.000000e+00       0.000000  \n",
       "50%    8.485389e-08       0.009999  \n",
       "75%    6.337851e-01       0.463845  \n",
       "max    1.461979e+05  177759.122936  "
      ]
     },
     "execution_count": 23,
     "metadata": {},
     "output_type": "execute_result"
    }
   ],
   "source": [
    "expression.describe()"
   ]
  },
  {
   "cell_type": "markdown",
   "metadata": {},
   "source": [
    "### Verify concordance of replicate controls"
   ]
  },
  {
   "cell_type": "code",
   "execution_count": 24,
   "metadata": {
    "collapsed": false
   },
   "outputs": [
    {
     "data": {
      "image/png": "[encoded data removed]",
      "text/plain": [
       "<matplotlib.figure.Figure at 0x7f234336b710>"
      ]
     },
     "metadata": {},
     "output_type": "display_data"
    }
   ],
   "source": [
    "sns.jointplot(expression[samples[0]].apply(lambda x: np.log(x+1)),\n",
    "              expression[samples[1]].apply(lambda x: np.log(x+1)), \n",
    "              kind='reg')\n",
    "plt.xlabel(samples[0])\n",
    "plt.ylabel(samples[1]);"
   ]
  },
  {
   "cell_type": "code",
   "execution_count": 193,
   "metadata": {
    "collapsed": false
   },
   "outputs": [
    {
     "name": "stdout",
     "output_type": "stream",
     "text": [
      "Hugo: ARID5B Ensemble: ENSG00000150347 Transcripts: [b'ENST00000279873.11', b'ENST00000309334.5']\n"
     ]
    }
   ],
   "source": [
    "# Get a list of transcripts associated with ARID5B using ensemble's REST API\n",
    "gene = \"ARID5B\"\n",
    "r = requests.get(\"https://rest.ensembl.org/lookup/symbol/homo_sapiens/{}\".format(gene),\n",
    "                 headers={\"Content-Type\": \"application/json\"})\n",
    "assert(r.status_code == requests.codes.ok)\n",
    "geneid = r.json()[\"id\"]\n",
    "\n",
    "r = requests.get(\"https://rest.ensembl.org/overlap/id/{}?feature=transcript\".format(geneid),\n",
    "                 headers={\"Content-Type\": \"application/json\"})\n",
    "assert(r.status_code == requests.codes.ok)\n",
    "transcripts = [\"{}.{}\".format(t[\"transcript_id\"], t[\"version\"]).encode() for t in r.json()]\n",
    "print(\"Hugo: {} Ensemble: {} Transcripts: {}\".format(gene, geneid, transcripts))"
   ]
  },
  {
   "cell_type": "code",
   "execution_count": 194,
   "metadata": {
    "collapsed": false
   },
   "outputs": [
    {
     "data": {
      "text/html": [
       "<div>\n",
       "<table border=\"1\" class=\"dataframe\">\n",
       "  <thead>\n",
       "    <tr style=\"text-align: right;\">\n",
       "      <th></th>\n",
       "      <th>J1-D6-PLKO_S3</th>\n",
       "      <th>J2-D7-PLKO_S9</th>\n",
       "      <th>J1-D6-H2_S11</th>\n",
       "      <th>J2-D7-H2_S1</th>\n",
       "      <th>J1-D6-H5_S5</th>\n",
       "      <th>J2-D7-H5_S12</th>\n",
       "    </tr>\n",
       "    <tr>\n",
       "      <th>/aux/ids</th>\n",
       "      <th></th>\n",
       "      <th></th>\n",
       "      <th></th>\n",
       "      <th></th>\n",
       "      <th></th>\n",
       "      <th></th>\n",
       "    </tr>\n",
       "  </thead>\n",
       "  <tbody>\n",
       "    <tr>\n",
       "      <th>b'ENST00000279873.11'</th>\n",
       "      <td>9.115992</td>\n",
       "      <td>9.726129</td>\n",
       "      <td>5.467342</td>\n",
       "      <td>5.068781</td>\n",
       "      <td>7.519782</td>\n",
       "      <td>5.164114</td>\n",
       "    </tr>\n",
       "    <tr>\n",
       "      <th>b'ENST00000309334.5'</th>\n",
       "      <td>3.494813</td>\n",
       "      <td>3.712079</td>\n",
       "      <td>0.227074</td>\n",
       "      <td>0.818066</td>\n",
       "      <td>0.609754</td>\n",
       "      <td>0.245844</td>\n",
       "    </tr>\n",
       "  </tbody>\n",
       "</table>\n",
       "</div>"
      ],
      "text/plain": [
       "                       J1-D6-PLKO_S3  J2-D7-PLKO_S9  J1-D6-H2_S11  \\\n",
       "/aux/ids                                                            \n",
       "b'ENST00000279873.11'       9.115992       9.726129      5.467342   \n",
       "b'ENST00000309334.5'        3.494813       3.712079      0.227074   \n",
       "\n",
       "                       J2-D7-H2_S1  J1-D6-H5_S5  J2-D7-H5_S12  \n",
       "/aux/ids                                                       \n",
       "b'ENST00000279873.11'     5.068781     7.519782      5.164114  \n",
       "b'ENST00000309334.5'      0.818066     0.609754      0.245844  "
      ]
     },
     "execution_count": 194,
     "metadata": {},
     "output_type": "execute_result"
    }
   ],
   "source": [
    "# See if ARID5B has been knocked down\n",
    "expression.loc[transcripts].head()"
   ]
  }
 ],
 "metadata": {
  "kernelspec": {
   "display_name": "Python 3",
   "language": "python",
   "name": "python3"
  },
  "language_info": {
   "codemirror_mode": {
    "name": "ipython",
    "version": 3
   },
   "file_extension": ".py",
   "mimetype": "text/x-python",
   "name": "python",
   "nbconvert_exporter": "python",
   "pygments_lexer": "ipython3",
   "version": "3.5.2"
  }
 },
 "nbformat": 4,
 "nbformat_minor": 1
}
