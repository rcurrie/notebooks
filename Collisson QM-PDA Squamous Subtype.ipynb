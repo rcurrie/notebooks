{
 "cells": [
  {
   "cell_type": "markdown",
   "metadata": {
    "deletable": true,
    "editable": true
   },
   "source": [
    "# QM-PDA/Squamous Subtype\n",
    "True = QM-PDA/Squamous Subtype\n",
    "False = Other Subtypes. \n",
    "Log2 KDM6A mRNA expression\n",
    "\n",
    "http://beta.xenabrowser.net/heatmap/?bookmark=3d5aef64cecddf945c757211bef34091\n",
    "\n",
    "http://beta.xenabrowser.net/heatmap/?bookmark=5b060c18bd6622a85aad93199c9f5d82"
   ]
  },
  {
   "cell_type": "code",
   "execution_count": 1,
   "metadata": {
    "collapsed": false,
    "deletable": true,
    "editable": true
   },
   "outputs": [],
   "source": [
    "import numpy as np\n",
    "import pandas as pd\n",
    "from scipy import stats\n",
    "\n",
    "!pip2 install --quiet plotly\n",
    "import plotly.plotly as py\n",
    "import plotly.figure_factory as ff\n",
    "from plotly.graph_objs import graph_objs\n",
    "\n",
    "import plotly.tools as tls\n",
    "tls.set_credentials_file(username='rcurrie', api_key='ZwHlJEmXP7lHum8TD22n')"
   ]
  },
  {
   "cell_type": "code",
   "execution_count": 2,
   "metadata": {
    "collapsed": false,
    "deletable": true,
    "editable": true
   },
   "outputs": [
    {
     "data": {
      "text/html": [
       "<div>\n",
       "<table border=\"1\" class=\"dataframe\">\n",
       "  <thead>\n",
       "    <tr style=\"text-align: right;\">\n",
       "      <th></th>\n",
       "      <th>sample</th>\n",
       "      <th>squamous</th>\n",
       "      <th>expression subtype</th>\n",
       "      <th>ENSG00000147050</th>\n",
       "      <th>samples</th>\n",
       "    </tr>\n",
       "  </thead>\n",
       "  <tbody>\n",
       "    <tr>\n",
       "      <th>0</th>\n",
       "      <td>ICGC_0141</td>\n",
       "      <td>True</td>\n",
       "      <td>Squamous</td>\n",
       "      <td>5.85468</td>\n",
       "      <td>ICGC_0141</td>\n",
       "    </tr>\n",
       "    <tr>\n",
       "      <th>1</th>\n",
       "      <td>ICGC_0037</td>\n",
       "      <td>True</td>\n",
       "      <td>Squamous</td>\n",
       "      <td>5.84580</td>\n",
       "      <td>ICGC_0037</td>\n",
       "    </tr>\n",
       "    <tr>\n",
       "      <th>2</th>\n",
       "      <td>ICGC_0521</td>\n",
       "      <td>True</td>\n",
       "      <td>Squamous</td>\n",
       "      <td>5.64672</td>\n",
       "      <td>ICGC_0521</td>\n",
       "    </tr>\n",
       "    <tr>\n",
       "      <th>3</th>\n",
       "      <td>ICGC_0169</td>\n",
       "      <td>True</td>\n",
       "      <td>Squamous</td>\n",
       "      <td>5.55486</td>\n",
       "      <td>ICGC_0169</td>\n",
       "    </tr>\n",
       "    <tr>\n",
       "      <th>4</th>\n",
       "      <td>ICGC_0134</td>\n",
       "      <td>True</td>\n",
       "      <td>Squamous</td>\n",
       "      <td>5.47677</td>\n",
       "      <td>ICGC_0134</td>\n",
       "    </tr>\n",
       "  </tbody>\n",
       "</table>\n",
       "</div>"
      ],
      "text/plain": [
       "      sample squamous expression subtype  ENSG00000147050    samples\n",
       "0  ICGC_0141     True           Squamous          5.85468  ICGC_0141\n",
       "1  ICGC_0037     True           Squamous          5.84580  ICGC_0037\n",
       "2  ICGC_0521     True           Squamous          5.64672  ICGC_0521\n",
       "3  ICGC_0169     True           Squamous          5.55486  ICGC_0169\n",
       "4  ICGC_0134     True           Squamous          5.47677  ICGC_0134"
      ]
     },
     "execution_count": 2,
     "metadata": {},
     "output_type": "execute_result"
    }
   ],
   "source": [
    "data = pd.read_csv(\"data/qmpda_squamous.tsv\", sep=\"\\t\")\n",
    "data.head()"
   ]
  },
  {
   "cell_type": "code",
   "execution_count": 5,
   "metadata": {
    "collapsed": false
   },
   "outputs": [
    {
     "data": {
      "text/html": [
       "<div>\n",
       "<table border=\"1\" class=\"dataframe\">\n",
       "  <thead>\n",
       "    <tr style=\"text-align: right;\">\n",
       "      <th></th>\n",
       "      <th>ENSG00000147050</th>\n",
       "    </tr>\n",
       "  </thead>\n",
       "  <tbody>\n",
       "    <tr>\n",
       "      <th>count</th>\n",
       "      <td>96.000000</td>\n",
       "    </tr>\n",
       "    <tr>\n",
       "      <th>mean</th>\n",
       "      <td>5.426539</td>\n",
       "    </tr>\n",
       "    <tr>\n",
       "      <th>std</th>\n",
       "      <td>0.496839</td>\n",
       "    </tr>\n",
       "    <tr>\n",
       "      <th>min</th>\n",
       "      <td>3.797400</td>\n",
       "    </tr>\n",
       "    <tr>\n",
       "      <th>25%</th>\n",
       "      <td>5.204630</td>\n",
       "    </tr>\n",
       "    <tr>\n",
       "      <th>50%</th>\n",
       "      <td>5.411135</td>\n",
       "    </tr>\n",
       "    <tr>\n",
       "      <th>75%</th>\n",
       "      <td>5.713755</td>\n",
       "    </tr>\n",
       "    <tr>\n",
       "      <th>max</th>\n",
       "      <td>6.774350</td>\n",
       "    </tr>\n",
       "  </tbody>\n",
       "</table>\n",
       "</div>"
      ],
      "text/plain": [
       "       ENSG00000147050\n",
       "count        96.000000\n",
       "mean          5.426539\n",
       "std           0.496839\n",
       "min           3.797400\n",
       "25%           5.204630\n",
       "50%           5.411135\n",
       "75%           5.713755\n",
       "max           6.774350"
      ]
     },
     "execution_count": 5,
     "metadata": {},
     "output_type": "execute_result"
    }
   ],
   "source": [
    "data.describe()"
   ]
  },
  {
   "cell_type": "code",
   "execution_count": 6,
   "metadata": {
    "collapsed": false,
    "deletable": true,
    "editable": true
   },
   "outputs": [
    {
     "name": "stdout",
     "output_type": "stream",
     "text": [
      "https://plot.ly/~rcurrie/105\n"
     ]
    }
   ],
   "source": [
    "fig = ff.create_violin(data[1:].loc[data[\"ENSG00000147050\"].notnull()], \n",
    "                       data_header=\"ENSG00000147050\", group_header=\"squamous\", title=\"QM-PDA\")\n",
    "fig.layout.xaxis1.title = \"Squamous\"\n",
    "fig.layout.xaxis2.title = \"Other\"\n",
    "fig.layout.yaxis.title = \"mRNA Expression\"\n",
    "fig.data.pop(11)\n",
    "fig.data.pop(5)\n",
    "print py.plot(fig, filename=\"collison.qmpda.expression\")"
   ]
  }
 ],
 "metadata": {
  "kernelspec": {
   "display_name": "Python 2",
   "language": "python",
   "name": "python2"
  },
  "language_info": {
   "codemirror_mode": {
    "name": "ipython",
    "version": 2
   },
   "file_extension": ".py",
   "mimetype": "text/x-python",
   "name": "python",
   "nbconvert_exporter": "python",
   "pygments_lexer": "ipython2",
   "version": "2.7.12"
  }
 },
 "nbformat": 4,
 "nbformat_minor": 1
}
