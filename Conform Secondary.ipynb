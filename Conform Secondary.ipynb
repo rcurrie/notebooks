{
 "cells": [
  {
   "cell_type": "code",
   "execution_count": null,
   "metadata": {},
   "outputs": [],
   "source": [
    "\"\"\"\n",
    "Find secondary output that does not conform to the new storage layout and fix it\n",
    "\"\"\""
   ]
  },
  {
   "cell_type": "code",
   "execution_count": 14,
   "metadata": {},
   "outputs": [],
   "source": [
    "import glob\n",
    "import re\n",
    "import shutil\n",
    "import os"
   ]
  },
  {
   "cell_type": "code",
   "execution_count": 28,
   "metadata": {},
   "outputs": [
    {
     "name": "stdout",
     "output_type": "stream",
     "text": [
      "Found 0 ids\n",
      "[]\n"
     ]
    }
   ],
   "source": [
    "ids = [re.findall(r'.*(TH.*?)\\/.*', p)[0] for p in glob.glob(\"/treehouse/archive/downstream/*/expression\")]\n",
    "print(\"Found {} ids\".format(len(ids)))\n",
    "print(ids)"
   ]
  },
  {
   "cell_type": "code",
   "execution_count": 27,
   "metadata": {},
   "outputs": [
    {
     "name": "stdout",
     "output_type": "stream",
     "text": [
      "mkdir -p TH27_0697_S01/secondary\n",
      "mv TH27_0697_S01/expression TH27_0697_S01/secondary/ucsc_cgl-rnaseq-cgl-pipeline-3.3.4-785eee9\n",
      "mv TH27_0697_S01/fusions TH27_0697_S01/secondary/ucsctreehouse-fusion-0.1.0-3faac56\n",
      "mv TH27_0697_S01/variants TH27_0697_S01/secondary/ucsctreehouse-mini-var-call-0.0.1-1976429\n",
      "mkdir -p TH27_0698_S01/secondary\n",
      "mv TH27_0698_S01/expression TH27_0698_S01/secondary/ucsc_cgl-rnaseq-cgl-pipeline-3.3.4-785eee9\n",
      "mv TH27_0698_S01/fusions TH27_0698_S01/secondary/ucsctreehouse-fusion-0.1.0-3faac56\n",
      "mv TH27_0698_S01/variants TH27_0698_S01/secondary/ucsctreehouse-mini-var-call-0.0.1-1976429\n",
      "mkdir -p TH27_0699_S01/secondary\n",
      "mv TH27_0699_S01/expression TH27_0699_S01/secondary/ucsc_cgl-rnaseq-cgl-pipeline-3.3.4-785eee9\n",
      "mv TH27_0699_S01/fusions TH27_0699_S01/secondary/ucsctreehouse-fusion-0.1.0-3faac56\n",
      "mv TH27_0699_S01/variants TH27_0699_S01/secondary/ucsctreehouse-mini-var-call-0.0.1-1976429\n",
      "mkdir -p TH27_0699_S02/secondary\n",
      "mv TH27_0699_S02/expression TH27_0699_S02/secondary/ucsc_cgl-rnaseq-cgl-pipeline-3.3.4-785eee9\n",
      "mv TH27_0699_S02/fusions TH27_0699_S02/secondary/ucsctreehouse-fusion-0.1.0-3faac56\n",
      "mv TH27_0699_S02/variants TH27_0699_S02/secondary/ucsctreehouse-mini-var-call-0.0.1-1976429\n",
      "mkdir -p TH27_0700_S01/secondary\n",
      "mv TH27_0700_S01/expression TH27_0700_S01/secondary/ucsc_cgl-rnaseq-cgl-pipeline-3.3.4-785eee9\n",
      "mv TH27_0700_S01/fusions TH27_0700_S01/secondary/ucsctreehouse-fusion-0.1.0-3faac56\n",
      "mv TH27_0700_S01/variants TH27_0700_S01/secondary/ucsctreehouse-mini-var-call-0.0.1-1976429\n",
      "mkdir -p TH27_0701_S01/secondary\n",
      "mv TH27_0701_S01/expression TH27_0701_S01/secondary/ucsc_cgl-rnaseq-cgl-pipeline-3.3.4-785eee9\n",
      "mv TH27_0701_S01/fusions TH27_0701_S01/secondary/ucsctreehouse-fusion-0.1.0-3faac56\n",
      "mv TH27_0701_S01/variants TH27_0701_S01/secondary/ucsctreehouse-mini-var-call-0.0.1-1976429\n",
      "mkdir -p TH27_0702_S01/secondary\n",
      "mv TH27_0702_S01/expression TH27_0702_S01/secondary/ucsc_cgl-rnaseq-cgl-pipeline-3.3.4-785eee9\n",
      "mv TH27_0702_S01/fusions TH27_0702_S01/secondary/ucsctreehouse-fusion-0.1.0-3faac56\n",
      "mv TH27_0702_S01/variants TH27_0702_S01/secondary/ucsctreehouse-mini-var-call-0.0.1-1976429\n",
      "mkdir -p TH27_0703_S01/secondary\n",
      "mv TH27_0703_S01/expression TH27_0703_S01/secondary/ucsc_cgl-rnaseq-cgl-pipeline-3.3.4-785eee9\n",
      "mv TH27_0703_S01/fusions TH27_0703_S01/secondary/ucsctreehouse-fusion-0.1.0-3faac56\n",
      "mv TH27_0703_S01/variants TH27_0703_S01/secondary/ucsctreehouse-mini-var-call-0.0.1-1976429\n",
      "mkdir -p TH27_0704_S01/secondary\n",
      "mv TH27_0704_S01/expression TH27_0704_S01/secondary/ucsc_cgl-rnaseq-cgl-pipeline-3.3.4-785eee9\n",
      "mv TH27_0704_S01/fusions TH27_0704_S01/secondary/ucsctreehouse-fusion-0.1.0-3faac56\n",
      "mv TH27_0704_S01/variants TH27_0704_S01/secondary/ucsctreehouse-mini-var-call-0.0.1-1976429\n",
      "mkdir -p TH27_0705_S01/secondary\n",
      "mv TH27_0705_S01/expression TH27_0705_S01/secondary/ucsc_cgl-rnaseq-cgl-pipeline-3.3.4-785eee9\n",
      "mv TH27_0705_S01/fusions TH27_0705_S01/secondary/ucsctreehouse-fusion-0.1.0-3faac56\n",
      "mv TH27_0705_S01/variants TH27_0705_S01/secondary/ucsctreehouse-mini-var-call-0.0.1-1976429\n",
      "mkdir -p TH27_0689_S01/secondary\n",
      "mv TH27_0689_S01/expression TH27_0689_S01/secondary/ucsc_cgl-rnaseq-cgl-pipeline-3.3.4-785eee9\n",
      "mv TH27_0689_S01/fusions TH27_0689_S01/secondary/ucsctreehouse-fusion-0.1.0-3faac56\n",
      "mv TH27_0689_S01/variants TH27_0689_S01/secondary/ucsctreehouse-mini-var-call-0.0.1-1976429\n",
      "mkdir -p TH03_0015_S02/secondary\n",
      "mv TH03_0015_S02/expression TH03_0015_S02/secondary/ucsc_cgl-rnaseq-cgl-pipeline-3.3.4-785eee9\n",
      "mv TH03_0015_S02/fusions TH03_0015_S02/secondary/ucsctreehouse-fusion-0.1.0-3faac56\n",
      "mv TH03_0015_S02/variants TH03_0015_S02/secondary/ucsctreehouse-mini-var-call-0.0.1-1976429\n",
      "mkdir -p TH03_0017_S02/secondary\n",
      "mv TH03_0017_S02/expression TH03_0017_S02/secondary/ucsc_cgl-rnaseq-cgl-pipeline-3.3.4-785eee9\n",
      "mv TH03_0017_S02/fusions TH03_0017_S02/secondary/ucsctreehouse-fusion-0.1.0-3faac56\n",
      "mv TH03_0017_S02/variants TH03_0017_S02/secondary/ucsctreehouse-mini-var-call-0.0.1-1976429\n",
      "mkdir -p TH03_0138_S03/secondary\n",
      "mv TH03_0138_S03/expression TH03_0138_S03/secondary/ucsc_cgl-rnaseq-cgl-pipeline-3.3.4-785eee9\n",
      "mv TH03_0138_S03/fusions TH03_0138_S03/secondary/ucsctreehouse-fusion-0.1.0-3faac56\n",
      "mv TH03_0138_S03/variants TH03_0138_S03/secondary/ucsctreehouse-mini-var-call-0.0.1-1976429\n",
      "mkdir -p TH03_0294_S02/secondary\n",
      "mv TH03_0294_S02/expression TH03_0294_S02/secondary/ucsc_cgl-rnaseq-cgl-pipeline-3.3.4-785eee9\n",
      "mv TH03_0294_S02/fusions TH03_0294_S02/secondary/ucsctreehouse-fusion-0.1.0-3faac56\n",
      "mv TH03_0294_S02/variants TH03_0294_S02/secondary/ucsctreehouse-mini-var-call-0.0.1-1976429\n",
      "mkdir -p TH03_0296_S03/secondary\n",
      "mv TH03_0296_S03/expression TH03_0296_S03/secondary/ucsc_cgl-rnaseq-cgl-pipeline-3.3.4-785eee9\n",
      "mv TH03_0296_S03/fusions TH03_0296_S03/secondary/ucsctreehouse-fusion-0.1.0-3faac56\n",
      "mv TH03_0296_S03/variants TH03_0296_S03/secondary/ucsctreehouse-mini-var-call-0.0.1-1976429\n",
      "mkdir -p TH03_0296_S04/secondary\n",
      "mv TH03_0296_S04/expression TH03_0296_S04/secondary/ucsc_cgl-rnaseq-cgl-pipeline-3.3.4-785eee9\n",
      "mv TH03_0296_S04/fusions TH03_0296_S04/secondary/ucsctreehouse-fusion-0.1.0-3faac56\n",
      "mv TH03_0296_S04/variants TH03_0296_S04/secondary/ucsctreehouse-mini-var-call-0.0.1-1976429\n",
      "mkdir -p TH27_0690_S01/secondary\n",
      "mv TH27_0690_S01/expression TH27_0690_S01/secondary/ucsc_cgl-rnaseq-cgl-pipeline-3.3.4-785eee9\n",
      "mv TH27_0690_S01/fusions TH27_0690_S01/secondary/ucsctreehouse-fusion-0.1.0-3faac56\n",
      "mv TH27_0690_S01/variants TH27_0690_S01/secondary/ucsctreehouse-mini-var-call-0.0.1-1976429\n",
      "mkdir -p TH27_0691_S01/secondary\n",
      "mv TH27_0691_S01/expression TH27_0691_S01/secondary/ucsc_cgl-rnaseq-cgl-pipeline-3.3.4-785eee9\n",
      "mv TH27_0691_S01/fusions TH27_0691_S01/secondary/ucsctreehouse-fusion-0.1.0-3faac56\n",
      "mv TH27_0691_S01/variants TH27_0691_S01/secondary/ucsctreehouse-mini-var-call-0.0.1-1976429\n",
      "mkdir -p TH27_0692_S01/secondary\n",
      "mv TH27_0692_S01/expression TH27_0692_S01/secondary/ucsc_cgl-rnaseq-cgl-pipeline-3.3.4-785eee9\n",
      "mv TH27_0692_S01/fusions TH27_0692_S01/secondary/ucsctreehouse-fusion-0.1.0-3faac56\n",
      "mv TH27_0692_S01/variants TH27_0692_S01/secondary/ucsctreehouse-mini-var-call-0.0.1-1976429\n",
      "mkdir -p TH27_0693_S01/secondary\n",
      "mv TH27_0693_S01/expression TH27_0693_S01/secondary/ucsc_cgl-rnaseq-cgl-pipeline-3.3.4-785eee9\n",
      "mv TH27_0693_S01/fusions TH27_0693_S01/secondary/ucsctreehouse-fusion-0.1.0-3faac56\n",
      "mv TH27_0693_S01/variants TH27_0693_S01/secondary/ucsctreehouse-mini-var-call-0.0.1-1976429\n",
      "mkdir -p TH27_0694_S01/secondary\n",
      "mv TH27_0694_S01/expression TH27_0694_S01/secondary/ucsc_cgl-rnaseq-cgl-pipeline-3.3.4-785eee9\n",
      "mv TH27_0694_S01/fusions TH27_0694_S01/secondary/ucsctreehouse-fusion-0.1.0-3faac56\n",
      "mv TH27_0694_S01/variants TH27_0694_S01/secondary/ucsctreehouse-mini-var-call-0.0.1-1976429\n"
     ]
    }
   ],
   "source": [
    "for id in ids:\n",
    "    print(\"mkdir -p {}/secondary\".format(id))\n",
    "    print(\"mv {0}/expression {0}/secondary/ucsc_cgl-rnaseq-cgl-pipeline-3.3.4-785eee9\".format(id))\n",
    "    print(\"mv {0}/fusions {0}/secondary/ucsctreehouse-fusion-0.1.0-3faac56\".format(id))\n",
    "    print(\"mv {0}/variants {0}/secondary/ucsctreehouse-mini-var-call-0.0.1-1976429\".format(id))\n",
    "    "
   ]
  }
 ],
 "metadata": {
  "kernelspec": {
   "display_name": "Python 3",
   "language": "python",
   "name": "python3"
  },
  "language_info": {
   "codemirror_mode": {
    "name": "ipython",
    "version": 3
   },
   "file_extension": ".py",
   "mimetype": "text/x-python",
   "name": "python",
   "nbconvert_exporter": "python",
   "pygments_lexer": "ipython3",
   "version": "3.6.3"
  }
 },
 "nbformat": 4,
 "nbformat_minor": 2
}
