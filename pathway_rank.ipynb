{
 "cells": [
  {
   "cell_type": "markdown",
   "metadata": {},
   "source": [
    "## Pathway Ranking (work in progress)"
   ]
  },
  {
   "cell_type": "code",
   "execution_count": 1,
   "metadata": {
    "collapsed": true
   },
   "outputs": [],
   "source": [
    "# import a variety of packages\n",
    "import requests\n",
    "import yaml\n",
    "from IPython.core.display import display, HTML\n",
    "import numpy as np\n",
    "import pandas as pd\n",
    "!pip2 install --quiet pypathway # not instandard jupyter container so add manually\n",
    "from pypathway import *\n",
    "import pymongo"
   ]
  },
  {
   "cell_type": "code",
   "execution_count": 62,
   "metadata": {
    "collapsed": false
   },
   "outputs": [],
   "source": [
    "# Connect to the database\n",
    "db = pymongo.MongoClient(\"mongo\").MedBook"
   ]
  },
  {
   "cell_type": "code",
   "execution_count": 7,
   "metadata": {
    "collapsed": false
   },
   "outputs": [
    {
     "name": "stdout",
     "output_type": "stream",
     "text": [
      "GsaN5gNNrusKL8DtX : ckcc/TH03_0118_S01_RNASeq against --[TC2] acute myeloid leukemia\n",
      "KFN3WuD6vRdun3ih3 : ckcc/TH03_0118_S01_RNASeq against --[TC2] AML+ALAL+ALL\n",
      "hzTfpy7kXzftFMJxe : ckcc/TH03_0118_S01_RNASeq against Compendium 2 final samples 2016/10/24\n",
      "zmkf3FzT9ajMPeWLC : ckcc/TH03_0118_S01_RNASeq against AML\n"
     ]
    }
   ],
   "source": [
    "# Find all jobs from a given sample name\n",
    "jobs = db.jobs.find({\"args.sample_label\": \"ckcc/TH03_0118_S01_RNASeq\"})\n",
    "for job in jobs:\n",
    "    print job[\"_id\"],\":\", job[\"args\"][\"sample_label\"],\"against\", job[\"args\"][\"sample_group_name\"]"
   ]
  },
  {
   "cell_type": "code",
   "execution_count": 69,
   "metadata": {
    "collapsed": false
   },
   "outputs": [
    {
     "name": "stdout",
     "output_type": "stream",
     "text": [
      "Outlier analysis for ckcc/TH03_0118_S01_RNASeq against Compendium 2 final samples 2016/10/24\n"
     ]
    }
   ],
   "source": [
    "# Get the results of a specific job\n",
    "job = db.jobs.find_one({\"_id\": \"hzTfpy7kXzftFMJxe\"})\n",
    "up = pd.DataFrame(job[\"output\"][\"up_genes\"])\n",
    "down = pd.DataFrame(job[\"output\"][\"down_genes\"])\n",
    "top5percent = pd.DataFrame(job[\"output\"][\"top5percent_genes\"])\n",
    "print \"Outlier analysis for\", job[\"args\"][\"sample_label\"],\"against\", job[\"args\"][\"sample_group_name\"]"
   ]
  },
  {
   "cell_type": "code",
   "execution_count": 70,
   "metadata": {
    "collapsed": false
   },
   "outputs": [
    {
     "name": "stdout",
     "output_type": "stream",
     "text": [
      "Up regulated genes with drug targets:\n",
      "ADA:\n",
      "- PENTOSTATIN\n",
      "- 1-((1R,2S)-1-{2-[2-(4-CHLOROPHENYL)-1,3-BENZOXAZOL-7-YL]ETHYL}-2-HYDROXYPROPYL)-1H-IMIDAZOLE-4-CARBOXAMIDE\n",
      "- 1-((1R)-1-(HYDROXYMETHYL)-3-{6-[(3-PHENYLPROPANOYL)AMINO]-1H-INDOL-1-YL}PROPYL)-1H-IMIDAZOLE-4-CARBOXAMIDE\n",
      "- 1-{(1R,2S)-2-HYDROXY-1-[2-(2-NAPHTHYLOXY)ETHYL]PROPYL}-1H-IMIDAZONE-4-CARBOXAMIDE\n",
      "- FLUDARABINE\n",
      "- CLADRIBINE\n",
      "- EHNA\n",
      "- DIPYRIDAMOLE\n",
      "- 6-HYDROXY-7,8-DIHYDRO PURINE NUCLEOSIDE\n",
      "- 6-HYDROXY-1,6-DIHYDRO PURINE NUCLEOSIDE\n",
      "APAF1:\n",
      "- ADENOSINE TRIPHOSPHATE\n",
      "BTK:\n",
      "- AVL-292\n",
      "- INOSITOL 1,3,4,5-TETRAKISPHOSPHATE\n",
      "- IBRUTINIB\n",
      "CFD:\n",
      "- 3,4-DICHLOROISOCOUMARIN\n",
      "- ISATOIC ANHYDRIDE\n",
      "CSF3R:\n",
      "- RUXOLITINIB\n",
      "CTSG:\n",
      "- BIS-NAPTHYL BETA-KETOPHOSPHONIC ACID\n",
      "- DERMOLASTIN\n",
      "- 2-[3-({METHYL[1-(2-NAPHTHOYL)PIPERIDIN-4-YL]AMINO}CARBONYL)-2-NAPHTHYL]-1-(1-NAPHTHYL)-2-OXOETHYLPHOSPHONIC\n",
      "  ACID\n",
      "DNTT:\n",
      "- CORDYCEPIN\n",
      "FLT3:\n",
      "- LESTAURTINIB\n",
      "- QUIZARTINIB\n",
      "- GTP-14564\n",
      "- SORAFENIB\n",
      "- FLT-3 INHIBITOR II\n",
      "- CRENOLANIB\n",
      "- 4SC-202\n",
      "- RGB-286638\n",
      "- CEDIRANIB\n",
      "- CLOFARABINE\n",
      "- SUNITINIB\n",
      "- SUNITINIB MALATE\n",
      "- BORTEZOMIB\n",
      "- PACRITINIB\n",
      "- FLT-3 INHIBITOR III\n",
      "- DAUNORUBICIN\n",
      "- ENMD-2076\n",
      "- PONATINIB\n",
      "- TANDUTINIB\n",
      "- DOVITINIB\n",
      "- MIDOSTAURIN\n",
      "- FLT-3 INHIBITOR\n",
      "- AMUVATINIB\n",
      "- SU5614\n",
      "- CABOZANTINIB\n",
      "- LINIFANIB\n",
      "- SORAFENIB TOSYLATE\n",
      "- NINTEDANIB\n",
      "ITGA4:\n",
      "- VEDOLIZMAB\n",
      "- SB-683699\n",
      "- CDP323\n",
      "- FIRATEGRAST\n",
      "MAPKAPK3:\n",
      "- 2-[2-(2-FLUOROPHENYL)PYRIDIN-4-YL]-1,5,6,7-TETRAHYDRO-4H-PYRROLO[3,2-C]PYRIDIN-4-ONE\n",
      "MPO:\n",
      "- CEFDINIR\n",
      "- L-CARNITINE\n",
      "- MELATONIN\n",
      "- NOMIFENSINE\n",
      "P2RX1:\n",
      "- MRS 2219\n",
      "- BZATP\n",
      "- IP<SUB>5</SUB>I\n",
      "PADI4:\n",
      "- DOXYCYCLINE\n",
      "- TETRACYCLINE\n",
      "- STREPTOMYCIN\n",
      "- L-CITRULLINE\n",
      "- N-[(1S)-1-(AMINOCARBONYL)-4-(ETHANIMIDOYLAMINO)BUTYL]BENZAMIDE\n",
      "PIK3R6:\n",
      "- GSK2126458\n",
      "- GDC-0941\n",
      "- GDC-0980\n",
      "- GSK2636771\n",
      "- PKI-587\n",
      "- SF1126\n",
      "- SOPHORETIN\n",
      "- XL147\n",
      "- PI-103\n",
      "PIM1:\n",
      "- STAUROSPORINE\n",
      "- S,S-(2-HYDROXYETHYL)THIOCYSTEINE\n",
      "- (4R)-7,8-DICHLORO-1',9-DIMETHYL-1-OXO-1,2,4,9-TETRAHYDROSPIRO[BETA-CARBOLINE-3,4'-PIPERIDINE]-4-CARBONITRILE\n",
      "- QUERCETIN\n",
      "- 2,3-DIPHENYL-1H-INDOLE-7-CARBOXYLIC ACID\n",
      "- (3E)-3-[(4-HYDROXYPHENYL)IMINO]-1H-INDOL-2(3H)-ONE\n",
      "- RUBOXISTAURIN\n",
      "- AKT INHIBITOR X\n",
      "- (4R)-7-CHLORO-9-METHYL-1-OXO-1,2,4,9-TETRAHYDROSPIRO[BETA-CARBOLINE-3,4'-PIPERIDINE]-4-CARBONITRILE\n",
      "- 4-(4-HYDROXY-3-METHYLPHENYL)-6-PHENYLPYRIMIDIN-2(5H)-ONE\n",
      "- 2-(4-MORPHOLINYL)-8-PHENYL-4H-1-BENZOPYRAN-4-ONE\n",
      "- AZD1208\n",
      "- IMIDAZOPYRIDAZIN 1\n",
      "- N-PHENYL-1H-PYRROLO[2,3-B]PYRIDIN-3-AMINE\n",
      "- 3,4-DIHYDROXY-1-METHYLQUINOLIN-2(1H)-ONE\n",
      "- SGI-1776\n",
      "- PHOSPHOAMINOPHOSPHONIC ACID-ADENYLATE ESTER\n",
      "- (2S)-1,3-BENZOTHIAZOL-2-YL{2-[(2-PYRIDIN-3-YLETHYL)AMINO]PYRIMIDIN-4-YL}ETHANENITRILE\n",
      "PRTN3:\n",
      "- ELAFIN\n",
      "PTPN6:\n",
      "- SODIUM STIBOGLUCONATE\n",
      "RNASE2:\n",
      "- ADENOSINE-3'-5'-DIPHOSPHATE\n",
      "- ADENOSINE-2'-5'-DIPHOSPHATE\n",
      "S1PR4:\n",
      "- SPHINGOSINE 1-PHOSPHATE\n",
      "- PHYTOSPHINGOSINE 1-PHOSPHATE\n",
      "- AFD(R)\n",
      "SELL:\n",
      "- BIMOSIAMOSE\n",
      "SLC25A20:\n",
      "- L-CARNITINE\n",
      "SUCNR1:\n",
      "- SUCCINIC ACID\n",
      "\n"
     ]
    }
   ],
   "source": [
    "# Search for up regulated drug interactions - see http://dgidb.genome.wustl.edu/api\n",
    "endpoint = \"http://dgidb.genome.wustl.edu/api/v1/interactions.json\"\n",
    "query = \"?genes={}&interaction_type=inhibitor\".format(\",\".join(up[\"gene_label\"].values))\n",
    "matches = requests.get(endpoint + query).json()\n",
    "druggable_genes = {m[\"geneName\"]: list(set([i[\"drugName\"] \n",
    "                                            for i in m[\"interactions\"]])) for m in matches[\"matchedTerms\"]}\n",
    "print \"Up regulated genes with drug targets:\"\n",
    "print yaml.safe_dump(druggable_genes, default_flow_style=False)"
   ]
  },
  {
   "cell_type": "code",
   "execution_count": 71,
   "metadata": {
    "collapsed": false
   },
   "outputs": [],
   "source": [
    "# Lookup all pathways by gene\n",
    "from collections import defaultdict\n",
    "pathways = defaultdict(list)\n",
    "for gene in druggable_genes.keys():\n",
    "    pathways[gene].extend(PublicDatabase.search_kegg(gene, organism=\"hsa\"))\n",
    "    pathways[gene].extend(PublicDatabase.search_reactome(gene))\n",
    "    pathways[gene].extend(PublicDatabase.search_wp(gene))"
   ]
  },
  {
   "cell_type": "code",
   "execution_count": 47,
   "metadata": {
    "collapsed": true
   },
   "outputs": [],
   "source": [
    "up_genes_set = set([name.upper() for name in top5percent[\"gene_label\"].values])"
   ]
  },
  {
   "cell_type": "code",
   "execution_count": 54,
   "metadata": {
    "collapsed": false
   },
   "outputs": [
    {
     "data": {
      "text/plain": [
       "[u'Selenocompound metabolism',\n",
       " u'Glycosaminoglycan degradation',\n",
       " u'Valine, leucine and isoleucine degradation',\n",
       " u'Lysine degradation',\n",
       " u'RNA degradation',\n",
       " u'Caprolactam degradation',\n",
       " u'Fatty acid degradation',\n",
       " u'Two-component system']"
      ]
     },
     "execution_count": 54,
     "metadata": {},
     "output_type": "execute_result"
    }
   ],
   "source": [
    "[v[\"diagram\"].title for k, v in candidates.iteritems() if len(v[\"shared\"]) > 0]"
   ]
  },
  {
   "cell_type": "code",
   "execution_count": 49,
   "metadata": {
    "collapsed": false
   },
   "outputs": [
    {
     "name": "stdout",
     "output_type": "stream",
     "text": [
      "duplicate WP511\n",
      "duplicate WP314\n",
      "duplicate WP89\n",
      "duplicate WP1019\n",
      "duplicate WP571\n",
      "duplicate WP902\n",
      "duplicate WP788\n",
      "duplicate WP1138\n",
      "duplicate WP1824\n",
      "duplicate WP1396\n",
      "duplicate WP1825\n",
      "duplicate WP1824\n",
      "duplicate WP3174\n",
      "duplicate WP2849\n",
      "duplicate WP3504\n",
      "duplicate WP2841\n",
      "duplicate WP3626\n",
      "duplicate WP1826\n",
      "duplicate WP1885\n",
      "duplicate WP1087\n",
      "duplicate WP744\n",
      "duplicate WP151\n",
      "duplicate WP44\n",
      "duplicate WP849\n",
      "duplicate WP1794\n",
      "duplicate WP2309\n",
      "duplicate WP1794\n",
      "duplicate WP1829\n",
      "duplicate 01220\n",
      "duplicate WP2806\n",
      "duplicate WP3504\n",
      "duplicate WP147\n",
      "duplicate WP1341\n",
      "duplicate WP774\n",
      "duplicate WP407\n",
      "duplicate WP886\n",
      "duplicate WP1121\n",
      "duplicate WP127\n",
      "duplicate WP908\n",
      "duplicate WP285\n",
      "duplicate WP1354\n",
      "duplicate WP274\n",
      "duplicate WP1144\n",
      "duplicate WP794\n",
      "duplicate WP1315\n",
      "duplicate WP1087\n",
      "duplicate WP304\n",
      "duplicate WP1004\n",
      "duplicate WP744\n",
      "duplicate WP151\n",
      "duplicate WP44\n",
      "duplicate WP849\n",
      "duplicate WP3885\n",
      "duplicate WP1025\n",
      "duplicate WP3884\n",
      "duplicate WP23\n",
      "duplicate WP1449\n",
      "duplicate WP3132\n",
      "duplicate WP2746\n"
     ]
    }
   ],
   "source": [
    "candidates = {}\n",
    "up_genes_set = set([name.upper() for name in top5percent[\"gene_label\"].values])\n",
    "for pathway in pathways:\n",
    "    if pathway.id in candidates:\n",
    "        print \"duplicate\", pathway.id\n",
    "        continue\n",
    "    diagram = pathway.load()\n",
    "    shared = set([e.display_name.upper() if e.display_name else None for e in diagram.entities]).intersection(up_genes_set)\n",
    "    candidates[pathway.id] = {\"diagram\": diagram, \"shared\": shared}"
   ]
  },
  {
   "cell_type": "code",
   "execution_count": 29,
   "metadata": {
    "collapsed": false
   },
   "outputs": [
    {
     "name": "stdout",
     "output_type": "stream",
     "text": [
      "Gene: APAF1\n",
      "Gene: ITGA4\n",
      "Gene: P2RX1\n",
      "Gene: MAPKAPK3\n",
      "Gene: FLT3\n",
      "Gene: DNTT\n",
      "Gene: S1PR4\n",
      "Gene: PIK3R6\n",
      "Gene: SUCNR1\n",
      "Gene: RNASE2\n",
      "Gene: PIM1\n",
      "Gene: CTSG\n",
      "Gene: SLC25A20\n",
      "Gene: PADI4\n",
      "Gene: CSF3R\n",
      "Gene: ADA\n",
      "Found 4 genes\n",
      "set([u'CPT1A', u'HADHA', u'ACADVL', u'ACADM'])\n",
      "New top pathway\n",
      "Found 0 genes\n",
      "set([])\n",
      "Found 3 genes\n",
      "set([u'IVD', u'ACADM', u'DLD'])\n",
      "Found 3 genes\n",
      "set([u'DLST', u'OGDH', u'PLOD1'])\n",
      "Found 7 genes\n",
      "set([u'MAN2B2', u'MANBA', u'GBA', u'HEXA', u'GLB1', u'MAN2C1', u'ENGASE'])\n",
      "New top pathway\n",
      "Found 5 genes\n",
      "set([u'HEXA', u'GNS', u'HGSNAT', u'GLB1', u'GUSB'])\n",
      "Found 9 genes\n",
      "set([u'PAN3', u'PAN2', u'EDC4', u'LSM4', u'DDX6', u'XRN2', u'CNOT3', u'CNOT2', u'CNOT1'])\n",
      "New top pathway\n",
      "Gene: PTPN6\n",
      "Gene: SELL\n",
      "Gene: MPO\n",
      "Found 1 genes\n",
      "set([u'MARS'])\n",
      "Gene: CFD\n",
      "Gene: PRTN3\n",
      "Gene: BTK\n"
     ]
    }
   ],
   "source": [
    "# Search for the kegg pathway with a druggable gene in it and number of up regulated genes in it\n",
    "up_genes_set = set(up[\"gene_label\"].values)\n",
    "top_pathway = None\n",
    "top_pathway_count = 0\n",
    "for gene in druggable_genes.keys():\n",
    "    print \"Gene:\", gene\n",
    "    for resource in PublicDatabase.search_kegg(gene, organism=\"hsa\"):\n",
    "        pathway = resource.load()\n",
    "        shared = set([e.display_name for e in pathway.entities]).intersection(up_genes_set)\n",
    "        print \"Found\", len(shared), \"genes\"\n",
    "        print shared\n",
    "        if len(shared) > top_pathway_count:\n",
    "            print \"New top pathway\"\n",
    "            top_pathway_count = len(shared)\n",
    "            top_pathway = pathway"
   ]
  },
  {
   "cell_type": "code",
   "execution_count": 37,
   "metadata": {
    "collapsed": false
   },
   "outputs": [
    {
     "data": {
      "text/plain": [
       "u'RNA degradation'"
      ]
     },
     "execution_count": 37,
     "metadata": {},
     "output_type": "execute_result"
    }
   ],
   "source": [
    "top_pathway.title"
   ]
  },
  {
   "cell_type": "code",
   "execution_count": 35,
   "metadata": {
    "collapsed": false
   },
   "outputs": [
    {
     "data": {
      "text/html": [
       "<div id=\"box147897209354\" style=\"width: 100%; height: 0px;background-color: #ffffff\">\n",
       "    <script>\n",
       "        var box = $(\"#box147897209354\");\n",
       "        var father = box.parent();\n",
       "//        var grandfather = father.parent();\n",
       "        var thirdfather = father.parent().parent().parent();\n",
       "        thirdfather.children(\".prompt\").remove();\n",
       "        father.parent().children(\".prompt\").remove();\n",
       "        father.css(\"max-width\", \"100%\");\n",
       "        box.css(\"margin-left\", \"5px\");\n",
       "        var target = document.getElementById(\"box147897209354\");\n",
       "//        var w = target.offsetWidth;\n",
       "        var w = thirdfather.outerWidth();\n",
       "        console.log(w);\n",
       "        target.style.height = w * 0.901449275362 + \"px\";\n",
       "        box.append($(\"<iframe width='\" + (parseInt(w) - 15).toString() + \"'\" +\n",
       "                \" height='\" + w * 0.901449275362 + \"' src='assets/KEGG/kegg_147897209354.html' \" +\n",
       "                \"frameborder='0'></iframe>\"))\n",
       "    </script>\n",
       "</div>"
      ],
      "text/plain": [
       "<IPython.core.display.HTML object>"
      ]
     },
     "execution_count": 35,
     "metadata": {},
     "output_type": "execute_result"
    }
   ],
   "source": [
    "top_pathway.draw()"
   ]
  },
  {
   "cell_type": "code",
   "execution_count": 5,
   "metadata": {
    "collapsed": false
   },
   "outputs": [],
   "source": [
    "# get a list of id\n",
    "id_list = [x.id for x in path.genes]\n",
    "# generate a visualize option whose background color in default is red\n",
    "vo = Option(default=[Prop(bg_color= \"red\")])\n",
    "# set this visualize option to all gene in pathway\n",
    "path.integrate(id_list, [vo for _ in id_list])"
   ]
  },
  {
   "cell_type": "code",
   "execution_count": 22,
   "metadata": {
    "collapsed": false
   },
   "outputs": [
    {
     "data": {
      "text/plain": [
       "[class: entry, name: hsa:4609, type: gene, id: 1, KO: [u'K04377'],\n",
       " class: entry, name: hsa:10000 hsa:207 hsa:208, type: gene, id: 2, KO: [u'K04456'],\n",
       " class: entry, name: hsa:23533 hsa:5290 hsa:5291 hsa:5293 hsa:5294 hsa:5295 hsa:5296 hsa:8503, type: gene, id: 3, KO: [u'K00922', u'K02649'],\n",
       " class: entry, name: hsa:6654 hsa:6655, type: gene, id: 4, KO: [u'K03099'],\n",
       " class: entry, name: hsa:2885, type: gene, id: 5, KO: [u'K04364'],\n",
       " class: entry, name: hsa:1154, type: gene, id: 6, KO: [u'K04701'],\n",
       " class: entry, name: hsa:596, type: gene, id: 7, KO: [u'K02161'],\n",
       " class: entry, name: hsa:122809 hsa:30837 hsa:8651 hsa:8835 hsa:9021 hsa:9306 hsa:9655, type: gene, id: 8, KO: [u'K04694', u'K04695', u'K04696', u'K04697', u'K04698', u'K04699'],\n",
       " class: entry, name: hsa:1387 hsa:2033, type: gene, id: 9, KO: [u'K04498'],\n",
       " class: entry, name: hsa:10379, type: gene, id: 10, KO: [u'K04693'],\n",
       " class: entry, name: hsa:6772 hsa:6773 hsa:6774 hsa:6775 hsa:6776 hsa:6777 hsa:6778, type: gene, id: 11, KO: [u'K11220', u'K11221', u'K04692', u'K11222', u'K11223', u'K11224', u'K11225'],\n",
       " class: entry, name: hsa:10401 hsa:51588 hsa:8554 hsa:9063, type: gene, id: 12, KO: [u'K04706', u'K16063', u'K16064', u'K16065'],\n",
       " class: entry, name: hsa:5777, type: gene, id: 13, KO: [u'K05697'],\n",
       " class: entry, name: hsa:10254 hsa:8027, type: gene, id: 14, KO: [u'K04705'],\n",
       " class: entry, name: hsa:3716 hsa:3717 hsa:3718 hsa:7297, type: gene, id: 15, KO: [u'K11217', u'K04447', u'K11218', u'K11219'],\n",
       " class: entry, name: hsa:2273, type: gene, id: 19, KO: [u'K14365'],\n",
       " class: entry, name: hsa:116379 hsa:1271 hsa:1438 hsa:1439 hsa:1441 hsa:149233 hsa:163702 hsa:2057 hsa:2690 hsa:3454 hsa:3455 hsa:3459 hsa:3460 hsa:3559 hsa:3560 hsa:3561 hsa:3563 hsa:3566 hsa:3568 hsa:3570 hsa:3572 hsa:3575 hsa:3581 hsa:3587 hsa:3588 hsa:3590 hsa:3594 hsa:3595 hsa:3597 hsa:3598 hsa:3601 hsa:3953 hsa:3977 hsa:4352 hsa:50615 hsa:53832 hsa:53833 hsa:5618 hsa:58985 hsa:64109 hsa:9180 hsa:9466, type: gene, id: 22, KO: [u'K05068', u'K05069', u'K05070', u'K04737', u'K05071', u'K05067', u'K05055', u'K05072', u'K05073', u'K05134', u'K05135', u'K05056', u'K05063', u'K05064', u'K05076', u'K05077', u'K05074', u'K05136', u'K05137', u'K05075', u'K05138', u'K05139', u'K05065', u'K19598', u'K05060', u'K05130', u'K05131', u'K05132', u'K05133', u'K05140', u'K05057', u'K05058', u'K05078', u'K05059', u'K05066', u'K04738', u'K05061', u'K05079', u'K05080', u'K05062', u'K05082', u'K05081', u'K19599'],\n",
       " class: entry, name: hsa:5771, type: gene, id: 23, KO: [u'K18026'],\n",
       " class: entry, name: hsa:4170, type: gene, id: 24, KO: [u'K02539'],\n",
       " class: entry, name: hsa:5292, type: gene, id: 27, KO: [u'K04702'],\n",
       " class: entry, name: hsa:595 hsa:894 hsa:896, type: gene, id: 28, KO: [u'K04503', u'K10151', u'K10152'],\n",
       " class: entry, name: hsa:5781, type: gene, id: 29, KO: [u'K07293'],\n",
       " class: entry, name: hsa:1026, type: gene, id: 30, KO: [u'K06625'],\n",
       " class: entry, name: hsa:598, type: gene, id: 31, KO: [u'K04570'],\n",
       " class: entry, name: hsa:3265, type: gene, id: 32, KO: [u'K02833'],\n",
       " class: entry, name: hsa:5894, type: gene, id: 33, KO: [u'K04366'],\n",
       " class: entry, name: hsa:316, type: gene, id: 34, KO: [u'K00157'],\n",
       " class: entry, name: hsa:2475, type: gene, id: 35, KO: [u'K07203'],\n",
       " class: entry, name: hsa:2670, type: gene, id: 36, KO: [u'K05640'],\n",
       " class: entry, name: hsa:5771, type: gene, id: 37, KO: [u'K18026'],\n",
       " class: entry, name: hsa:11009 hsa:1437 hsa:1489 hsa:282616 hsa:282617 hsa:282618 hsa:29949 hsa:338376 hsa:3439 hsa:3440 hsa:3441 hsa:3442 hsa:3443 hsa:3444 hsa:3445 hsa:3446 hsa:3447 hsa:3448 hsa:3449 hsa:3451 hsa:3452 hsa:3456 hsa:3458 hsa:3467 hsa:3558 hsa:3562 hsa:3565 hsa:3567 hsa:3569 hsa:3574 hsa:3578 hsa:3586 hsa:3589 hsa:3592 hsa:3593 hsa:3596 hsa:3600 hsa:3976 hsa:5008 hsa:50604 hsa:50616 hsa:51561 hsa:53342 hsa:56832 hsa:59067 hsa:85480, type: gene, id: 38, KO: [u'K05429', u'K04736', u'K05430', u'K05428', u'K05405', u'K05431', u'K05432', u'K05443', u'K05417', u'K05406', u'K05425', u'K05435', u'K05433', u'K05444', u'K05434', u'K05445', u'K05426', u'K05492', u'K05414', u'K05415', u'K04687', u'K05442', u'K05441', u'K05447', u'K05440', u'K05418', u'K05419', u'K05436', u'K05422', u'K05427', u'K16689'],\n",
       " class: entry, name: hsa:1270 hsa:1440 hsa:1442 hsa:1443 hsa:2056 hsa:2688 hsa:2689 hsa:3952 hsa:5617 hsa:7066, type: gene, id: 39, KO: [u'K05420', u'K05423', u'K05437', u'K05438', u'K05424', u'K06854', u'K05439'],\n",
       " class: entry, name: hsa:6772 hsa:6773 hsa:6774 hsa:6775 hsa:6776 hsa:6777 hsa:6778, type: gene, id: 40, KO: [u'K11220', u'K11221', u'K04692', u'K11222', u'K11223', u'K11224', u'K11225'],\n",
       " class: entry, name: hsa:6772 hsa:6773 hsa:6774 hsa:6775 hsa:6776 hsa:6777 hsa:6778, type: gene, id: 41, KO: [u'K11220', u'K11221', u'K04692', u'K11222', u'K11223', u'K11224', u'K11225']]"
      ]
     },
     "execution_count": 22,
     "metadata": {},
     "output_type": "execute_result"
    }
   ],
   "source": [
    "path.genes"
   ]
  },
  {
   "cell_type": "code",
   "execution_count": 7,
   "metadata": {
    "collapsed": false
   },
   "outputs": [
    {
     "data": {
      "text/html": [
       "<div id=\"box147889301469\" style=\"width: 100%; height: 0px;background-color: #ffffff\">\n",
       "    <script>\n",
       "        var box = $(\"#box147889301469\");\n",
       "        var father = box.parent();\n",
       "//        var grandfather = father.parent();\n",
       "        var thirdfather = father.parent().parent().parent();\n",
       "        thirdfather.children(\".prompt\").remove();\n",
       "        father.parent().children(\".prompt\").remove();\n",
       "        father.css(\"max-width\", \"100%\");\n",
       "        box.css(\"margin-left\", \"5px\");\n",
       "        var target = document.getElementById(\"box147889301469\");\n",
       "//        var w = target.offsetWidth;\n",
       "        var w = thirdfather.outerWidth();\n",
       "        console.log(w);\n",
       "        target.style.height = w * 0.6 + \"px\";\n",
       "        box.append($(\"<iframe width='\" + (parseInt(w) - 15).toString() + \"'\" +\n",
       "                \" height='\" + w * 0.6 + \"' src='assets/KEGG/kegg_147889301469.html' \" +\n",
       "                \"frameborder='0'></iframe>\"))\n",
       "    </script>\n",
       "</div>"
      ],
      "text/plain": [
       "<IPython.core.display.HTML object>"
      ]
     },
     "execution_count": 7,
     "metadata": {},
     "output_type": "execute_result"
    }
   ],
   "source": [
    "path.draw()"
   ]
  },
  {
   "cell_type": "code",
   "execution_count": 48,
   "metadata": {
    "collapsed": false
   },
   "outputs": [],
   "source": [
    "# query pathway\n",
    "# get a list of id\n",
    "id_list = [x.id for x in path.genes]\n",
    "# generate a visualize option whose background color in default is red\n",
    "vo = Option(default=[Prop(bg_color= \"red\")])\n",
    "# set this visualize option to all gene in pathway\n",
    "path.integrate(id_list, [vo for _ in id_list])\n",
    "\n",
    "\n",
    "\n",
    "\n",
    "\n",
    "# # now lets change all node's color to red\n",
    "# vo = Option(default=[Prop(bg_color=\"red\")])\n",
    "# path.integrate([x.props[\"GraphId\"] for x in path.nodes], [vo for _ in path.entities])\n",
    "# path.draw()\n",
    "# Out[3]:\n"
   ]
  },
  {
   "cell_type": "code",
   "execution_count": 51,
   "metadata": {
    "collapsed": false
   },
   "outputs": [
    {
     "data": {
      "text/html": [
       "<div id=\"box147889003195\" style=\"width: 100%; height: 0px;background-color: #ffffff\">\n",
       "    <script>\n",
       "        var box = $(\"#box147889003195\");\n",
       "        var father = box.parent();\n",
       "//        var grandfather = father.parent();\n",
       "        var thirdfather = father.parent().parent().parent();\n",
       "        thirdfather.children(\".prompt\").remove();\n",
       "        father.parent().children(\".prompt\").remove();\n",
       "        father.css(\"max-width\", \"100%\");\n",
       "        box.css(\"margin-left\", \"5px\");\n",
       "        var target = document.getElementById(\"box147889003195\");\n",
       "//        var w = target.offsetWidth;\n",
       "        var w = thirdfather.outerWidth();\n",
       "        console.log(w);\n",
       "        target.style.height = w * 0.6 + \"px\";\n",
       "        box.append($(\"<iframe width='\" + (parseInt(w) - 15).toString() + \"'\" +\n",
       "                \" height='\" + w * 0.6 + \"' src='assets/KEGG/kegg_147889003195.html' \" +\n",
       "                \"frameborder='0'></iframe>\"))\n",
       "    </script>\n",
       "</div>"
      ],
      "text/plain": [
       "<IPython.core.display.HTML object>"
      ]
     },
     "execution_count": 51,
     "metadata": {},
     "output_type": "execute_result"
    }
   ],
   "source": [
    "path.draw()"
   ]
  }
 ],
 "metadata": {
  "kernelspec": {
   "display_name": "Python 2",
   "language": "python",
   "name": "python2"
  },
  "language_info": {
   "codemirror_mode": {
    "name": "ipython",
    "version": 2
   },
   "file_extension": ".py",
   "mimetype": "text/x-python",
   "name": "python",
   "nbconvert_exporter": "python",
   "pygments_lexer": "ipython2",
   "version": "2.7.12"
  }
 },
 "nbformat": 4,
 "nbformat_minor": 1
}
