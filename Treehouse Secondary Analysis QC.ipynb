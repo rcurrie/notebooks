{
 "cells": [
  {
   "cell_type": "code",
   "execution_count": null,
   "metadata": {},
   "outputs": [],
   "source": [
    "import os\n",
    "import fnmatch\n",
    "import json\n",
    "import dateutil.parser\n",
    "import re\n",
    "import pprint\n",
    "import glob\n",
    "import pandas as pd"
   ]
  },
  {
   "cell_type": "code",
   "execution_count": null,
   "metadata": {},
   "outputs": [],
   "source": [
    "paths = glob.glob(\"/treehouse/archive/downstream/*/secondary/*bam-umend-qc*/bam_umend_qc.json\")\n",
    "print(\"Found {} umend reports\".format(len(paths)))\n",
    "\n",
    "reports = pd.DataFrame([{\"id\": re.findall(r\"downstream\\/(.*?)\\/\", path)[0], \n",
    "                         **json.loads(open(path).read())} \n",
    "                        for path in paths]).set_index(\"id\")\n",
    "print(\"Found {} umend reports\".format(len(reports)))\n",
    "reports.head()"
   ]
  },
  {
   "cell_type": "code",
   "execution_count": null,
   "metadata": {},
   "outputs": [],
   "source": [
    "reports.loc[\"THR32_0947_S01\"]"
   ]
  },
  {
   "cell_type": "code",
   "execution_count": null,
   "metadata": {},
   "outputs": [],
   "source": [
    "reports.describe()"
   ]
  }
 ],
 "metadata": {
  "kernelspec": {
   "display_name": "Python 3",
   "language": "python",
   "name": "python3"
  },
  "language_info": {
   "codemirror_mode": {
    "name": "ipython",
    "version": 3
   },
   "file_extension": ".py",
   "mimetype": "text/x-python",
   "name": "python",
   "nbconvert_exporter": "python",
   "pygments_lexer": "ipython3",
   "version": "3.6.3"
  }
 },
 "nbformat": 4,
 "nbformat_minor": 2
}
