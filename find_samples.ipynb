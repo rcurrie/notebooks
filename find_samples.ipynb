{
 "cells": [
  {
   "cell_type": "code",
   "execution_count": 10,
   "metadata": {},
   "outputs": [
    {
     "name": "stdout",
     "output_type": "stream",
     "text": [
      "Processing two primary fastqs for THR32_0942_S01\n",
      "['/treehouse/archive/primary/original/THR32_0942_S01/_EGAR00001409927_dkfz_CNS-PNET_15-0095_NoIndex_L001_R1_complete_filtered.fastq.gz', '/treehouse/archive/primary/original/THR32_0942_S01/_EGAR00001409927_dkfz_CNS-PNET_15-0095_NoIndex_L001_R2_complete_filtered.fastq.gz']\n",
      "Processing two primary fastqs for THR32_0958_S01\n",
      "['/treehouse/archive/primary/original/THR32_0958_S01/_EGAR00001409939_dkfz_GBM_15-0001_s_140411_2_1_sequence.txt.gz', '/treehouse/archive/primary/original/THR32_0958_S01/_EGAR00001409939_dkfz_GBM_15-0001_s_140411_2_2_sequence.txt.gz']\n",
      "Converting multiple primary fastqs for THR32_0956_S01\n",
      "['/treehouse/archive/primary/original/THR32_0956_S01/_EGAR00001409930_dkfz_EPN_15-0034_TR_CTTGTA_L001_R1_complete_filtered.fastq.gz', '/treehouse/archive/primary/original/THR32_0956_S01/_EGAR00001409930_dkfz_EPN_15-0034_TR_CTTGTA_L001_R2_complete_filtered.fastq.gz', '/treehouse/archive/primary/original/THR32_0956_S01/_EGAR00001409931_dkfz_EPN_15-0034_TR_CTTGTA_L002_R1_complete_filtered.fastq.gz', '/treehouse/archive/primary/original/THR32_0956_S01/_EGAR00001409931_dkfz_EPN_15-0034_TR_CTTGTA_L002_R2_complete_filtered.fastq.gz']\n",
      "Converting multiple primary fastqs for THR32_0941_S01\n",
      "['/treehouse/archive/primary/original/THR32_0941_S01/_EGAR00001409909_dkfz_CNS-PNET_15-0069_AGTCAA_L005_R1_complete_filtered.fastq.gz', '/treehouse/archive/primary/original/THR32_0941_S01/_EGAR00001409909_dkfz_CNS-PNET_15-0069_AGTCAA_L005_R2_complete_filtered.fastq.gz', '/treehouse/archive/primary/original/THR32_0941_S01/_EGAR00001409910_dkfz_CNS-PNET_15-0069_AGTCAA_L006_R1_complete_filtered.fastq.gz', '/treehouse/archive/primary/original/THR32_0941_S01/_EGAR00001409910_dkfz_CNS-PNET_15-0069_AGTCAA_L006_R2_complete_filtered.fastq.gz', '/treehouse/archive/primary/original/THR32_0941_S01/_EGAR00001409911_dkfz_CNS-PNET_15-0069_AGTCAA_L007_R1_complete_filtered.fastq.gz', '/treehouse/archive/primary/original/THR32_0941_S01/_EGAR00001409911_dkfz_CNS-PNET_15-0069_AGTCAA_L007_R2_complete_filtered.fastq.gz']\n"
     ]
    }
   ],
   "source": [
    "import os\n",
    "import glob\n",
    "\n",
    "def find_and_put_fastqs(id, base):\n",
    "    \n",
    "    # First see if there are fastqs in derived\n",
    "    files = sorted(glob.glob(\"{}/primary/derived/{}/*.fastq.*\".format(base, id))\n",
    "                   + glob.glob(\"{}/primary/derived/{}/*.fq.*\".format(base, id)))\n",
    "    if len(files) == 2:\n",
    "        print(\"Processing two derived fastqs for {}\".format(id))\n",
    "        print(files)\n",
    "        return\n",
    "    \n",
    "    # Look fastqs in primary\n",
    "    files = sorted(glob.glob(\"{}/primary/original/{}/*.txt.*\".format(base, id))\n",
    "                   + glob.glob(\"{}/primary/original/{}/*.fastq.*\".format(base, id))\n",
    "                   + glob.glob(\"{}/primary/original/{}/*.fq.*\".format(base, id)))\n",
    "\n",
    "    if len(files) == 2:\n",
    "        print(\"Processing two primary fastqs for {}\".format(id))\n",
    "        print(files)\n",
    "        return\n",
    "\n",
    "    if len(files) > 2 and len(files) % 2 == 0:\n",
    "        print(\"Converting multiple primary fastqs for {}\".format(id))\n",
    "        print(files)\n",
    "        return\n",
    "    \n",
    "    # Look for a single bam in original\n",
    "    files = sorted(glob.glob(\"{}/primary/original/{}/*.bam.*\".format(base, id)))\n",
    "    if len(files) == 1:\n",
    "        print(\"Converting original bam for {}\".format(id))\n",
    "        print(files)\n",
    "        return\n",
    "    \n",
    "    print(\"ERROR {}\".format(id))\n",
    "    return []\n",
    "\n",
    "\n",
    "for id in [\"THR32_0942_S01\", \"THR32_0958_S01\", \"THR32_0956_S01\", \"THR32_0941_S01\"]:\n",
    "    find_and_put_fastqs(id, \"/treehouse/archive\")"
   ]
  },
  {
   "cell_type": "code",
   "execution_count": null,
   "metadata": {},
   "outputs": [],
   "source": []
  }
 ],
 "metadata": {
  "kernelspec": {
   "display_name": "Python 3",
   "language": "python",
   "name": "python3"
  },
  "language_info": {
   "codemirror_mode": {
    "name": "ipython",
    "version": 3
   },
   "file_extension": ".py",
   "mimetype": "text/x-python",
   "name": "python",
   "nbconvert_exporter": "python",
   "pygments_lexer": "ipython3",
   "version": "3.6.3"
  }
 },
 "nbformat": 4,
 "nbformat_minor": 2
}
