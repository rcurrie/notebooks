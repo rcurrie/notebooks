{
 "cells": [
  {
   "cell_type": "code",
   "execution_count": 7,
   "metadata": {},
   "outputs": [
    {
     "name": "stdout",
     "output_type": "stream",
     "text": [
      "[{'bams': [],\n",
      "  'fastqs': ['primary/original/TEST/TEST_R1.fastq.gz',\n",
      "             'primary/original/TEST/TEST_R2.fastq.gz'],\n",
      "  'id': 'TEST'},\n",
      " {'bams': [], 'fastqs': [], 'id': 'TEST1'},\n",
      " {'bams': [],\n",
      "  'fastqs': ['primary/derived/TEST2/TEST_R1.fastq.gz',\n",
      "             'primary/derived/TEST2/TEST_R2.fastq.gz'],\n",
      "  'id': 'TEST2'},\n",
      " {'bams': [],\n",
      "  'fastqs': ['primary/original/TEST3/TEST_R1.fastq.gz',\n",
      "             'primary/original/TEST3/TEST_R2.fastq.gz'],\n",
      "  'id': 'TEST3'},\n",
      " {'bams': ['primary/original/TEST4/TEST.bam'], 'fastqs': [], 'id': 'TEST4'}]\n"
     ]
    }
   ],
   "source": [
    "import os\n",
    "import glob\n",
    "import pprint\n",
    "ids = [\"TEST\", \"TEST1\", \"TEST2\", \"TEST3\", \"TEST4\"]\n",
    "base = \"/data/treehouse/archive/\"\n",
    "samples = [{\"id\": id,\n",
    "            \"bams\": [os.path.relpath(p, base) for p in sorted(\n",
    "                glob.glob(\"{}/primary/*/{}/*.bam\".format(base, id)))],\n",
    "            \"fastqs\": [os.path.relpath(p, base) for p in sorted(\n",
    "                glob.glob(\"{}/primary/*/{}/*.fastq.*\".format(base, id))\n",
    "                + glob.glob(\"{}/primary/*/{}/*.fq.*\".format(base, id)))]} for id in ids]\n",
    "pprint.pprint(samples)"
   ]
  }
 ],
 "metadata": {
  "kernelspec": {
   "display_name": "Python 3",
   "language": "python",
   "name": "python3"
  },
  "language_info": {
   "codemirror_mode": {
    "name": "ipython",
    "version": 3
   },
   "file_extension": ".py",
   "mimetype": "text/x-python",
   "name": "python",
   "nbconvert_exporter": "python",
   "pygments_lexer": "ipython3",
   "version": "3.6.3"
  }
 },
 "nbformat": 4,
 "nbformat_minor": 2
}
