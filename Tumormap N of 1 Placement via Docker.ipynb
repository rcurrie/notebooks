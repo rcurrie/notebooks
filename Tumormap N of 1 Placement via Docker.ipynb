{
 "cells": [
  {
   "cell_type": "markdown",
   "metadata": {
    "deletable": true,
    "editable": true
   },
   "source": [
    "### Run a docker container from Jupyter\n",
    "\n",
    "docker-py (https://docker-py.readthedocs.io/en/stable/) provides and interfact to launch and manage docker containers from python. By mapping the host systems docker socket (/var/run/docker.sock) into the container spawned by JupyterHub you can access and launch dockers on the same host as peers to the container your notebook is running in.\n",
    "\n",
    "Note that there are several paths to extend this if a single host becomes the limit including docker-machine, swarm, and various cluster solutions like mesos/marathon."
   ]
  },
  {
   "cell_type": "code",
   "execution_count": 3,
   "metadata": {
    "collapsed": false,
    "deletable": true,
    "editable": true
   },
   "outputs": [],
   "source": [
    "import docker\n",
    "client = docker.from_env()"
   ]
  },
  {
   "cell_type": "code",
   "execution_count": 6,
   "metadata": {
    "collapsed": false,
    "deletable": true,
    "editable": true
   },
   "outputs": [
    {
     "data": {
      "text/plain": [
       "'hello world\\n'"
      ]
     },
     "execution_count": 6,
     "metadata": {},
     "output_type": "execute_result"
    }
   ],
   "source": [
    "client.containers.run(\"alpine\", \"echo hello world\")"
   ]
  },
  {
   "cell_type": "code",
   "execution_count": 7,
   "metadata": {
    "collapsed": true,
    "deletable": true,
    "editable": true
   },
   "outputs": [],
   "source": [
    "!cut -f1,1234 /data/references/compendium/v3/expression.tsv > /data/scratch/rcurrie/sample1234.tsv"
   ]
  },
  {
   "cell_type": "code",
   "execution_count": 15,
   "metadata": {
    "collapsed": false,
    "deletable": true,
    "editable": true
   },
   "outputs": [
    {
     "data": {
      "text/plain": [
       "u'sha256:b4903893fb023b501a4872da0d66e1bbd049ef198f4d99953562c2f76367ec65'"
      ]
     },
     "execution_count": 15,
     "metadata": {},
     "output_type": "execute_result"
    }
   ],
   "source": [
    "client.images.pull(\"ucschexmap/compute:dev\").id"
   ]
  },
  {
   "cell_type": "code",
   "execution_count": 18,
   "metadata": {
    "collapsed": false,
    "deletable": true,
    "editable": true
   },
   "outputs": [
    {
     "name": "stdout",
     "output_type": "stream",
     "text": [
      "CPU times: user 104 ms, sys: 8 ms, total: 112 ms\n",
      "Wall time: 3min 51s\n"
     ]
    },
    {
     "data": {
      "text/plain": [
       "''"
      ]
     },
     "execution_count": 18,
     "metadata": {},
     "output_type": "execute_result"
    }
   ],
   "source": [
    "%%time\n",
    "client.containers.run(image=\"ucschexmap/compute:0.0.1\", \n",
    "                      volumes={'/data': {'bind': '/data', 'mode': 'rw'}},\n",
    "                      command=\" \\\n",
    "                          python2.7 /usr/src/app/calc/compute_sparse_matrix.py \\\n",
    "                          --in_file /data/references/compendium/v3/expression.tsv \\\n",
    "                          --in_file2 /data/scratch/rcurrie/sample1234.tsv \\\n",
    "                          --num_jobs 1 --top 7 --metric spearman --output_type sparse \\\n",
    "                          --out_file /data/scratch/rcurrie/sample1234_results.txt \\\n",
    "                          --log /data/scratch/rcurrie/sample1234_log.log \\\n",
    "                          \")"
   ]
  }
 ],
 "metadata": {
  "kernelspec": {
   "display_name": "Python 2",
   "language": "python",
   "name": "python2"
  },
  "language_info": {
   "codemirror_mode": {
    "name": "ipython",
    "version": 2
   },
   "file_extension": ".py",
   "mimetype": "text/x-python",
   "name": "python",
   "nbconvert_exporter": "python",
   "pygments_lexer": "ipython2",
   "version": "2.7.12"
  }
 },
 "nbformat": 4,
 "nbformat_minor": 2
}
