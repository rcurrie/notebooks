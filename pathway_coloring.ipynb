{
 "cells": [
  {
   "cell_type": "code",
   "execution_count": 1,
   "metadata": {
    "collapsed": true
   },
   "outputs": [],
   "source": [
    "# import a variety of packages\n",
    "import requests\n",
    "import yaml\n",
    "from IPython.core.display import display, HTML\n",
    "import numpy as np\n",
    "import pandas as pd\n",
    "!pip2 install --quiet pypathway # not instandard jupyter container so add manually\n",
    "from pypathway import *\n",
    "import pymongo"
   ]
  },
  {
   "cell_type": "code",
   "execution_count": 2,
   "metadata": {
    "collapsed": true
   },
   "outputs": [],
   "source": [
    "# Connect to the database\n",
    "db = pymongo.MongoClient(\"mongo\").MedBook"
   ]
  },
  {
   "cell_type": "code",
   "execution_count": 3,
   "metadata": {
    "collapsed": false
   },
   "outputs": [
    {
     "name": "stdout",
     "output_type": "stream",
     "text": [
      "Outlier analysis for ckcc/TH03_0118_S01_RNASeq against Compendium 2 final samples 2016/10/24\n"
     ]
    }
   ],
   "source": [
    "# Get the results of a specific job\n",
    "job = db.jobs.find_one({\"_id\": \"hzTfpy7kXzftFMJxe\"})\n",
    "up = pd.DataFrame(job[\"output\"][\"up_genes\"])\n",
    "down = pd.DataFrame(job[\"output\"][\"down_genes\"])\n",
    "top5percent = pd.DataFrame(job[\"output\"][\"top5percent_genes\"])\n",
    "print \"Outlier analysis for\", job[\"args\"][\"sample_label\"],\"against\", job[\"args\"][\"sample_group_name\"]"
   ]
  },
  {
   "cell_type": "code",
   "execution_count": 4,
   "metadata": {
    "collapsed": false
   },
   "outputs": [],
   "source": [
    "diagram = PublicDatabase.search_kegg(\"mapk\", organism=\"hsa\")[0].load()"
   ]
  },
  {
   "cell_type": "code",
   "execution_count": 5,
   "metadata": {
    "collapsed": false
   },
   "outputs": [],
   "source": [
    "up_ids = [e.id for e in diagram.entities if e.display_name in set(up[\"gene_label\"].values)]\n",
    "down_ids = [e.id for e in diagram.entities if e.display_name in set(down[\"gene_label\"].values)]\n",
    "top5percent_ids = [e.id for e in diagram.entities if e.id not in up_ids and e.id not in down_ids and e.display_name in set(top5percent[\"gene_label\"].values)]"
   ]
  },
  {
   "cell_type": "code",
   "execution_count": 6,
   "metadata": {
    "collapsed": false
   },
   "outputs": [
    {
     "data": {
      "text/html": [
       "<div id=\"box147966243214\" style=\"width: 100%; height: 0px;background-color: #ffffff\">\n",
       "    <script>\n",
       "        var box = $(\"#box147966243214\");\n",
       "        var father = box.parent();\n",
       "//        var grandfather = father.parent();\n",
       "        var thirdfather = father.parent().parent().parent();\n",
       "        thirdfather.children(\".prompt\").remove();\n",
       "        father.parent().children(\".prompt\").remove();\n",
       "        father.css(\"max-width\", \"100%\");\n",
       "        box.css(\"margin-left\", \"5px\");\n",
       "        var target = document.getElementById(\"box147966243214\");\n",
       "//        var w = target.offsetWidth;\n",
       "        var w = thirdfather.outerWidth();\n",
       "        console.log(w);\n",
       "        target.style.height = w * 0.776453055142 + \"px\";\n",
       "        box.append($(\"<iframe width='\" + (parseInt(w) - 15).toString() + \"'\" +\n",
       "                \" height='\" + w * 0.776453055142 + \"' src='assets/KEGG/kegg_147966243214.html' \" +\n",
       "                \"frameborder='0'></iframe>\"))\n",
       "    </script>\n",
       "</div>"
      ],
      "text/plain": [
       "<IPython.core.display.HTML object>"
      ]
     },
     "execution_count": 6,
     "metadata": {},
     "output_type": "execute_result"
    }
   ],
   "source": [
    "# Use colorblind safe colors: http://mkweb.bcgsc.ca/colorblind/\n",
    "up_color = Option(default=[Prop(bg_color=\"rgb(213,94,0)\", color=\"white\")])\n",
    "down_color = Option(default=[Prop(bg_color=\"rgb(0,114,178)\", color=\"white\")])\n",
    "top5percent_color = Option(default=[Prop(bg_color=\"rgb(230,159,0)\", color=\"white\")])\n",
    "opaque = Option(default=[Prop(bg_color=\"white\", color=\"white\", opacity=0.8)])\n",
    "\n",
    "diagram.integrate([e.id for e in diagram.entities],\n",
    "                  [up_color if i in up_ids\n",
    "                   else down_color if i in down_ids \n",
    "                   else top5percent_color if i in top5percent_ids \n",
    "                   else opaque for i in [e.id for e in diagram.entities]])\n",
    "\n",
    "diagram.draw()"
   ]
  }
 ],
 "metadata": {
  "kernelspec": {
   "display_name": "Python 2",
   "language": "python",
   "name": "python2"
  },
  "language_info": {
   "codemirror_mode": {
    "name": "ipython",
    "version": 2
   },
   "file_extension": ".py",
   "mimetype": "text/x-python",
   "name": "python",
   "nbconvert_exporter": "python",
   "pygments_lexer": "ipython2",
   "version": "2.7.12"
  }
 },
 "nbformat": 4,
 "nbformat_minor": 1
}
