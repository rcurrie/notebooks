{
 "cells": [
  {
   "cell_type": "code",
   "execution_count": 1,
   "metadata": {
    "collapsed": false
   },
   "outputs": [
    {
     "name": "stdout",
     "output_type": "stream",
     "text": [
      "CPU times: user 16 ms, sys: 4 ms, total: 20 ms\n",
      "Wall time: 606 ms\n"
     ]
    }
   ],
   "source": [
    "%%time\n",
    "!wget -q -N -P data http://ceph-gw-01.pod/references/kallisto_hg38.idx"
   ]
  },
  {
   "cell_type": "code",
   "execution_count": 33,
   "metadata": {
    "collapsed": false
   },
   "outputs": [
    {
     "name": "stdout",
     "output_type": "stream",
     "text": [
      "\n",
      "[quant] fragment length distribution will be estimated from the data\n",
      "[index] k-mer length: 31\n",
      "[index] number of targets: 197,044\n",
      "[index] number of k-mers: 115,344,928\n",
      "[index] number of equivalence classes: 750,215\n",
      "[quant] running in paired-end mode\n",
      "[quant] will process pair 1: data/TH03_0138_S01_R1.fastq.gz\n",
      "                             data/TH03_0138_S01_R2.fastq.gz\n",
      "[quant] finding pseudoalignments for the reads ... done\n",
      "[quant] processed 16,556,723 reads, 6,400,314 reads pseudoaligned\n",
      "[quant] estimated average fragment length: 129.176\n",
      "[   em] quantifying the abundances ... done\n",
      "[   em] the Expectation-Maximization algorithm ran for 1,087 rounds\n",
      "[~warn] number of threads (16) greater than number of bootstraps\n",
      "[~warn] (cont'd) updating threads to number of bootstraps 10\n",
      "\n",
      "\n",
      "CPU times: user 5.55 s, sys: 952 ms, total: 6.5 s\n",
      "Wall time: 2min 34s\n"
     ]
    }
   ],
   "source": [
    "%%time\n",
    "!../kallisto quant -t 16 -b 16 --seed 42 -i data/kallisto_hg38.idx -o quant \\\n",
    "    data/TH03_0138_S01_R1.fastq.gz data/TH03_0138_S01_R2.fastq.gz"
   ]
  },
  {
   "cell_type": "code",
   "execution_count": 35,
   "metadata": {
    "collapsed": false
   },
   "outputs": [],
   "source": [
    "import numpy as np\n",
    "import pandas as pd\n",
    "import h5py"
   ]
  },
  {
   "cell_type": "code",
   "execution_count": 39,
   "metadata": {
    "collapsed": false
   },
   "outputs": [],
   "source": [
    "quant = h5py.File(\"quant/abundance.h5\", 'r')"
   ]
  },
  {
   "cell_type": "code",
   "execution_count": 48,
   "metadata": {
    "collapsed": false
   },
   "outputs": [
    {
     "data": {
      "text/plain": [
       "['aux', 'bootstrap', 'est_counts']"
      ]
     },
     "execution_count": 48,
     "metadata": {},
     "output_type": "execute_result"
    }
   ],
   "source": [
    "[k for k in quant]"
   ]
  },
  {
   "cell_type": "code",
   "execution_count": 44,
   "metadata": {
    "collapsed": false
   },
   "outputs": [
    {
     "data": {
      "text/plain": [
       "[('bias_normalized',\n",
       "  <HDF5 dataset \"bias_normalized\": shape (4096,), type \"<f8\">),\n",
       " ('bias_observed', <HDF5 dataset \"bias_observed\": shape (4096,), type \"<i4\">),\n",
       " ('call', <HDF5 dataset \"call\": shape (1,), type \"|S137\">),\n",
       " ('eff_lengths', <HDF5 dataset \"eff_lengths\": shape (197044,), type \"<f8\">),\n",
       " ('fld', <HDF5 dataset \"fld\": shape (1000,), type \"<i4\">),\n",
       " ('ids', <HDF5 dataset \"ids\": shape (197044,), type \"|S19\">),\n",
       " ('index_version', <HDF5 dataset \"index_version\": shape (1,), type \"<i4\">),\n",
       " ('kallisto_version',\n",
       "  <HDF5 dataset \"kallisto_version\": shape (1,), type \"|S7\">),\n",
       " ('lengths', <HDF5 dataset \"lengths\": shape (197044,), type \"<i4\">),\n",
       " ('num_bootstrap', <HDF5 dataset \"num_bootstrap\": shape (1,), type \"<i4\">),\n",
       " ('num_processed', <HDF5 dataset \"num_processed\": shape (1,), type \"<i4\">),\n",
       " ('start_time', <HDF5 dataset \"start_time\": shape (1,), type \"|S25\">)]"
      ]
     },
     "execution_count": 44,
     "metadata": {},
     "output_type": "execute_result"
    }
   ],
   "source": [
    "[(v, quant[\"aux\"][v]) for v in quant[\"aux\"]]"
   ]
  },
  {
   "cell_type": "code",
   "execution_count": 49,
   "metadata": {
    "collapsed": false
   },
   "outputs": [
    {
     "data": {
      "text/plain": [
       "(197044,)"
      ]
     },
     "execution_count": 49,
     "metadata": {},
     "output_type": "execute_result"
    }
   ],
   "source": [
    "est_counts = pd.Series(quant['est_counts'])\n",
    "est_counts.shape"
   ]
  }
 ],
 "metadata": {
  "kernelspec": {
   "display_name": "Python 3",
   "language": "python",
   "name": "python3"
  },
  "language_info": {
   "codemirror_mode": {
    "name": "ipython",
    "version": 3
   },
   "file_extension": ".py",
   "mimetype": "text/x-python",
   "name": "python",
   "nbconvert_exporter": "python",
   "pygments_lexer": "ipython3",
   "version": "3.5.2"
  }
 },
 "nbformat": 4,
 "nbformat_minor": 1
}
