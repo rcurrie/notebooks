{
 "cells": [
  {
   "cell_type": "code",
   "execution_count": 3,
   "metadata": {
    "collapsed": false
   },
   "outputs": [],
   "source": [
    "import numpy as np\n",
    "import pandas as pd"
   ]
  },
  {
   "cell_type": "code",
   "execution_count": 19,
   "metadata": {
    "collapsed": false
   },
   "outputs": [
    {
     "name": "stdout",
     "output_type": "stream",
     "text": [
      "Type: float32 Total Size Bytes: 70848776\n",
      "Shape: (38009, 466)\n",
      "CPU times: user 3.4 s, sys: 220 ms, total: 3.62 s\n",
      "Wall time: 3.74 s\n"
     ]
    }
   ],
   "source": [
    "%%time\n",
    "# Start with straight tsv being careful to load directly as float32 vs. pandas float64 default\n",
    "from collections import defaultdict\n",
    "converters = defaultdict(str)\n",
    "converters[\"transripts\"] = str\n",
    "expression = pd.read_csv(\"http://cirm-01.pod/cgi-bin/cdwGetFile?acc=sc000JAJ\",\n",
    "                         sep=\"\\t\", index_col=0, converters=converters, dtype=np.float32)\n",
    "print(\"Type: {} Total Size Bytes: {}\".format(expression.ix[1,1].dtype, expression.values.nbytes))\n",
    "print(\"Shape: {}\".format(expression.shape))"
   ]
  },
  {
   "cell_type": "code",
   "execution_count": 75,
   "metadata": {
    "collapsed": false
   },
   "outputs": [],
   "source": [
    "import sys\n",
    "import requests\n",
    "from bs4 import BeautifulSoup\n",
    "sys.setrecursionlimit(5000)\n",
    "r = requests.get(\"http://cirm-01.pod/cgi-bin/cdwWebBrowse?cdwCommand=dataSetMetaTree&cdwDataSet=quakeBrainGeo1\")\n",
    "soup = BeautifulSoup(r.content, 'html.parser')\n",
    "tagStorm = soup.find(\"div\", {\"id\": \"ts_tree\"}).find(\"ul\").text"
   ]
  },
  {
   "cell_type": "code",
   "execution_count": 77,
   "metadata": {
    "collapsed": true
   },
   "outputs": [],
   "source": [
    "def tagstorm_to_proto(tagstorm):\n",
    "    lastindent = -1\n",
    "    dataset = metadata.Dataset()\n",
    "    current = dataset.attributes.attr['tagStorm'].values.add().attribute_list\n",
    "    i = 0\n",
    "    while i < len(tagstorm):\n",
    "        line = tagstorm[i]\n",
    "        indentation = (len(line) - len(line.lstrip())) / 4 # spaces\n",
    "        line = line.lstrip()\n",
    "        # read a stanza\n",
    "        parent = current\n",
    "        node = current.values.add().attributes\n",
    "        while len(line) != 0 and i < len(tagstorm):\n",
    "            key, value = line.split(' ')[0], \"\".join(line.split(' ')[1:])\n",
    "            node.attr[key].values.add().string_value = value\n",
    "            i += 1\n",
    "            line = tagstorm[i]\n",
    "        i += 1\n",
    "        # end of a stanza\n",
    "        if indentation > lastindent:\n",
    "            current = node.attr['children'].values.add().attribute_list\n",
    "            lastindent = indentation\n",
    "        else:\n",
    "            current = parent\n",
    "    print(dataset)\n",
    "    return dataset"
   ]
  },
  {
   "cell_type": "code",
   "execution_count": 83,
   "metadata": {
    "collapsed": false
   },
   "outputs": [
    {
     "name": "stdout",
     "output_type": "stream",
     "text": [
      "\u001b[33mThe directory '/home/jovyan/.cache/pip/http' or its parent directory is not owned by the current user and the cache has been disabled. Please check the permissions and owner of that directory. If executing pip with sudo, you may want sudo's -H flag.\u001b[0m\n",
      "\u001b[33mThe directory '/home/jovyan/.cache/pip' or its parent directory is not owned by the current user and caching wheels has been disabled. check the permissions and owner of that directory. If executing pip with sudo, you may want sudo's -H flag.\u001b[0m\n",
      "Collecting ga4gh-schemas\n",
      "  Downloading ga4gh_schemas-0.0.9.tar.gz (2.1MB)\n",
      "\u001b[K    100% |████████████████████████████████| 2.1MB 183kB/s \n",
      "\u001b[?25h    Complete output from command python setup.py egg_info:\n",
      "    Traceback (most recent call last):\n",
      "      File \"<string>\", line 1, in <module>\n",
      "      File \"/tmp/pip-build-ZWNnM3/ga4gh-schemas/setup.py\", line 37, in <module>\n",
      "        process_schemas.main([PROTOCOL_VERSION, 'python'])\n",
      "      File \"scripts/process_schemas.py\", line 222, in main\n",
      "        pb.run(parsedArgs)\n",
      "      File \"scripts/process_schemas.py\", line 207, in run\n",
      "        protoc = self._getProtoc(destination_path)\n",
      "      File \"scripts/process_schemas.py\", line 169, in _getProtoc\n",
      "        protocs))\n",
      "    Exception: Can't find a good protoc. Tried [u'/tmp/pip-build-ZWNnM3/ga4gh-schemas/python/protobuf/src/protoc']\n",
      "    \n",
      "    ----------------------------------------\n",
      "\u001b[31mCommand \"python setup.py egg_info\" failed with error code 1 in /tmp/pip-build-ZWNnM3/ga4gh-schemas/\u001b[0m\n"
     ]
    }
   ],
   "source": [
    "# !pip2 install git+git://github.com/ga4gh/schemas\n",
    "\n",
    "!pip2 install ga4gh-schemas\n"
   ]
  },
  {
   "cell_type": "code",
   "execution_count": 79,
   "metadata": {
    "collapsed": false
   },
   "outputs": [
    {
     "ename": "ImportError",
     "evalue": "No module named 'ga4gh'",
     "output_type": "error",
     "traceback": [
      "\u001b[0;31m---------------------------------------------------------------------------\u001b[0m",
      "\u001b[0;31mImportError\u001b[0m                               Traceback (most recent call last)",
      "\u001b[0;32m<ipython-input-79-ec637bc822d7>\u001b[0m in \u001b[0;36m<module>\u001b[0;34m()\u001b[0m\n\u001b[0;32m----> 1\u001b[0;31m \u001b[0;32mfrom\u001b[0m \u001b[0mga4gh\u001b[0m\u001b[0;34m.\u001b[0m\u001b[0mschemas\u001b[0m\u001b[0;34m.\u001b[0m\u001b[0mga4gh\u001b[0m \u001b[0;32mimport\u001b[0m \u001b[0mmetadata_pb2\u001b[0m \u001b[0;32mas\u001b[0m \u001b[0mmetadata\u001b[0m\u001b[0;34m\u001b[0m\u001b[0m\n\u001b[0m\u001b[1;32m      2\u001b[0m \u001b[0;34m\u001b[0m\u001b[0m\n\u001b[1;32m      3\u001b[0m \u001b[0mtagstorm_to_proto\u001b[0m\u001b[0;34m(\u001b[0m\u001b[0mtagStorm\u001b[0m\u001b[0;34m)\u001b[0m\u001b[0;34m\u001b[0m\u001b[0m\n",
      "\u001b[0;31mImportError\u001b[0m: No module named 'ga4gh'"
     ]
    }
   ],
   "source": [
    "from ga4gh.schemas.ga4gh import metadata_pb2 as metadata\n",
    "\n",
    "tagstorm_to_proto(tagStorm)"
   ]
  }
 ],
 "metadata": {
  "kernelspec": {
   "display_name": "Python 3",
   "language": "python",
   "name": "python3"
  },
  "language_info": {
   "codemirror_mode": {
    "name": "ipython",
    "version": 3
   },
   "file_extension": ".py",
   "mimetype": "text/x-python",
   "name": "python",
   "nbconvert_exporter": "python",
   "pygments_lexer": "ipython3",
   "version": "3.5.2"
  }
 },
 "nbformat": 4,
 "nbformat_minor": 1
}
