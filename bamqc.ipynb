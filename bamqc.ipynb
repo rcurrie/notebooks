{
 "cells": [
  {
   "cell_type": "markdown",
   "metadata": {},
   "source": [
    "### Count number of non-duplicate, uniquely mapped exonic reads\n",
    "\n",
    "```\n",
    "Expected from TEST.sorted.bam:\n",
    "uniqMappedNonDupeReadCount = 986\n",
    "estExonicUniqMappedNonDupeReadCount 854.78\n",
    "```"
   ]
  },
  {
   "cell_type": "code",
   "execution_count": 211,
   "metadata": {},
   "outputs": [],
   "source": [
    "import pybedtools\n",
    "import multiprocessing"
   ]
  },
  {
   "cell_type": "code",
   "execution_count": 207,
   "metadata": {},
   "outputs": [],
   "source": [
    "threads = max(multiprocessing.cpu_count(), 16) # Don't swamp stacker"
   ]
  },
  {
   "cell_type": "code",
   "execution_count": null,
   "metadata": {},
   "outputs": [],
   "source": [
    "sample_ids = [\"TH27_0699_S02\", \"THR29_0754_S01\", \"TH02_0093_S01\"]"
   ]
  },
  {
   "cell_type": "code",
   "execution_count": 168,
   "metadata": {},
   "outputs": [
    {
     "name": "stdout",
     "output_type": "stream",
     "text": [
      "2642 + 0 in total (QC-passed reads + QC-failed reads)\r\n",
      "644 + 0 secondary\r\n",
      "0 + 0 supplementary\r\n",
      "0 + 0 duplicates\r\n",
      "2618 + 0 mapped (99.09%:N/A)\r\n",
      "1998 + 0 paired in sequencing\r\n",
      "999 + 0 read1\r\n",
      "999 + 0 read2\r\n",
      "1974 + 0 properly paired (98.80%:N/A)\r\n",
      "1974 + 0 with itself and mate mapped\r\n",
      "0 + 0 singletons (0.00%:N/A)\r\n",
      "0 + 0 with mate mapped to a different chr\r\n",
      "0 + 0 with mate mapped to a different chr (mapQ>=5)\r\n"
     ]
    }
   ],
   "source": [
    "!sambamba flagstat TEST.sorted.bam"
   ]
  },
  {
   "cell_type": "code",
   "execution_count": 210,
   "metadata": {},
   "outputs": [
    {
     "name": "stdout",
     "output_type": "stream",
     "text": [
      "sambamba-markdup: Unrecognized option --threads\n",
      "1972 + 0 in total (QC-passed reads + QC-failed reads)\n",
      "0 + 0 secondary\n",
      "0 + 0 supplementary\n",
      "0 + 0 duplicates\n",
      "1972 + 0 mapped (100.00%:N/A)\n",
      "1972 + 0 paired in sequencing\n",
      "986 + 0 read1\n",
      "986 + 0 read2\n",
      "1972 + 0 properly paired (100.00%:N/A)\n",
      "1972 + 0 with itself and mate mapped\n",
      "0 + 0 singletons (0.00%:N/A)\n",
      "0 + 0 with mate mapped to a different chr\n",
      "0 + 0 with mate mapped to a different chr (mapQ>=5)\n"
     ]
    }
   ],
   "source": [
    "# Filter to get unique reads\n",
    "!sambamba markdup --remove-duplicates --threads {threads} TEST.sorted.bam data/TEST.dedupe.bam\n",
    "!sambamba view --valid \\\n",
    "    --nthreads {threads} \\\n",
    "    --filter \"not (failed_quality_control or secondary_alignment or supplementary or unmapped)\" \\\n",
    "    data/TEST.dedupe.bam -f bam > data/TEST.filtered.bam\n",
    "!sambamba flagstat data/TEST.filtered.bam"
   ]
  },
  {
   "cell_type": "code",
   "execution_count": 192,
   "metadata": {},
   "outputs": [],
   "source": [
    "bed = pybedtools.BedTool(\"hg38_GENCODE_v23_basic.bed.gz\")\n",
    "bam = pybedtools.BedTool(\"data/TEST.filtered.bam\")"
   ]
  },
  {
   "cell_type": "code",
   "execution_count": 212,
   "metadata": {},
   "outputs": [
    {
     "name": "stdout",
     "output_type": "stream",
     "text": [
      "Exonic Reads 1850\n"
     ]
    }
   ],
   "source": [
    "# Single threaded intersect\n",
    "exonic_reads = bam.intersect(bed)\n",
    "print(\"Exonic Reads\", exonic_reads.count())"
   ]
  },
  {
   "cell_type": "code",
   "execution_count": null,
   "metadata": {},
   "outputs": [],
   "source": []
  }
 ],
 "metadata": {
  "kernelspec": {
   "display_name": "Python 3",
   "language": "python",
   "name": "python3"
  },
  "language_info": {
   "codemirror_mode": {
    "name": "ipython",
    "version": 3
   },
   "file_extension": ".py",
   "mimetype": "text/x-python",
   "name": "python",
   "nbconvert_exporter": "python",
   "pygments_lexer": "ipython3",
   "version": "3.6.3"
  }
 },
 "nbformat": 4,
 "nbformat_minor": 2
}
