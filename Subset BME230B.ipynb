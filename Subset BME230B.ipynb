{
 "cells": [
  {
   "cell_type": "markdown",
   "metadata": {},
   "source": [
    "## Train/Test Split Stratified on Primary Site"
   ]
  },
  {
   "cell_type": "code",
   "execution_count": 2,
   "metadata": {},
   "outputs": [],
   "source": [
    "import pandas as pd"
   ]
  },
  {
   "cell_type": "code",
   "execution_count": null,
   "metadata": {},
   "outputs": [],
   "source": [
    "X = pd.read_hdf(\"/scratch/rcurrie/tumornormal/tcga_target_gtex.h5\", \"expression\")\n",
    "Y = pd.read_hdf(\"/scratch/rcurrie/tumornormal/tcga_target_gtex.h5\", \"labels\")"
   ]
  },
  {
   "cell_type": "code",
   "execution_count": 40,
   "metadata": {},
   "outputs": [],
   "source": [
    "# Convert tumor_normal and primary_site into numerical values for stratification and one hot encoding\n",
    "from sklearn.preprocessing import LabelEncoder\n",
    "encoder = LabelEncoder()\n",
    "Y[\"tumor_normal_value\"] = pd.Series(encoder.fit_transform(Y[\"tumor_normal\"]), index=Y.index)\n",
    "Y[\"primary_site_value\"] = pd.Series(encoder.fit_transform(Y[\"primary_site\"]), index=Y.index)"
   ]
  },
  {
   "cell_type": "code",
   "execution_count": 43,
   "metadata": {},
   "outputs": [],
   "source": [
    "# Split into stratified training and test sets based primary site\n",
    "from sklearn.model_selection import StratifiedShuffleSplit\n",
    "split = StratifiedShuffleSplit(n_splits=1, test_size=0.2, random_state=42)\n",
    "for train_index, test_index in split.split(X.values, Y[\"primary_site\"]):\n",
    "    X_train, X_test = X.iloc[train_index], X.iloc[test_index]\n",
    "    Y_train, Y_test = Y.iloc[train_index], Y.iloc[test_index]\n",
    "    primary_site_train, primary_site_test = \\\n",
    "        Y[\"primary_site_value\"].values[train_index], Y[\"primary_site_value\"].values[test_index]"
   ]
  },
  {
   "cell_type": "code",
   "execution_count": null,
   "metadata": {},
   "outputs": [],
   "source": [
    "# Lets see how big each class is based on primary site\n",
    "import matplotlib.pyplot as plt\n",
    "plt.hist(Y_train.primary_site_value, alpha=0.5, label='Train')\n",
    "plt.hist(Y_test.primary_site_value, alpha=0.5, label='Test')\n",
    "plt.legend(loc='upper right')\n",
    "plt.title(\"Primary Site distribution between train and test\")\n",
    "plt.show()"
   ]
  },
  {
   "cell_type": "code",
   "execution_count": null,
   "metadata": {},
   "outputs": [],
   "source": [
    "# Export h5 format files\n",
    "with pd.HDFStore(\"/scratch/rcurrie/bme230b/tcga_target_gtex.h5\", \"w\") as store:\n",
    "    store[\"expression\"] = X\n",
    "    store[\"labels\"] = Y\n",
    "\n",
    "with pd.HDFStore(\"/scratch/rcurrie/bme230b/tcga_target_gtex_train.h5\", \"w\") as store:\n",
    "    store[\"expression\"] = X_train\n",
    "    store[\"labels\"] = Y_train\n",
    "\n",
    "with pd.HDFStore(\"/scratch/rcurrie/bme230b/tcga_target_gtex_test.h5\", \"w\") as store:\n",
    "    store[\"expression\"] = X_test\n",
    "    store[\"labels\"] = Y_test"
   ]
  },
  {
   "cell_type": "markdown",
   "metadata": {},
   "source": [
    "## Train/Test Split Expression by Mutation"
   ]
  },
  {
   "cell_type": "code",
   "execution_count": 50,
   "metadata": {},
   "outputs": [
    {
     "name": "stdout",
     "output_type": "stream",
     "text": [
      "(19126, 58581) (19126, 9)\n"
     ]
    }
   ],
   "source": [
    "print(X.shape, Y.shape)\n",
    "assert X.index.equals(Y.index)"
   ]
  },
  {
   "cell_type": "code",
   "execution_count": 61,
   "metadata": {},
   "outputs": [
    {
     "name": "stdout",
     "output_type": "stream",
     "text": [
      "Rows missing in original dataset: Index(['TCGA-07-0249-20'], dtype='object', name='id')\n",
      "(10534, 10)\n"
     ]
    },
    {
     "data": {
      "text/html": [
       "<div>\n",
       "<style scoped>\n",
       "    .dataframe tbody tr th:only-of-type {\n",
       "        vertical-align: middle;\n",
       "    }\n",
       "\n",
       "    .dataframe tbody tr th {\n",
       "        vertical-align: top;\n",
       "    }\n",
       "\n",
       "    .dataframe thead th {\n",
       "        text-align: right;\n",
       "    }\n",
       "</style>\n",
       "<table border=\"1\" class=\"dataframe\">\n",
       "  <thead>\n",
       "    <tr style=\"text-align: right;\">\n",
       "      <th></th>\n",
       "      <th>detailed_category</th>\n",
       "      <th>primary.disease.or.tissue</th>\n",
       "      <th>X_primary_site</th>\n",
       "      <th>X_sample_type</th>\n",
       "      <th>X_gender</th>\n",
       "      <th>X_study</th>\n",
       "      <th>TP53_mutant</th>\n",
       "      <th>KRAS_mutant</th>\n",
       "      <th>BRAF_mutant</th>\n",
       "      <th>dataset</th>\n",
       "    </tr>\n",
       "    <tr>\n",
       "      <th>id</th>\n",
       "      <th></th>\n",
       "      <th></th>\n",
       "      <th></th>\n",
       "      <th></th>\n",
       "      <th></th>\n",
       "      <th></th>\n",
       "      <th></th>\n",
       "      <th></th>\n",
       "      <th></th>\n",
       "      <th></th>\n",
       "    </tr>\n",
       "  </thead>\n",
       "  <tbody>\n",
       "    <tr>\n",
       "      <th>TCGA-02-0047-01</th>\n",
       "      <td>Glioblastoma Multiforme</td>\n",
       "      <td>Glioblastoma Multiforme</td>\n",
       "      <td>Brain</td>\n",
       "      <td>Primary Tumor</td>\n",
       "      <td>Male</td>\n",
       "      <td>TCGA</td>\n",
       "      <td>0</td>\n",
       "      <td>0</td>\n",
       "      <td>0</td>\n",
       "      <td>training</td>\n",
       "    </tr>\n",
       "    <tr>\n",
       "      <th>TCGA-02-0055-01</th>\n",
       "      <td>Glioblastoma Multiforme</td>\n",
       "      <td>Glioblastoma Multiforme</td>\n",
       "      <td>Brain</td>\n",
       "      <td>Primary Tumor</td>\n",
       "      <td>Female</td>\n",
       "      <td>TCGA</td>\n",
       "      <td>1</td>\n",
       "      <td>0</td>\n",
       "      <td>0</td>\n",
       "      <td>training</td>\n",
       "    </tr>\n",
       "    <tr>\n",
       "      <th>TCGA-02-2483-01</th>\n",
       "      <td>Glioblastoma Multiforme</td>\n",
       "      <td>Glioblastoma Multiforme</td>\n",
       "      <td>Brain</td>\n",
       "      <td>Primary Tumor</td>\n",
       "      <td>Male</td>\n",
       "      <td>TCGA</td>\n",
       "      <td>1</td>\n",
       "      <td>0</td>\n",
       "      <td>0</td>\n",
       "      <td>training</td>\n",
       "    </tr>\n",
       "    <tr>\n",
       "      <th>TCGA-02-2485-01</th>\n",
       "      <td>Glioblastoma Multiforme</td>\n",
       "      <td>Glioblastoma Multiforme</td>\n",
       "      <td>Brain</td>\n",
       "      <td>Primary Tumor</td>\n",
       "      <td>Male</td>\n",
       "      <td>TCGA</td>\n",
       "      <td>1</td>\n",
       "      <td>0</td>\n",
       "      <td>0</td>\n",
       "      <td>training</td>\n",
       "    </tr>\n",
       "    <tr>\n",
       "      <th>TCGA-04-1331-01</th>\n",
       "      <td>Ovarian Serous Cystadenocarcinoma</td>\n",
       "      <td>Ovarian Serous Cystadenocarcinoma</td>\n",
       "      <td>Ovary</td>\n",
       "      <td>Primary Tumor</td>\n",
       "      <td>Female</td>\n",
       "      <td>TCGA</td>\n",
       "      <td>1</td>\n",
       "      <td>0</td>\n",
       "      <td>0</td>\n",
       "      <td>training</td>\n",
       "    </tr>\n",
       "  </tbody>\n",
       "</table>\n",
       "</div>"
      ],
      "text/plain": [
       "                                 detailed_category  \\\n",
       "id                                                   \n",
       "TCGA-02-0047-01            Glioblastoma Multiforme   \n",
       "TCGA-02-0055-01            Glioblastoma Multiforme   \n",
       "TCGA-02-2483-01            Glioblastoma Multiforme   \n",
       "TCGA-02-2485-01            Glioblastoma Multiforme   \n",
       "TCGA-04-1331-01  Ovarian Serous Cystadenocarcinoma   \n",
       "\n",
       "                         primary.disease.or.tissue X_primary_site  \\\n",
       "id                                                                  \n",
       "TCGA-02-0047-01            Glioblastoma Multiforme          Brain   \n",
       "TCGA-02-0055-01            Glioblastoma Multiforme          Brain   \n",
       "TCGA-02-2483-01            Glioblastoma Multiforme          Brain   \n",
       "TCGA-02-2485-01            Glioblastoma Multiforme          Brain   \n",
       "TCGA-04-1331-01  Ovarian Serous Cystadenocarcinoma          Ovary   \n",
       "\n",
       "                 X_sample_type X_gender X_study  TP53_mutant  KRAS_mutant  \\\n",
       "id                                                                          \n",
       "TCGA-02-0047-01  Primary Tumor     Male    TCGA            0            0   \n",
       "TCGA-02-0055-01  Primary Tumor   Female    TCGA            1            0   \n",
       "TCGA-02-2483-01  Primary Tumor     Male    TCGA            1            0   \n",
       "TCGA-02-2485-01  Primary Tumor     Male    TCGA            1            0   \n",
       "TCGA-04-1331-01  Primary Tumor   Female    TCGA            1            0   \n",
       "\n",
       "                 BRAF_mutant   dataset  \n",
       "id                                      \n",
       "TCGA-02-0047-01            0  training  \n",
       "TCGA-02-0055-01            0  training  \n",
       "TCGA-02-2483-01            0  training  \n",
       "TCGA-02-2485-01            0  training  \n",
       "TCGA-04-1331-01            0  training  "
      ]
     },
     "execution_count": 61,
     "metadata": {},
     "output_type": "execute_result"
    }
   ],
   "source": [
    "Y_mutation = pd.read_csv(\"/scratch/rcurrie/bme230b/TCGA_phenotype_mutation_data.tsv\", sep=\"\\t\")\n",
    "Y_mutation.rename(columns = {'sample':'id'}, inplace=True)\n",
    "Y_mutation.set_index(\"id\", inplace=True)\n",
    "print(\"Rows missing in original dataset:\", Y_mutation.index.difference(Y.index))\n",
    "Y_mutation.drop(Y_mutation.index.difference(Y.index), inplace=True)\n",
    "Y_mutation.sort_index(inplace=True)\n",
    "print(Y_mutation.shape)\n",
    "Y_mutation.head()"
   ]
  },
  {
   "cell_type": "code",
   "execution_count": 62,
   "metadata": {},
   "outputs": [
    {
     "name": "stdout",
     "output_type": "stream",
     "text": [
      "(10534, 58581)\n"
     ]
    },
    {
     "data": {
      "text/html": [
       "<div>\n",
       "<style scoped>\n",
       "    .dataframe tbody tr th:only-of-type {\n",
       "        vertical-align: middle;\n",
       "    }\n",
       "\n",
       "    .dataframe tbody tr th {\n",
       "        vertical-align: top;\n",
       "    }\n",
       "\n",
       "    .dataframe thead th {\n",
       "        text-align: right;\n",
       "    }\n",
       "</style>\n",
       "<table border=\"1\" class=\"dataframe\">\n",
       "  <thead>\n",
       "    <tr style=\"text-align: right;\">\n",
       "      <th></th>\n",
       "      <th>5S_rRNA</th>\n",
       "      <th>5_8S_rRNA</th>\n",
       "      <th>7SK</th>\n",
       "      <th>A1BG</th>\n",
       "      <th>A1BG-AS1</th>\n",
       "      <th>A1CF</th>\n",
       "      <th>A2M</th>\n",
       "      <th>A2M-AS1</th>\n",
       "      <th>A2ML1</th>\n",
       "      <th>A2ML1-AS1</th>\n",
       "      <th>...</th>\n",
       "      <th>snoU2-30</th>\n",
       "      <th>snoU2_19</th>\n",
       "      <th>snoU83B</th>\n",
       "      <th>snoZ196</th>\n",
       "      <th>snoZ278</th>\n",
       "      <th>snoZ40</th>\n",
       "      <th>snoZ6</th>\n",
       "      <th>snosnR66</th>\n",
       "      <th>uc_338</th>\n",
       "      <th>yR211F11.2</th>\n",
       "    </tr>\n",
       "  </thead>\n",
       "  <tbody>\n",
       "    <tr>\n",
       "      <th>TCGA-02-0047-01</th>\n",
       "      <td>-9.966042</td>\n",
       "      <td>-9.965816</td>\n",
       "      <td>-1.639388</td>\n",
       "      <td>4.7872</td>\n",
       "      <td>2.3337</td>\n",
       "      <td>-9.9658</td>\n",
       "      <td>9.0886</td>\n",
       "      <td>1.9822</td>\n",
       "      <td>0.1257</td>\n",
       "      <td>-9.9658</td>\n",
       "      <td>...</td>\n",
       "      <td>-9.965816</td>\n",
       "      <td>-9.965849</td>\n",
       "      <td>-9.9658</td>\n",
       "      <td>-9.9658</td>\n",
       "      <td>-9.9658</td>\n",
       "      <td>-9.9658</td>\n",
       "      <td>-9.965849</td>\n",
       "      <td>-9.9658</td>\n",
       "      <td>3.706089</td>\n",
       "      <td>-2.3147</td>\n",
       "    </tr>\n",
       "    <tr>\n",
       "      <th>TCGA-02-0055-01</th>\n",
       "      <td>-9.966042</td>\n",
       "      <td>-9.965816</td>\n",
       "      <td>-9.965880</td>\n",
       "      <td>6.0646</td>\n",
       "      <td>2.4144</td>\n",
       "      <td>-9.9658</td>\n",
       "      <td>8.9694</td>\n",
       "      <td>0.7493</td>\n",
       "      <td>-4.0350</td>\n",
       "      <td>-9.9658</td>\n",
       "      <td>...</td>\n",
       "      <td>-9.965816</td>\n",
       "      <td>-9.965849</td>\n",
       "      <td>-9.9658</td>\n",
       "      <td>-9.9658</td>\n",
       "      <td>-9.9658</td>\n",
       "      <td>-9.9658</td>\n",
       "      <td>-9.965849</td>\n",
       "      <td>-9.9658</td>\n",
       "      <td>0.576300</td>\n",
       "      <td>-9.9658</td>\n",
       "    </tr>\n",
       "    <tr>\n",
       "      <th>TCGA-02-2483-01</th>\n",
       "      <td>-9.966042</td>\n",
       "      <td>-9.965816</td>\n",
       "      <td>-9.965880</td>\n",
       "      <td>5.5910</td>\n",
       "      <td>2.0569</td>\n",
       "      <td>-9.9658</td>\n",
       "      <td>8.1125</td>\n",
       "      <td>-0.3940</td>\n",
       "      <td>-3.6259</td>\n",
       "      <td>-9.9658</td>\n",
       "      <td>...</td>\n",
       "      <td>-9.965816</td>\n",
       "      <td>-9.965849</td>\n",
       "      <td>-9.9658</td>\n",
       "      <td>-9.9658</td>\n",
       "      <td>-9.9658</td>\n",
       "      <td>-9.9658</td>\n",
       "      <td>-9.965849</td>\n",
       "      <td>-9.9658</td>\n",
       "      <td>1.761701</td>\n",
       "      <td>-9.9658</td>\n",
       "    </tr>\n",
       "    <tr>\n",
       "      <th>TCGA-02-2485-01</th>\n",
       "      <td>-9.966042</td>\n",
       "      <td>-9.965816</td>\n",
       "      <td>-9.965880</td>\n",
       "      <td>3.4997</td>\n",
       "      <td>0.9789</td>\n",
       "      <td>-9.9658</td>\n",
       "      <td>6.9560</td>\n",
       "      <td>-1.2142</td>\n",
       "      <td>2.0500</td>\n",
       "      <td>-9.9658</td>\n",
       "      <td>...</td>\n",
       "      <td>-9.965816</td>\n",
       "      <td>-9.965849</td>\n",
       "      <td>-9.9658</td>\n",
       "      <td>-9.9658</td>\n",
       "      <td>-9.9658</td>\n",
       "      <td>-9.9658</td>\n",
       "      <td>-9.965849</td>\n",
       "      <td>-9.9658</td>\n",
       "      <td>2.543747</td>\n",
       "      <td>-9.9658</td>\n",
       "    </tr>\n",
       "    <tr>\n",
       "      <th>TCGA-04-1331-01</th>\n",
       "      <td>-9.966042</td>\n",
       "      <td>-9.965816</td>\n",
       "      <td>-3.046901</td>\n",
       "      <td>5.0273</td>\n",
       "      <td>2.6371</td>\n",
       "      <td>-9.9658</td>\n",
       "      <td>6.2599</td>\n",
       "      <td>0.3115</td>\n",
       "      <td>1.7141</td>\n",
       "      <td>-9.9658</td>\n",
       "      <td>...</td>\n",
       "      <td>-9.965816</td>\n",
       "      <td>-9.965849</td>\n",
       "      <td>-9.9658</td>\n",
       "      <td>-9.9658</td>\n",
       "      <td>-9.9658</td>\n",
       "      <td>-9.9658</td>\n",
       "      <td>-9.965849</td>\n",
       "      <td>-9.9658</td>\n",
       "      <td>2.257319</td>\n",
       "      <td>-2.5479</td>\n",
       "    </tr>\n",
       "  </tbody>\n",
       "</table>\n",
       "<p>5 rows × 58581 columns</p>\n",
       "</div>"
      ],
      "text/plain": [
       "                  5S_rRNA  5_8S_rRNA       7SK    A1BG  A1BG-AS1    A1CF  \\\n",
       "TCGA-02-0047-01 -9.966042  -9.965816 -1.639388  4.7872    2.3337 -9.9658   \n",
       "TCGA-02-0055-01 -9.966042  -9.965816 -9.965880  6.0646    2.4144 -9.9658   \n",
       "TCGA-02-2483-01 -9.966042  -9.965816 -9.965880  5.5910    2.0569 -9.9658   \n",
       "TCGA-02-2485-01 -9.966042  -9.965816 -9.965880  3.4997    0.9789 -9.9658   \n",
       "TCGA-04-1331-01 -9.966042  -9.965816 -3.046901  5.0273    2.6371 -9.9658   \n",
       "\n",
       "                    A2M  A2M-AS1   A2ML1  A2ML1-AS1     ...      snoU2-30  \\\n",
       "TCGA-02-0047-01  9.0886   1.9822  0.1257    -9.9658     ...     -9.965816   \n",
       "TCGA-02-0055-01  8.9694   0.7493 -4.0350    -9.9658     ...     -9.965816   \n",
       "TCGA-02-2483-01  8.1125  -0.3940 -3.6259    -9.9658     ...     -9.965816   \n",
       "TCGA-02-2485-01  6.9560  -1.2142  2.0500    -9.9658     ...     -9.965816   \n",
       "TCGA-04-1331-01  6.2599   0.3115  1.7141    -9.9658     ...     -9.965816   \n",
       "\n",
       "                 snoU2_19  snoU83B  snoZ196  snoZ278  snoZ40     snoZ6  \\\n",
       "TCGA-02-0047-01 -9.965849  -9.9658  -9.9658  -9.9658 -9.9658 -9.965849   \n",
       "TCGA-02-0055-01 -9.965849  -9.9658  -9.9658  -9.9658 -9.9658 -9.965849   \n",
       "TCGA-02-2483-01 -9.965849  -9.9658  -9.9658  -9.9658 -9.9658 -9.965849   \n",
       "TCGA-02-2485-01 -9.965849  -9.9658  -9.9658  -9.9658 -9.9658 -9.965849   \n",
       "TCGA-04-1331-01 -9.965849  -9.9658  -9.9658  -9.9658 -9.9658 -9.965849   \n",
       "\n",
       "                 snosnR66    uc_338  yR211F11.2  \n",
       "TCGA-02-0047-01   -9.9658  3.706089     -2.3147  \n",
       "TCGA-02-0055-01   -9.9658  0.576300     -9.9658  \n",
       "TCGA-02-2483-01   -9.9658  1.761701     -9.9658  \n",
       "TCGA-02-2485-01   -9.9658  2.543747     -9.9658  \n",
       "TCGA-04-1331-01   -9.9658  2.257319     -2.5479  \n",
       "\n",
       "[5 rows x 58581 columns]"
      ]
     },
     "execution_count": 62,
     "metadata": {},
     "output_type": "execute_result"
    }
   ],
   "source": [
    "X_mutation = X[X.index.isin(Y_mutation.index)]\n",
    "X_mutation.sort_index(inplace=True)\n",
    "print(X_mutation.shape)\n",
    "X_mutation.head()"
   ]
  },
  {
   "cell_type": "code",
   "execution_count": 63,
   "metadata": {},
   "outputs": [],
   "source": [
    "Y_mutation_train = Y_mutation[Y_mutation.dataset == \"training\"]\n",
    "X_mutation_train = X_mutation[X_mutation.index.isin(Y_mutation_train.index)]\n",
    "\n",
    "Y_mutation_test = Y_mutation[Y_mutation.dataset == \"test\"]\n",
    "X_mutation_test = X_mutation[X_mutation.index.isin(Y_mutation_test.index)]"
   ]
  },
  {
   "cell_type": "code",
   "execution_count": 64,
   "metadata": {},
   "outputs": [
    {
     "name": "stdout",
     "output_type": "stream",
     "text": [
      "All: (10534, 10) (10534, 58581)\n",
      "Train: (8520, 10) (8520, 58581)\n",
      "Test: (2014, 10) (2014, 58581)\n"
     ]
    }
   ],
   "source": [
    "print(\"All:\", Y_mutation.shape, X_mutation.shape)\n",
    "print(\"Train:\", Y_mutation_train.shape, X_mutation_train.shape)\n",
    "print(\"Test:\", Y_mutation_test.shape, X_mutation_test.shape)"
   ]
  },
  {
   "cell_type": "code",
   "execution_count": 67,
   "metadata": {},
   "outputs": [],
   "source": [
    "assert set(Y_mutation_test.dataset.values) == {'test'}\n",
    "assert set(Y_mutation_train.dataset.values) == {'training'}\n",
    "assert X_mutation_test.index.equals(Y_mutation_test.index)"
   ]
  },
  {
   "cell_type": "code",
   "execution_count": 79,
   "metadata": {},
   "outputs": [
    {
     "data": {
      "text/plain": [
       "array([[<matplotlib.axes._subplots.AxesSubplot object at 0x7ff8a481e6a0>,\n",
       "        <matplotlib.axes._subplots.AxesSubplot object at 0x7ff586ec8a90>],\n",
       "       [<matplotlib.axes._subplots.AxesSubplot object at 0x7ff586edc5c0>,\n",
       "        <matplotlib.axes._subplots.AxesSubplot object at 0x7ff586e16a90>]],\n",
       "      dtype=object)"
      ]
     },
     "execution_count": 79,
     "metadata": {},
     "output_type": "execute_result"
    },
    {
     "data": {
      "image/png": "[encoded data removed]",
      "text/plain": [
       "<matplotlib.figure.Figure at 0x7ff88e140b70>"
      ]
     },
     "metadata": {},
     "output_type": "display_data"
    }
   ],
   "source": [
    "Y_mutation.hist()"
   ]
  },
  {
   "cell_type": "code",
   "execution_count": 68,
   "metadata": {},
   "outputs": [
    {
     "name": "stderr",
     "output_type": "stream",
     "text": [
      "/opt/conda/lib/python3.6/site-packages/IPython/core/interactiveshell.py:2910: PerformanceWarning: \n",
      "your performance may suffer as PyTables will pickle object types that it cannot\n",
      "map directly to c-types [inferred_type->mixed,key->block1_values] [items->['detailed_category', 'primary.disease.or.tissue', 'X_primary_site', 'X_sample_type', 'X_gender', 'X_study', 'dataset']]\n",
      "\n",
      "  exec(code_obj, self.user_global_ns, self.user_ns)\n"
     ]
    }
   ],
   "source": [
    "# Export h5 format files\n",
    "with pd.HDFStore(\"/scratch/rcurrie/bme230b/tcga_mutation.h5\", \"w\") as store:\n",
    "    store[\"expression\"] = X_mutation\n",
    "    store[\"labels\"] = Y_mutation\n",
    "\n",
    "with pd.HDFStore(\"/scratch/rcurrie/bme230b/tcga_mutation_train.h5\", \"w\") as store:\n",
    "    store[\"expression\"] = X_mutation_train\n",
    "    store[\"labels\"] = Y_mutation_train\n",
    "\n",
    "with pd.HDFStore(\"/scratch/rcurrie/bme230b/tcga_mutation_test.h5\", \"w\") as store:\n",
    "    store[\"expression\"] = X_mutation_test\n",
    "    store[\"labels\"] = Y_mutation_test"
   ]
  },
  {
   "cell_type": "code",
   "execution_count": 7,
   "metadata": {},
   "outputs": [],
   "source": [
    "# Export TSV for the R folks\n",
    "X_mutation_train = pd.read_hdf(\"/scratch/rcurrie/bme230b/tcga_mutation_train.h5\", \"expression\")\n",
    "X_mutation.to_csv(\"/scratch/rcurrie/bme230b/tcga_mutation_train_expression.tsv\", sep='\\t')\n",
    "Y_mutation_train = pd.read_hdf(\"/scratch/rcurrie/bme230b/tcga_mutation_train.h5\", \"labels\")\n",
    "Y_mutation.to_csv(\"/scratch/rcurrie/bme230b/tcga_mutation_train_labels.tsv\", sep='\\t')"
   ]
  },
  {
   "cell_type": "code",
   "execution_count": 9,
   "metadata": {},
   "outputs": [],
   "source": [
    "# Export TSV for the R folks\n",
    "X_mutation_test = pd.read_hdf(\"/scratch/rcurrie/bme230b/tcga_mutation_test.h5\", \"expression\")\n",
    "X_mutation_test.to_csv(\"/scratch/rcurrie/bme230b/tcga_mutation_test_expression.tsv\", sep='\\t')\n",
    "Y_mutation_test = pd.read_hdf(\"/scratch/rcurrie/bme230b/tcga_mutation_test.h5\", \"labels\")\n",
    "Y_mutation_test.to_csv(\"/scratch/rcurrie/bme230b/tcga_mutation_test_labels.tsv\", sep='\\t')"
   ]
  },
  {
   "cell_type": "code",
   "execution_count": 17,
   "metadata": {},
   "outputs": [],
   "source": [
    "# Generate un-labeled test set and strip the sample id's for competition\n",
    "X_mutation_test = pd.read_hdf(\"/scratch/rcurrie/bme230b/tcga_mutation_test.h5\", \"expression\")\n",
    "X_mutation_test.set_index(pd.Series(range(X_mutation_test.shape[0])), inplace=True)\n",
    "with pd.HDFStore(\"/scratch/rcurrie/bme230b/tcga_mutation_test_unlabeled.h5\", \"w\") as store:\n",
    "    store[\"expression\"] = X_mutation_test"
   ]
  }
 ],
 "metadata": {
  "kernelspec": {
   "display_name": "Python 3",
   "language": "python",
   "name": "python3"
  },
  "language_info": {
   "codemirror_mode": {
    "name": "ipython",
    "version": 3
   },
   "file_extension": ".py",
   "mimetype": "text/x-python",
   "name": "python",
   "nbconvert_exporter": "python",
   "pygments_lexer": "ipython3",
   "version": "3.6.3"
  }
 },
 "nbformat": 4,
 "nbformat_minor": 2
}
