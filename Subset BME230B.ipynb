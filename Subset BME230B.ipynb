{
 "cells": [
  {
   "cell_type": "code",
   "execution_count": 1,
   "metadata": {},
   "outputs": [],
   "source": [
    "import pandas as pd\n",
    "X = pd.read_hdf(\"/scratch/rcurrie/tumornormal/tcga_target_gtex.h5\", \"expression\")\n",
    "Y = pd.read_hdf(\"/scratch/rcurrie/tumornormal/tcga_target_gtex.h5\", \"labels\")"
   ]
  },
  {
   "cell_type": "code",
   "execution_count": 3,
   "metadata": {},
   "outputs": [],
   "source": [
    "# Convert tumor_normal and primary_site into numerical values for stratification and one hot encoding\n",
    "from sklearn.preprocessing import LabelEncoder\n",
    "encoder = LabelEncoder()\n",
    "Y[\"tumor_normal_value\"] = pd.Series(encoder.fit_transform(Y[\"tumor_normal\"]), index=Y.index)\n",
    "Y[\"primary_site_value\"] = pd.Series(encoder.fit_transform(Y[\"primary_site\"]), index=Y.index)"
   ]
  },
  {
   "cell_type": "code",
   "execution_count": 4,
   "metadata": {},
   "outputs": [],
   "source": [
    "# Split into stratified training and test sets based primary site\n",
    "from sklearn.model_selection import StratifiedShuffleSplit\n",
    "split = StratifiedShuffleSplit(n_splits=1, test_size=0.2, random_state=42)\n",
    "for train_index, test_index in split.split(X.values, Y[\"primary_site\"]):\n",
    "    X_train, X_test = X.iloc[train_index], X.iloc[test_index]\n",
    "    Y_train, Y_test = Y.iloc[train_index], Y.iloc[test_index]\n",
    "    primary_site_train, primary_site_test = Y[\"primary_site_value\"].values[train_index], Y[\"primary_site_value\"].values[test_index]"
   ]
  },
  {
   "cell_type": "code",
   "execution_count": 6,
   "metadata": {},
   "outputs": [
    {
     "data": {
      "image/png": "[encoded data removed]",
      "text/plain": [
       "<matplotlib.figure.Figure at 0x7f6d453aa6a0>"
      ]
     },
     "metadata": {},
     "output_type": "display_data"
    }
   ],
   "source": [
    "# Lets see how big each class is based on primary site\n",
    "import matplotlib.pyplot as plt\n",
    "plt.hist(Y_train.primary_site_value, alpha=0.5, label='Train')\n",
    "plt.hist(Y_test.primary_site_value, alpha=0.5, label='Test')\n",
    "plt.legend(loc='upper right')\n",
    "plt.title(\"Primary Site distribution between train and test\")\n",
    "plt.show()"
   ]
  },
  {
   "cell_type": "code",
   "execution_count": 9,
   "metadata": {},
   "outputs": [],
   "source": [
    "# Export h5 format files\n",
    "with pd.HDFStore(\"/scratch/rcurrie/bme230b/tcga_target_gtex.h5\", \"w\") as store:\n",
    "    store[\"expression\"] = X\n",
    "    store[\"labels\"] = Y\n",
    "\n",
    "with pd.HDFStore(\"/scratch/rcurrie/bme230b/tcga_target_gtex_train.h5\", \"w\") as store:\n",
    "    store[\"expression\"] = X_train\n",
    "    store[\"labels\"] = Y_train\n",
    "\n",
    "with pd.HDFStore(\"/scratch/rcurrie/bme230b/tcga_target_gtex_test.h5\", \"w\") as store:\n",
    "    store[\"expression\"] = X_test\n",
    "    store[\"labels\"] = Y_test"
   ]
  }
 ],
 "metadata": {
  "kernelspec": {
   "display_name": "Python 3",
   "language": "python",
   "name": "python3"
  },
  "language_info": {
   "codemirror_mode": {
    "name": "ipython",
    "version": 3
   },
   "file_extension": ".py",
   "mimetype": "text/x-python",
   "name": "python",
   "nbconvert_exporter": "python",
   "pygments_lexer": "ipython3",
   "version": "3.6.3"
  }
 },
 "nbformat": 4,
 "nbformat_minor": 2
}
